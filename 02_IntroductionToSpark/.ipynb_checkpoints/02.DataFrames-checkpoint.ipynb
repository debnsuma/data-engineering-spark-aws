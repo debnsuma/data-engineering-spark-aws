{
 "cells": [
  {
   "cell_type": "markdown",
   "id": "5f13a549",
   "metadata": {},
   "source": [
    "# Introduction to DataFrames"
   ]
  },
  {
   "cell_type": "markdown",
   "id": "b2dc0476",
   "metadata": {},
   "source": [
    "**Learning Concepts:**\n",
    "    \n",
    "    - Spark Session \n",
    "    - DataFrame Reader API \n",
    "    \n",
    "**DataFrame Methods:** \n",
    "\n",
    "    - printSchema()\n",
    "    - withColumnRenamed()\n",
    "    - withColumn()\n",
    "    - where()\n",
    "    - select()\n",
    "    - distinct()\n",
    "    - expr()\n",
    "    - show()"
   ]
  },
  {
   "cell_type": "markdown",
   "id": "b848f23d",
   "metadata": {},
   "source": [
    "### `create` a DataFrame"
   ]
  },
  {
   "cell_type": "code",
   "execution_count": 1,
   "id": "837e508c",
   "metadata": {},
   "outputs": [],
   "source": [
    " dataset_file = 's3://fcc-spark-example/dataset/sf-fire-calls.csv'"
   ]
  },
  {
   "cell_type": "code",
   "execution_count": 2,
   "id": "94607fea",
   "metadata": {},
   "outputs": [
    {
     "name": "stderr",
     "output_type": "stream",
     "text": [
      "                                                                                \r"
     ]
    }
   ],
   "source": [
    "# spark is the SparkSession object \n",
    "\n",
    "fire_df = spark.read \\\n",
    "            .format('csv') \\\n",
    "            .option('header', 'true') \\\n",
    "            .option('inferSchema', 'true') \\\n",
    "            .load(dataset_file)"
   ]
  },
  {
   "cell_type": "code",
   "execution_count": 3,
   "id": "5076c752",
   "metadata": {},
   "outputs": [],
   "source": [
    "# Using CSV 'DataFrameReader.csv' \n",
    "\n",
    "fire_df = spark.read \\\n",
    "               .csv(dataset_file,\n",
    "                    header=True,\n",
    "                    inferSchema=True)"
   ]
  },
  {
   "cell_type": "markdown",
   "id": "089a5df1",
   "metadata": {},
   "source": [
    "### `show` method"
   ]
  },
  {
   "cell_type": "code",
   "execution_count": 4,
   "id": "528f3294",
   "metadata": {
    "scrolled": true
   },
   "outputs": [
    {
     "name": "stderr",
     "output_type": "stream",
     "text": [
      "23/03/06 03:58:57 WARN package: Truncated the string representation of a plan since it was too large. This behavior can be adjusted by setting 'spark.sql.debug.maxToStringFields'.\n"
     ]
    },
    {
     "name": "stdout",
     "output_type": "stream",
     "text": [
      "+----------+------+--------------+----------------+----------+----------+--------------------+--------------------+--------------------+----+-------+---------+-----------+----+----------------+--------+-------------+-------+-------------+---------+--------+--------------------------+----------------------+------------------+--------------------+--------------------+-------------+---------+\n",
      "|CallNumber|UnitID|IncidentNumber|        CallType|  CallDate| WatchDate|CallFinalDisposition|       AvailableDtTm|             Address|City|Zipcode|Battalion|StationArea| Box|OriginalPriority|Priority|FinalPriority|ALSUnit|CallTypeGroup|NumAlarms|UnitType|UnitSequenceInCallDispatch|FirePreventionDistrict|SupervisorDistrict|        Neighborhood|            Location|        RowID|    Delay|\n",
      "+----------+------+--------------+----------------+----------+----------+--------------------+--------------------+--------------------+----+-------+---------+-----------+----+----------------+--------+-------------+-------+-------------+---------+--------+--------------------------+----------------------+------------------+--------------------+--------------------+-------------+---------+\n",
      "|  20110016|   T13|       2003235|  Structure Fire|01/11/2002|01/10/2002|               Other|01/11/2002 01:51:...|2000 Block of CAL...|  SF|  94109|      B04|         38|3362|               3|       3|            3|  false|         null|        1|   TRUCK|                         2|                     4|                 5|     Pacific Heights|(37.7895840679362...|020110016-T13|     2.95|\n",
      "|  20110022|   M17|       2003241|Medical Incident|01/11/2002|01/10/2002|               Other|01/11/2002 03:01:...|0 Block of SILVER...|  SF|  94124|      B10|         42|6495|               3|       3|            3|   true|         null|        1|   MEDIC|                         1|                    10|                10|Bayview Hunters P...|(37.7337623673897...|020110022-M17|      4.7|\n",
      "|  20110023|   M41|       2003242|Medical Incident|01/11/2002|01/10/2002|               Other|01/11/2002 02:39:...|MARKET ST/MCALLIS...|  SF|  94102|      B03|         01|1455|               3|       3|            3|   true|         null|        1|   MEDIC|                         2|                     3|                 6|          Tenderloin|(37.7811772186856...|020110023-M41|2.4333334|\n",
      "|  20110032|   E11|       2003250|    Vehicle Fire|01/11/2002|01/10/2002|               Other|01/11/2002 04:16:...|APPLETON AV/MISSI...|  SF|  94110|      B06|         32|5626|               3|       3|            3|  false|         null|        1|  ENGINE|                         1|                     6|                 9|      Bernal Heights|(37.7388432849018...|020110032-E11|      1.5|\n",
      "|  20110043|   B04|       2003259|          Alarms|01/11/2002|01/10/2002|               Other|01/11/2002 06:01:...|1400 Block of SUT...|  SF|  94109|      B04|         03|3223|               3|       3|            3|  false|         null|        1|   CHIEF|                         2|                     4|                 2|    Western Addition|(37.7872890372638...|020110043-B04|3.4833333|\n",
      "+----------+------+--------------+----------------+----------+----------+--------------------+--------------------+--------------------+----+-------+---------+-----------+----+----------------+--------+-------------+-------+-------------+---------+--------+--------------------------+----------------------+------------------+--------------------+--------------------+-------------+---------+\n",
      "only showing top 5 rows\n",
      "\n"
     ]
    }
   ],
   "source": [
    "fire_df.show(5)"
   ]
  },
  {
   "cell_type": "markdown",
   "id": "2147bee8",
   "metadata": {},
   "source": [
    "## DataFrame Methods"
   ]
  },
  {
   "cell_type": "markdown",
   "id": "e2445943",
   "metadata": {},
   "source": [
    "- **Actions** : \n",
    "    Kick off a Spark `Job` and return to the Spark driver\n",
    "    \n",
    "    \n",
    "- **Transformations** : \n",
    "    Produces a newly transformed `Dataframe`\n",
    "    \n",
    "    \n",
    "- **Functions/Methods** : \n",
    "    Neither Actions not Transformation \n",
    "    \n",
    "    "
   ]
  },
  {
   "cell_type": "markdown",
   "id": "053bf5c8",
   "metadata": {},
   "source": [
    "#### 1) Re-naming a `Column` "
   ]
  },
  {
   "cell_type": "code",
   "execution_count": 5,
   "id": "13a8dbe0",
   "metadata": {},
   "outputs": [
    {
     "name": "stdout",
     "output_type": "stream",
     "text": [
      "+------------+--------+--------------+----------------+----------+----------+--------------------+--------------------+--------------------+----+-------+---------+-----------+----+----------------+--------+-------------+-------+-------------+---------+--------+--------------------------+----------------------+------------------+--------------------+--------------------+-------------+---------+\n",
      "|MyCallNumber|MyUnitID|IncidentNumber|        CallType|  CallDate| WatchDate|CallFinalDisposition|       AvailableDtTm|             Address|City|Zipcode|Battalion|StationArea| Box|OriginalPriority|Priority|FinalPriority|ALSUnit|CallTypeGroup|NumAlarms|UnitType|UnitSequenceInCallDispatch|FirePreventionDistrict|SupervisorDistrict|        Neighborhood|            Location|        RowID|    Delay|\n",
      "+------------+--------+--------------+----------------+----------+----------+--------------------+--------------------+--------------------+----+-------+---------+-----------+----+----------------+--------+-------------+-------+-------------+---------+--------+--------------------------+----------------------+------------------+--------------------+--------------------+-------------+---------+\n",
      "|    20110016|     T13|       2003235|  Structure Fire|01/11/2002|01/10/2002|               Other|01/11/2002 01:51:...|2000 Block of CAL...|  SF|  94109|      B04|         38|3362|               3|       3|            3|  false|         null|        1|   TRUCK|                         2|                     4|                 5|     Pacific Heights|(37.7895840679362...|020110016-T13|     2.95|\n",
      "|    20110022|     M17|       2003241|Medical Incident|01/11/2002|01/10/2002|               Other|01/11/2002 03:01:...|0 Block of SILVER...|  SF|  94124|      B10|         42|6495|               3|       3|            3|   true|         null|        1|   MEDIC|                         1|                    10|                10|Bayview Hunters P...|(37.7337623673897...|020110022-M17|      4.7|\n",
      "|    20110023|     M41|       2003242|Medical Incident|01/11/2002|01/10/2002|               Other|01/11/2002 02:39:...|MARKET ST/MCALLIS...|  SF|  94102|      B03|         01|1455|               3|       3|            3|   true|         null|        1|   MEDIC|                         2|                     3|                 6|          Tenderloin|(37.7811772186856...|020110023-M41|2.4333334|\n",
      "|    20110032|     E11|       2003250|    Vehicle Fire|01/11/2002|01/10/2002|               Other|01/11/2002 04:16:...|APPLETON AV/MISSI...|  SF|  94110|      B06|         32|5626|               3|       3|            3|  false|         null|        1|  ENGINE|                         1|                     6|                 9|      Bernal Heights|(37.7388432849018...|020110032-E11|      1.5|\n",
      "|    20110043|     B04|       2003259|          Alarms|01/11/2002|01/10/2002|               Other|01/11/2002 06:01:...|1400 Block of SUT...|  SF|  94109|      B04|         03|3223|               3|       3|            3|  false|         null|        1|   CHIEF|                         2|                     4|                 2|    Western Addition|(37.7872890372638...|020110043-B04|3.4833333|\n",
      "+------------+--------+--------------+----------------+----------+----------+--------------------+--------------------+--------------------+----+-------+---------+-----------+----+----------------+--------+-------------+-------+-------------+---------+--------+--------------------------+----------------------+------------------+--------------------+--------------------+-------------+---------+\n",
      "only showing top 5 rows\n",
      "\n"
     ]
    }
   ],
   "source": [
    "renamed_fire_df = fire_df \\\n",
    "                    .withColumnRenamed(\"CallNumber\", \"MyCallNumber\") \\\n",
    "                    .withColumnRenamed(\"UnitID\", \"MyUnitID\")\n",
    "\n",
    "renamed_fire_df.show(5)"
   ]
  },
  {
   "cell_type": "markdown",
   "id": "31e290cf",
   "metadata": {},
   "source": [
    "#### 2) Check the `schema` "
   ]
  },
  {
   "cell_type": "code",
   "execution_count": 6,
   "id": "6211e574",
   "metadata": {},
   "outputs": [
    {
     "name": "stdout",
     "output_type": "stream",
     "text": [
      "root\n",
      " |-- CallNumber: integer (nullable = true)\n",
      " |-- UnitID: string (nullable = true)\n",
      " |-- IncidentNumber: integer (nullable = true)\n",
      " |-- CallType: string (nullable = true)\n",
      " |-- CallDate: string (nullable = true)\n",
      " |-- WatchDate: string (nullable = true)\n",
      " |-- CallFinalDisposition: string (nullable = true)\n",
      " |-- AvailableDtTm: string (nullable = true)\n",
      " |-- Address: string (nullable = true)\n",
      " |-- City: string (nullable = true)\n",
      " |-- Zipcode: integer (nullable = true)\n",
      " |-- Battalion: string (nullable = true)\n",
      " |-- StationArea: string (nullable = true)\n",
      " |-- Box: string (nullable = true)\n",
      " |-- OriginalPriority: string (nullable = true)\n",
      " |-- Priority: string (nullable = true)\n",
      " |-- FinalPriority: integer (nullable = true)\n",
      " |-- ALSUnit: boolean (nullable = true)\n",
      " |-- CallTypeGroup: string (nullable = true)\n",
      " |-- NumAlarms: integer (nullable = true)\n",
      " |-- UnitType: string (nullable = true)\n",
      " |-- UnitSequenceInCallDispatch: integer (nullable = true)\n",
      " |-- FirePreventionDistrict: string (nullable = true)\n",
      " |-- SupervisorDistrict: string (nullable = true)\n",
      " |-- Neighborhood: string (nullable = true)\n",
      " |-- Location: string (nullable = true)\n",
      " |-- RowID: string (nullable = true)\n",
      " |-- Delay: double (nullable = true)\n",
      "\n"
     ]
    }
   ],
   "source": [
    "# Utility method `printSchema()`\n",
    "\n",
    "fire_df.printSchema()   "
   ]
  },
  {
   "cell_type": "markdown",
   "id": "379eafc3",
   "metadata": {},
   "source": [
    "#### 3) Fix the data type for few of the `columns`"
   ]
  },
  {
   "cell_type": "code",
   "execution_count": 7,
   "id": "7712cb75",
   "metadata": {},
   "outputs": [
    {
     "name": "stdout",
     "output_type": "stream",
     "text": [
      "root\n",
      " |-- CallNumber: integer (nullable = true)\n",
      " |-- UnitID: string (nullable = true)\n",
      " |-- IncidentNumber: integer (nullable = true)\n",
      " |-- CallType: string (nullable = true)\n",
      " |-- CallDate: date (nullable = true)\n",
      " |-- WatchDate: date (nullable = true)\n",
      " |-- CallFinalDisposition: string (nullable = true)\n",
      " |-- AvailableDtTm: date (nullable = true)\n",
      " |-- Address: string (nullable = true)\n",
      " |-- City: string (nullable = true)\n",
      " |-- Zipcode: integer (nullable = true)\n",
      " |-- Battalion: string (nullable = true)\n",
      " |-- StationArea: string (nullable = true)\n",
      " |-- Box: string (nullable = true)\n",
      " |-- OriginalPriority: string (nullable = true)\n",
      " |-- Priority: string (nullable = true)\n",
      " |-- FinalPriority: integer (nullable = true)\n",
      " |-- ALSUnit: boolean (nullable = true)\n",
      " |-- CallTypeGroup: string (nullable = true)\n",
      " |-- NumAlarms: integer (nullable = true)\n",
      " |-- UnitType: string (nullable = true)\n",
      " |-- UnitSequenceInCallDispatch: integer (nullable = true)\n",
      " |-- FirePreventionDistrict: string (nullable = true)\n",
      " |-- SupervisorDistrict: string (nullable = true)\n",
      " |-- Neighborhood: string (nullable = true)\n",
      " |-- Location: string (nullable = true)\n",
      " |-- RowID: string (nullable = true)\n",
      " |-- Delay: double (nullable = true)\n",
      "\n"
     ]
    }
   ],
   "source": [
    "from pyspark.sql import functions as F\n",
    "\n",
    "my_fire_df = fire_df \\\n",
    "                .withColumn('CallDate', F.to_date('CallDate', 'MM/dd/yyyy')) \\\n",
    "                .withColumn('WatchDate', F.to_date('WatchDate', 'MM/dd/yyyy')) \\\n",
    "                .withColumn('AvailableDtTm', F.to_date('AvailableDtTm', 'MM/dd/yyyy hh:mm:ss a')) \\\n",
    "                .withColumn('Delay', F.round('Delay', 2))\n",
    "    \n",
    "my_fire_df.printSchema()"
   ]
  },
  {
   "cell_type": "code",
   "execution_count": 8,
   "id": "2c31c189",
   "metadata": {},
   "outputs": [
    {
     "name": "stdout",
     "output_type": "stream",
     "text": [
      "+----------+------+--------------+----------------+----------+----------+--------------------+-------------+--------------------+----+-------+---------+-----------+----+----------------+--------+-------------+-------+-------------+---------+--------+--------------------------+----------------------+------------------+--------------------+--------------------+-------------+-----+\n",
      "|CallNumber|UnitID|IncidentNumber|        CallType|  CallDate| WatchDate|CallFinalDisposition|AvailableDtTm|             Address|City|Zipcode|Battalion|StationArea| Box|OriginalPriority|Priority|FinalPriority|ALSUnit|CallTypeGroup|NumAlarms|UnitType|UnitSequenceInCallDispatch|FirePreventionDistrict|SupervisorDistrict|        Neighborhood|            Location|        RowID|Delay|\n",
      "+----------+------+--------------+----------------+----------+----------+--------------------+-------------+--------------------+----+-------+---------+-----------+----+----------------+--------+-------------+-------+-------------+---------+--------+--------------------------+----------------------+------------------+--------------------+--------------------+-------------+-----+\n",
      "|  20110016|   T13|       2003235|  Structure Fire|2002-01-11|2002-01-10|               Other|   2002-01-11|2000 Block of CAL...|  SF|  94109|      B04|         38|3362|               3|       3|            3|  false|         null|        1|   TRUCK|                         2|                     4|                 5|     Pacific Heights|(37.7895840679362...|020110016-T13| 2.95|\n",
      "|  20110022|   M17|       2003241|Medical Incident|2002-01-11|2002-01-10|               Other|   2002-01-11|0 Block of SILVER...|  SF|  94124|      B10|         42|6495|               3|       3|            3|   true|         null|        1|   MEDIC|                         1|                    10|                10|Bayview Hunters P...|(37.7337623673897...|020110022-M17|  4.7|\n",
      "|  20110023|   M41|       2003242|Medical Incident|2002-01-11|2002-01-10|               Other|   2002-01-11|MARKET ST/MCALLIS...|  SF|  94102|      B03|         01|1455|               3|       3|            3|   true|         null|        1|   MEDIC|                         2|                     3|                 6|          Tenderloin|(37.7811772186856...|020110023-M41| 2.43|\n",
      "|  20110032|   E11|       2003250|    Vehicle Fire|2002-01-11|2002-01-10|               Other|   2002-01-11|APPLETON AV/MISSI...|  SF|  94110|      B06|         32|5626|               3|       3|            3|  false|         null|        1|  ENGINE|                         1|                     6|                 9|      Bernal Heights|(37.7388432849018...|020110032-E11|  1.5|\n",
      "|  20110043|   B04|       2003259|          Alarms|2002-01-11|2002-01-10|               Other|   2002-01-11|1400 Block of SUT...|  SF|  94109|      B04|         03|3223|               3|       3|            3|  false|         null|        1|   CHIEF|                         2|                     4|                 2|    Western Addition|(37.7872890372638...|020110043-B04| 3.48|\n",
      "+----------+------+--------------+----------------+----------+----------+--------------------+-------------+--------------------+----+-------+---------+-----------+----+----------------+--------+-------------+-------+-------------+---------+--------+--------------------------+----------------------+------------------+--------------------+--------------------+-------------+-----+\n",
      "only showing top 5 rows\n",
      "\n"
     ]
    }
   ],
   "source": [
    "my_fire_df.show(5)"
   ]
  },
  {
   "cell_type": "markdown",
   "id": "5a97e419",
   "metadata": {},
   "source": [
    "#### Q1. How many distinct types of calls were made to the Fire Department?\n"
   ]
  },
  {
   "cell_type": "markdown",
   "id": "924daee5",
   "metadata": {},
   "source": [
    "##### SQL Approch "
   ]
  },
  {
   "cell_type": "code",
   "execution_count": 9,
   "id": "e04ff01f",
   "metadata": {},
   "outputs": [
    {
     "name": "stderr",
     "output_type": "stream",
     "text": [
      "[Stage 7:=====================>                                    (4 + 7) / 11]\r"
     ]
    },
    {
     "name": "stdout",
     "output_type": "stream",
     "text": [
      "+------------------------+\n",
      "|distinct_call_type_count|\n",
      "+------------------------+\n",
      "|                      30|\n",
      "+------------------------+\n",
      "\n"
     ]
    },
    {
     "name": "stderr",
     "output_type": "stream",
     "text": [
      "\r",
      "                                                                                \r"
     ]
    }
   ],
   "source": [
    "# Step 1 - Create a temp view (Utility method)\n",
    "my_fire_df.createOrReplaceTempView(\"fire_service_calls_vew\")\n",
    "\n",
    "# Step 2 - Run the SQL query\n",
    "q1_sql_df = spark.sql(\"\"\"\n",
    "                        select count(distinct CallType) as distinct_call_type_count\n",
    "                        from fire_service_calls_vew\n",
    "                        where CallType is not null\n",
    "                      \"\"\")\n",
    "\n",
    "q1_sql_df.show()"
   ]
  },
  {
   "cell_type": "markdown",
   "id": "95414c0d",
   "metadata": {},
   "source": [
    "##### DataFrame Approch"
   ]
  },
  {
   "cell_type": "code",
   "execution_count": 10,
   "id": "6ee2d219",
   "metadata": {},
   "outputs": [
    {
     "name": "stdout",
     "output_type": "stream",
     "text": [
      "30\n"
     ]
    }
   ],
   "source": [
    "# These all are transformations \n",
    "q1_df = my_fire_df.where(\"CallType is not null\") \\\n",
    "               .select(\"CallType\") \\\n",
    "               .distinct()   \n",
    "\n",
    "# This is an action \n",
    "print(q1_df.count())"
   ]
  },
  {
   "cell_type": "code",
   "execution_count": 11,
   "id": "b3ba9f84",
   "metadata": {},
   "outputs": [
    {
     "name": "stdout",
     "output_type": "stream",
     "text": [
      "30\n"
     ]
    }
   ],
   "source": [
    "q1_df1 = my_fire_df.where(\"CallType is not null\")\n",
    "q1_df2 = q1_df1.select(\"CallType\")\n",
    "q1_df3 = q1_df2.distinct()\n",
    "\n",
    "print(q1_df3.count())"
   ]
  },
  {
   "cell_type": "markdown",
   "id": "7ec75a8b",
   "metadata": {},
   "source": [
    "#### Q2. What were distinct types of calls made to the Fire Department?\n"
   ]
  },
  {
   "cell_type": "code",
   "execution_count": 12,
   "id": "e43a3e77",
   "metadata": {},
   "outputs": [
    {
     "name": "stdout",
     "output_type": "stream",
     "text": [
      "+--------------------------------------------+\n",
      "|Distinct_Call_Type                          |\n",
      "+--------------------------------------------+\n",
      "|Elevator / Escalator Rescue                 |\n",
      "|Marine Fire                                 |\n",
      "|Odor (Strange / Unknown)                    |\n",
      "|Extrication / Entrapped (Machinery, Vehicle)|\n",
      "|Other                                       |\n",
      "|Traffic Collision                           |\n",
      "|Water Rescue                                |\n",
      "|Structure Fire                              |\n",
      "|Aircraft Emergency                          |\n",
      "|Administrative                              |\n",
      "|HazMat                                      |\n",
      "|Assist Police                               |\n",
      "|Train / Rail Incident                       |\n",
      "|Citizen Assist / Service Call               |\n",
      "|Alarms                                      |\n",
      "|Explosion                                   |\n",
      "|Oil Spill                                   |\n",
      "|Vehicle Fire                                |\n",
      "|Outside Fire                                |\n",
      "|Gas Leak (Natural and LP Gases)             |\n",
      "+--------------------------------------------+\n",
      "only showing top 20 rows\n",
      "\n"
     ]
    }
   ],
   "source": [
    "types_of_call = my_fire_df.where(\"CallType is not null\") \\\n",
    "                          .select(F.expr(\"CallType as Distinct_Call_Type\")) \\\n",
    "                          .distinct()\n",
    "\n",
    "types_of_call.show(truncate=False)"
   ]
  },
  {
   "cell_type": "markdown",
   "id": "44ac3648",
   "metadata": {},
   "source": [
    "#### Q3. Find out all response for delayed times greater than 5 mins?"
   ]
  },
  {
   "cell_type": "code",
   "execution_count": 13,
   "id": "fc78d0d4",
   "metadata": {},
   "outputs": [
    {
     "name": "stdout",
     "output_type": "stream",
     "text": [
      "+----------+----+-----+\n",
      "|CallNumber|City|Delay|\n",
      "+----------+----+-----+\n",
      "|  20110315|  SF| 5.35|\n",
      "|  20120147|  SF| 6.25|\n",
      "|  20130013|  SF|  5.2|\n",
      "|  20140067|  SF|  5.6|\n",
      "|  20140177|  SF| 7.25|\n",
      "|  20150056|  SF|11.92|\n",
      "|  20150254|  SF| 5.12|\n",
      "|  20150265|  SF| 8.63|\n",
      "|  20150265|  SF|95.28|\n",
      "|  20150380|  SF| 5.45|\n",
      "|  20150414|  SF|  7.6|\n",
      "|  20160059|  SF| 6.13|\n",
      "|  20160064|  SF| 5.18|\n",
      "|  20170118|  SF| 6.92|\n",
      "|  20170342|  SF|  5.2|\n",
      "|  20180129|  SF| 6.35|\n",
      "|  20180191|  SF| 7.98|\n",
      "|  20180382|  SF|13.55|\n",
      "|  20190062|  SF| 5.15|\n",
      "|  20190097|  SF|13.58|\n",
      "+----------+----+-----+\n",
      "only showing top 20 rows\n",
      "\n"
     ]
    }
   ],
   "source": [
    "df_q3 = my_fire_df.where(\"Delay > 5\") \\\n",
    "                  .select(\"CallNumber\", \"City\", \"Delay\")\n",
    "\n",
    "df_q3.show()"
   ]
  },
  {
   "cell_type": "markdown",
   "id": "943853fe",
   "metadata": {},
   "source": [
    "#### Q4. What were the most common call types?"
   ]
  },
  {
   "cell_type": "code",
   "execution_count": 14,
   "id": "d534aa56",
   "metadata": {},
   "outputs": [
    {
     "name": "stdout",
     "output_type": "stream",
     "text": [
      "+-------------------------------+------+\n",
      "|CallType                       |count |\n",
      "+-------------------------------+------+\n",
      "|Medical Incident               |113794|\n",
      "|Structure Fire                 |23319 |\n",
      "|Alarms                         |19406 |\n",
      "|Traffic Collision              |7013  |\n",
      "|Citizen Assist / Service Call  |2524  |\n",
      "|Other                          |2166  |\n",
      "|Outside Fire                   |2094  |\n",
      "|Vehicle Fire                   |854   |\n",
      "|Gas Leak (Natural and LP Gases)|764   |\n",
      "|Water Rescue                   |755   |\n",
      "|Odor (Strange / Unknown)       |490   |\n",
      "|Electrical Hazard              |482   |\n",
      "|Elevator / Escalator Rescue    |453   |\n",
      "|Smoke Investigation (Outside)  |391   |\n",
      "|Fuel Spill                     |193   |\n",
      "|HazMat                         |124   |\n",
      "|Industrial Accidents           |94    |\n",
      "|Explosion                      |89    |\n",
      "|Train / Rail Incident          |57    |\n",
      "|Aircraft Emergency             |36    |\n",
      "+-------------------------------+------+\n",
      "only showing top 20 rows\n",
      "\n"
     ]
    }
   ],
   "source": [
    "df_q4 = my_fire_df.select(\"CallType\") \\\n",
    "                  .where(\"CallType is not null\") \\\n",
    "                  .groupBy(\"CallType\") \\\n",
    "                  .count() \\\n",
    "                  .orderBy(\"count\", ascending=False) \n",
    "\n",
    "df_q4.show(truncate=False)"
   ]
  },
  {
   "cell_type": "markdown",
   "id": "ecbfe78f",
   "metadata": {},
   "source": [
    "This count is a Transformation NOT an Action \n",
    "\n",
    "- `DataFrame.count()`      => Action \n",
    "- `GtoupedData.count()`    => Transformation "
   ]
  },
  {
   "cell_type": "markdown",
   "id": "2cdbdf6e",
   "metadata": {},
   "source": [
    "#### Q5. What zip codes accounted for most common calls?\n"
   ]
  },
  {
   "cell_type": "code",
   "execution_count": 15,
   "id": "f4b03da2",
   "metadata": {},
   "outputs": [
    {
     "name": "stdout",
     "output_type": "stream",
     "text": [
      "+----------------+-------+-----+\n",
      "|        CallType|Zipcode|count|\n",
      "+----------------+-------+-----+\n",
      "|Medical Incident|  94102|16130|\n",
      "|Medical Incident|  94103|14775|\n",
      "|Medical Incident|  94110| 9995|\n",
      "|Medical Incident|  94109| 9479|\n",
      "|Medical Incident|  94124| 5885|\n",
      "|Medical Incident|  94112| 5630|\n",
      "|Medical Incident|  94115| 4785|\n",
      "|Medical Incident|  94122| 4323|\n",
      "|Medical Incident|  94107| 4284|\n",
      "|Medical Incident|  94133| 3977|\n",
      "|Medical Incident|  94117| 3522|\n",
      "|Medical Incident|  94134| 3437|\n",
      "|Medical Incident|  94114| 3225|\n",
      "|Medical Incident|  94118| 3104|\n",
      "|Medical Incident|  94121| 2953|\n",
      "|Medical Incident|  94116| 2738|\n",
      "|Medical Incident|  94132| 2594|\n",
      "|  Structure Fire|  94110| 2267|\n",
      "|Medical Incident|  94105| 2258|\n",
      "|  Structure Fire|  94102| 2229|\n",
      "+----------------+-------+-----+\n",
      "only showing top 20 rows\n",
      "\n"
     ]
    },
    {
     "name": "stderr",
     "output_type": "stream",
     "text": [
      "\r",
      "[Stage 32:==============================================>          (9 + 2) / 11]\r",
      "\r",
      "                                                                                \r"
     ]
    }
   ],
   "source": [
    "my_fire_df.select(\"CallType\", \"Zipcode\") \\\n",
    "          .where(\"Zipcode is not null\") \\\n",
    "          .groupBy(\"CallType\", \"Zipcode\") \\\n",
    "          .count() \\\n",
    "          .orderBy(\"count\", ascending=False) \\\n",
    "          .show()"
   ]
  },
  {
   "cell_type": "markdown",
   "id": "be1a8c20",
   "metadata": {},
   "source": [
    "### Excercise "
   ]
  },
  {
   "cell_type": "markdown",
   "id": "9634f3c2",
   "metadata": {},
   "source": [
    "#### Q6. What San Francisco neighborhoods are in the zip codes 94114 and 94103"
   ]
  },
  {
   "cell_type": "code",
   "execution_count": 16,
   "id": "a03bf8e1",
   "metadata": {},
   "outputs": [
    {
     "name": "stdout",
     "output_type": "stream",
     "text": [
      "+--------------------+-------+\n",
      "|        Neighborhood|Zipcode|\n",
      "+--------------------+-------+\n",
      "|        Inner Sunset|  94114|\n",
      "| Castro/Upper Market|  94103|\n",
      "|     South of Market|  94103|\n",
      "|             Mission|  94114|\n",
      "| Castro/Upper Market|  94114|\n",
      "|          Tenderloin|  94103|\n",
      "|        Potrero Hill|  94103|\n",
      "|        Hayes Valley|  94114|\n",
      "|        Hayes Valley|  94103|\n",
      "|          Noe Valley|  94114|\n",
      "|      Haight Ashbury|  94114|\n",
      "|          Twin Peaks|  94114|\n",
      "|         Mission Bay|  94103|\n",
      "|Financial Distric...|  94103|\n",
      "|             Mission|  94103|\n",
      "+--------------------+-------+\n",
      "\n"
     ]
    }
   ],
   "source": [
    "my_fire_df.select(\"Neighborhood\", \"Zipcode\") \\\n",
    "          .where(\"Zipcode == 94114 or Zipcode == 94103\") \\\n",
    "          .distinct() \\\n",
    "          .show()"
   ]
  },
  {
   "cell_type": "markdown",
   "id": "d5684bf7",
   "metadata": {},
   "source": [
    "#### Q7. What was the sum of all calls, average, min and max of the response times for calls?\n"
   ]
  },
  {
   "cell_type": "code",
   "execution_count": 17,
   "id": "7b915c0f",
   "metadata": {},
   "outputs": [
    {
     "name": "stdout",
     "output_type": "stream",
     "text": [
      "+---------+------------------+---------+---------+\n",
      "|SUM_CALLS|         AVG_DELAY|MIN_DELAY|MAX_DELAY|\n",
      "+---------+------------------+---------+---------+\n",
      "|   176170|3.8923648571558935|     0.02|  1844.55|\n",
      "+---------+------------------+---------+---------+\n",
      "\n"
     ]
    }
   ],
   "source": [
    "my_fire_df.select(F.expr(\"sum(NumAlarms) as SUM_CALLS\"), \\\n",
    "                  F.expr(\"avg(Delay) as AVG_DELAY\"), \\\n",
    "                  F.expr(\"min(Delay) as MIN_DELAY\"), \\\n",
    "                  F.expr(\"max(Delay) as MAX_DELAY\") \\\n",
    "                 ) \\\n",
    "          .show()"
   ]
  },
  {
   "cell_type": "markdown",
   "id": "f162aa5a",
   "metadata": {},
   "source": [
    "#### Q8. How many distinct years of data is in the CSV file?"
   ]
  },
  {
   "cell_type": "code",
   "execution_count": 18,
   "id": "e7edb612",
   "metadata": {},
   "outputs": [
    {
     "name": "stdout",
     "output_type": "stream",
     "text": [
      "+--------+\n",
      "|year_num|\n",
      "+--------+\n",
      "|    2000|\n",
      "|    2001|\n",
      "|    2002|\n",
      "|    2003|\n",
      "|    2004|\n",
      "|    2005|\n",
      "|    2006|\n",
      "|    2007|\n",
      "|    2008|\n",
      "|    2009|\n",
      "|    2010|\n",
      "|    2011|\n",
      "|    2012|\n",
      "|    2013|\n",
      "|    2014|\n",
      "|    2015|\n",
      "|    2016|\n",
      "|    2017|\n",
      "|    2018|\n",
      "+--------+\n",
      "\n"
     ]
    }
   ],
   "source": [
    "my_fire_df.select(F.expr(\"year(CallDate) as year_num\")) \\\n",
    "          .distinct() \\\n",
    "          .orderBy(\"year_num\") \\\n",
    "          .show()"
   ]
  },
  {
   "cell_type": "markdown",
   "id": "fda71a0b",
   "metadata": {},
   "source": [
    "#### Q9. What week of the year in 2017 had the most fire calls?"
   ]
  },
  {
   "cell_type": "code",
   "execution_count": 19,
   "id": "20efb711",
   "metadata": {},
   "outputs": [
    {
     "name": "stdout",
     "output_type": "stream",
     "text": [
      "+---------+-----+\n",
      "|week_year|count|\n",
      "+---------+-----+\n",
      "|       35|  314|\n",
      "|        6|  265|\n",
      "|       43|  260|\n",
      "|       46|  255|\n",
      "|        1|  254|\n",
      "|       50|  254|\n",
      "|       13|  254|\n",
      "|       40|  253|\n",
      "|       49|  252|\n",
      "|        2|  250|\n",
      "|        4|  249|\n",
      "|       24|  249|\n",
      "|       52|  248|\n",
      "|       33|  247|\n",
      "|       32|  245|\n",
      "|       11|  243|\n",
      "|       18|  240|\n",
      "|       45|  240|\n",
      "|        9|  240|\n",
      "|        3|  239|\n",
      "+---------+-----+\n",
      "only showing top 20 rows\n",
      "\n"
     ]
    }
   ],
   "source": [
    "my_fire_df.select(F.expr(\"weekofyear(CallDate) as week_year\")) \\\n",
    "          .filter(\"year(CallDate) == 2017\") \\\n",
    "          .groupBy('week_year') \\\n",
    "          .count() \\\n",
    "          .orderBy('count', ascending=False) \\\n",
    "          .show()"
   ]
  },
  {
   "cell_type": "markdown",
   "id": "54a24c41",
   "metadata": {},
   "source": [
    "#### Q10. What neighborhoods in San Francisco had the worst response time in 2018?"
   ]
  },
  {
   "cell_type": "code",
   "execution_count": 20,
   "id": "56897c64",
   "metadata": {},
   "outputs": [
    {
     "name": "stdout",
     "output_type": "stream",
     "text": [
      "+--------------------+-----+\n",
      "|        Neighborhood|Delay|\n",
      "+--------------------+-----+\n",
      "|    Presidio Heights| 2.88|\n",
      "|         Mission Bay| 6.33|\n",
      "|           Chinatown| 2.65|\n",
      "|Financial Distric...| 3.53|\n",
      "|          Tenderloin|  1.1|\n",
      "|Bayview Hunters P...| 4.05|\n",
      "|      Inner Richmond| 2.57|\n",
      "|        Inner Sunset|  1.4|\n",
      "|     Sunset/Parkside| 2.67|\n",
      "|     South of Market| 1.77|\n",
      "|    Golden Gate Park| 1.68|\n",
      "|      Bernal Heights| 3.65|\n",
      "|          Tenderloin|  4.2|\n",
      "|         Mission Bay| 6.33|\n",
      "|         Mission Bay|  6.6|\n",
      "|      Outer Richmond| 3.48|\n",
      "|           Excelsior| 0.83|\n",
      "|         North Beach| 2.55|\n",
      "|    Western Addition| 2.17|\n",
      "|        Hayes Valley| 3.13|\n",
      "+--------------------+-----+\n",
      "only showing top 20 rows\n",
      "\n"
     ]
    }
   ],
   "source": [
    "my_fire_df.select(\"Neighborhood\", \"Delay\") \\\n",
    "          .filter(\"year(CallDate) == 2018\") \\\n",
    "          .show()"
   ]
  },
  {
   "cell_type": "code",
   "execution_count": null,
   "id": "6eddba3f",
   "metadata": {},
   "outputs": [],
   "source": []
  }
 ],
 "metadata": {
  "kernelspec": {
   "display_name": "Python 3 (ipykernel)",
   "language": "python",
   "name": "python3"
  },
  "language_info": {
   "codemirror_mode": {
    "name": "ipython",
    "version": 3
   },
   "file_extension": ".py",
   "mimetype": "text/x-python",
   "name": "python",
   "nbconvert_exporter": "python",
   "pygments_lexer": "ipython3",
   "version": "3.7.16"
  }
 },
 "nbformat": 4,
 "nbformat_minor": 5
}
