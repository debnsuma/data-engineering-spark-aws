{
 "cells": [
  {
   "cell_type": "code",
   "execution_count": 1,
   "id": "bb600571",
   "metadata": {},
   "outputs": [
    {
     "data": {
      "text/html": [
       "\n",
       "            <div>\n",
       "                <p><b>SparkSession - hive</b></p>\n",
       "                \n",
       "        <div>\n",
       "            <p><b>SparkContext</b></p>\n",
       "\n",
       "            <p><a href=\"http://ip-172-31-42-20.us-east-2.compute.internal:4040\">Spark UI</a></p>\n",
       "\n",
       "            <dl>\n",
       "              <dt>Version</dt>\n",
       "                <dd><code>v3.3.0-amzn-1</code></dd>\n",
       "              <dt>Master</dt>\n",
       "                <dd><code>yarn</code></dd>\n",
       "              <dt>AppName</dt>\n",
       "                <dd><code>PySparkShell</code></dd>\n",
       "            </dl>\n",
       "        </div>\n",
       "        \n",
       "            </div>\n",
       "        "
      ],
      "text/plain": [
       "<pyspark.sql.session.SparkSession at 0x7ff78cc07190>"
      ]
     },
     "execution_count": 1,
     "metadata": {},
     "output_type": "execute_result"
    }
   ],
   "source": [
    "spark"
   ]
  },
  {
   "cell_type": "markdown",
   "id": "4c4b4d9d",
   "metadata": {},
   "source": [
    "### `Step 1` : Dataset"
   ]
  },
  {
   "cell_type": "code",
   "execution_count": 2,
   "id": "617f1317",
   "metadata": {},
   "outputs": [],
   "source": [
    "data_set = 's3://fcc-spark-example/dataset/gutenberg_books/1342-0.txt'"
   ]
  },
  {
   "cell_type": "markdown",
   "id": "45372ed4",
   "metadata": {},
   "source": [
    "### `Step 2` : Loading the data "
   ]
  },
  {
   "cell_type": "code",
   "execution_count": 5,
   "id": "c7761e82",
   "metadata": {},
   "outputs": [],
   "source": [
    "book_df =  spark \\\n",
    "            .read \\\n",
    "            .text(data_set)"
   ]
  },
  {
   "cell_type": "code",
   "execution_count": 6,
   "id": "b8fe90a4",
   "metadata": {},
   "outputs": [
    {
     "name": "stderr",
     "output_type": "stream",
     "text": [
      "                                                                                \r"
     ]
    },
    {
     "name": "stdout",
     "output_type": "stream",
     "text": [
      "+--------------------+\n",
      "|               value|\n",
      "+--------------------+\n",
      "|The Project Guten...|\n",
      "|                    |\n",
      "|This eBook is for...|\n",
      "|almost no restric...|\n",
      "|re-use it under t...|\n",
      "|with this eBook o...|\n",
      "|                    |\n",
      "|                    |\n",
      "|Title: Pride and ...|\n",
      "|                    |\n",
      "| Author: Jane Austen|\n",
      "|                    |\n",
      "|Posting Date: Aug...|\n",
      "|Release Date: Jun...|\n",
      "|Last Updated: Mar...|\n",
      "|                    |\n",
      "|   Language: English|\n",
      "|                    |\n",
      "|Character set enc...|\n",
      "|                    |\n",
      "+--------------------+\n",
      "only showing top 20 rows\n",
      "\n"
     ]
    }
   ],
   "source": [
    "book_df.show()"
   ]
  },
  {
   "cell_type": "code",
   "execution_count": 7,
   "id": "79c0ae61",
   "metadata": {},
   "outputs": [
    {
     "name": "stdout",
     "output_type": "stream",
     "text": [
      "root\n",
      " |-- value: string (nullable = true)\n",
      "\n"
     ]
    }
   ],
   "source": [
    "book_df.printSchema()"
   ]
  },
  {
   "cell_type": "code",
   "execution_count": 8,
   "id": "2b441467",
   "metadata": {},
   "outputs": [
    {
     "name": "stdout",
     "output_type": "stream",
     "text": [
      "[('value', 'string')]\n"
     ]
    }
   ],
   "source": [
    "print(book_df.dtypes)"
   ]
  },
  {
   "cell_type": "markdown",
   "id": "0d70ba57",
   "metadata": {},
   "source": [
    "### Display the data "
   ]
  },
  {
   "cell_type": "code",
   "execution_count": 10,
   "id": "d69ee4e7",
   "metadata": {},
   "outputs": [
    {
     "name": "stderr",
     "output_type": "stream",
     "text": [
      "[Stage 1:>                                                          (0 + 1) / 1]\r"
     ]
    },
    {
     "name": "stdout",
     "output_type": "stream",
     "text": [
      "+--------------------------------------------------+\n",
      "|                                             value|\n",
      "+--------------------------------------------------+\n",
      "|The Project Gutenberg EBook of Pride and Prejud...|\n",
      "|                                                  |\n",
      "|This eBook is for the use of anyone anywhere at...|\n",
      "|almost no restrictions whatsoever.  You may cop...|\n",
      "|re-use it under the terms of the Project Gutenb...|\n",
      "|    with this eBook or online at www.gutenberg.org|\n",
      "|                                                  |\n",
      "|                                                  |\n",
      "|                        Title: Pride and Prejudice|\n",
      "|                                                  |\n",
      "+--------------------------------------------------+\n",
      "only showing top 10 rows\n",
      "\n"
     ]
    },
    {
     "name": "stderr",
     "output_type": "stream",
     "text": [
      "\r",
      "                                                                                \r"
     ]
    }
   ],
   "source": [
    "book_df.show(10, truncate=50)"
   ]
  },
  {
   "cell_type": "code",
   "execution_count": 11,
   "id": "7f65c570",
   "metadata": {},
   "outputs": [
    {
     "name": "stdout",
     "output_type": "stream",
     "text": [
      "+--------------------------------------------------------------------+\n",
      "|value                                                               |\n",
      "+--------------------------------------------------------------------+\n",
      "|The Project Gutenberg EBook of Pride and Prejudice, by Jane Austen  |\n",
      "|                                                                    |\n",
      "|This eBook is for the use of anyone anywhere at no cost and with    |\n",
      "|almost no restrictions whatsoever.  You may copy it, give it away or|\n",
      "|re-use it under the terms of the Project Gutenberg License included |\n",
      "|with this eBook or online at www.gutenberg.org                      |\n",
      "|                                                                    |\n",
      "|                                                                    |\n",
      "|Title: Pride and Prejudice                                          |\n",
      "|                                                                    |\n",
      "+--------------------------------------------------------------------+\n",
      "only showing top 10 rows\n",
      "\n"
     ]
    }
   ],
   "source": [
    "book_df.show(10, truncate=False)"
   ]
  },
  {
   "cell_type": "markdown",
   "id": "4ff085c4",
   "metadata": {},
   "source": [
    "### `Step 3` : Moving from a sentence to a list of words"
   ]
  },
  {
   "cell_type": "code",
   "execution_count": 12,
   "id": "3e1535d9",
   "metadata": {},
   "outputs": [],
   "source": [
    "import pyspark.sql.functions as F"
   ]
  },
  {
   "cell_type": "code",
   "execution_count": 38,
   "id": "7db4e172",
   "metadata": {},
   "outputs": [],
   "source": [
    "lines = book_df \\\n",
    "            .select(F.split(F.col('value'), ' ').alias('line'))"
   ]
  },
  {
   "cell_type": "code",
   "execution_count": 39,
   "id": "53048fcb",
   "metadata": {},
   "outputs": [
    {
     "name": "stdout",
     "output_type": "stream",
     "text": [
      "+--------------------+\n",
      "|                line|\n",
      "+--------------------+\n",
      "|[The, Project, Gu...|\n",
      "|                  []|\n",
      "|[This, eBook, is,...|\n",
      "|[almost, no, rest...|\n",
      "|[re-use, it, unde...|\n",
      "|[with, this, eBoo...|\n",
      "|                  []|\n",
      "|                  []|\n",
      "|[Title:, Pride, a...|\n",
      "|                  []|\n",
      "|[Author:, Jane, A...|\n",
      "|                  []|\n",
      "|[Posting, Date:, ...|\n",
      "|[Release, Date:, ...|\n",
      "|[Last, Updated:, ...|\n",
      "|                  []|\n",
      "|[Language:, English]|\n",
      "|                  []|\n",
      "|[Character, set, ...|\n",
      "|                  []|\n",
      "+--------------------+\n",
      "only showing top 20 rows\n",
      "\n"
     ]
    }
   ],
   "source": [
    "lines.show()"
   ]
  },
  {
   "cell_type": "markdown",
   "id": "b4546059",
   "metadata": {},
   "source": [
    "#### Different ways to select the column "
   ]
  },
  {
   "cell_type": "markdown",
   "id": "be2d59df",
   "metadata": {},
   "source": [
    "Using any of these:\n",
    "\n",
    "    - book_df.select(\"value\")\n",
    "\n",
    "    - book_df.select(F.col(\"value\"))\n",
    "\n",
    "    - book_df.select(book.value)\n",
    "\n",
    "    - book_df.select(book[\"value\"])\n"
   ]
  },
  {
   "cell_type": "code",
   "execution_count": 27,
   "id": "493946e2",
   "metadata": {},
   "outputs": [
    {
     "name": "stdout",
     "output_type": "stream",
     "text": [
      "+--------------------+\n",
      "|               value|\n",
      "+--------------------+\n",
      "|The Project Guten...|\n",
      "|                    |\n",
      "+--------------------+\n",
      "only showing top 2 rows\n",
      "\n"
     ]
    }
   ],
   "source": [
    "book_df.select('value').show(2)"
   ]
  },
  {
   "cell_type": "markdown",
   "id": "1cadcf28",
   "metadata": {},
   "source": [
    "#### Giving a name to a column "
   ]
  },
  {
   "cell_type": "markdown",
   "id": "a8ab19f6",
   "metadata": {},
   "source": [
    "Using any of these: \n",
    "\n",
    "    - alias() \n",
    "    - withColumnRenamed()"
   ]
  },
  {
   "cell_type": "code",
   "execution_count": 24,
   "id": "78fa1f65",
   "metadata": {},
   "outputs": [
    {
     "name": "stderr",
     "output_type": "stream",
     "text": [
      "[Stage 8:>                                                          (0 + 1) / 1]\r"
     ]
    },
    {
     "name": "stdout",
     "output_type": "stream",
     "text": [
      "+--------------------+\n",
      "| split(value,  , -1)|\n",
      "+--------------------+\n",
      "|[The, Project, Gu...|\n",
      "+--------------------+\n",
      "only showing top 1 row\n",
      "\n"
     ]
    },
    {
     "name": "stderr",
     "output_type": "stream",
     "text": [
      "\r",
      "                                                                                \r"
     ]
    }
   ],
   "source": [
    "book_df.select(F.split(F.col('value'), ' ')).show(1)"
   ]
  },
  {
   "cell_type": "code",
   "execution_count": 26,
   "id": "82cc76d0",
   "metadata": {},
   "outputs": [
    {
     "name": "stdout",
     "output_type": "stream",
     "text": [
      "+--------------------+\n",
      "|                line|\n",
      "+--------------------+\n",
      "|[The, Project, Gu...|\n",
      "|                  []|\n",
      "|[This, eBook, is,...|\n",
      "|[almost, no, rest...|\n",
      "|[re-use, it, unde...|\n",
      "|[with, this, eBoo...|\n",
      "|                  []|\n",
      "|                  []|\n",
      "|[Title:, Pride, a...|\n",
      "|                  []|\n",
      "|[Author:, Jane, A...|\n",
      "|                  []|\n",
      "|[Posting, Date:, ...|\n",
      "|[Release, Date:, ...|\n",
      "|[Last, Updated:, ...|\n",
      "|                  []|\n",
      "|[Language:, English]|\n",
      "|                  []|\n",
      "|[Character, set, ...|\n",
      "|                  []|\n",
      "+--------------------+\n",
      "only showing top 20 rows\n",
      "\n"
     ]
    }
   ],
   "source": [
    "book_df.select(F.split(F.col('value'), ' ')).withColumnRenamed('split(value,  , -1)', 'line').show()"
   ]
  },
  {
   "cell_type": "code",
   "execution_count": 30,
   "id": "3ff3c4c9",
   "metadata": {},
   "outputs": [
    {
     "name": "stdout",
     "output_type": "stream",
     "text": [
      "+--------------------+\n",
      "| split(value,  , -1)|\n",
      "+--------------------+\n",
      "|[The, Project, Gu...|\n",
      "|                  []|\n",
      "|[This, eBook, is,...|\n",
      "|[almost, no, rest...|\n",
      "|[re-use, it, unde...|\n",
      "|[with, this, eBoo...|\n",
      "|                  []|\n",
      "|                  []|\n",
      "|[Title:, Pride, a...|\n",
      "|                  []|\n",
      "|[Author:, Jane, A...|\n",
      "|                  []|\n",
      "|[Posting, Date:, ...|\n",
      "|[Release, Date:, ...|\n",
      "|[Last, Updated:, ...|\n",
      "|                  []|\n",
      "|[Language:, English]|\n",
      "|                  []|\n",
      "|[Character, set, ...|\n",
      "|                  []|\n",
      "+--------------------+\n",
      "only showing top 20 rows\n",
      "\n"
     ]
    }
   ],
   "source": [
    "# should the column not exist, PySpark will treat this method as a no-op and not perform anything\n",
    "\n",
    "book_df.select(F.split(F.col('value'), ' ')).withColumnRenamed('col_foo_bar', 'line').show()"
   ]
  },
  {
   "cell_type": "code",
   "execution_count": null,
   "id": "294ac1b8",
   "metadata": {},
   "outputs": [],
   "source": []
  },
  {
   "cell_type": "markdown",
   "id": "b14d578a",
   "metadata": {},
   "source": [
    "### `Step 4` : Exploding a list into rows"
   ]
  },
  {
   "cell_type": "code",
   "execution_count": 40,
   "id": "5e6fa946",
   "metadata": {},
   "outputs": [],
   "source": [
    "words = lines.select(F.explode(F.col('line')))"
   ]
  },
  {
   "cell_type": "code",
   "execution_count": 41,
   "id": "a2bc5fcc",
   "metadata": {},
   "outputs": [
    {
     "name": "stdout",
     "output_type": "stream",
     "text": [
      "+----------+\n",
      "|       col|\n",
      "+----------+\n",
      "|       The|\n",
      "|   Project|\n",
      "| Gutenberg|\n",
      "|     EBook|\n",
      "|        of|\n",
      "|     Pride|\n",
      "|       and|\n",
      "|Prejudice,|\n",
      "|        by|\n",
      "|      Jane|\n",
      "|    Austen|\n",
      "|          |\n",
      "|      This|\n",
      "|     eBook|\n",
      "|        is|\n",
      "|       for|\n",
      "|       the|\n",
      "|       use|\n",
      "|        of|\n",
      "|    anyone|\n",
      "+----------+\n",
      "only showing top 20 rows\n",
      "\n"
     ]
    }
   ],
   "source": [
    "words.show()"
   ]
  },
  {
   "cell_type": "code",
   "execution_count": 42,
   "id": "443c854a",
   "metadata": {},
   "outputs": [],
   "source": [
    "words = words.withColumnRenamed('col', 'word')"
   ]
  },
  {
   "cell_type": "code",
   "execution_count": 43,
   "id": "ccce6a29",
   "metadata": {},
   "outputs": [
    {
     "name": "stdout",
     "output_type": "stream",
     "text": [
      "+----------+\n",
      "|      word|\n",
      "+----------+\n",
      "|       The|\n",
      "|   Project|\n",
      "| Gutenberg|\n",
      "|     EBook|\n",
      "|        of|\n",
      "|     Pride|\n",
      "|       and|\n",
      "|Prejudice,|\n",
      "|        by|\n",
      "|      Jane|\n",
      "|    Austen|\n",
      "|          |\n",
      "|      This|\n",
      "|     eBook|\n",
      "|        is|\n",
      "|       for|\n",
      "|       the|\n",
      "|       use|\n",
      "|        of|\n",
      "|    anyone|\n",
      "+----------+\n",
      "only showing top 20 rows\n",
      "\n"
     ]
    }
   ],
   "source": [
    "words.show()"
   ]
  },
  {
   "cell_type": "markdown",
   "id": "7647e397",
   "metadata": {},
   "source": [
    "#### Explode (a list to row)"
   ]
  },
  {
   "cell_type": "markdown",
   "id": "69ff2957",
   "metadata": {},
   "source": [
    "<img src=\"../img/img1.png\" alt=\"img1\">\n"
   ]
  },
  {
   "cell_type": "markdown",
   "id": "dc1db84f",
   "metadata": {},
   "source": [
    "#### `Step 5` : Cleaning the data "
   ]
  },
  {
   "cell_type": "markdown",
   "id": "f59eb960",
   "metadata": {},
   "source": [
    "- Converting all words to lower case"
   ]
  },
  {
   "cell_type": "code",
   "execution_count": 51,
   "id": "31a69098",
   "metadata": {},
   "outputs": [],
   "source": [
    "words_lower = words.select(F.lower(F.col('word')).alias('word_lower'))"
   ]
  },
  {
   "cell_type": "code",
   "execution_count": 52,
   "id": "74dad35b",
   "metadata": {},
   "outputs": [
    {
     "name": "stderr",
     "output_type": "stream",
     "text": [
      "[Stage 20:>                                                         (0 + 1) / 1]\r"
     ]
    },
    {
     "name": "stdout",
     "output_type": "stream",
     "text": [
      "+----------+\n",
      "|word_lower|\n",
      "+----------+\n",
      "|       the|\n",
      "|   project|\n",
      "| gutenberg|\n",
      "|     ebook|\n",
      "|        of|\n",
      "|     pride|\n",
      "|       and|\n",
      "|prejudice,|\n",
      "|        by|\n",
      "|      jane|\n",
      "|    austen|\n",
      "|          |\n",
      "|      this|\n",
      "|     ebook|\n",
      "|        is|\n",
      "|       for|\n",
      "|       the|\n",
      "|       use|\n",
      "|        of|\n",
      "|    anyone|\n",
      "+----------+\n",
      "only showing top 20 rows\n",
      "\n"
     ]
    },
    {
     "name": "stderr",
     "output_type": "stream",
     "text": [
      "\r",
      "                                                                                \r"
     ]
    }
   ],
   "source": [
    "words_lower.show()"
   ]
  },
  {
   "cell_type": "markdown",
   "id": "172ae22d",
   "metadata": {},
   "source": [
    "- Remove any punctuation and other non-useful characters\n",
    "\n",
    "- If you are interested in building your own, the RegExr (https://regexr.com/)"
   ]
  },
  {
   "cell_type": "code",
   "execution_count": 56,
   "id": "37b85d13",
   "metadata": {},
   "outputs": [],
   "source": [
    "word_clean = words_lower.select(F.regexp_extract(F.col('word_lower'), \"[a-z]+\", 0).alias('word'))"
   ]
  },
  {
   "cell_type": "code",
   "execution_count": 57,
   "id": "af369041",
   "metadata": {},
   "outputs": [
    {
     "name": "stderr",
     "output_type": "stream",
     "text": [
      "[Stage 22:>                                                         (0 + 1) / 1]\r"
     ]
    },
    {
     "name": "stdout",
     "output_type": "stream",
     "text": [
      "+---------+\n",
      "|     word|\n",
      "+---------+\n",
      "|      the|\n",
      "|  project|\n",
      "|gutenberg|\n",
      "|    ebook|\n",
      "|       of|\n",
      "|    pride|\n",
      "|      and|\n",
      "|prejudice|\n",
      "|       by|\n",
      "|     jane|\n",
      "|   austen|\n",
      "|         |\n",
      "|     this|\n",
      "|    ebook|\n",
      "|       is|\n",
      "|      for|\n",
      "|      the|\n",
      "|      use|\n",
      "|       of|\n",
      "|   anyone|\n",
      "+---------+\n",
      "only showing top 20 rows\n",
      "\n"
     ]
    },
    {
     "name": "stderr",
     "output_type": "stream",
     "text": [
      "\r",
      "                                                                                \r"
     ]
    }
   ],
   "source": [
    "word_clean.show()"
   ]
  },
  {
   "cell_type": "markdown",
   "id": "7e7ff226",
   "metadata": {},
   "source": [
    "### `Step 5` : Filtering row"
   ]
  },
  {
   "cell_type": "code",
   "execution_count": 58,
   "id": "c6e2240d",
   "metadata": {},
   "outputs": [],
   "source": [
    "word_with_no_null = word_clean.filter(F.col('word') != '')"
   ]
  },
  {
   "cell_type": "code",
   "execution_count": 59,
   "id": "acc9a9c6",
   "metadata": {},
   "outputs": [
    {
     "name": "stderr",
     "output_type": "stream",
     "text": [
      "[Stage 23:>                                                         (0 + 1) / 1]\r"
     ]
    },
    {
     "name": "stdout",
     "output_type": "stream",
     "text": [
      "+---------+\n",
      "|     word|\n",
      "+---------+\n",
      "|      the|\n",
      "|  project|\n",
      "|gutenberg|\n",
      "|    ebook|\n",
      "|       of|\n",
      "|    pride|\n",
      "|      and|\n",
      "|prejudice|\n",
      "|       by|\n",
      "|     jane|\n",
      "|   austen|\n",
      "|     this|\n",
      "|    ebook|\n",
      "|       is|\n",
      "|      for|\n",
      "|      the|\n",
      "|      use|\n",
      "|       of|\n",
      "|   anyone|\n",
      "| anywhere|\n",
      "+---------+\n",
      "only showing top 20 rows\n",
      "\n"
     ]
    },
    {
     "name": "stderr",
     "output_type": "stream",
     "text": [
      "\r",
      "                                                                                \r"
     ]
    }
   ],
   "source": [
    "word_with_no_null.show()"
   ]
  },
  {
   "cell_type": "markdown",
   "id": "5521fea6",
   "metadata": {},
   "source": [
    "### `Step 6` : Lets finally count the words "
   ]
  },
  {
   "cell_type": "code",
   "execution_count": 65,
   "id": "56d4dd6f",
   "metadata": {},
   "outputs": [
    {
     "name": "stderr",
     "output_type": "stream",
     "text": [
      "[Stage 27:>                                                         (0 + 1) / 1]\r"
     ]
    },
    {
     "name": "stdout",
     "output_type": "stream",
     "text": [
      "+-----------+-----+\n",
      "|       word|count|\n",
      "+-----------+-----+\n",
      "|     online|    4|\n",
      "|       hope|  122|\n",
      "|    solaced|    1|\n",
      "|    elevate|    1|\n",
      "|  solemnity|    5|\n",
      "|     spared|    8|\n",
      "| reanimated|    1|\n",
      "|    courted|    2|\n",
      "|ingratitude|    1|\n",
      "|      parts|    5|\n",
      "|    highest|    9|\n",
      "|      hurry|   11|\n",
      "|      oddly|    1|\n",
      "|   laughing|   10|\n",
      "|   positive|    3|\n",
      "|     speedy|    2|\n",
      "|   slightly|    4|\n",
      "|      scorn|    1|\n",
      "|      staff|    1|\n",
      "|    explain|    6|\n",
      "+-----------+-----+\n",
      "only showing top 20 rows\n",
      "\n"
     ]
    },
    {
     "name": "stderr",
     "output_type": "stream",
     "text": [
      "\r",
      "                                                                                \r"
     ]
    }
   ],
   "source": [
    "word_with_no_null \\\n",
    "            .groupBy(F.col('word')) \\\n",
    "            .count() \\\n",
    "            .show()"
   ]
  },
  {
   "cell_type": "markdown",
   "id": "0cd05c22",
   "metadata": {},
   "source": [
    "<img src=\"../img/img2.png\" alt=\"img2\">\n"
   ]
  },
  {
   "cell_type": "code",
   "execution_count": 66,
   "id": "95ec83dd",
   "metadata": {},
   "outputs": [],
   "source": [
    "results = word_with_no_null \\\n",
    "            .groupBy(F.col('word')) \\\n",
    "            .count()"
   ]
  },
  {
   "cell_type": "code",
   "execution_count": 67,
   "id": "f681d44b",
   "metadata": {},
   "outputs": [
    {
     "name": "stdout",
     "output_type": "stream",
     "text": [
      "+-----------+-----+\n",
      "|       word|count|\n",
      "+-----------+-----+\n",
      "|     online|    4|\n",
      "|       hope|  122|\n",
      "|    solaced|    1|\n",
      "|    elevate|    1|\n",
      "|  solemnity|    5|\n",
      "|     spared|    8|\n",
      "| reanimated|    1|\n",
      "|    courted|    2|\n",
      "|ingratitude|    1|\n",
      "|      parts|    5|\n",
      "|    highest|    9|\n",
      "|      hurry|   11|\n",
      "|      oddly|    1|\n",
      "|   laughing|   10|\n",
      "|   positive|    3|\n",
      "|     speedy|    2|\n",
      "|   slightly|    4|\n",
      "|      scorn|    1|\n",
      "|      staff|    1|\n",
      "|    explain|    6|\n",
      "+-----------+-----+\n",
      "only showing top 20 rows\n",
      "\n"
     ]
    }
   ],
   "source": [
    "results.show()"
   ]
  },
  {
   "cell_type": "markdown",
   "id": "76280588",
   "metadata": {},
   "source": [
    "We learned that PySpark distributes the data across multiple nodes. When performing a\n",
    "grouping function, such as `groupby()`, each worker performs the work on its assigned\n",
    "data. `groupby()` and `count()` are **transformations**, so PySpark will queue them **lazily**\n",
    "until we request an action."
   ]
  },
  {
   "cell_type": "markdown",
   "id": "a7bc5d9e",
   "metadata": {},
   "source": [
    "<img src=\"../img/img3.png\" alt=\"img3\">"
   ]
  },
  {
   "cell_type": "markdown",
   "id": "89076696",
   "metadata": {},
   "source": [
    "#### Ordering the result based on `Count`"
   ]
  },
  {
   "cell_type": "code",
   "execution_count": 74,
   "id": "95cc5121",
   "metadata": {},
   "outputs": [
    {
     "name": "stderr",
     "output_type": "stream",
     "text": [
      "[Stage 39:>                                                         (0 + 1) / 1]\r"
     ]
    },
    {
     "name": "stdout",
     "output_type": "stream",
     "text": [
      "+----+-----+\n",
      "|word|count|\n",
      "+----+-----+\n",
      "| the| 4496|\n",
      "|  to| 4235|\n",
      "|  of| 3719|\n",
      "| and| 3602|\n",
      "| her| 2223|\n",
      "|   i| 2052|\n",
      "|   a| 1997|\n",
      "|  in| 1920|\n",
      "| was| 1844|\n",
      "| she| 1703|\n",
      "|that| 1582|\n",
      "|  it| 1542|\n",
      "| not| 1447|\n",
      "| you| 1426|\n",
      "|  he| 1334|\n",
      "| his| 1267|\n",
      "|  be| 1259|\n",
      "|  as| 1191|\n",
      "| had| 1176|\n",
      "|with| 1099|\n",
      "+----+-----+\n",
      "only showing top 20 rows\n",
      "\n"
     ]
    },
    {
     "name": "stderr",
     "output_type": "stream",
     "text": [
      "\r",
      "                                                                                \r"
     ]
    }
   ],
   "source": [
    "results.orderBy(F.desc(F.col('count'))).show()"
   ]
  },
  {
   "cell_type": "code",
   "execution_count": 75,
   "id": "75d6b09e",
   "metadata": {},
   "outputs": [
    {
     "name": "stdout",
     "output_type": "stream",
     "text": [
      "+----+-----+\n",
      "|word|count|\n",
      "+----+-----+\n",
      "| the| 4496|\n",
      "|  to| 4235|\n",
      "|  of| 3719|\n",
      "| and| 3602|\n",
      "| her| 2223|\n",
      "|   i| 2052|\n",
      "|   a| 1997|\n",
      "|  in| 1920|\n",
      "| was| 1844|\n",
      "| she| 1703|\n",
      "|that| 1582|\n",
      "|  it| 1542|\n",
      "| not| 1447|\n",
      "| you| 1426|\n",
      "|  he| 1334|\n",
      "| his| 1267|\n",
      "|  be| 1259|\n",
      "|  as| 1191|\n",
      "| had| 1176|\n",
      "|with| 1099|\n",
      "+----+-----+\n",
      "only showing top 20 rows\n",
      "\n"
     ]
    },
    {
     "name": "stderr",
     "output_type": "stream",
     "text": [
      "\r",
      "[Stage 42:>                                                         (0 + 1) / 1]\r",
      "\r",
      "                                                                                \r"
     ]
    }
   ],
   "source": [
    "results.orderBy(F.col('count').desc()).show()"
   ]
  },
  {
   "cell_type": "markdown",
   "id": "da22f11e",
   "metadata": {},
   "source": [
    "### `Step 7` : Save this data on S3"
   ]
  },
  {
   "cell_type": "code",
   "execution_count": 78,
   "id": "dfbdf8fc",
   "metadata": {},
   "outputs": [
    {
     "name": "stderr",
     "output_type": "stream",
     "text": [
      "                                                                                \r"
     ]
    }
   ],
   "source": [
    "output_location = 's3://fcc-spark-example/output/word_count/'\n",
    "\n",
    "results.write \\\n",
    "        .save(output_location)"
   ]
  },
  {
   "cell_type": "markdown",
   "id": "bbc54495",
   "metadata": {},
   "source": [
    "<img src=\"../img/img4.png\" alt=\"img4\">"
   ]
  },
  {
   "cell_type": "code",
   "execution_count": 81,
   "id": "4b13378d",
   "metadata": {},
   "outputs": [],
   "source": [
    "# Dataframe to CSV \n",
    "\n",
    "results.write \\\n",
    "  .format('csv') \\\n",
    "  .option('header', True) \\\n",
    "  .mode('overwrite') \\\n",
    "  .save(output_location)"
   ]
  },
  {
   "cell_type": "markdown",
   "id": "93fb8e6a",
   "metadata": {},
   "source": [
    "<img src=\"../img/img5.png\" alt=\"img5\">"
   ]
  },
  {
   "cell_type": "markdown",
   "id": "ae6cff0e",
   "metadata": {},
   "source": [
    "### Method Chaining"
   ]
  },
  {
   "cell_type": "code",
   "execution_count": 88,
   "id": "3a04f74d",
   "metadata": {},
   "outputs": [],
   "source": [
    "data_set = 's3://fcc-spark-example/dataset/gutenberg_books/1342-0.txt'\n",
    "\n",
    "result = spark \\\n",
    "            .read \\\n",
    "            .text(data_set) \\\n",
    "            .select(F.split(F.col('value'), ' ').alias('line')) \\\n",
    "            .select(F.explode(F.col('line')).alias('word')) \\\n",
    "            .select(F.lower(F.col('word')).alias('word_lower')) \\\n",
    "            .select(F.regexp_extract(F.col('word_lower'), \"[a-z]+\", 0).alias('word')) \\\n",
    "            .filter(F.col('word') != '') \\\n",
    "            .groupBy(F.col('word')) \\\n",
    "            .count()"
   ]
  },
  {
   "cell_type": "code",
   "execution_count": 89,
   "id": "caf9ae5c",
   "metadata": {},
   "outputs": [
    {
     "name": "stderr",
     "output_type": "stream",
     "text": [
      "[Stage 57:>                                                         (0 + 1) / 1]\r"
     ]
    },
    {
     "name": "stdout",
     "output_type": "stream",
     "text": [
      "+-----------+-----+\n",
      "|       word|count|\n",
      "+-----------+-----+\n",
      "|     online|    4|\n",
      "|       hope|  122|\n",
      "|    solaced|    1|\n",
      "|    elevate|    1|\n",
      "|  solemnity|    5|\n",
      "|     spared|    8|\n",
      "| reanimated|    1|\n",
      "|    courted|    2|\n",
      "|ingratitude|    1|\n",
      "|      parts|    5|\n",
      "|    highest|    9|\n",
      "|      hurry|   11|\n",
      "|      oddly|    1|\n",
      "|   laughing|   10|\n",
      "|   positive|    3|\n",
      "|     speedy|    2|\n",
      "|   slightly|    4|\n",
      "|      scorn|    1|\n",
      "|      staff|    1|\n",
      "|    explain|    6|\n",
      "+-----------+-----+\n",
      "only showing top 20 rows\n",
      "\n"
     ]
    },
    {
     "name": "stderr",
     "output_type": "stream",
     "text": [
      "\r",
      "                                                                                \r"
     ]
    }
   ],
   "source": [
    "result.show()"
   ]
  },
  {
   "cell_type": "markdown",
   "id": "b5ccb1ea",
   "metadata": {},
   "source": [
    "<img src=\"../img/img6.png\" alt=\"img6\">"
   ]
  },
  {
   "cell_type": "markdown",
   "id": "c25bdde1",
   "metadata": {},
   "source": [
    "## Let's now `scaling up` our word frequency program"
   ]
  },
  {
   "cell_type": "markdown",
   "id": "beaf1057",
   "metadata": {},
   "source": [
    "<img src=\"../img/img7.png\" alt=\"img7\">"
   ]
  },
  {
   "cell_type": "code",
   "execution_count": 91,
   "id": "c0d60e66",
   "metadata": {},
   "outputs": [],
   "source": [
    "data_set = 's3://fcc-spark-example/dataset/gutenberg_books/*.txt'\n",
    "\n",
    "result_all_books = spark \\\n",
    "                        .read \\\n",
    "                        .text(data_set) \\\n",
    "                        .select(F.split(F.col('value'), ' ').alias('line')) \\\n",
    "                        .select(F.explode(F.col('line')).alias('word')) \\\n",
    "                        .select(F.lower(F.col('word')).alias('word_lower')) \\\n",
    "                        .select(F.regexp_extract(F.col('word_lower'), \"[a-z]+\", 0).alias('word')) \\\n",
    "                        .filter(F.col('word') != '') \\\n",
    "                        .groupBy(F.col('word')) \\\n",
    "                        .count()"
   ]
  },
  {
   "cell_type": "code",
   "execution_count": 96,
   "id": "04310fc1",
   "metadata": {},
   "outputs": [
    {
     "name": "stderr",
     "output_type": "stream",
     "text": [
      "[Stage 69:=============================>                            (1 + 1) / 2]\r"
     ]
    },
    {
     "name": "stdout",
     "output_type": "stream",
     "text": [
      "+----+-----+\n",
      "|word|count|\n",
      "+----+-----+\n",
      "| the|39188|\n",
      "| and|24292|\n",
      "|  of|21234|\n",
      "|  to|20581|\n",
      "|   i|15153|\n",
      "|   a|14564|\n",
      "|  in|12857|\n",
      "|that| 9900|\n",
      "|  it| 9451|\n",
      "| was| 8939|\n",
      "| her| 7951|\n",
      "|  my| 7594|\n",
      "| you| 6722|\n",
      "| his| 6676|\n",
      "|  he| 6604|\n",
      "|with| 6595|\n",
      "|  as| 6502|\n",
      "| had| 5727|\n",
      "| she| 5699|\n",
      "| for| 5497|\n",
      "+----+-----+\n",
      "only showing top 20 rows\n",
      "\n"
     ]
    },
    {
     "name": "stderr",
     "output_type": "stream",
     "text": [
      "\r",
      "                                                                                \r"
     ]
    }
   ],
   "source": [
    "result_all_books.orderBy(F.col('count'), ascending=False).show()"
   ]
  },
  {
   "cell_type": "markdown",
   "id": "35d8705e",
   "metadata": {},
   "source": [
    "## Saving all the processed data in S3"
   ]
  },
  {
   "cell_type": "code",
   "execution_count": 93,
   "id": "fb4ae21d",
   "metadata": {},
   "outputs": [
    {
     "name": "stderr",
     "output_type": "stream",
     "text": [
      "                                                                                \r"
     ]
    }
   ],
   "source": [
    "output_location = 's3://fcc-spark-example/output/word_count_all_books/'\n",
    "\n",
    "result_all_books.write \\\n",
    "                .save(output_location)"
   ]
  }
 ],
 "metadata": {
  "kernelspec": {
   "display_name": "Python 3 (ipykernel)",
   "language": "python",
   "name": "python3"
  },
  "language_info": {
   "codemirror_mode": {
    "name": "ipython",
    "version": 3
   },
   "file_extension": ".py",
   "mimetype": "text/x-python",
   "name": "python",
   "nbconvert_exporter": "python",
   "pygments_lexer": "ipython3",
   "version": "3.7.16"
  }
 },
 "nbformat": 4,
 "nbformat_minor": 5
}
