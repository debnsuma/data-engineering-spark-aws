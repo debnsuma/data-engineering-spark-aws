{
 "cells": [
  {
   "cell_type": "code",
   "execution_count": 1,
   "id": "9df3bd52",
   "metadata": {},
   "outputs": [
    {
     "data": {
      "text/html": [
       "\n",
       "            <div>\n",
       "                <p><b>SparkSession - hive</b></p>\n",
       "                \n",
       "        <div>\n",
       "            <p><b>SparkContext</b></p>\n",
       "\n",
       "            <p><a href=\"http://ip-172-31-2-35.us-east-2.compute.internal:4041\">Spark UI</a></p>\n",
       "\n",
       "            <dl>\n",
       "              <dt>Version</dt>\n",
       "                <dd><code>v3.3.0-amzn-1</code></dd>\n",
       "              <dt>Master</dt>\n",
       "                <dd><code>yarn</code></dd>\n",
       "              <dt>AppName</dt>\n",
       "                <dd><code>PySparkShell</code></dd>\n",
       "            </dl>\n",
       "        </div>\n",
       "        \n",
       "            </div>\n",
       "        "
      ],
      "text/plain": [
       "<pyspark.sql.session.SparkSession at 0x7f2fbc143b90>"
      ]
     },
     "execution_count": 1,
     "metadata": {},
     "output_type": "execute_result"
    }
   ],
   "source": [
    "spark"
   ]
  },
  {
   "cell_type": "markdown",
   "id": "a560864d",
   "metadata": {},
   "source": [
    "## Load the `dataset`"
   ]
  },
  {
   "cell_type": "code",
   "execution_count": 2,
   "id": "05da1ae8",
   "metadata": {},
   "outputs": [],
   "source": [
    "data_set = 's3://fcc-spark-example/dataset/gutenberg_books/1342-0.txt'"
   ]
  },
  {
   "cell_type": "markdown",
   "id": "43ea0932",
   "metadata": {},
   "source": [
    "## Create `SparkContext`"
   ]
  },
  {
   "cell_type": "code",
   "execution_count": 3,
   "id": "d6efde82",
   "metadata": {},
   "outputs": [],
   "source": [
    "sc = spark.sparkContext"
   ]
  },
  {
   "cell_type": "code",
   "execution_count": 4,
   "id": "33744792",
   "metadata": {},
   "outputs": [
    {
     "data": {
      "text/html": [
       "\n",
       "        <div>\n",
       "            <p><b>SparkContext</b></p>\n",
       "\n",
       "            <p><a href=\"http://ip-172-31-2-35.us-east-2.compute.internal:4041\">Spark UI</a></p>\n",
       "\n",
       "            <dl>\n",
       "              <dt>Version</dt>\n",
       "                <dd><code>v3.3.0-amzn-1</code></dd>\n",
       "              <dt>Master</dt>\n",
       "                <dd><code>yarn</code></dd>\n",
       "              <dt>AppName</dt>\n",
       "                <dd><code>PySparkShell</code></dd>\n",
       "            </dl>\n",
       "        </div>\n",
       "        "
      ],
      "text/plain": [
       "<SparkContext master=yarn appName=PySparkShell>"
      ]
     },
     "execution_count": 4,
     "metadata": {},
     "output_type": "execute_result"
    }
   ],
   "source": [
    "sc"
   ]
  },
  {
   "cell_type": "markdown",
   "id": "1e934db3",
   "metadata": {},
   "source": [
    "## Create a `RDD`"
   ]
  },
  {
   "cell_type": "code",
   "execution_count": 5,
   "id": "e0580c95",
   "metadata": {},
   "outputs": [],
   "source": [
    "rdd1 = sc.textFile(data_set)"
   ]
  },
  {
   "cell_type": "code",
   "execution_count": 6,
   "id": "20e0dc5f",
   "metadata": {},
   "outputs": [
    {
     "data": {
      "text/plain": [
       "s3://fcc-spark-example/dataset/gutenberg_books/1342-0.txt MapPartitionsRDD[1] at textFile at NativeMethodAccessorImpl.java:0"
      ]
     },
     "execution_count": 6,
     "metadata": {},
     "output_type": "execute_result"
    }
   ],
   "source": [
    "rdd1"
   ]
  },
  {
   "cell_type": "code",
   "execution_count": 7,
   "id": "3b0874b4",
   "metadata": {},
   "outputs": [
    {
     "name": "stderr",
     "output_type": "stream",
     "text": [
      "                                                                                \r"
     ]
    },
    {
     "data": {
      "text/plain": [
       "['The Project Gutenberg EBook of Pride and Prejudice, by Jane Austen',\n",
       " '',\n",
       " 'This eBook is for the use of anyone anywhere at no cost and with',\n",
       " 'almost no restrictions whatsoever.  You may copy it, give it away or',\n",
       " 're-use it under the terms of the Project Gutenberg License included',\n",
       " 'with this eBook or online at www.gutenberg.org',\n",
       " '',\n",
       " '',\n",
       " 'Title: Pride and Prejudice',\n",
       " '']"
      ]
     },
     "execution_count": 7,
     "metadata": {},
     "output_type": "execute_result"
    }
   ],
   "source": [
    "rdd1.take(10)"
   ]
  },
  {
   "cell_type": "markdown",
   "id": "4d5fcfa2",
   "metadata": {},
   "source": [
    "## Word Count"
   ]
  },
  {
   "cell_type": "code",
   "execution_count": 8,
   "id": "a3b9b690",
   "metadata": {},
   "outputs": [],
   "source": [
    "rdd2 = rdd1.flatMap(lambda line: line.split(' '))"
   ]
  },
  {
   "cell_type": "code",
   "execution_count": 9,
   "id": "020b5624",
   "metadata": {},
   "outputs": [
    {
     "name": "stderr",
     "output_type": "stream",
     "text": [
      "                                                                                \r"
     ]
    },
    {
     "data": {
      "text/plain": [
       "['The',\n",
       " 'Project',\n",
       " 'Gutenberg',\n",
       " 'EBook',\n",
       " 'of',\n",
       " 'Pride',\n",
       " 'and',\n",
       " 'Prejudice,',\n",
       " 'by',\n",
       " 'Jane',\n",
       " 'Austen',\n",
       " '',\n",
       " 'This',\n",
       " 'eBook',\n",
       " 'is',\n",
       " 'for',\n",
       " 'the',\n",
       " 'use',\n",
       " 'of',\n",
       " 'anyone',\n",
       " 'anywhere',\n",
       " 'at',\n",
       " 'no',\n",
       " 'cost',\n",
       " 'and',\n",
       " 'with',\n",
       " 'almost',\n",
       " 'no',\n",
       " 'restrictions',\n",
       " 'whatsoever.']"
      ]
     },
     "execution_count": 9,
     "metadata": {},
     "output_type": "execute_result"
    }
   ],
   "source": [
    "rdd2.take(30)"
   ]
  },
  {
   "cell_type": "code",
   "execution_count": 10,
   "id": "ade059f9",
   "metadata": {},
   "outputs": [],
   "source": [
    "rdd3 = rdd2.map(lambda word : (word, 1))"
   ]
  },
  {
   "cell_type": "code",
   "execution_count": 11,
   "id": "cb43fb77",
   "metadata": {},
   "outputs": [
    {
     "name": "stderr",
     "output_type": "stream",
     "text": [
      "                                                                                \r"
     ]
    },
    {
     "data": {
      "text/plain": [
       "[('The', 1),\n",
       " ('Project', 1),\n",
       " ('Gutenberg', 1),\n",
       " ('EBook', 1),\n",
       " ('of', 1),\n",
       " ('Pride', 1),\n",
       " ('and', 1),\n",
       " ('Prejudice,', 1),\n",
       " ('by', 1),\n",
       " ('Jane', 1),\n",
       " ('Austen', 1),\n",
       " ('', 1),\n",
       " ('This', 1),\n",
       " ('eBook', 1),\n",
       " ('is', 1),\n",
       " ('for', 1),\n",
       " ('the', 1),\n",
       " ('use', 1),\n",
       " ('of', 1),\n",
       " ('anyone', 1),\n",
       " ('anywhere', 1),\n",
       " ('at', 1),\n",
       " ('no', 1),\n",
       " ('cost', 1),\n",
       " ('and', 1),\n",
       " ('with', 1),\n",
       " ('almost', 1),\n",
       " ('no', 1),\n",
       " ('restrictions', 1),\n",
       " ('whatsoever.', 1)]"
      ]
     },
     "execution_count": 11,
     "metadata": {},
     "output_type": "execute_result"
    }
   ],
   "source": [
    "rdd3.take(30)"
   ]
  },
  {
   "cell_type": "code",
   "execution_count": 12,
   "id": "214a5d2e",
   "metadata": {},
   "outputs": [],
   "source": [
    "rdd4 = rdd3.reduceByKey(lambda x, y: x + y)"
   ]
  },
  {
   "cell_type": "code",
   "execution_count": 13,
   "id": "f40c30b4",
   "metadata": {},
   "outputs": [
    {
     "data": {
      "text/plain": [
       "[('The', 271),\n",
       " ('Project', 78),\n",
       " ('EBook', 2),\n",
       " ('of', 3662),\n",
       " ('Pride', 4),\n",
       " ('Prejudice,', 2),\n",
       " ('Jane', 155),\n",
       " ('Austen', 4),\n",
       " ('', 2776),\n",
       " ('is', 806),\n",
       " ('use', 20),\n",
       " ('anyone', 22),\n",
       " ('anywhere', 3),\n",
       " ('at', 751),\n",
       " ('no', 428),\n",
       " ('restrictions', 2),\n",
       " ('whatsoever.', 2),\n",
       " ('may', 191),\n",
       " ('it,', 127),\n",
       " ('give', 115),\n",
       " ('away', 58),\n",
       " ('re-use', 2),\n",
       " ('this', 359),\n",
       " ('online', 4),\n",
       " ('www.gutenberg.org', 2),\n",
       " ('Author:', 1),\n",
       " ('Posting', 1),\n",
       " ('Date:', 2),\n",
       " ('26,', 1),\n",
       " ('June,', 3)]"
      ]
     },
     "execution_count": 13,
     "metadata": {},
     "output_type": "execute_result"
    }
   ],
   "source": [
    "rdd4.take(30)"
   ]
  },
  {
   "cell_type": "code",
   "execution_count": 14,
   "id": "fe3669e4",
   "metadata": {},
   "outputs": [],
   "source": [
    "result_folder = 's3://fcc-spark-example/output/word_count'"
   ]
  },
  {
   "cell_type": "code",
   "execution_count": 15,
   "id": "4747ef24",
   "metadata": {},
   "outputs": [],
   "source": [
    "rdd4.saveAsTextFile(result_folder)"
   ]
  },
  {
   "cell_type": "code",
   "execution_count": 16,
   "id": "ed29f253",
   "metadata": {},
   "outputs": [
    {
     "data": {
      "text/plain": [
       "2"
      ]
     },
     "execution_count": 16,
     "metadata": {},
     "output_type": "execute_result"
    }
   ],
   "source": [
    "rdd4.getNumPartitions()"
   ]
  },
  {
   "cell_type": "code",
   "execution_count": 17,
   "id": "79b3bc76",
   "metadata": {},
   "outputs": [
    {
     "data": {
      "text/plain": [
       "2"
      ]
     },
     "execution_count": 17,
     "metadata": {},
     "output_type": "execute_result"
    }
   ],
   "source": [
    "sc.defaultMinPartitions"
   ]
  }
 ],
 "metadata": {
  "kernelspec": {
   "display_name": "Python 3 (ipykernel)",
   "language": "python",
   "name": "python3"
  },
  "language_info": {
   "codemirror_mode": {
    "name": "ipython",
    "version": 3
   },
   "file_extension": ".py",
   "mimetype": "text/x-python",
   "name": "python",
   "nbconvert_exporter": "python",
   "pygments_lexer": "ipython3",
   "version": "3.7.16"
  }
 },
 "nbformat": 4,
 "nbformat_minor": 5
}
