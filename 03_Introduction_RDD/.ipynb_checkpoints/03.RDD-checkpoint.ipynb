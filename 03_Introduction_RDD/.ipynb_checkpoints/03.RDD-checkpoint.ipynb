{
 "cells": [
  {
   "cell_type": "markdown",
   "id": "3b4b6c7b",
   "metadata": {},
   "source": [
    "# We will learn: \n",
    "\n",
    "- `parallelize()`\n",
    "- chaining/chained transformation \n",
    "- partition \n",
    "- `countByValue()`\n"
   ]
  },
  {
   "cell_type": "markdown",
   "id": "bb87de96",
   "metadata": {},
   "source": [
    "# SparkSession"
   ]
  },
  {
   "cell_type": "code",
   "execution_count": 4,
   "id": "6d7da5be",
   "metadata": {},
   "outputs": [
    {
     "data": {
      "text/html": [
       "\n",
       "            <div>\n",
       "                <p><b>SparkSession - hive</b></p>\n",
       "                \n",
       "        <div>\n",
       "            <p><b>SparkContext</b></p>\n",
       "\n",
       "            <p><a href=\"http://ip-172-31-2-35.us-east-2.compute.internal:4042\">Spark UI</a></p>\n",
       "\n",
       "            <dl>\n",
       "              <dt>Version</dt>\n",
       "                <dd><code>v3.3.0-amzn-1</code></dd>\n",
       "              <dt>Master</dt>\n",
       "                <dd><code>yarn</code></dd>\n",
       "              <dt>AppName</dt>\n",
       "                <dd><code>PySparkShell</code></dd>\n",
       "            </dl>\n",
       "        </div>\n",
       "        \n",
       "            </div>\n",
       "        "
      ],
      "text/plain": [
       "<pyspark.sql.session.SparkSession at 0x7fc19c0e8ad0>"
      ]
     },
     "execution_count": 4,
     "metadata": {},
     "output_type": "execute_result"
    }
   ],
   "source": [
    "spark"
   ]
  },
  {
   "cell_type": "markdown",
   "id": "a560864d",
   "metadata": {},
   "source": [
    "## Load the `dataset`"
   ]
  },
  {
   "cell_type": "code",
   "execution_count": 1,
   "id": "05da1ae8",
   "metadata": {},
   "outputs": [],
   "source": [
    "data_set = 's3://fcc-spark-example/dataset/2023/orders.txt'"
   ]
  },
  {
   "cell_type": "markdown",
   "id": "43ea0932",
   "metadata": {},
   "source": [
    "## Create `SparkContext`"
   ]
  },
  {
   "cell_type": "code",
   "execution_count": 2,
   "id": "d6efde82",
   "metadata": {},
   "outputs": [],
   "source": [
    "sc = spark.sparkContext"
   ]
  },
  {
   "cell_type": "code",
   "execution_count": 3,
   "id": "33744792",
   "metadata": {},
   "outputs": [
    {
     "data": {
      "text/html": [
       "\n",
       "        <div>\n",
       "            <p><b>SparkContext</b></p>\n",
       "\n",
       "            <p><a href=\"http://ip-172-31-2-35.us-east-2.compute.internal:4042\">Spark UI</a></p>\n",
       "\n",
       "            <dl>\n",
       "              <dt>Version</dt>\n",
       "                <dd><code>v3.3.0-amzn-1</code></dd>\n",
       "              <dt>Master</dt>\n",
       "                <dd><code>yarn</code></dd>\n",
       "              <dt>AppName</dt>\n",
       "                <dd><code>PySparkShell</code></dd>\n",
       "            </dl>\n",
       "        </div>\n",
       "        "
      ],
      "text/plain": [
       "<SparkContext master=yarn appName=PySparkShell>"
      ]
     },
     "execution_count": 3,
     "metadata": {},
     "output_type": "execute_result"
    }
   ],
   "source": [
    "sc"
   ]
  },
  {
   "cell_type": "markdown",
   "id": "1e934db3",
   "metadata": {},
   "source": [
    "## Create a `RDD`"
   ]
  },
  {
   "cell_type": "code",
   "execution_count": 11,
   "id": "af966a58",
   "metadata": {},
   "outputs": [],
   "source": [
    "words = ['ram', 'Alex', 'alex', 'hello', 'word', 'US', 'India', 'India']"
   ]
  },
  {
   "cell_type": "code",
   "execution_count": 12,
   "id": "6a683eb4",
   "metadata": {},
   "outputs": [],
   "source": [
    "rdd1 = sc.parallelize(words)"
   ]
  },
  {
   "cell_type": "markdown",
   "id": "7bea08bc",
   "metadata": {},
   "source": [
    "## Word Cound"
   ]
  },
  {
   "cell_type": "code",
   "execution_count": 13,
   "id": "43521abb",
   "metadata": {},
   "outputs": [
    {
     "data": {
      "text/plain": [
       "['ram', 'Alex', 'alex', 'hello', 'word', 'US', 'India', 'India']"
      ]
     },
     "execution_count": 13,
     "metadata": {},
     "output_type": "execute_result"
    }
   ],
   "source": [
    "rdd1.collect()"
   ]
  },
  {
   "cell_type": "code",
   "execution_count": 15,
   "id": "d654a8ed",
   "metadata": {},
   "outputs": [],
   "source": [
    "rdd2 = rdd1.map(lambda x: (x.lower(), 1))"
   ]
  },
  {
   "cell_type": "code",
   "execution_count": 16,
   "id": "c25e7b13",
   "metadata": {},
   "outputs": [
    {
     "data": {
      "text/plain": [
       "[('ram', 1),\n",
       " ('alex', 1),\n",
       " ('alex', 1),\n",
       " ('hello', 1),\n",
       " ('word', 1),\n",
       " ('us', 1),\n",
       " ('india', 1),\n",
       " ('india', 1)]"
      ]
     },
     "execution_count": 16,
     "metadata": {},
     "output_type": "execute_result"
    }
   ],
   "source": [
    "rdd2.collect()"
   ]
  },
  {
   "cell_type": "code",
   "execution_count": 18,
   "id": "8b6c42b5",
   "metadata": {},
   "outputs": [],
   "source": [
    "rdd3 = rdd2.reduceByKey(lambda x, y: x+y)"
   ]
  },
  {
   "cell_type": "code",
   "execution_count": 19,
   "id": "bdc84b8d",
   "metadata": {},
   "outputs": [
    {
     "name": "stderr",
     "output_type": "stream",
     "text": [
      "                                                                                \r"
     ]
    },
    {
     "data": {
      "text/plain": [
       "[('alex', 2), ('us', 1), ('ram', 1), ('hello', 1), ('word', 1), ('india', 2)]"
      ]
     },
     "execution_count": 19,
     "metadata": {},
     "output_type": "execute_result"
    }
   ],
   "source": [
    "rdd3.collect()"
   ]
  },
  {
   "cell_type": "code",
   "execution_count": 22,
   "id": "e2ed7044",
   "metadata": {},
   "outputs": [],
   "source": [
    "rdd4 = rdd3.sortBy(lambda x: x[1], ascending=False)"
   ]
  },
  {
   "cell_type": "code",
   "execution_count": 23,
   "id": "cd13e01a",
   "metadata": {},
   "outputs": [
    {
     "data": {
      "text/plain": [
       "[('alex', 2), ('india', 2), ('us', 1), ('ram', 1), ('hello', 1), ('word', 1)]"
      ]
     },
     "execution_count": 23,
     "metadata": {},
     "output_type": "execute_result"
    }
   ],
   "source": [
    "rdd4.collect()"
   ]
  },
  {
   "cell_type": "markdown",
   "id": "1ef8670d",
   "metadata": {},
   "source": [
    "## Lets `Chain` the whole thing"
   ]
  },
  {
   "cell_type": "code",
   "execution_count": 26,
   "id": "c4d5004f",
   "metadata": {},
   "outputs": [
    {
     "name": "stderr",
     "output_type": "stream",
     "text": [
      "                                                                                \r"
     ]
    }
   ],
   "source": [
    "words = ['ram', 'Alex', 'alex', 'hello', 'word', 'US', 'India', 'India']\n",
    "\n",
    "result_rdd = (sc.parallelize(words)\n",
    "                .map(lambda x: (x.lower(), 1)) \n",
    "                .reduceByKey(lambda x, y: x+y)\n",
    "                .sortBy(lambda x: x[1], ascending=False)\n",
    "             )"
   ]
  },
  {
   "cell_type": "code",
   "execution_count": 27,
   "id": "ae2f3b45",
   "metadata": {},
   "outputs": [
    {
     "data": {
      "text/plain": [
       "[('alex', 2), ('india', 2), ('us', 1), ('ram', 1), ('hello', 1), ('word', 1)]"
      ]
     },
     "execution_count": 27,
     "metadata": {},
     "output_type": "execute_result"
    }
   ],
   "source": [
    "result_rdd.collect()"
   ]
  },
  {
   "cell_type": "markdown",
   "id": "ac735878",
   "metadata": {},
   "source": [
    "## Partition "
   ]
  },
  {
   "cell_type": "raw",
   "id": "265f2088",
   "metadata": {},
   "source": [
    "'''\n",
    "We know if lets say a file size is 2GB then the \n",
    "number of partition would be 16, considering 128MB block size for HDFS\n",
    "128*16 = 2048 MB = 2GB \n",
    "'''"
   ]
  },
  {
   "cell_type": "markdown",
   "id": "95b8ceed",
   "metadata": {},
   "source": [
    "### a) Create an RDD using `parallelize`"
   ]
  },
  {
   "cell_type": "code",
   "execution_count": 28,
   "id": "0d7fc19a",
   "metadata": {},
   "outputs": [],
   "source": [
    "words = ['ram', 'Alex', 'alex', 'hello', 'word', 'US', 'India', 'India']\n",
    "\n",
    "rdd1= sc.parallelize(words)"
   ]
  },
  {
   "cell_type": "code",
   "execution_count": 32,
   "id": "4422d729",
   "metadata": {},
   "outputs": [
    {
     "data": {
      "text/plain": [
       "2"
      ]
     },
     "execution_count": 32,
     "metadata": {},
     "output_type": "execute_result"
    }
   ],
   "source": [
    "rdd1.getNumPartitions() # Why the partition is 2 ? it shoudl be 1, right ? "
   ]
  },
  {
   "cell_type": "markdown",
   "id": "87e3ab58",
   "metadata": {},
   "source": [
    "#### `defaultParallelism()`"
   ]
  },
  {
   "cell_type": "markdown",
   "id": "37386cf6",
   "metadata": {},
   "source": [
    "`defaultParallelism` is used to set the number of partitions for RDDs and DataFrames when they are created through parallel operations such as `parallelize()` or `map()`. \n",
    "\n",
    "This property is used to determine the level of parallelism when executing distributed computations on RDDs or DataFrames.\n"
   ]
  },
  {
   "cell_type": "code",
   "execution_count": 36,
   "id": "c352af67",
   "metadata": {},
   "outputs": [
    {
     "data": {
      "text/plain": [
       "2"
      ]
     },
     "execution_count": 36,
     "metadata": {},
     "output_type": "execute_result"
    }
   ],
   "source": [
    "sc.defaultParallelism  "
   ]
  },
  {
   "cell_type": "markdown",
   "id": "20e92a4f",
   "metadata": {},
   "source": [
    "### b) Create an RDD by `reading a file from S3`"
   ]
  },
  {
   "cell_type": "code",
   "execution_count": 37,
   "id": "671b2b1f",
   "metadata": {},
   "outputs": [],
   "source": [
    "rdd = sc.textFile(data_set)"
   ]
  },
  {
   "cell_type": "code",
   "execution_count": 38,
   "id": "78712ba2",
   "metadata": {},
   "outputs": [
    {
     "data": {
      "text/plain": [
       "2"
      ]
     },
     "execution_count": 38,
     "metadata": {},
     "output_type": "execute_result"
    }
   ],
   "source": [
    "rdd.getNumPartitions()"
   ]
  },
  {
   "cell_type": "markdown",
   "id": "f56e5702",
   "metadata": {},
   "source": [
    "#### `defaultMinPartitions()`"
   ]
  },
  {
   "cell_type": "markdown",
   "id": "a408e924",
   "metadata": {},
   "source": [
    "`defaultMinPartitions` is used to set the minimum number of partitions for `RDDs (Resilient Distributed Datasets)` and `DataFrames` when they are created by reading data from external storage systems such as `HDFS (Hadoop Distributed File System)`, `S3 (Amazon Simple Storage Service)`, or `local` file system. This property is used to ensure that the data is evenly distributed among the partitions. If the input data size is smaller than the defaultMinPartitions, then Spark creates only as many partitions as there are input files."
   ]
  },
  {
   "cell_type": "code",
   "execution_count": 35,
   "id": "cc7b38d5",
   "metadata": {},
   "outputs": [
    {
     "data": {
      "text/plain": [
       "2"
      ]
     },
     "execution_count": 35,
     "metadata": {},
     "output_type": "execute_result"
    }
   ],
   "source": [
    "sc.defaultMinPartitions"
   ]
  },
  {
   "cell_type": "markdown",
   "id": "89cfebf9",
   "metadata": {},
   "source": [
    "### `countByValue()`"
   ]
  },
  {
   "cell_type": "markdown",
   "id": "91bee0ae",
   "metadata": {},
   "source": [
    "#### Previouse we did this to `count` no. of orders based on the `status`: "
   ]
  },
  {
   "cell_type": "code",
   "execution_count": 43,
   "id": "7ff102e6",
   "metadata": {},
   "outputs": [
    {
     "name": "stderr",
     "output_type": "stream",
     "text": [
      "                                                                                \r"
     ]
    }
   ],
   "source": [
    "data_set = 's3://fcc-spark-example/dataset/2023/orders.txt'\n",
    "result = (sc\n",
    "           .textFile(data_set)\n",
    "           .map(lambda line: (line.split(',')[-1], 1)) \n",
    "           .reduceByKey(lambda x, y: x+y)\n",
    "           .sortBy(lambda x: x[-1], ascending=False)\n",
    "         )"
   ]
  },
  {
   "cell_type": "code",
   "execution_count": 44,
   "id": "9dd205e7",
   "metadata": {},
   "outputs": [
    {
     "data": {
      "text/plain": [
       "[('COMPLETE', 22899),\n",
       " ('PENDING_PAYMENT', 15030),\n",
       " ('PROCESSING', 8274),\n",
       " ('PENDING', 7609),\n",
       " ('CLOSED', 7556),\n",
       " ('ON_HOLD', 3798),\n",
       " ('SUSPECTED_FRAUD', 1558),\n",
       " ('CANCELED', 1428),\n",
       " ('PAYMENT_REVIEW', 729)]"
      ]
     },
     "execution_count": 44,
     "metadata": {},
     "output_type": "execute_result"
    }
   ],
   "source": [
    "result.collect()"
   ]
  },
  {
   "cell_type": "markdown",
   "id": "2ca74d23",
   "metadata": {},
   "source": [
    "#### Let's another way using `countByValue()`"
   ]
  },
  {
   "cell_type": "code",
   "execution_count": 49,
   "id": "10b4722e",
   "metadata": {},
   "outputs": [],
   "source": [
    "data_set = 's3://fcc-spark-example/dataset/2023/orders.txt'\n",
    "result = (sc\n",
    "           .textFile(data_set)\n",
    "           .map(lambda line: (line.split(',')[-1])) \n",
    "           .countByValue()  # It returns a local dict (its an action)\n",
    "         )"
   ]
  },
  {
   "cell_type": "code",
   "execution_count": 50,
   "id": "a18a131e",
   "metadata": {},
   "outputs": [
    {
     "data": {
      "text/plain": [
       "defaultdict(int,\n",
       "            {'CLOSED': 7556,\n",
       "             'PENDING_PAYMENT': 15030,\n",
       "             'COMPLETE': 22899,\n",
       "             'PROCESSING': 8274,\n",
       "             'PAYMENT_REVIEW': 729,\n",
       "             'PENDING': 7609,\n",
       "             'ON_HOLD': 3798,\n",
       "             'CANCELED': 1428,\n",
       "             'SUSPECTED_FRAUD': 1558})"
      ]
     },
     "execution_count": 50,
     "metadata": {},
     "output_type": "execute_result"
    }
   ],
   "source": [
    "result"
   ]
  },
  {
   "cell_type": "markdown",
   "id": "50c9035e",
   "metadata": {},
   "source": [
    "`countByValue()` is a method in Apache Spark that is used to count the frequency of each unique element in an `RDD (Resilient Distributed Dataset)`. It returns a Map object, where each unique element in the RDD is a key, and its corresponding value is the number of times it occurs in the RDD."
   ]
  },
  {
   "cell_type": "markdown",
   "id": "f6293e28",
   "metadata": {},
   "source": [
    "# Summary \n",
    "\n",
    "<!-- - `map()` \n",
    "\n",
    "    - 100 ROWs =======> 1000 ROWs\n",
    "    \n",
    "    \n",
    "- `reduceByKey()`\n",
    "\n",
    "    - 100 ROWs =======> 10 ROWs (if there are 10 distinct Keys)\n",
    "    \n",
    "    \n",
    "- `reduce()`\n",
    "\n",
    "    - 100 ROWs =======> 1 ROW \n",
    "    \n",
    "- `filter()` \n",
    "\n",
    "    - 100 ROWs =======> 0 <= No. of ROWs <= 100 (Depending on the filer ) -->\n",
    "    \n"
   ]
  },
  {
   "cell_type": "markdown",
   "id": "f40c71fd",
   "metadata": {},
   "source": [
    "We leant: \n",
    "- `parallelize()`\n",
    "- chaining/chained transformation \n",
    "- partition \n",
    "- `countByValue()` vs `reduceByKey()`"
   ]
  },
  {
   "cell_type": "code",
   "execution_count": null,
   "id": "af823ac2",
   "metadata": {},
   "outputs": [],
   "source": []
  }
 ],
 "metadata": {
  "kernelspec": {
   "display_name": "Python 3 (ipykernel)",
   "language": "python",
   "name": "python3"
  },
  "language_info": {
   "codemirror_mode": {
    "name": "ipython",
    "version": 3
   },
   "file_extension": ".py",
   "mimetype": "text/x-python",
   "name": "python",
   "nbconvert_exporter": "python",
   "pygments_lexer": "ipython3",
   "version": "3.7.16"
  }
 },
 "nbformat": 4,
 "nbformat_minor": 5
}
