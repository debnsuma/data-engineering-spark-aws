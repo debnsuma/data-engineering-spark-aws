{
 "cells": [
  {
   "cell_type": "markdown",
   "id": "3b4b6c7b",
   "metadata": {},
   "source": [
    "# We will learn: \n",
    "\n",
    "- Types of Transformation: \n",
    "    1) Narrow Transformation \n",
    "        - `map()`\n",
    "        - `flatmap()`\n",
    "        - `filter()`\n",
    "    2) Wide Transformation \n",
    "        - `reduceByKey()`\n",
    "        - `groupByKey()`\n",
    "        \n",
    "- We should always :\n",
    "    - try to minimise `wide` transformation \n",
    "    - use `wide` transformation as late as possible \n",
    "    \n",
    "- Spark History Server and what are :\n",
    "    - Jobs\n",
    "    - Stages \n",
    "    - Tasks "
   ]
  },
  {
   "cell_type": "markdown",
   "id": "bb87de96",
   "metadata": {},
   "source": [
    "# SparkSession"
   ]
  },
  {
   "cell_type": "code",
   "execution_count": 1,
   "id": "6d7da5be",
   "metadata": {},
   "outputs": [
    {
     "data": {
      "text/html": [
       "\n",
       "            <div>\n",
       "                <p><b>SparkSession - hive</b></p>\n",
       "                \n",
       "        <div>\n",
       "            <p><b>SparkContext</b></p>\n",
       "\n",
       "            <p><a href=\"http://ip-172-31-2-35.us-east-2.compute.internal:4040\">Spark UI</a></p>\n",
       "\n",
       "            <dl>\n",
       "              <dt>Version</dt>\n",
       "                <dd><code>v3.3.0-amzn-1</code></dd>\n",
       "              <dt>Master</dt>\n",
       "                <dd><code>yarn</code></dd>\n",
       "              <dt>AppName</dt>\n",
       "                <dd><code>PySparkShell</code></dd>\n",
       "            </dl>\n",
       "        </div>\n",
       "        \n",
       "            </div>\n",
       "        "
      ],
      "text/plain": [
       "<pyspark.sql.session.SparkSession at 0x7f0f69d83b10>"
      ]
     },
     "execution_count": 1,
     "metadata": {},
     "output_type": "execute_result"
    }
   ],
   "source": [
    "spark"
   ]
  },
  {
   "cell_type": "markdown",
   "id": "43ea0932",
   "metadata": {},
   "source": [
    "## Create `SparkContext`"
   ]
  },
  {
   "cell_type": "code",
   "execution_count": 2,
   "id": "d6efde82",
   "metadata": {},
   "outputs": [],
   "source": [
    "sc = spark.sparkContext"
   ]
  },
  {
   "cell_type": "code",
   "execution_count": 3,
   "id": "33744792",
   "metadata": {},
   "outputs": [
    {
     "data": {
      "text/html": [
       "\n",
       "        <div>\n",
       "            <p><b>SparkContext</b></p>\n",
       "\n",
       "            <p><a href=\"http://ip-172-31-2-35.us-east-2.compute.internal:4040\">Spark UI</a></p>\n",
       "\n",
       "            <dl>\n",
       "              <dt>Version</dt>\n",
       "                <dd><code>v3.3.0-amzn-1</code></dd>\n",
       "              <dt>Master</dt>\n",
       "                <dd><code>yarn</code></dd>\n",
       "              <dt>AppName</dt>\n",
       "                <dd><code>PySparkShell</code></dd>\n",
       "            </dl>\n",
       "        </div>\n",
       "        "
      ],
      "text/plain": [
       "<SparkContext master=yarn appName=PySparkShell>"
      ]
     },
     "execution_count": 3,
     "metadata": {},
     "output_type": "execute_result"
    }
   ],
   "source": [
    "sc"
   ]
  },
  {
   "cell_type": "markdown",
   "id": "1e934db3",
   "metadata": {},
   "source": [
    "## Create a `RDD`"
   ]
  },
  {
   "cell_type": "code",
   "execution_count": 4,
   "id": "af966a58",
   "metadata": {},
   "outputs": [],
   "source": [
    "data_set = 's3://fcc-spark-example/dataset/2023/orders.txt'"
   ]
  },
  {
   "cell_type": "code",
   "execution_count": 5,
   "id": "98fd05d7",
   "metadata": {},
   "outputs": [],
   "source": [
    "# Transformations \n",
    "\n",
    "rdd1 = sc.textFile(data_set)\n",
    "rdd2 = rdd1.map(lambda line: (line.split(',')[-1], 1)) \n",
    "rdd3 = rdd2.reduceByKey(lambda x, y: x+y)"
   ]
  },
  {
   "cell_type": "code",
   "execution_count": 6,
   "id": "3f753382",
   "metadata": {},
   "outputs": [
    {
     "name": "stderr",
     "output_type": "stream",
     "text": [
      "                                                                                \r"
     ]
    }
   ],
   "source": [
    "# Action \n",
    "\n",
    "result = rdd3.collect()"
   ]
  },
  {
   "cell_type": "markdown",
   "id": "63b6594a",
   "metadata": {},
   "source": [
    "#### Notes \n",
    "\n",
    "- Job = No. of `actions` \n",
    "- Stages = No. of `wide` transformations + 1 \n",
    "- Tasks = No. of `partitions` \n"
   ]
  },
  {
   "cell_type": "markdown",
   "id": "f6293e28",
   "metadata": {},
   "source": [
    "# Summary \n",
    "\n",
    "<!-- - `map()` \n",
    "\n",
    "    - 100 ROWs =======> 1000 ROWs\n",
    "    \n",
    "    \n",
    "- `reduceByKey()`\n",
    "\n",
    "    - 100 ROWs =======> 10 ROWs (if there are 10 distinct Keys)\n",
    "    \n",
    "    \n",
    "- `reduce()`\n",
    "\n",
    "    - 100 ROWs =======> 1 ROW \n",
    "    \n",
    "- `filter()` \n",
    "\n",
    "    - 100 ROWs =======> 0 <= No. of ROWs <= 100 (Depending on the filer ) -->\n",
    "    \n"
   ]
  },
  {
   "cell_type": "markdown",
   "id": "cac1a27b",
   "metadata": {},
   "source": [
    "We learnt:\n",
    "- Types of Transformation: \n",
    "    1) Narrow Transformation \n",
    "        - `map()`\n",
    "        - `flatmap()`\n",
    "        - `filter()`\n",
    "    2) Wide Transformation \n",
    "        - `reduceByKey()`\n",
    "        - `groupByKey()`\n",
    "        \n",
    "- We should always :\n",
    "    - try to minimise `wide` transformation \n",
    "    - use `wide` transformation as late as possible \n",
    "    \n",
    "- Spark History Server and what are :\n",
    "    - Jobs\n",
    "    - Stages \n",
    "    - Tasks "
   ]
  },
  {
   "cell_type": "code",
   "execution_count": null,
   "id": "97e0f327",
   "metadata": {},
   "outputs": [],
   "source": []
  }
 ],
 "metadata": {
  "kernelspec": {
   "display_name": "Python 3 (ipykernel)",
   "language": "python",
   "name": "python3"
  },
  "language_info": {
   "codemirror_mode": {
    "name": "ipython",
    "version": 3
   },
   "file_extension": ".py",
   "mimetype": "text/x-python",
   "name": "python",
   "nbconvert_exporter": "python",
   "pygments_lexer": "ipython3",
   "version": "3.7.16"
  }
 },
 "nbformat": 4,
 "nbformat_minor": 5
}
