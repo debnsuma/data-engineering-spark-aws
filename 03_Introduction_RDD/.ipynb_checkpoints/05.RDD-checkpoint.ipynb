{
 "cells": [
  {
   "cell_type": "markdown",
   "id": "3b4b6c7b",
   "metadata": {},
   "source": [
    "# We will learn: \n",
    "\n",
    "- Difference between: \n",
    "    1) `reduceByKey()` and `reduce()`\n",
    "    2) `reduceByKey()` and `groupBykey()`\n"
   ]
  },
  {
   "cell_type": "markdown",
   "id": "bb87de96",
   "metadata": {},
   "source": [
    "# SparkSession"
   ]
  },
  {
   "cell_type": "code",
   "execution_count": 1,
   "id": "6d7da5be",
   "metadata": {},
   "outputs": [
    {
     "data": {
      "text/html": [
       "\n",
       "            <div>\n",
       "                <p><b>SparkSession - hive</b></p>\n",
       "                \n",
       "        <div>\n",
       "            <p><b>SparkContext</b></p>\n",
       "\n",
       "            <p><a href=\"http://ip-172-31-2-35.us-east-2.compute.internal:4042\">Spark UI</a></p>\n",
       "\n",
       "            <dl>\n",
       "              <dt>Version</dt>\n",
       "                <dd><code>v3.3.0-amzn-1</code></dd>\n",
       "              <dt>Master</dt>\n",
       "                <dd><code>yarn</code></dd>\n",
       "              <dt>AppName</dt>\n",
       "                <dd><code>PySparkShell</code></dd>\n",
       "            </dl>\n",
       "        </div>\n",
       "        \n",
       "            </div>\n",
       "        "
      ],
      "text/plain": [
       "<pyspark.sql.session.SparkSession at 0x7fad180b3b50>"
      ]
     },
     "execution_count": 1,
     "metadata": {},
     "output_type": "execute_result"
    }
   ],
   "source": [
    "spark"
   ]
  },
  {
   "cell_type": "markdown",
   "id": "43ea0932",
   "metadata": {},
   "source": [
    "## Create `SparkContext`"
   ]
  },
  {
   "cell_type": "code",
   "execution_count": 3,
   "id": "d6efde82",
   "metadata": {},
   "outputs": [
    {
     "data": {
      "text/html": [
       "\n",
       "        <div>\n",
       "            <p><b>SparkContext</b></p>\n",
       "\n",
       "            <p><a href=\"http://ip-172-31-2-35.us-east-2.compute.internal:4042\">Spark UI</a></p>\n",
       "\n",
       "            <dl>\n",
       "              <dt>Version</dt>\n",
       "                <dd><code>v3.3.0-amzn-1</code></dd>\n",
       "              <dt>Master</dt>\n",
       "                <dd><code>yarn</code></dd>\n",
       "              <dt>AppName</dt>\n",
       "                <dd><code>PySparkShell</code></dd>\n",
       "            </dl>\n",
       "        </div>\n",
       "        "
      ],
      "text/plain": [
       "<SparkContext master=yarn appName=PySparkShell>"
      ]
     },
     "execution_count": 3,
     "metadata": {},
     "output_type": "execute_result"
    }
   ],
   "source": [
    "sc = spark.sparkContext\n",
    "sc"
   ]
  },
  {
   "cell_type": "markdown",
   "id": "fa33a181",
   "metadata": {},
   "source": [
    "# `reduceByKey()`"
   ]
  },
  {
   "cell_type": "markdown",
   "id": "dc4672d3",
   "metadata": {},
   "source": [
    "- Works on PAIR RDD \n",
    "    - ('hello', 1)\n",
    "    - ('world', 1)\n",
    "- Its a transformation \n",
    "- local aggregation takes place in all worker node (like combiner in MR)\n",
    "    - As a result of this, shuffling would be less, as majority of the aggregation would be executed in every worker machine"
   ]
  },
  {
   "cell_type": "code",
   "execution_count": 13,
   "id": "7187a506",
   "metadata": {},
   "outputs": [],
   "source": [
    "data_set = 's3://fcc-spark-example/dataset/2023/orders.txt'"
   ]
  },
  {
   "cell_type": "code",
   "execution_count": 23,
   "id": "a674fdb8",
   "metadata": {},
   "outputs": [],
   "source": [
    "# Transformations \n",
    "\n",
    "rdd1 = sc.textFile(data_set)\n",
    "rdd2 = rdd1.map(lambda line: (line.split(',')[-1], 1)) \n"
   ]
  },
  {
   "cell_type": "code",
   "execution_count": 20,
   "id": "be50aa77",
   "metadata": {},
   "outputs": [
    {
     "name": "stderr",
     "output_type": "stream",
     "text": [
      "                                                                                \r"
     ]
    },
    {
     "data": {
      "text/plain": [
       "[('CLOSED', 1),\n",
       " ('PENDING_PAYMENT', 1),\n",
       " ('COMPLETE', 1),\n",
       " ('CLOSED', 1),\n",
       " ('COMPLETE', 1)]"
      ]
     },
     "execution_count": 20,
     "metadata": {},
     "output_type": "execute_result"
    }
   ],
   "source": [
    "rdd2.take(5)"
   ]
  },
  {
   "cell_type": "code",
   "execution_count": 24,
   "id": "cac8fa6d",
   "metadata": {},
   "outputs": [],
   "source": [
    "rdd3 = rdd2.reduceByKey(lambda x, y: x+y)"
   ]
  },
  {
   "cell_type": "code",
   "execution_count": 25,
   "id": "cf49a6a2",
   "metadata": {},
   "outputs": [
    {
     "name": "stderr",
     "output_type": "stream",
     "text": [
      "                                                                                \r"
     ]
    },
    {
     "data": {
      "text/plain": [
       "[('CLOSED', 7556),\n",
       " ('CANCELED', 1428),\n",
       " ('PENDING_PAYMENT', 15030),\n",
       " ('COMPLETE', 22899),\n",
       " ('PROCESSING', 8274),\n",
       " ('PAYMENT_REVIEW', 729),\n",
       " ('PENDING', 7609),\n",
       " ('ON_HOLD', 3798),\n",
       " ('SUSPECTED_FRAUD', 1558)]"
      ]
     },
     "execution_count": 25,
     "metadata": {},
     "output_type": "execute_result"
    }
   ],
   "source": [
    "rdd3.collect()"
   ]
  },
  {
   "cell_type": "markdown",
   "id": "cc60514e",
   "metadata": {},
   "source": [
    "# `reduce()`"
   ]
  },
  {
   "cell_type": "markdown",
   "id": "4d0fa406",
   "metadata": {},
   "source": [
    "- Its an action \n",
    "- Works on normal RDD\n",
    "- Finally we get only single thing as an answer in the driver machine (thats why its an action)"
   ]
  },
  {
   "cell_type": "code",
   "execution_count": 6,
   "id": "77d72747",
   "metadata": {},
   "outputs": [
    {
     "data": {
      "text/plain": [
       "[0, 1, 2, 3, 4, 5, 6, 7, 8, 9]"
      ]
     },
     "execution_count": 6,
     "metadata": {},
     "output_type": "execute_result"
    }
   ],
   "source": [
    "some_data = list(range(10))\n",
    "some_data"
   ]
  },
  {
   "cell_type": "code",
   "execution_count": 7,
   "id": "1a559a13",
   "metadata": {},
   "outputs": [
    {
     "name": "stderr",
     "output_type": "stream",
     "text": [
      "                                                                                \r"
     ]
    },
    {
     "data": {
      "text/plain": [
       "[0, 1, 2, 3, 4, 5, 6, 7, 8, 9]"
      ]
     },
     "execution_count": 7,
     "metadata": {},
     "output_type": "execute_result"
    }
   ],
   "source": [
    "rdd1 = sc.parallelize(some_data)\n",
    "rdd1.collect()"
   ]
  },
  {
   "cell_type": "code",
   "execution_count": 8,
   "id": "2ea76f0a",
   "metadata": {},
   "outputs": [
    {
     "data": {
      "text/plain": [
       "45"
      ]
     },
     "execution_count": 8,
     "metadata": {},
     "output_type": "execute_result"
    }
   ],
   "source": [
    "rdd1.reduce(lambda x, y: x + y)"
   ]
  },
  {
   "cell_type": "code",
   "execution_count": 11,
   "id": "b2504d6d",
   "metadata": {},
   "outputs": [
    {
     "data": {
      "text/plain": [
       "9"
      ]
     },
     "execution_count": 11,
     "metadata": {},
     "output_type": "execute_result"
    }
   ],
   "source": [
    "rdd1.reduce(lambda x, y: max(x,y))"
   ]
  },
  {
   "cell_type": "code",
   "execution_count": 12,
   "id": "ff7ae2c3",
   "metadata": {},
   "outputs": [
    {
     "data": {
      "text/plain": [
       "0"
      ]
     },
     "execution_count": 12,
     "metadata": {},
     "output_type": "execute_result"
    }
   ],
   "source": [
    "rdd1.reduce(lambda x, y: min(x,y))"
   ]
  },
  {
   "cell_type": "markdown",
   "id": "e828757c",
   "metadata": {},
   "source": [
    "# `reduceByKey()` vs `groupByKey()`"
   ]
  },
  {
   "cell_type": "markdown",
   "id": "b379f11a",
   "metadata": {},
   "source": [
    "### Lets take a large dataset \n",
    "- `aws s3 ls s3://amazon-reviews-pds/tsv/` \n",
    "- Reference : [here](https://s3.amazonaws.com/amazon-reviews-pds/readme.html)"
   ]
  },
  {
   "cell_type": "code",
   "execution_count": 29,
   "id": "8bef697b",
   "metadata": {},
   "outputs": [],
   "source": [
    "dataset = 's3://amazon-reviews-pds/tsv/*'"
   ]
  },
  {
   "cell_type": "code",
   "execution_count": 30,
   "id": "8e32de95",
   "metadata": {},
   "outputs": [],
   "source": [
    "rdd1 = sc.textFile(dataset)"
   ]
  },
  {
   "cell_type": "code",
   "execution_count": 31,
   "id": "ef41a13d",
   "metadata": {},
   "outputs": [
    {
     "name": "stderr",
     "output_type": "stream",
     "text": [
      "                                                                                \r"
     ]
    },
    {
     "data": {
      "text/plain": [
       "['marketplace\\tcustomer_id\\treview_id\\tproduct_id\\tproduct_parent\\tproduct_title\\tproduct_category\\tstar_rating\\thelpful_votes\\ttotal_votes\\tvine\\tverified_purchase\\treview_headline\\treview_body\\treview_date',\n",
       " 'DE\\t10133\\tRVOG49N0H1FB6\\tB004TACMZ8\\t569741360\\tBosch GMS120\\xa0Ortungsgerät digital multi-Scanner\\tHome Improvement\\t5\\t0\\t0\\tN\\tY\\tSuper\\tDelivery took a little bit more then i expected(2 days more) but package was in good condition and the device i fully functional.\\t2014-08-01',\n",
       " \"DE\\t19612\\tRNCMD6OLTP4HM\\t1846071224\\t785505948\\tThe Wheels On The Bus: Favourite Nursery Rhymes (BBC Audio Children's)\\tBooks\\t5\\t1\\t1\\tN\\tY\\tGreat compilation\\tWe enjoy listening to the song as preparation for our baby. Some of the songs were quite new even for us. We hope our baby will enjoy the songs too as much as we do.\\t2014-12-04\",\n",
       " \"DE\\t19612\\tR4AUOBI8YC0R8\\t0375851569\\t516548029\\tDr. Seuss's  Beginner Book Collection\\tBooks\\t5\\t0\\t0\\tN\\tY\\tGreat Collection\\tVery great compilation. Interesting story and rhymes even for adults. The tongue twister is amazing. This complete my collection of Dr. Seuss's.\\t2014-12-04\",\n",
       " 'DE\\t19677\\tR1VSHIJ1RHIBTE\\tB0060SVG54\\t302116447\\tZwei an einem Tag\\tVideo DVD\\t5\\t0\\t0\\tN\\tY\\tGuter Verfilmung\\tDen Film habe ich bereits vor lesen des Buches gesehen und war begeistert. Die Geschichte kann jeder nachvollziehen und mitfühlen.<br />Wer hatte nicht einmal diesen eine &#34;besten&#34; Freund?!<br />Man kann ihn allein genießen, genauso gut aber auch mit dem Partner oder zu einem schönen Mädelsabend, er passt einfach immer und bei fast jeder Altersgruppe.\\t2015-07-16']"
      ]
     },
     "execution_count": 31,
     "metadata": {},
     "output_type": "execute_result"
    }
   ],
   "source": [
    "rdd1.take(5)"
   ]
  },
  {
   "cell_type": "code",
   "execution_count": 32,
   "id": "c7e8d912",
   "metadata": {},
   "outputs": [
    {
     "name": "stderr",
     "output_type": "stream",
     "text": [
      "                                                                                \r"
     ]
    }
   ],
   "source": [
    "header = rdd1.first()"
   ]
  },
  {
   "cell_type": "code",
   "execution_count": 33,
   "id": "2f69d62b",
   "metadata": {},
   "outputs": [],
   "source": [
    "rdd2 = rdd1.filter(lambda x: x != header)"
   ]
  },
  {
   "cell_type": "code",
   "execution_count": 34,
   "id": "961154bb",
   "metadata": {},
   "outputs": [
    {
     "name": "stderr",
     "output_type": "stream",
     "text": [
      "                                                                                \r"
     ]
    },
    {
     "data": {
      "text/plain": [
       "['DE\\t10133\\tRVOG49N0H1FB6\\tB004TACMZ8\\t569741360\\tBosch GMS120\\xa0Ortungsgerät digital multi-Scanner\\tHome Improvement\\t5\\t0\\t0\\tN\\tY\\tSuper\\tDelivery took a little bit more then i expected(2 days more) but package was in good condition and the device i fully functional.\\t2014-08-01',\n",
       " \"DE\\t19612\\tRNCMD6OLTP4HM\\t1846071224\\t785505948\\tThe Wheels On The Bus: Favourite Nursery Rhymes (BBC Audio Children's)\\tBooks\\t5\\t1\\t1\\tN\\tY\\tGreat compilation\\tWe enjoy listening to the song as preparation for our baby. Some of the songs were quite new even for us. We hope our baby will enjoy the songs too as much as we do.\\t2014-12-04\",\n",
       " \"DE\\t19612\\tR4AUOBI8YC0R8\\t0375851569\\t516548029\\tDr. Seuss's  Beginner Book Collection\\tBooks\\t5\\t0\\t0\\tN\\tY\\tGreat Collection\\tVery great compilation. Interesting story and rhymes even for adults. The tongue twister is amazing. This complete my collection of Dr. Seuss's.\\t2014-12-04\",\n",
       " 'DE\\t19677\\tR1VSHIJ1RHIBTE\\tB0060SVG54\\t302116447\\tZwei an einem Tag\\tVideo DVD\\t5\\t0\\t0\\tN\\tY\\tGuter Verfilmung\\tDen Film habe ich bereits vor lesen des Buches gesehen und war begeistert. Die Geschichte kann jeder nachvollziehen und mitfühlen.<br />Wer hatte nicht einmal diesen eine &#34;besten&#34; Freund?!<br />Man kann ihn allein genießen, genauso gut aber auch mit dem Partner oder zu einem schönen Mädelsabend, er passt einfach immer und bei fast jeder Altersgruppe.\\t2015-07-16',\n",
       " 'DE\\t19999\\tR3JBLVALWSLCZD\\tB00EYQ6CVC\\t368843515\\tDr. House - Die komplette Serie, Season 1-8 (Limited Edition, 46 Discs)\\tVideo DVD\\t5\\t9\\t14\\tN\\tY\\tKauft diese Box!\\tDie Box ist super verarbeitet, sieht gut aus bla bla, da sind Bilder. Ich persönlich mag es lieber wenn ein Schuber die DVDs zusammenhält, weil das im Regal besser aussieht, aber das wusste ich ja schon vor dem Bestellen, dass dies eine Box ist. Deshalb gibt das keine Abzüge. Es wäre ja echt blöd etwas nach dem Bestellen zu kritisieren, was schon von vornherein angegeben war. Stelle man sich doch mal vor, jemand würde sich beispielsweise über das 4:3 Format innerhalb der ersten Staffel beschweren. Bulls***. Das FSK Logo auf der Box ist nicht auf der Box selbst sondern auf einem leicht abzukriegenden Stück Papier. Ich bezweifle dass es jemand schaffen wird bei der Art der Befestigung die Box damit zu beschädigen. Top. Die DVD Hüllen haben zwar USK Logos auf dem Cover, allerdings sind es 2seitige Cover und auf der anderen Seite ist das Logo nicht abgedruckt. Wieder: Top. Auf der Hinterseite des Covers befindet sich eine kleine Beschreibung der Staffel, das übliche halt. Beim Wendecover steht dort eine Liste der Episoden dieser Staffel und auf welcher DVD sie zu finden sind. Eigentlich auch top, allerdings stört es mich als Einheitsfanatiker doch sehr, dass das bei jeder Staffel, abgesehen von der letzten so ist. Ich habe die Hoffnung dass sich da jemand dachte, die Namen der Folgen (Insbesondere der der letzten) sollen in Staffel 8 nur schwer zu finden sein, damit sich kein Kenner von Sherlock Holmes eventuell spoilert, aber ich vermute dass es sich einfach um einen Fehler oder Faulheit handelt. Das reicht aber nicht für einen ganzen Stern abzug, es ist auch nicht weiter schlimm, wenn man halt nicht so auf Einheit versessen ist wie ich.  Die kleine Arzttasche ist eine nette Dreingabe, aber ist halt wie zu erwarten nicht die coolste Sache der Welt. Eine Vicodindose (ohne Iinhalt) wäre da schon cooler gewesen, aber auch das war angegeben und fällt somit nicht in die Bewertung und dient lediglich dazu meiner Eigenenmeinung Ausdruck zu verleihen.  Als Fazitkann ich die Box jedem empfehlen, der die Serie mag, sie ist hochwertig und die Serie ist komplett so enthalten wie man es sich vorstellt.\\t2014-02-08']"
      ]
     },
     "execution_count": 34,
     "metadata": {},
     "output_type": "execute_result"
    }
   ],
   "source": [
    "rdd2.take(5)"
   ]
  },
  {
   "cell_type": "code",
   "execution_count": null,
   "id": "cbe36e39",
   "metadata": {},
   "outputs": [
    {
     "name": "stderr",
     "output_type": "stream",
     "text": [
      "\r",
      "[Stage 21:>                                                         (0 + 0) / 1]\r"
     ]
    }
   ],
   "source": [
    "rdd2 = rdd1.map(lambda x: x.split('\\t'))\n",
    "rdd2.take(5)"
   ]
  },
  {
   "cell_type": "code",
   "execution_count": null,
   "id": "5163d026",
   "metadata": {},
   "outputs": [],
   "source": []
  },
  {
   "cell_type": "code",
   "execution_count": null,
   "id": "8b4cd283",
   "metadata": {},
   "outputs": [],
   "source": []
  },
  {
   "cell_type": "code",
   "execution_count": null,
   "id": "fb3985f4",
   "metadata": {},
   "outputs": [],
   "source": []
  },
  {
   "cell_type": "code",
   "execution_count": null,
   "id": "53f6f62f",
   "metadata": {},
   "outputs": [],
   "source": []
  },
  {
   "cell_type": "code",
   "execution_count": null,
   "id": "71d65d67",
   "metadata": {},
   "outputs": [],
   "source": []
  },
  {
   "cell_type": "code",
   "execution_count": null,
   "id": "c727b861",
   "metadata": {},
   "outputs": [],
   "source": []
  },
  {
   "cell_type": "code",
   "execution_count": null,
   "id": "4309c5f8",
   "metadata": {},
   "outputs": [],
   "source": []
  },
  {
   "cell_type": "code",
   "execution_count": null,
   "id": "70906279",
   "metadata": {},
   "outputs": [],
   "source": []
  },
  {
   "cell_type": "code",
   "execution_count": null,
   "id": "964c3c46",
   "metadata": {},
   "outputs": [],
   "source": []
  },
  {
   "cell_type": "code",
   "execution_count": null,
   "id": "4f5540f3",
   "metadata": {},
   "outputs": [],
   "source": []
  },
  {
   "cell_type": "code",
   "execution_count": null,
   "id": "8cbb6aea",
   "metadata": {},
   "outputs": [],
   "source": []
  },
  {
   "cell_type": "markdown",
   "id": "f6293e28",
   "metadata": {},
   "source": [
    "# Summary \n",
    "\n",
    "<!-- - `map()` \n",
    "\n",
    "    - 100 ROWs =======> 1000 ROWs\n",
    "    \n",
    "    \n",
    "- `reduceByKey()`\n",
    "\n",
    "    - 100 ROWs =======> 10 ROWs (if there are 10 distinct Keys)\n",
    "    \n",
    "    \n",
    "- `reduce()`\n",
    "\n",
    "    - 100 ROWs =======> 1 ROW \n",
    "    \n",
    "- `filter()` \n",
    "\n",
    "    - 100 ROWs =======> 0 <= No. of ROWs <= 100 (Depending on the filer ) -->\n",
    "    \n"
   ]
  },
  {
   "cell_type": "markdown",
   "id": "cac1a27b",
   "metadata": {},
   "source": [
    "We learnt:\n",
    "- Types of Transformation: \n",
    "    1) Narrow Transformation \n",
    "        - `map()`\n",
    "        - `flatmap()`\n",
    "        - `filter()`\n",
    "    2) Wide Transformation \n",
    "        - `reduceByKey()`\n",
    "        - `groupByKey()`\n",
    "        \n",
    "- We should always :\n",
    "    - try to minimise `wide` transformation \n",
    "    - use `wide` transformation as late as possible \n",
    "    \n",
    "- Spark History Server and what are :\n",
    "    - Jobs\n",
    "    - Stages \n",
    "    - Tasks "
   ]
  },
  {
   "cell_type": "code",
   "execution_count": null,
   "id": "97e0f327",
   "metadata": {},
   "outputs": [],
   "source": []
  }
 ],
 "metadata": {
  "kernelspec": {
   "display_name": "Python 3 (ipykernel)",
   "language": "python",
   "name": "python3"
  },
  "language_info": {
   "codemirror_mode": {
    "name": "ipython",
    "version": 3
   },
   "file_extension": ".py",
   "mimetype": "text/x-python",
   "name": "python",
   "nbconvert_exporter": "python",
   "pygments_lexer": "ipython3",
   "version": "3.7.16"
  }
 },
 "nbformat": 4,
 "nbformat_minor": 5
}
