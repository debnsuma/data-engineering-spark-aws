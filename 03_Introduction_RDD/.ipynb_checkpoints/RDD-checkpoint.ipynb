{
 "cells": [
  {
   "cell_type": "markdown",
   "id": "2de0299c",
   "metadata": {},
   "source": [
    "# SparkSession"
   ]
  },
  {
   "cell_type": "markdown",
   "id": "97ed38b4",
   "metadata": {},
   "source": [
    "The `SparkSession` class, defined in the `pyspark.sql package`, is the entry point\n",
    "to programming Spark with the `Dataset and DataFrame` APIs. In order to do\n",
    "anything useful with a Spark cluster, you first need to create an instance of this\n",
    "class, which gives you access to an instance of SparkContext."
   ]
  },
  {
   "cell_type": "markdown",
   "id": "ad2daa12",
   "metadata": {},
   "source": [
    "# SparkContext"
   ]
  },
  {
   "cell_type": "markdown",
   "id": "b13e9c78",
   "metadata": {},
   "source": [
    "The `SparkContext` class, defined in the pyspark package, is the main entry point\n",
    "for Spark functionality. A `SparkContext` holds a connection to the Spark cluster\n",
    "manager and can be used to `create RDDs and broadcast variables` in the cluster.\n",
    "\n",
    "When you create an instance of `SparkSession`, the `SparkContext` becomes **available**\n",
    "inside your session as an attribute, `SparkSession.sparkContext`."
   ]
  },
  {
   "cell_type": "markdown",
   "id": "23b30d22",
   "metadata": {},
   "source": [
    "# Why we need SparkSession ?"
   ]
  },
  {
   "cell_type": "markdown",
   "id": "a8022f00",
   "metadata": {},
   "source": [
    "Prior to **Spark 2.0**, entry points for Spark applications included the\n",
    "- `SparkContext`, used for Spark core applications\n",
    "- `SQLContext` and HiveContext, used with Spark SQL applications\n",
    "- `StreamingContext` used for Spark Streaming applications. \n",
    "\n",
    "The `SparkSession` object introduced in Spark 2.0 **combines all these objects into a single entry point that can be used for\n",
    "all Spark applications**."
   ]
  },
  {
   "cell_type": "code",
   "execution_count": 1,
   "id": "249bf7e0",
   "metadata": {},
   "outputs": [
    {
     "data": {
      "text/html": [
       "\n",
       "            <div>\n",
       "                <p><b>SparkSession - hive</b></p>\n",
       "                \n",
       "        <div>\n",
       "            <p><b>SparkContext</b></p>\n",
       "\n",
       "            <p><a href=\"http://ip-172-31-2-35.us-east-2.compute.internal:4040\">Spark UI</a></p>\n",
       "\n",
       "            <dl>\n",
       "              <dt>Version</dt>\n",
       "                <dd><code>v3.3.0-amzn-1</code></dd>\n",
       "              <dt>Master</dt>\n",
       "                <dd><code>yarn</code></dd>\n",
       "              <dt>AppName</dt>\n",
       "                <dd><code>PySparkShell</code></dd>\n",
       "            </dl>\n",
       "        </div>\n",
       "        \n",
       "            </div>\n",
       "        "
      ],
      "text/plain": [
       "<pyspark.sql.session.SparkSession at 0x7ff0c4028c10>"
      ]
     },
     "execution_count": 1,
     "metadata": {},
     "output_type": "execute_result"
    }
   ],
   "source": [
    "spark"
   ]
  },
  {
   "cell_type": "code",
   "execution_count": 2,
   "id": "573b591a",
   "metadata": {
    "scrolled": false
   },
   "outputs": [
    {
     "data": {
      "text/html": [
       "\n",
       "        <div>\n",
       "            <p><b>SparkContext</b></p>\n",
       "\n",
       "            <p><a href=\"http://ip-172-31-2-35.us-east-2.compute.internal:4040\">Spark UI</a></p>\n",
       "\n",
       "            <dl>\n",
       "              <dt>Version</dt>\n",
       "                <dd><code>v3.3.0-amzn-1</code></dd>\n",
       "              <dt>Master</dt>\n",
       "                <dd><code>yarn</code></dd>\n",
       "              <dt>AppName</dt>\n",
       "                <dd><code>PySparkShell</code></dd>\n",
       "            </dl>\n",
       "        </div>\n",
       "        "
      ],
      "text/plain": [
       "<SparkContext master=yarn appName=PySparkShell>"
      ]
     },
     "execution_count": 2,
     "metadata": {},
     "output_type": "execute_result"
    }
   ],
   "source": [
    "sc  # We need to use Spark Context, since we are dealing with RDD "
   ]
  },
  {
   "cell_type": "code",
   "execution_count": 3,
   "id": "1a17c959",
   "metadata": {},
   "outputs": [],
   "source": [
    "rdd1 = sc.textFile('s3://fcc-spark-example/dataset/2023/orders.txt')  # Transformation "
   ]
  },
  {
   "cell_type": "code",
   "execution_count": 5,
   "id": "6354f506",
   "metadata": {},
   "outputs": [
    {
     "data": {
      "text/plain": [
       "pyspark.rdd.RDD"
      ]
     },
     "execution_count": 5,
     "metadata": {},
     "output_type": "execute_result"
    }
   ],
   "source": [
    "type(rdd1)"
   ]
  },
  {
   "cell_type": "code",
   "execution_count": 6,
   "id": "ce9c902d",
   "metadata": {},
   "outputs": [
    {
     "name": "stderr",
     "output_type": "stream",
     "text": [
      "                                                                                \r"
     ]
    },
    {
     "data": {
      "text/plain": [
       "['1,2013-07-25 00:00:00.0,11599,CLOSED',\n",
       " '2,2013-07-25 00:00:00.0,256,PENDING_PAYMENT',\n",
       " '3,2013-07-25 00:00:00.0,12111,COMPLETE',\n",
       " '4,2013-07-25 00:00:00.0,8827,CLOSED',\n",
       " '5,2013-07-25 00:00:00.0,11318,COMPLETE',\n",
       " '6,2013-07-25 00:00:00.0,7130,COMPLETE',\n",
       " '7,2013-07-25 00:00:00.0,4530,COMPLETE',\n",
       " '8,2013-07-25 00:00:00.0,2911,PROCESSING',\n",
       " '9,2013-07-25 00:00:00.0,5657,PENDING_PAYMENT',\n",
       " '10,2013-07-25 00:00:00.0,5648,PENDING_PAYMENT']"
      ]
     },
     "execution_count": 6,
     "metadata": {},
     "output_type": "execute_result"
    }
   ],
   "source": [
    "rdd1.take(5) # Action "
   ]
  },
  {
   "cell_type": "code",
   "execution_count": 14,
   "id": "206ee93c",
   "metadata": {},
   "outputs": [
    {
     "name": "stderr",
     "output_type": "stream",
     "text": [
      "                                                                                \r"
     ]
    },
    {
     "data": {
      "text/plain": [
       "68881"
      ]
     },
     "execution_count": 14,
     "metadata": {},
     "output_type": "execute_result"
    }
   ],
   "source": [
    "rdd1.count()"
   ]
  },
  {
   "cell_type": "code",
   "execution_count": null,
   "id": "4dcafaaa",
   "metadata": {},
   "outputs": [],
   "source": [
    "rdd1.collect()"
   ]
  },
  {
   "cell_type": "markdown",
   "id": "ba0c6754",
   "metadata": {},
   "source": [
    "# Findout the no. of orders based on different order status "
   ]
  },
  {
   "cell_type": "code",
   "execution_count": 9,
   "id": "1d087202",
   "metadata": {},
   "outputs": [
    {
     "data": {
      "text/plain": [
       "'CLOSED'"
      ]
     },
     "execution_count": 9,
     "metadata": {},
     "output_type": "execute_result"
    }
   ],
   "source": [
    "a = '1,2013-07-25 00:00:00.0,11599,CLOSED'\n",
    "a.split(',')[-1]"
   ]
  },
  {
   "cell_type": "code",
   "execution_count": 10,
   "id": "493c4ea5",
   "metadata": {},
   "outputs": [],
   "source": [
    "rdd2 = rdd1.map(lambda line: (line.split(',')[-1], 1))"
   ]
  },
  {
   "cell_type": "code",
   "execution_count": 15,
   "id": "775f9595",
   "metadata": {},
   "outputs": [
    {
     "data": {
      "text/plain": [
       "68881"
      ]
     },
     "execution_count": 15,
     "metadata": {},
     "output_type": "execute_result"
    }
   ],
   "source": [
    "rdd2.count()"
   ]
  },
  {
   "cell_type": "code",
   "execution_count": 11,
   "id": "c39b593f",
   "metadata": {},
   "outputs": [
    {
     "name": "stderr",
     "output_type": "stream",
     "text": [
      "                                                                                \r"
     ]
    },
    {
     "data": {
      "text/plain": [
       "[('CLOSED', 1),\n",
       " ('PENDING_PAYMENT', 1),\n",
       " ('COMPLETE', 1),\n",
       " ('CLOSED', 1),\n",
       " ('COMPLETE', 1),\n",
       " ('COMPLETE', 1),\n",
       " ('COMPLETE', 1),\n",
       " ('PROCESSING', 1),\n",
       " ('PENDING_PAYMENT', 1),\n",
       " ('PENDING_PAYMENT', 1)]"
      ]
     },
     "execution_count": 11,
     "metadata": {},
     "output_type": "execute_result"
    }
   ],
   "source": [
    "rdd2.take(10)"
   ]
  },
  {
   "cell_type": "code",
   "execution_count": 12,
   "id": "3da797da",
   "metadata": {},
   "outputs": [],
   "source": [
    "rdd3 = rdd2.reduceByKey(lambda x, y: x+y) # Tansformation "
   ]
  },
  {
   "cell_type": "code",
   "execution_count": 13,
   "id": "8095ec64",
   "metadata": {},
   "outputs": [
    {
     "name": "stderr",
     "output_type": "stream",
     "text": [
      "                                                                                \r"
     ]
    },
    {
     "data": {
      "text/plain": [
       "[('CLOSED', 7556),\n",
       " ('CANCELED', 1428),\n",
       " ('PENDING_PAYMENT', 15030),\n",
       " ('COMPLETE', 22899),\n",
       " ('PROCESSING', 8274),\n",
       " ('PAYMENT_REVIEW', 729),\n",
       " ('PENDING', 7609),\n",
       " ('ON_HOLD', 3798),\n",
       " ('SUSPECTED_FRAUD', 1558)]"
      ]
     },
     "execution_count": 13,
     "metadata": {},
     "output_type": "execute_result"
    }
   ],
   "source": [
    "rdd3.collect() # Action "
   ]
  },
  {
   "cell_type": "markdown",
   "id": "93a6927a",
   "metadata": {},
   "source": [
    "# Find out the top 10 premium customers "
   ]
  },
  {
   "cell_type": "code",
   "execution_count": 22,
   "id": "9c2e84f5",
   "metadata": {},
   "outputs": [],
   "source": [
    "rdd1 = sc.textFile('s3://fcc-spark-example/dataset/2023/orders.txt')"
   ]
  },
  {
   "cell_type": "code",
   "execution_count": 23,
   "id": "935c41fe",
   "metadata": {},
   "outputs": [
    {
     "name": "stderr",
     "output_type": "stream",
     "text": [
      "                                                                                \r"
     ]
    },
    {
     "data": {
      "text/plain": [
       "['1,2013-07-25 00:00:00.0,11599,CLOSED',\n",
       " '2,2013-07-25 00:00:00.0,256,PENDING_PAYMENT',\n",
       " '3,2013-07-25 00:00:00.0,12111,COMPLETE',\n",
       " '4,2013-07-25 00:00:00.0,8827,CLOSED',\n",
       " '5,2013-07-25 00:00:00.0,11318,COMPLETE',\n",
       " '6,2013-07-25 00:00:00.0,7130,COMPLETE',\n",
       " '7,2013-07-25 00:00:00.0,4530,COMPLETE',\n",
       " '8,2013-07-25 00:00:00.0,2911,PROCESSING',\n",
       " '9,2013-07-25 00:00:00.0,5657,PENDING_PAYMENT',\n",
       " '10,2013-07-25 00:00:00.0,5648,PENDING_PAYMENT']"
      ]
     },
     "execution_count": 23,
     "metadata": {},
     "output_type": "execute_result"
    }
   ],
   "source": [
    "rdd1.take(10)"
   ]
  },
  {
   "cell_type": "code",
   "execution_count": 24,
   "id": "e717f689",
   "metadata": {},
   "outputs": [],
   "source": [
    "rdd2 = rdd1.map(lambda line: (line.split(',')[2], 1))"
   ]
  },
  {
   "cell_type": "code",
   "execution_count": 25,
   "id": "775732b0",
   "metadata": {},
   "outputs": [
    {
     "name": "stderr",
     "output_type": "stream",
     "text": [
      "                                                                                \r"
     ]
    },
    {
     "data": {
      "text/plain": [
       "[('11599', 1),\n",
       " ('256', 1),\n",
       " ('12111', 1),\n",
       " ('8827', 1),\n",
       " ('11318', 1),\n",
       " ('7130', 1),\n",
       " ('4530', 1),\n",
       " ('2911', 1),\n",
       " ('5657', 1),\n",
       " ('5648', 1)]"
      ]
     },
     "execution_count": 25,
     "metadata": {},
     "output_type": "execute_result"
    }
   ],
   "source": [
    "rdd2.take(10) "
   ]
  },
  {
   "cell_type": "code",
   "execution_count": 26,
   "id": "a82e14de",
   "metadata": {},
   "outputs": [],
   "source": [
    "rdd3 = rdd2.reduceByKey(lambda x, y: x+y)"
   ]
  },
  {
   "cell_type": "code",
   "execution_count": 27,
   "id": "b6e0de46",
   "metadata": {},
   "outputs": [
    {
     "name": "stderr",
     "output_type": "stream",
     "text": [
      "                                                                                \r"
     ]
    },
    {
     "data": {
      "text/plain": [
       "[('256', 10),\n",
       " ('12111', 6),\n",
       " ('11318', 6),\n",
       " ('7130', 7),\n",
       " ('2911', 6),\n",
       " ('5657', 12),\n",
       " ('9149', 4),\n",
       " ('9842', 7),\n",
       " ('7276', 5),\n",
       " ('9488', 7),\n",
       " ('2711', 3),\n",
       " ('333', 6),\n",
       " ('656', 5),\n",
       " ('6983', 6),\n",
       " ('4189', 3),\n",
       " ('4840', 2),\n",
       " ('5863', 6),\n",
       " ('8214', 5),\n",
       " ('7776', 8),\n",
       " ('1549', 4)]"
      ]
     },
     "execution_count": 27,
     "metadata": {},
     "output_type": "execute_result"
    }
   ],
   "source": [
    "rdd3.take(20)"
   ]
  },
  {
   "cell_type": "code",
   "execution_count": 34,
   "id": "50683c14",
   "metadata": {},
   "outputs": [],
   "source": [
    "rdd4 = rdd3.sortBy(lambda x: x[-1], ascending=False)"
   ]
  },
  {
   "cell_type": "code",
   "execution_count": 35,
   "id": "8183af89",
   "metadata": {
    "scrolled": true
   },
   "outputs": [
    {
     "data": {
      "text/plain": [
       "[('5897', 16),\n",
       " ('6316', 16),\n",
       " ('12431', 16),\n",
       " ('569', 16),\n",
       " ('4320', 15),\n",
       " ('221', 15),\n",
       " ('5624', 15),\n",
       " ('5283', 15),\n",
       " ('12284', 15),\n",
       " ('5654', 15)]"
      ]
     },
     "execution_count": 35,
     "metadata": {},
     "output_type": "execute_result"
    }
   ],
   "source": [
    "rdd4.take(10)"
   ]
  },
  {
   "cell_type": "markdown",
   "id": "c7ce62c9",
   "metadata": {},
   "source": [
    "# Distinct count of customers who have placed at least one order "
   ]
  },
  {
   "cell_type": "code",
   "execution_count": 39,
   "id": "a81354be",
   "metadata": {},
   "outputs": [],
   "source": [
    "rdd1 = sc.textFile('s3://fcc-spark-example/dataset/2023/orders.txt')"
   ]
  },
  {
   "cell_type": "code",
   "execution_count": 40,
   "id": "a8f00bd7",
   "metadata": {},
   "outputs": [
    {
     "name": "stderr",
     "output_type": "stream",
     "text": [
      "                                                                                \r"
     ]
    },
    {
     "data": {
      "text/plain": [
       "['1,2013-07-25 00:00:00.0,11599,CLOSED',\n",
       " '2,2013-07-25 00:00:00.0,256,PENDING_PAYMENT',\n",
       " '3,2013-07-25 00:00:00.0,12111,COMPLETE',\n",
       " '4,2013-07-25 00:00:00.0,8827,CLOSED',\n",
       " '5,2013-07-25 00:00:00.0,11318,COMPLETE']"
      ]
     },
     "execution_count": 40,
     "metadata": {},
     "output_type": "execute_result"
    }
   ],
   "source": [
    "rdd1.take(5)"
   ]
  },
  {
   "cell_type": "code",
   "execution_count": 41,
   "id": "aa7e6a10",
   "metadata": {},
   "outputs": [],
   "source": [
    "rdd2 = rdd1.map(lambda line: line.split(',')[2])"
   ]
  },
  {
   "cell_type": "code",
   "execution_count": 42,
   "id": "b82b81b8",
   "metadata": {},
   "outputs": [
    {
     "name": "stderr",
     "output_type": "stream",
     "text": [
      "                                                                                \r"
     ]
    },
    {
     "data": {
      "text/plain": [
       "['11599',\n",
       " '256',\n",
       " '12111',\n",
       " '8827',\n",
       " '11318',\n",
       " '7130',\n",
       " '4530',\n",
       " '2911',\n",
       " '5657',\n",
       " '5648']"
      ]
     },
     "execution_count": 42,
     "metadata": {},
     "output_type": "execute_result"
    }
   ],
   "source": [
    "rdd2.take(10)"
   ]
  },
  {
   "cell_type": "code",
   "execution_count": 43,
   "id": "ea9a5b31",
   "metadata": {},
   "outputs": [],
   "source": [
    "rdd3 = rdd2.distinct()"
   ]
  },
  {
   "cell_type": "code",
   "execution_count": 44,
   "id": "ad0a1eb4",
   "metadata": {},
   "outputs": [
    {
     "name": "stderr",
     "output_type": "stream",
     "text": [
      "                                                                                \r"
     ]
    },
    {
     "data": {
      "text/plain": [
       "12405"
      ]
     },
     "execution_count": 44,
     "metadata": {},
     "output_type": "execute_result"
    }
   ],
   "source": [
    "rdd3.count()"
   ]
  },
  {
   "cell_type": "code",
   "execution_count": 45,
   "id": "388e9eae",
   "metadata": {},
   "outputs": [
    {
     "data": {
      "text/plain": [
       "68881"
      ]
     },
     "execution_count": 45,
     "metadata": {},
     "output_type": "execute_result"
    }
   ],
   "source": [
    "rdd1.count()"
   ]
  },
  {
   "cell_type": "markdown",
   "id": "66b04922",
   "metadata": {},
   "source": [
    "# Find out the customers who has the maximum no. of orders which are in `PENDING_PAYMENT`"
   ]
  },
  {
   "cell_type": "code",
   "execution_count": 9,
   "id": "8d0fc353",
   "metadata": {},
   "outputs": [],
   "source": [
    "rdd1 = sc.textFile('s3://fcc-spark-example/dataset/2023/orders.txt')"
   ]
  },
  {
   "cell_type": "code",
   "execution_count": 10,
   "id": "d96ba9b4",
   "metadata": {},
   "outputs": [],
   "source": [
    "rdd2 = rdd1.map(lambda line: line.split(',')[-2::])"
   ]
  },
  {
   "cell_type": "code",
   "execution_count": 11,
   "id": "11020fe2",
   "metadata": {},
   "outputs": [],
   "source": [
    "rdd3 = rdd2.filter(lambda line: line[1] == 'PENDING_PAYMENT')"
   ]
  },
  {
   "cell_type": "code",
   "execution_count": 12,
   "id": "c69e1442",
   "metadata": {},
   "outputs": [],
   "source": [
    "rdd4 = rdd3.map(lambda x: (x[0], 1))"
   ]
  },
  {
   "cell_type": "code",
   "execution_count": 13,
   "id": "44bf73c6",
   "metadata": {},
   "outputs": [],
   "source": [
    "rdd5 = rdd4.reduceByKey(lambda x, y: x + y)"
   ]
  },
  {
   "cell_type": "code",
   "execution_count": 63,
   "id": "4c0d0cb6",
   "metadata": {
    "scrolled": true
   },
   "outputs": [
    {
     "name": "stderr",
     "output_type": "stream",
     "text": [
      "                                                                                \r"
     ]
    }
   ],
   "source": [
    "rdd6 = rdd5.sortBy(lambda x: x[-1], ascending=False)"
   ]
  },
  {
   "cell_type": "markdown",
   "id": "adf6aab7",
   "metadata": {},
   "source": [
    "# Word Count Problem and `Chaining functions`"
   ]
  },
  {
   "cell_type": "code",
   "execution_count": null,
   "id": "ad75a367",
   "metadata": {},
   "outputs": [],
   "source": [
    "data_set = 's3://fcc-spark-example/dataset/gutenberg_books/11-0.txt'"
   ]
  },
  {
   "cell_type": "code",
   "execution_count": 2,
   "id": "4aafa08d",
   "metadata": {},
   "outputs": [],
   "source": [
    "# - load the file \n",
    "# - split each line based on space \n",
    "# - ('word1', 'word2', .....) =========>.   [('word1', 1), ('word2', 1).....]\n",
    "# - reducebykey()\n",
    "# - sortby()"
   ]
  },
  {
   "cell_type": "code",
   "execution_count": 5,
   "id": "f4bf7fcf",
   "metadata": {},
   "outputs": [],
   "source": [
    "result = (sc.textFile(data_set) \n",
    "            .flatMap(lambda line: line.split(' ')) \n",
    "            .map(lambda word: (word, 1)) \n",
    "            .reduceByKey(lambda x, y: x + y)\n",
    "         )"
   ]
  },
  {
   "cell_type": "code",
   "execution_count": 6,
   "id": "6d374c59",
   "metadata": {},
   "outputs": [
    {
     "name": "stderr",
     "output_type": "stream",
     "text": [
      "\r",
      "                                                                                \r"
     ]
    },
    {
     "data": {
      "text/plain": [
       "[('Project', 78),\n",
       " ('Gutenberg’s', 2),\n",
       " ('Alice’s', 11),\n",
       " ('in', 401),\n",
       " ('Wonderland,', 3),\n",
       " ('Lewis', 4),\n",
       " ('Carroll', 4),\n",
       " ('', 2244),\n",
       " ('is', 89),\n",
       " ('use', 24)]"
      ]
     },
     "execution_count": 6,
     "metadata": {},
     "output_type": "execute_result"
    }
   ],
   "source": [
    "result.take(10)"
   ]
  },
  {
   "cell_type": "code",
   "execution_count": 1,
   "id": "72d9b4a1",
   "metadata": {},
   "outputs": [
    {
     "data": {
      "text/html": [
       "\n",
       "            <div>\n",
       "                <p><b>SparkSession - hive</b></p>\n",
       "                \n",
       "        <div>\n",
       "            <p><b>SparkContext</b></p>\n",
       "\n",
       "            <p><a href=\"http://ip-172-31-2-35.us-east-2.compute.internal:4040\">Spark UI</a></p>\n",
       "\n",
       "            <dl>\n",
       "              <dt>Version</dt>\n",
       "                <dd><code>v3.3.0-amzn-1</code></dd>\n",
       "              <dt>Master</dt>\n",
       "                <dd><code>yarn</code></dd>\n",
       "              <dt>AppName</dt>\n",
       "                <dd><code>PySparkShell</code></dd>\n",
       "            </dl>\n",
       "        </div>\n",
       "        \n",
       "            </div>\n",
       "        "
      ],
      "text/plain": [
       "<pyspark.sql.session.SparkSession at 0x7fe35461bc10>"
      ]
     },
     "execution_count": 1,
     "metadata": {},
     "output_type": "execute_result"
    }
   ],
   "source": [
    "spark"
   ]
  },
  {
   "cell_type": "code",
   "execution_count": 2,
   "id": "4a09728b",
   "metadata": {},
   "outputs": [
    {
     "data": {
      "text/html": [
       "\n",
       "        <div>\n",
       "            <p><b>SparkContext</b></p>\n",
       "\n",
       "            <p><a href=\"http://ip-172-31-2-35.us-east-2.compute.internal:4040\">Spark UI</a></p>\n",
       "\n",
       "            <dl>\n",
       "              <dt>Version</dt>\n",
       "                <dd><code>v3.3.0-amzn-1</code></dd>\n",
       "              <dt>Master</dt>\n",
       "                <dd><code>yarn</code></dd>\n",
       "              <dt>AppName</dt>\n",
       "                <dd><code>PySparkShell</code></dd>\n",
       "            </dl>\n",
       "        </div>\n",
       "        "
      ],
      "text/plain": [
       "<SparkContext master=yarn appName=PySparkShell>"
      ]
     },
     "execution_count": 2,
     "metadata": {},
     "output_type": "execute_result"
    }
   ],
   "source": [
    "sc"
   ]
  },
  {
   "cell_type": "code",
   "execution_count": 3,
   "id": "5e73ccc5",
   "metadata": {},
   "outputs": [],
   "source": [
    "my_list = ['US', 'India', 123, 'Boston', 'Suman', 1, 2, 3, 4, 5]"
   ]
  },
  {
   "cell_type": "code",
   "execution_count": 4,
   "id": "75070619",
   "metadata": {},
   "outputs": [
    {
     "data": {
      "text/plain": [
       "list"
      ]
     },
     "execution_count": 4,
     "metadata": {},
     "output_type": "execute_result"
    }
   ],
   "source": [
    "type(my_list)"
   ]
  },
  {
   "cell_type": "code",
   "execution_count": 5,
   "id": "f2cbdf34",
   "metadata": {},
   "outputs": [],
   "source": [
    "rdd = sc.parallelize(my_list)"
   ]
  },
  {
   "cell_type": "code",
   "execution_count": 6,
   "id": "c97ffe8d",
   "metadata": {},
   "outputs": [
    {
     "name": "stderr",
     "output_type": "stream",
     "text": [
      "                                                                                \r"
     ]
    },
    {
     "data": {
      "text/plain": [
       "['US', 'India', 123, 'Boston', 'Suman', 1, 2, 3, 4, 5]"
      ]
     },
     "execution_count": 6,
     "metadata": {},
     "output_type": "execute_result"
    }
   ],
   "source": [
    "rdd.collect()"
   ]
  },
  {
   "cell_type": "code",
   "execution_count": 7,
   "id": "581e5991",
   "metadata": {},
   "outputs": [
    {
     "data": {
      "text/plain": [
       "2"
      ]
     },
     "execution_count": 7,
     "metadata": {},
     "output_type": "execute_result"
    }
   ],
   "source": [
    "rdd.getNumPartitions() "
   ]
  },
  {
   "cell_type": "code",
   "execution_count": 9,
   "id": "ebd5a775",
   "metadata": {},
   "outputs": [
    {
     "data": {
      "text/plain": [
       "2"
      ]
     },
     "execution_count": 9,
     "metadata": {},
     "output_type": "execute_result"
    }
   ],
   "source": [
    "sc.defaultParallelism"
   ]
  },
  {
   "cell_type": "code",
   "execution_count": 10,
   "id": "3fc8de56",
   "metadata": {},
   "outputs": [],
   "source": [
    "l = range(10)"
   ]
  },
  {
   "cell_type": "code",
   "execution_count": 12,
   "id": "68181887",
   "metadata": {},
   "outputs": [
    {
     "data": {
      "text/plain": [
       "[0, 1, 2, 3, 4, 5, 6, 7, 8, 9]"
      ]
     },
     "execution_count": 12,
     "metadata": {},
     "output_type": "execute_result"
    }
   ],
   "source": [
    "list(l)"
   ]
  },
  {
   "cell_type": "code",
   "execution_count": 13,
   "id": "5272f250",
   "metadata": {},
   "outputs": [],
   "source": [
    "rdd = sc.parallelize(l)"
   ]
  },
  {
   "cell_type": "code",
   "execution_count": 14,
   "id": "d6fcb1a9",
   "metadata": {},
   "outputs": [
    {
     "data": {
      "text/plain": [
       "2"
      ]
     },
     "execution_count": 14,
     "metadata": {},
     "output_type": "execute_result"
    }
   ],
   "source": [
    "rdd.getNumPartitions()"
   ]
  },
  {
   "cell_type": "code",
   "execution_count": 15,
   "id": "68a16de7",
   "metadata": {},
   "outputs": [],
   "source": [
    "rdd2 = rdd.map(lambda x: (x, x*2)) "
   ]
  },
  {
   "cell_type": "code",
   "execution_count": 16,
   "id": "460df614",
   "metadata": {},
   "outputs": [
    {
     "name": "stderr",
     "output_type": "stream",
     "text": [
      "                                                                                \r"
     ]
    },
    {
     "data": {
      "text/plain": [
       "[(0, 0),\n",
       " (1, 2),\n",
       " (2, 4),\n",
       " (3, 6),\n",
       " (4, 8),\n",
       " (5, 10),\n",
       " (6, 12),\n",
       " (7, 14),\n",
       " (8, 16),\n",
       " (9, 18)]"
      ]
     },
     "execution_count": 16,
     "metadata": {},
     "output_type": "execute_result"
    }
   ],
   "source": [
    "rdd2.collect()"
   ]
  },
  {
   "cell_type": "code",
   "execution_count": 17,
   "id": "4d63581e",
   "metadata": {},
   "outputs": [
    {
     "data": {
      "text/plain": [
       "2"
      ]
     },
     "execution_count": 17,
     "metadata": {},
     "output_type": "execute_result"
    }
   ],
   "source": [
    "rdd2.getNumPartitions()"
   ]
  },
  {
   "cell_type": "code",
   "execution_count": 18,
   "id": "36318aac",
   "metadata": {},
   "outputs": [
    {
     "name": "stderr",
     "output_type": "stream",
     "text": [
      "                                                                                \r"
     ]
    }
   ],
   "source": [
    "rdd2.saveAsTextFile('s3://fcc-spark-example/output/test')"
   ]
  },
  {
   "cell_type": "code",
   "execution_count": 19,
   "id": "f2a354dd",
   "metadata": {},
   "outputs": [],
   "source": [
    "data_set ='s3://fcc-spark-example/dataset/gutenberg_books/'\n",
    "\n",
    "rdd = sc.textFile(data_set)"
   ]
  },
  {
   "cell_type": "code",
   "execution_count": 20,
   "id": "c541484b",
   "metadata": {},
   "outputs": [
    {
     "data": {
      "text/plain": [
       "6"
      ]
     },
     "execution_count": 20,
     "metadata": {},
     "output_type": "execute_result"
    }
   ],
   "source": [
    "rdd.getNumPartitions() "
   ]
  },
  {
   "cell_type": "code",
   "execution_count": 30,
   "id": "8d59825e",
   "metadata": {},
   "outputs": [
    {
     "data": {
      "text/plain": [
       "2"
      ]
     },
     "execution_count": 30,
     "metadata": {},
     "output_type": "execute_result"
    }
   ],
   "source": [
    "sc.defaultMinPartitions"
   ]
  },
  {
   "cell_type": "code",
   "execution_count": 31,
   "id": "655cc5c1",
   "metadata": {},
   "outputs": [
    {
     "data": {
      "text/plain": [
       "2"
      ]
     },
     "execution_count": 31,
     "metadata": {},
     "output_type": "execute_result"
    }
   ],
   "source": [
    "rdd = sc.textFile('s3://fcc-spark-example/dataset/gutenberg_books/1342-0.txt')\n",
    "rdd.getNumPartitions()"
   ]
  },
  {
   "cell_type": "code",
   "execution_count": 38,
   "id": "8aafd25c",
   "metadata": {},
   "outputs": [
    {
     "data": {
      "text/plain": [
       "2"
      ]
     },
     "execution_count": 38,
     "metadata": {},
     "output_type": "execute_result"
    }
   ],
   "source": [
    "rdd.getNumPartitions()"
   ]
  },
  {
   "cell_type": "code",
   "execution_count": 39,
   "id": "d3b9e31b",
   "metadata": {},
   "outputs": [],
   "source": [
    "new_rdd = rdd.repartition(10)"
   ]
  },
  {
   "cell_type": "code",
   "execution_count": 40,
   "id": "6463d81f",
   "metadata": {},
   "outputs": [
    {
     "data": {
      "text/plain": [
       "10"
      ]
     },
     "execution_count": 40,
     "metadata": {},
     "output_type": "execute_result"
    }
   ],
   "source": [
    "new_rdd.getNumPartitions()"
   ]
  },
  {
   "cell_type": "code",
   "execution_count": 42,
   "id": "efb7c821",
   "metadata": {},
   "outputs": [
    {
     "data": {
      "text/plain": [
       "10"
      ]
     },
     "execution_count": 42,
     "metadata": {},
     "output_type": "execute_result"
    }
   ],
   "source": [
    "new_rdd.getNumPartitions()"
   ]
  },
  {
   "cell_type": "code",
   "execution_count": 43,
   "id": "9200589e",
   "metadata": {},
   "outputs": [
    {
     "data": {
      "text/plain": [
       "3"
      ]
     },
     "execution_count": 43,
     "metadata": {},
     "output_type": "execute_result"
    }
   ],
   "source": [
    "rdd = new_rdd.repartition(3)\n",
    "rdd.getNumPartitions()"
   ]
  },
  {
   "cell_type": "code",
   "execution_count": 44,
   "id": "0ccc003a",
   "metadata": {},
   "outputs": [
    {
     "data": {
      "text/plain": [
       "10"
      ]
     },
     "execution_count": 44,
     "metadata": {},
     "output_type": "execute_result"
    }
   ],
   "source": [
    "new_rdd.getNumPartitions()"
   ]
  },
  {
   "cell_type": "code",
   "execution_count": 46,
   "id": "842c9cde",
   "metadata": {},
   "outputs": [
    {
     "data": {
      "text/plain": [
       "5"
      ]
     },
     "execution_count": 46,
     "metadata": {},
     "output_type": "execute_result"
    }
   ],
   "source": [
    "a = new_rdd.coalesce(5)\n",
    "a.getNumPartitions()"
   ]
  },
  {
   "cell_type": "code",
   "execution_count": 47,
   "id": "0372abe6",
   "metadata": {},
   "outputs": [],
   "source": [
    "dataset = 's3://amazon-reviews-pds/tsv/amazon_reviews_us_Books*'"
   ]
  },
  {
   "cell_type": "code",
   "execution_count": 48,
   "id": "56865224",
   "metadata": {},
   "outputs": [
    {
     "name": "stderr",
     "output_type": "stream",
     "text": [
      "                                                                                \r"
     ]
    },
    {
     "data": {
      "text/plain": [
       "['marketplace\\tcustomer_id\\treview_id\\tproduct_id\\tproduct_parent\\tproduct_title\\tproduct_category\\tstar_rating\\thelpful_votes\\ttotal_votes\\tvine\\tverified_purchase\\treview_headline\\treview_body\\treview_date',\n",
       " 'US\\t25933450\\tRJOVP071AVAJO\\t0439873800\\t84656342\\tThere Was an Old Lady Who Swallowed a Shell!\\tBooks\\t5\\t0\\t0\\tN\\tY\\tFive Stars\\tI love it and so does my students!\\t2015-08-31',\n",
       " 'US\\t1801372\\tR1ORGBETCDW3AI\\t1623953553\\t729938122\\tI Saw a Friend\\tBooks\\t5\\t0\\t0\\tN\\tY\\tPlease buy \"I Saw a Friend\"! Your children will be delighted!\\tMy wife and I ordered 2 books and gave them as presents...one to a friend\\'s daughter and the other to our grandson! Both children were so happy with the story, by author Katrina Streza, and they were overjoyed with the absolutely adorable artwork, by artist Michele Katz, throughout the book! We highly recommend &#34;I Saw a Friend&#34; to all your little ones!!!\\t2015-08-31',\n",
       " 'US\\t5782091\\tR7TNRFQAOUTX5\\t142151981X\\t678139048\\tBlack Lagoon, Vol. 6\\tBooks\\t5\\t0\\t0\\tN\\tY\\tShipped fast.\\tGreat book just like all the others in the series.\\t2015-08-31',\n",
       " 'US\\t32715830\\tR2GANXKDIFZ6OI\\t014241543X\\t712432151\\tIf I Stay\\tBooks\\t5\\t0\\t0\\tN\\tN\\tFive Stars\\tSo beautiful\\t2015-08-31']"
      ]
     },
     "execution_count": 48,
     "metadata": {},
     "output_type": "execute_result"
    }
   ],
   "source": [
    "rdd1 = sc.textFile(dataset)\n",
    "\n",
    "rdd1.take(5)"
   ]
  },
  {
   "cell_type": "code",
   "execution_count": 57,
   "id": "7546503e",
   "metadata": {},
   "outputs": [
    {
     "name": "stderr",
     "output_type": "stream",
     "text": [
      "                                                                                \r"
     ]
    }
   ],
   "source": [
    "header = rdd1.first()"
   ]
  },
  {
   "cell_type": "code",
   "execution_count": 58,
   "id": "b26759fa",
   "metadata": {},
   "outputs": [
    {
     "data": {
      "text/plain": [
       "'marketplace\\tcustomer_id\\treview_id\\tproduct_id\\tproduct_parent\\tproduct_title\\tproduct_category\\tstar_rating\\thelpful_votes\\ttotal_votes\\tvine\\tverified_purchase\\treview_headline\\treview_body\\treview_date'"
      ]
     },
     "execution_count": 58,
     "metadata": {},
     "output_type": "execute_result"
    }
   ],
   "source": [
    "header"
   ]
  },
  {
   "cell_type": "code",
   "execution_count": 59,
   "id": "bc2c4f92",
   "metadata": {},
   "outputs": [],
   "source": [
    "rdd2 = rdd1.filter(lambda line: line != header)"
   ]
  },
  {
   "cell_type": "code",
   "execution_count": 60,
   "id": "d03c49ef",
   "metadata": {},
   "outputs": [
    {
     "name": "stderr",
     "output_type": "stream",
     "text": [
      "                                                                                \r"
     ]
    },
    {
     "data": {
      "text/plain": [
       "['US\\t25933450\\tRJOVP071AVAJO\\t0439873800\\t84656342\\tThere Was an Old Lady Who Swallowed a Shell!\\tBooks\\t5\\t0\\t0\\tN\\tY\\tFive Stars\\tI love it and so does my students!\\t2015-08-31',\n",
       " 'US\\t1801372\\tR1ORGBETCDW3AI\\t1623953553\\t729938122\\tI Saw a Friend\\tBooks\\t5\\t0\\t0\\tN\\tY\\tPlease buy \"I Saw a Friend\"! Your children will be delighted!\\tMy wife and I ordered 2 books and gave them as presents...one to a friend\\'s daughter and the other to our grandson! Both children were so happy with the story, by author Katrina Streza, and they were overjoyed with the absolutely adorable artwork, by artist Michele Katz, throughout the book! We highly recommend &#34;I Saw a Friend&#34; to all your little ones!!!\\t2015-08-31',\n",
       " 'US\\t5782091\\tR7TNRFQAOUTX5\\t142151981X\\t678139048\\tBlack Lagoon, Vol. 6\\tBooks\\t5\\t0\\t0\\tN\\tY\\tShipped fast.\\tGreat book just like all the others in the series.\\t2015-08-31',\n",
       " 'US\\t32715830\\tR2GANXKDIFZ6OI\\t014241543X\\t712432151\\tIf I Stay\\tBooks\\t5\\t0\\t0\\tN\\tN\\tFive Stars\\tSo beautiful\\t2015-08-31',\n",
       " \"US\\t14005703\\tR2NYB6C3R8LVN6\\t1604600527\\t800572372\\tStars 'N Strips Forever\\tBooks\\t5\\t2\\t2\\tN\\tY\\tFive Stars\\tEnjoyed the author's story and his quilts are incredible.  I have plans to make three.\\t2015-08-31\"]"
      ]
     },
     "execution_count": 60,
     "metadata": {},
     "output_type": "execute_result"
    }
   ],
   "source": [
    "rdd2.take(5)"
   ]
  },
  {
   "cell_type": "code",
   "execution_count": 61,
   "id": "bcb46638",
   "metadata": {},
   "outputs": [],
   "source": [
    "rdd3 = rdd2.map(lambda x: x.split('\\t'))\n",
    "rdd4 = rdd3.map(lambda x: (x[3], 1))"
   ]
  },
  {
   "cell_type": "code",
   "execution_count": 62,
   "id": "433b2bda",
   "metadata": {},
   "outputs": [
    {
     "name": "stderr",
     "output_type": "stream",
     "text": [
      "                                                                                \r"
     ]
    },
    {
     "data": {
      "text/plain": [
       "[('0439873800', 1),\n",
       " ('1623953553', 1),\n",
       " ('142151981X', 1),\n",
       " ('014241543X', 1),\n",
       " ('1604600527', 1)]"
      ]
     },
     "execution_count": 62,
     "metadata": {},
     "output_type": "execute_result"
    }
   ],
   "source": [
    "rdd4.take(5)"
   ]
  },
  {
   "cell_type": "code",
   "execution_count": 69,
   "id": "03e2350d",
   "metadata": {},
   "outputs": [],
   "source": [
    "# ('0439873800', [1, 1, 1, 1, 1]),\n",
    "# ('1623953553', [1, 1, 1]),\n",
    "\n",
    "\n",
    "result = rdd4.groupByKey() \\\n",
    "             .map(lambda x: (x[0], len(x[1])))"
   ]
  },
  {
   "cell_type": "code",
   "execution_count": 70,
   "id": "aa1a2169",
   "metadata": {},
   "outputs": [
    {
     "name": "stderr",
     "output_type": "stream",
     "text": [
      "                                                                                \r"
     ]
    },
    {
     "data": {
      "text/plain": [
       "[('0786665963', 17),\n",
       " ('125007181X', 209),\n",
       " ('0080969925', 2),\n",
       " ('0994081707', 39),\n",
       " ('1618650025', 15),\n",
       " ('0679600213', 102),\n",
       " ('099385723X', 2),\n",
       " ('067988629X', 146),\n",
       " ('0694003611', 1118),\n",
       " ('B000N7FEN8', 2)]"
      ]
     },
     "execution_count": 70,
     "metadata": {},
     "output_type": "execute_result"
    }
   ],
   "source": [
    "result.take(10)"
   ]
  },
  {
   "cell_type": "code",
   "execution_count": 71,
   "id": "f7584688",
   "metadata": {},
   "outputs": [],
   "source": [
    "result2 = rdd4.reduceByKey(lambda x, y: x + y)"
   ]
  },
  {
   "cell_type": "code",
   "execution_count": 72,
   "id": "f1a8a712",
   "metadata": {},
   "outputs": [
    {
     "name": "stderr",
     "output_type": "stream",
     "text": [
      "                                                                                \r"
     ]
    },
    {
     "data": {
      "text/plain": [
       "[('142151981X', 4),\n",
       " ('1604600527', 4),\n",
       " ('0399170863', 254),\n",
       " ('0671728725', 3),\n",
       " ('1570913722', 9)]"
      ]
     },
     "execution_count": 72,
     "metadata": {},
     "output_type": "execute_result"
    }
   ],
   "source": [
    "result2.take(5)"
   ]
  },
  {
   "cell_type": "markdown",
   "id": "d04f120c",
   "metadata": {},
   "source": [
    "# JOIN"
   ]
  },
  {
   "cell_type": "code",
   "execution_count": 107,
   "id": "d1a2c3e8",
   "metadata": {},
   "outputs": [
    {
     "name": "stderr",
     "output_type": "stream",
     "text": [
      "                                                                                \r"
     ]
    }
   ],
   "source": [
    "# Loading the ORDERS data\n",
    "\n",
    "data_set = 's3://fcc-spark-example/dataset/2023/orders.csv'\n",
    "rdd1 = sc.textFile(data_set)\n",
    "\n",
    "header = rdd1.first()\n",
    "rdd1 = rdd1.filter(lambda x : x != header)\n",
    "\n",
    "orders_rdd = rdd1.map(lambda line: (line.split(',')[2], line.split(',')[3])) "
   ]
  },
  {
   "cell_type": "code",
   "execution_count": 108,
   "id": "d6d6ef86",
   "metadata": {},
   "outputs": [
    {
     "name": "stderr",
     "output_type": "stream",
     "text": [
      "                                                                                \r"
     ]
    },
    {
     "data": {
      "text/plain": [
       "[('11599', 'CLOSED'),\n",
       " ('256', 'PENDING_PAYMENT'),\n",
       " ('12111', 'COMPLETE'),\n",
       " ('8827', 'CLOSED'),\n",
       " ('11318', 'COMPLETE')]"
      ]
     },
     "execution_count": 108,
     "metadata": {},
     "output_type": "execute_result"
    }
   ],
   "source": [
    "orders_rdd.take(5)"
   ]
  },
  {
   "cell_type": "code",
   "execution_count": 109,
   "id": "de1d7bba",
   "metadata": {},
   "outputs": [
    {
     "name": "stderr",
     "output_type": "stream",
     "text": [
      "                                                                                \r"
     ]
    }
   ],
   "source": [
    "# Loading the CUSTOMERS data\n",
    "\n",
    "data_set = 's3://fcc-spark-example/dataset/2023/customers.csv'\n",
    "rdd1 = sc.textFile(data_set)\n",
    "\n",
    "header = rdd1.first()\n",
    "rdd1 = rdd1.filter(lambda x : x != header)\n",
    "\n",
    "customer_rdd = rdd1.map(lambda x: (x.split(',')[0], x.split(',')[-1]))"
   ]
  },
  {
   "cell_type": "code",
   "execution_count": 110,
   "id": "8baa0535",
   "metadata": {},
   "outputs": [
    {
     "name": "stderr",
     "output_type": "stream",
     "text": [
      "                                                                                \r"
     ]
    },
    {
     "data": {
      "text/plain": [
       "[('1', '78521'),\n",
       " ('2', '80126'),\n",
       " ('3', '00725'),\n",
       " ('4', '92069'),\n",
       " ('5', '00725')]"
      ]
     },
     "execution_count": 110,
     "metadata": {},
     "output_type": "execute_result"
    }
   ],
   "source": [
    "customer_rdd.take(5)"
   ]
  },
  {
   "cell_type": "code",
   "execution_count": 114,
   "id": "866132e0",
   "metadata": {},
   "outputs": [],
   "source": [
    "joined_rdd = customer_rdd.join(orders_rdd)\n",
    "                #self.            #second\n",
    "                (k, v1)           (k, v2)\n",
    "        \n",
    "            (k, (v1, v2))"
   ]
  },
  {
   "cell_type": "code",
   "execution_count": 115,
   "id": "2f296bc4",
   "metadata": {},
   "outputs": [
    {
     "name": "stderr",
     "output_type": "stream",
     "text": [
      "                                                                                \r"
     ]
    },
    {
     "data": {
      "text/plain": [
       "[('4', ('92069', 'COMPLETE')),\n",
       " ('4', ('92069', 'COMPLETE')),\n",
       " ('4', ('92069', 'PENDING_PAYMENT')),\n",
       " ('4', ('92069', 'COMPLETE')),\n",
       " ('4', ('92069', 'COMPLETE')),\n",
       " ('4', ('92069', 'CLOSED')),\n",
       " ('10', ('22554', 'COMPLETE')),\n",
       " ('10', ('22554', 'COMPLETE')),\n",
       " ('12', ('78227', 'PENDING_PAYMENT')),\n",
       " ('12', ('78227', 'PENDING_PAYMENT'))]"
      ]
     },
     "execution_count": 115,
     "metadata": {},
     "output_type": "execute_result"
    }
   ],
   "source": [
    "joined_rdd.take(10)"
   ]
  },
  {
   "cell_type": "code",
   "execution_count": 116,
   "id": "a02e59ae",
   "metadata": {},
   "outputs": [
    {
     "name": "stderr",
     "output_type": "stream",
     "text": [
      "                                                                                \r"
     ]
    },
    {
     "data": {
      "text/plain": [
       "[('256', ('PENDING_PAYMENT', '60625')),\n",
       " ('256', ('CLOSED', '60625')),\n",
       " ('256', ('PENDING_PAYMENT', '60625')),\n",
       " ('256', ('PENDING', '60625')),\n",
       " ('256', ('PENDING_PAYMENT', '60625')),\n",
       " ('256', ('CLOSED', '60625')),\n",
       " ('256', ('PENDING', '60625')),\n",
       " ('256', ('PENDING', '60625')),\n",
       " ('256', ('PROCESSING', '60625')),\n",
       " ('256', ('COMPLETE', '60625'))]"
      ]
     },
     "execution_count": 116,
     "metadata": {},
     "output_type": "execute_result"
    }
   ],
   "source": [
    "orders_rdd.join(customer_rdd).take(10)"
   ]
  },
  {
   "cell_type": "code",
   "execution_count": 117,
   "id": "08b5a91d",
   "metadata": {},
   "outputs": [],
   "source": [
    "# Loading the orders data\n",
    "data_set = 's3://fcc-spark-example/dataset/2023/orders_cust_id_999/*'\n",
    "rdd1 = sc.textFile(data_set)\n",
    "\n",
    "orders_rdd = rdd1.map(lambda line: (int(line.split(',')[2]), line.split(',')[-1])) "
   ]
  },
  {
   "cell_type": "code",
   "execution_count": 118,
   "id": "5981532d",
   "metadata": {},
   "outputs": [
    {
     "name": "stderr",
     "output_type": "stream",
     "text": [
      "                                                                                \r"
     ]
    },
    {
     "data": {
      "text/plain": [
       "[(256, 'PENDING_PAYMENT'),\n",
       " (918, 'PAYMENT_REVIEW'),\n",
       " (333, 'COMPLETE'),\n",
       " (656, 'COMPLETE'),\n",
       " (196, 'PROCESSING')]"
      ]
     },
     "execution_count": 118,
     "metadata": {},
     "output_type": "execute_result"
    }
   ],
   "source": [
    "orders_rdd.take(5)"
   ]
  },
  {
   "cell_type": "code",
   "execution_count": 119,
   "id": "367d3e4f",
   "metadata": {},
   "outputs": [],
   "source": [
    "# Loading the customers data\n",
    "data_set = 's3://fcc-spark-example/dataset/2023/customers_cust_id_999/*'\n",
    "rdd1 = sc.textFile(data_set)\n",
    "\n",
    "customer_rdd = rdd1.map(lambda x: (int(x.split(',')[0]), x.split(',')[-1]))"
   ]
  },
  {
   "cell_type": "code",
   "execution_count": 120,
   "id": "e05b0f34",
   "metadata": {},
   "outputs": [
    {
     "data": {
      "text/plain": [
       "[(1, '78521'), (2, '80126'), (3, '00725'), (4, '92069'), (5, '00725')]"
      ]
     },
     "execution_count": 120,
     "metadata": {},
     "output_type": "execute_result"
    }
   ],
   "source": [
    "customer_rdd.take(5)"
   ]
  },
  {
   "cell_type": "code",
   "execution_count": 126,
   "id": "0ab2bc26",
   "metadata": {},
   "outputs": [],
   "source": [
    "bradcast_variable = sc.broadcast(dict(customer_rdd.collect()))"
   ]
  },
  {
   "cell_type": "code",
   "execution_count": 129,
   "id": "db965bd7",
   "metadata": {},
   "outputs": [],
   "source": [
    "def get_zip_code(customer_id):\n",
    "    \n",
    "    return bradcast_variable.value.get(customer_id)"
   ]
  },
  {
   "cell_type": "code",
   "execution_count": 131,
   "id": "5a76e9f8",
   "metadata": {},
   "outputs": [
    {
     "data": {
      "text/plain": [
       "'92336'"
      ]
     },
     "execution_count": 131,
     "metadata": {},
     "output_type": "execute_result"
    }
   ],
   "source": [
    "get_zip_code(15)"
   ]
  },
  {
   "cell_type": "code",
   "execution_count": 134,
   "id": "4a3c197a",
   "metadata": {},
   "outputs": [],
   "source": [
    "# (256, 'PENDING_PAYMENT')\n",
    "\n",
    "joined_rdd = orders_rdd.map(lambda x: (x[0], (x[1], get_zip_code(x[0]))))"
   ]
  },
  {
   "cell_type": "code",
   "execution_count": 136,
   "id": "0f539489",
   "metadata": {},
   "outputs": [
    {
     "name": "stderr",
     "output_type": "stream",
     "text": [
      "                                                                                \r"
     ]
    },
    {
     "data": {
      "text/plain": [
       "[(256, ('PENDING_PAYMENT', '60625')),\n",
       " (918, ('PAYMENT_REVIEW', '00725')),\n",
       " (333, ('COMPLETE', '00725')),\n",
       " (656, ('COMPLETE', '91767')),\n",
       " (196, ('PROCESSING', '48126')),\n",
       " (662, ('PENDING_PAYMENT', '00725')),\n",
       " (674, ('PROCESSING', '19067')),\n",
       " (824, ('ON_HOLD', '21740')),\n",
       " (395, ('PROCESSING', '02151')),\n",
       " (104, ('PROCESSING', '55112'))]"
      ]
     },
     "execution_count": 136,
     "metadata": {},
     "output_type": "execute_result"
    },
    {
     "name": "stderr",
     "output_type": "stream",
     "text": [
      "23/05/11 22:57:25 WARN BlockManagerMasterEndpoint: No more replicas available for broadcast_72_python !\n"
     ]
    }
   ],
   "source": [
    "joined_rdd.take(10)"
   ]
  },
  {
   "cell_type": "code",
   "execution_count": null,
   "id": "4f95f908",
   "metadata": {},
   "outputs": [],
   "source": []
  },
  {
   "cell_type": "code",
   "execution_count": null,
   "id": "6389d1d3",
   "metadata": {},
   "outputs": [],
   "source": []
  },
  {
   "cell_type": "code",
   "execution_count": null,
   "id": "9819993a",
   "metadata": {},
   "outputs": [],
   "source": []
  },
  {
   "cell_type": "code",
   "execution_count": null,
   "id": "5d2f51ee",
   "metadata": {},
   "outputs": [],
   "source": []
  }
 ],
 "metadata": {
  "kernelspec": {
   "display_name": "Python 3 (ipykernel)",
   "language": "python",
   "name": "python3"
  },
  "language_info": {
   "codemirror_mode": {
    "name": "ipython",
    "version": 3
   },
   "file_extension": ".py",
   "mimetype": "text/x-python",
   "name": "python",
   "nbconvert_exporter": "python",
   "pygments_lexer": "ipython3",
   "version": "3.7.16"
  }
 },
 "nbformat": 4,
 "nbformat_minor": 5
}
