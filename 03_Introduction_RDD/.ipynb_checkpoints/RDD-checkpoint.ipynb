{
 "cells": [
  {
   "cell_type": "markdown",
   "id": "2de0299c",
   "metadata": {},
   "source": [
    "# SparkSession"
   ]
  },
  {
   "cell_type": "markdown",
   "id": "97ed38b4",
   "metadata": {},
   "source": [
    "The `SparkSession` class, defined in the `pyspark.sql package`, is the entry point\n",
    "to programming Spark with the `Dataset and DataFrame` APIs. In order to do\n",
    "anything useful with a Spark cluster, you first need to create an instance of this\n",
    "class, which gives you access to an instance of SparkContext."
   ]
  },
  {
   "cell_type": "markdown",
   "id": "ad2daa12",
   "metadata": {},
   "source": [
    "# SparkContext"
   ]
  },
  {
   "cell_type": "markdown",
   "id": "b13e9c78",
   "metadata": {},
   "source": [
    "The `SparkContext` class, defined in the pyspark package, is the main entry point\n",
    "for Spark functionality. A `SparkContext` holds a connection to the Spark cluster\n",
    "manager and can be used to `create RDDs and broadcast variables` in the cluster.\n",
    "\n",
    "When you create an instance of `SparkSession`, the `SparkContext` becomes **available**\n",
    "inside your session as an attribute, `SparkSession.sparkContext`."
   ]
  },
  {
   "cell_type": "markdown",
   "id": "23b30d22",
   "metadata": {},
   "source": [
    "# Why we need SparkSession ?"
   ]
  },
  {
   "cell_type": "markdown",
   "id": "a8022f00",
   "metadata": {},
   "source": [
    "Prior to **Spark 2.0**, entry points for Spark applications included the\n",
    "- `SparkContext`, used for Spark core applications\n",
    "- `SQLContext` and HiveContext, used with Spark SQL applications\n",
    "- `StreamingContext` used for Spark Streaming applications. \n",
    "\n",
    "The `SparkSession` object introduced in Spark 2.0 **combines all these objects into a single entry point that can be used for\n",
    "all Spark applications**."
   ]
  },
  {
   "cell_type": "code",
   "execution_count": 1,
   "id": "249bf7e0",
   "metadata": {},
   "outputs": [
    {
     "data": {
      "text/html": [
       "\n",
       "            <div>\n",
       "                <p><b>SparkSession - hive</b></p>\n",
       "                \n",
       "        <div>\n",
       "            <p><b>SparkContext</b></p>\n",
       "\n",
       "            <p><a href=\"http://ip-172-31-2-35.us-east-2.compute.internal:4040\">Spark UI</a></p>\n",
       "\n",
       "            <dl>\n",
       "              <dt>Version</dt>\n",
       "                <dd><code>v3.3.0-amzn-1</code></dd>\n",
       "              <dt>Master</dt>\n",
       "                <dd><code>yarn</code></dd>\n",
       "              <dt>AppName</dt>\n",
       "                <dd><code>PySparkShell</code></dd>\n",
       "            </dl>\n",
       "        </div>\n",
       "        \n",
       "            </div>\n",
       "        "
      ],
      "text/plain": [
       "<pyspark.sql.session.SparkSession at 0x7f1c90007c10>"
      ]
     },
     "execution_count": 1,
     "metadata": {},
     "output_type": "execute_result"
    }
   ],
   "source": [
    "spark"
   ]
  },
  {
   "cell_type": "code",
   "execution_count": 2,
   "id": "573b591a",
   "metadata": {
    "scrolled": false
   },
   "outputs": [
    {
     "data": {
      "text/html": [
       "\n",
       "        <div>\n",
       "            <p><b>SparkContext</b></p>\n",
       "\n",
       "            <p><a href=\"http://ip-172-31-2-35.us-east-2.compute.internal:4040\">Spark UI</a></p>\n",
       "\n",
       "            <dl>\n",
       "              <dt>Version</dt>\n",
       "                <dd><code>v3.3.0-amzn-1</code></dd>\n",
       "              <dt>Master</dt>\n",
       "                <dd><code>yarn</code></dd>\n",
       "              <dt>AppName</dt>\n",
       "                <dd><code>PySparkShell</code></dd>\n",
       "            </dl>\n",
       "        </div>\n",
       "        "
      ],
      "text/plain": [
       "<SparkContext master=yarn appName=PySparkShell>"
      ]
     },
     "execution_count": 2,
     "metadata": {},
     "output_type": "execute_result"
    }
   ],
   "source": [
    "sc  # We need to use Spark Context, since we are dealing with RDD "
   ]
  },
  {
   "cell_type": "code",
   "execution_count": 3,
   "id": "1a17c959",
   "metadata": {},
   "outputs": [],
   "source": [
    "rdd1 = sc.textFile('s3://fcc-spark-example/dataset/2023/orders.txt')  # Transformation "
   ]
  },
  {
   "cell_type": "code",
   "execution_count": 5,
   "id": "6354f506",
   "metadata": {},
   "outputs": [
    {
     "data": {
      "text/plain": [
       "pyspark.rdd.RDD"
      ]
     },
     "execution_count": 5,
     "metadata": {},
     "output_type": "execute_result"
    }
   ],
   "source": [
    "type(rdd1)"
   ]
  },
  {
   "cell_type": "code",
   "execution_count": 6,
   "id": "ce9c902d",
   "metadata": {},
   "outputs": [
    {
     "name": "stderr",
     "output_type": "stream",
     "text": [
      "                                                                                \r"
     ]
    },
    {
     "data": {
      "text/plain": [
       "['1,2013-07-25 00:00:00.0,11599,CLOSED',\n",
       " '2,2013-07-25 00:00:00.0,256,PENDING_PAYMENT',\n",
       " '3,2013-07-25 00:00:00.0,12111,COMPLETE',\n",
       " '4,2013-07-25 00:00:00.0,8827,CLOSED',\n",
       " '5,2013-07-25 00:00:00.0,11318,COMPLETE',\n",
       " '6,2013-07-25 00:00:00.0,7130,COMPLETE',\n",
       " '7,2013-07-25 00:00:00.0,4530,COMPLETE',\n",
       " '8,2013-07-25 00:00:00.0,2911,PROCESSING',\n",
       " '9,2013-07-25 00:00:00.0,5657,PENDING_PAYMENT',\n",
       " '10,2013-07-25 00:00:00.0,5648,PENDING_PAYMENT']"
      ]
     },
     "execution_count": 6,
     "metadata": {},
     "output_type": "execute_result"
    }
   ],
   "source": [
    "rdd1.take(5) # Action "
   ]
  },
  {
   "cell_type": "code",
   "execution_count": 14,
   "id": "206ee93c",
   "metadata": {},
   "outputs": [
    {
     "name": "stderr",
     "output_type": "stream",
     "text": [
      "                                                                                \r"
     ]
    },
    {
     "data": {
      "text/plain": [
       "68881"
      ]
     },
     "execution_count": 14,
     "metadata": {},
     "output_type": "execute_result"
    }
   ],
   "source": [
    "rdd1.count()"
   ]
  },
  {
   "cell_type": "code",
   "execution_count": null,
   "id": "4dcafaaa",
   "metadata": {},
   "outputs": [],
   "source": [
    "rdd1.collect()"
   ]
  },
  {
   "cell_type": "markdown",
   "id": "ba0c6754",
   "metadata": {},
   "source": [
    "# Findout the no. of orders based on different order status "
   ]
  },
  {
   "cell_type": "code",
   "execution_count": 9,
   "id": "1d087202",
   "metadata": {},
   "outputs": [
    {
     "data": {
      "text/plain": [
       "'CLOSED'"
      ]
     },
     "execution_count": 9,
     "metadata": {},
     "output_type": "execute_result"
    }
   ],
   "source": [
    "a = '1,2013-07-25 00:00:00.0,11599,CLOSED'\n",
    "a.split(',')[-1]"
   ]
  },
  {
   "cell_type": "code",
   "execution_count": 10,
   "id": "493c4ea5",
   "metadata": {},
   "outputs": [],
   "source": [
    "rdd2 = rdd1.map(lambda line: (line.split(',')[-1], 1))"
   ]
  },
  {
   "cell_type": "code",
   "execution_count": 15,
   "id": "775f9595",
   "metadata": {},
   "outputs": [
    {
     "data": {
      "text/plain": [
       "68881"
      ]
     },
     "execution_count": 15,
     "metadata": {},
     "output_type": "execute_result"
    }
   ],
   "source": [
    "rdd2.count()"
   ]
  },
  {
   "cell_type": "code",
   "execution_count": 11,
   "id": "c39b593f",
   "metadata": {},
   "outputs": [
    {
     "name": "stderr",
     "output_type": "stream",
     "text": [
      "                                                                                \r"
     ]
    },
    {
     "data": {
      "text/plain": [
       "[('CLOSED', 1),\n",
       " ('PENDING_PAYMENT', 1),\n",
       " ('COMPLETE', 1),\n",
       " ('CLOSED', 1),\n",
       " ('COMPLETE', 1),\n",
       " ('COMPLETE', 1),\n",
       " ('COMPLETE', 1),\n",
       " ('PROCESSING', 1),\n",
       " ('PENDING_PAYMENT', 1),\n",
       " ('PENDING_PAYMENT', 1)]"
      ]
     },
     "execution_count": 11,
     "metadata": {},
     "output_type": "execute_result"
    }
   ],
   "source": [
    "rdd2.take(10)"
   ]
  },
  {
   "cell_type": "code",
   "execution_count": 12,
   "id": "3da797da",
   "metadata": {},
   "outputs": [],
   "source": [
    "rdd3 = rdd2.reduceByKey(lambda x, y: x+y) # Tansformation "
   ]
  },
  {
   "cell_type": "code",
   "execution_count": 13,
   "id": "8095ec64",
   "metadata": {},
   "outputs": [
    {
     "name": "stderr",
     "output_type": "stream",
     "text": [
      "                                                                                \r"
     ]
    },
    {
     "data": {
      "text/plain": [
       "[('CLOSED', 7556),\n",
       " ('CANCELED', 1428),\n",
       " ('PENDING_PAYMENT', 15030),\n",
       " ('COMPLETE', 22899),\n",
       " ('PROCESSING', 8274),\n",
       " ('PAYMENT_REVIEW', 729),\n",
       " ('PENDING', 7609),\n",
       " ('ON_HOLD', 3798),\n",
       " ('SUSPECTED_FRAUD', 1558)]"
      ]
     },
     "execution_count": 13,
     "metadata": {},
     "output_type": "execute_result"
    }
   ],
   "source": [
    "rdd3.collect() # Action "
   ]
  },
  {
   "cell_type": "markdown",
   "id": "93a6927a",
   "metadata": {},
   "source": [
    "# Find out the top 10 premium customers "
   ]
  },
  {
   "cell_type": "code",
   "execution_count": 22,
   "id": "9c2e84f5",
   "metadata": {},
   "outputs": [],
   "source": [
    "rdd1 = sc.textFile('s3://fcc-spark-example/dataset/2023/orders.txt')"
   ]
  },
  {
   "cell_type": "code",
   "execution_count": 23,
   "id": "935c41fe",
   "metadata": {},
   "outputs": [
    {
     "name": "stderr",
     "output_type": "stream",
     "text": [
      "                                                                                \r"
     ]
    },
    {
     "data": {
      "text/plain": [
       "['1,2013-07-25 00:00:00.0,11599,CLOSED',\n",
       " '2,2013-07-25 00:00:00.0,256,PENDING_PAYMENT',\n",
       " '3,2013-07-25 00:00:00.0,12111,COMPLETE',\n",
       " '4,2013-07-25 00:00:00.0,8827,CLOSED',\n",
       " '5,2013-07-25 00:00:00.0,11318,COMPLETE',\n",
       " '6,2013-07-25 00:00:00.0,7130,COMPLETE',\n",
       " '7,2013-07-25 00:00:00.0,4530,COMPLETE',\n",
       " '8,2013-07-25 00:00:00.0,2911,PROCESSING',\n",
       " '9,2013-07-25 00:00:00.0,5657,PENDING_PAYMENT',\n",
       " '10,2013-07-25 00:00:00.0,5648,PENDING_PAYMENT']"
      ]
     },
     "execution_count": 23,
     "metadata": {},
     "output_type": "execute_result"
    }
   ],
   "source": [
    "rdd1.take(10)"
   ]
  },
  {
   "cell_type": "code",
   "execution_count": 24,
   "id": "e717f689",
   "metadata": {},
   "outputs": [],
   "source": [
    "rdd2 = rdd1.map(lambda line: (line.split(',')[2], 1))"
   ]
  },
  {
   "cell_type": "code",
   "execution_count": 25,
   "id": "775732b0",
   "metadata": {},
   "outputs": [
    {
     "name": "stderr",
     "output_type": "stream",
     "text": [
      "                                                                                \r"
     ]
    },
    {
     "data": {
      "text/plain": [
       "[('11599', 1),\n",
       " ('256', 1),\n",
       " ('12111', 1),\n",
       " ('8827', 1),\n",
       " ('11318', 1),\n",
       " ('7130', 1),\n",
       " ('4530', 1),\n",
       " ('2911', 1),\n",
       " ('5657', 1),\n",
       " ('5648', 1)]"
      ]
     },
     "execution_count": 25,
     "metadata": {},
     "output_type": "execute_result"
    }
   ],
   "source": [
    "rdd2.take(10) "
   ]
  },
  {
   "cell_type": "code",
   "execution_count": 26,
   "id": "a82e14de",
   "metadata": {},
   "outputs": [],
   "source": [
    "rdd3 = rdd2.reduceByKey(lambda x, y: x+y)"
   ]
  },
  {
   "cell_type": "code",
   "execution_count": 27,
   "id": "b6e0de46",
   "metadata": {},
   "outputs": [
    {
     "name": "stderr",
     "output_type": "stream",
     "text": [
      "                                                                                \r"
     ]
    },
    {
     "data": {
      "text/plain": [
       "[('256', 10),\n",
       " ('12111', 6),\n",
       " ('11318', 6),\n",
       " ('7130', 7),\n",
       " ('2911', 6),\n",
       " ('5657', 12),\n",
       " ('9149', 4),\n",
       " ('9842', 7),\n",
       " ('7276', 5),\n",
       " ('9488', 7),\n",
       " ('2711', 3),\n",
       " ('333', 6),\n",
       " ('656', 5),\n",
       " ('6983', 6),\n",
       " ('4189', 3),\n",
       " ('4840', 2),\n",
       " ('5863', 6),\n",
       " ('8214', 5),\n",
       " ('7776', 8),\n",
       " ('1549', 4)]"
      ]
     },
     "execution_count": 27,
     "metadata": {},
     "output_type": "execute_result"
    }
   ],
   "source": [
    "rdd3.take(20)"
   ]
  },
  {
   "cell_type": "code",
   "execution_count": 34,
   "id": "50683c14",
   "metadata": {},
   "outputs": [],
   "source": [
    "rdd4 = rdd3.sortBy(lambda x: x[-1], ascending=False)"
   ]
  },
  {
   "cell_type": "code",
   "execution_count": 35,
   "id": "8183af89",
   "metadata": {
    "scrolled": true
   },
   "outputs": [
    {
     "data": {
      "text/plain": [
       "[('5897', 16),\n",
       " ('6316', 16),\n",
       " ('12431', 16),\n",
       " ('569', 16),\n",
       " ('4320', 15),\n",
       " ('221', 15),\n",
       " ('5624', 15),\n",
       " ('5283', 15),\n",
       " ('12284', 15),\n",
       " ('5654', 15)]"
      ]
     },
     "execution_count": 35,
     "metadata": {},
     "output_type": "execute_result"
    }
   ],
   "source": [
    "rdd4.take(10)"
   ]
  },
  {
   "cell_type": "markdown",
   "id": "c7ce62c9",
   "metadata": {},
   "source": [
    "# Distinct count of customers who have placed at least one order "
   ]
  },
  {
   "cell_type": "code",
   "execution_count": 39,
   "id": "a81354be",
   "metadata": {},
   "outputs": [],
   "source": [
    "rdd1 = sc.textFile('s3://fcc-spark-example/dataset/2023/orders.txt')"
   ]
  },
  {
   "cell_type": "code",
   "execution_count": 40,
   "id": "a8f00bd7",
   "metadata": {},
   "outputs": [
    {
     "name": "stderr",
     "output_type": "stream",
     "text": [
      "                                                                                \r"
     ]
    },
    {
     "data": {
      "text/plain": [
       "['1,2013-07-25 00:00:00.0,11599,CLOSED',\n",
       " '2,2013-07-25 00:00:00.0,256,PENDING_PAYMENT',\n",
       " '3,2013-07-25 00:00:00.0,12111,COMPLETE',\n",
       " '4,2013-07-25 00:00:00.0,8827,CLOSED',\n",
       " '5,2013-07-25 00:00:00.0,11318,COMPLETE']"
      ]
     },
     "execution_count": 40,
     "metadata": {},
     "output_type": "execute_result"
    }
   ],
   "source": [
    "rdd1.take(5)"
   ]
  },
  {
   "cell_type": "code",
   "execution_count": 41,
   "id": "aa7e6a10",
   "metadata": {},
   "outputs": [],
   "source": [
    "rdd2 = rdd1.map(lambda line: line.split(',')[2])"
   ]
  },
  {
   "cell_type": "code",
   "execution_count": 42,
   "id": "b82b81b8",
   "metadata": {},
   "outputs": [
    {
     "name": "stderr",
     "output_type": "stream",
     "text": [
      "                                                                                \r"
     ]
    },
    {
     "data": {
      "text/plain": [
       "['11599',\n",
       " '256',\n",
       " '12111',\n",
       " '8827',\n",
       " '11318',\n",
       " '7130',\n",
       " '4530',\n",
       " '2911',\n",
       " '5657',\n",
       " '5648']"
      ]
     },
     "execution_count": 42,
     "metadata": {},
     "output_type": "execute_result"
    }
   ],
   "source": [
    "rdd2.take(10)"
   ]
  },
  {
   "cell_type": "code",
   "execution_count": 43,
   "id": "ea9a5b31",
   "metadata": {},
   "outputs": [],
   "source": [
    "rdd3 = rdd2.distinct()"
   ]
  },
  {
   "cell_type": "code",
   "execution_count": 44,
   "id": "ad0a1eb4",
   "metadata": {},
   "outputs": [
    {
     "name": "stderr",
     "output_type": "stream",
     "text": [
      "                                                                                \r"
     ]
    },
    {
     "data": {
      "text/plain": [
       "12405"
      ]
     },
     "execution_count": 44,
     "metadata": {},
     "output_type": "execute_result"
    }
   ],
   "source": [
    "rdd3.count()"
   ]
  },
  {
   "cell_type": "code",
   "execution_count": 45,
   "id": "388e9eae",
   "metadata": {},
   "outputs": [
    {
     "data": {
      "text/plain": [
       "68881"
      ]
     },
     "execution_count": 45,
     "metadata": {},
     "output_type": "execute_result"
    }
   ],
   "source": [
    "rdd1.count()"
   ]
  },
  {
   "cell_type": "markdown",
   "id": "66b04922",
   "metadata": {},
   "source": [
    "# Find out the customers who has the maximum no. of orders which are in `PENDING_PAYMENT`"
   ]
  },
  {
   "cell_type": "code",
   "execution_count": 9,
   "id": "8d0fc353",
   "metadata": {},
   "outputs": [],
   "source": [
    "rdd1 = sc.textFile('s3://fcc-spark-example/dataset/2023/orders.txt')"
   ]
  },
  {
   "cell_type": "code",
   "execution_count": 10,
   "id": "d96ba9b4",
   "metadata": {},
   "outputs": [],
   "source": [
    "rdd2 = rdd1.map(lambda line: line.split(',')[-2::])"
   ]
  },
  {
   "cell_type": "code",
   "execution_count": 11,
   "id": "11020fe2",
   "metadata": {},
   "outputs": [],
   "source": [
    "rdd3 = rdd2.filter(lambda line: line[1] == 'PENDING_PAYMENT')"
   ]
  },
  {
   "cell_type": "code",
   "execution_count": 12,
   "id": "c69e1442",
   "metadata": {},
   "outputs": [],
   "source": [
    "rdd4 = rdd3.map(lambda x: (x[0], 1))"
   ]
  },
  {
   "cell_type": "code",
   "execution_count": 13,
   "id": "44bf73c6",
   "metadata": {},
   "outputs": [],
   "source": [
    "rdd5 = rdd4.reduceByKey(lambda x, y: x + y)"
   ]
  },
  {
   "cell_type": "code",
   "execution_count": 63,
   "id": "4c0d0cb6",
   "metadata": {
    "scrolled": true
   },
   "outputs": [
    {
     "name": "stderr",
     "output_type": "stream",
     "text": [
      "                                                                                \r"
     ]
    }
   ],
   "source": [
    "rdd6 = rdd5.sortBy(lambda x: x[-1], ascending=False)"
   ]
  },
  {
   "cell_type": "markdown",
   "id": "adf6aab7",
   "metadata": {},
   "source": [
    "# Word Count Problem and `Chaining functions`"
   ]
  },
  {
   "cell_type": "code",
   "execution_count": null,
   "id": "ad75a367",
   "metadata": {},
   "outputs": [],
   "source": [
    "data_set = 's3://fcc-spark-example/dataset/gutenberg_books/11-0.txt'"
   ]
  },
  {
   "cell_type": "code",
   "execution_count": 2,
   "id": "4aafa08d",
   "metadata": {},
   "outputs": [],
   "source": [
    "# - load the file \n",
    "# - split each line based on space \n",
    "# - ('word1', 'word2', .....) =========>.   [('word1', 1), ('word2', 1).....]\n",
    "# - reducebykey()\n",
    "# - sortby()"
   ]
  },
  {
   "cell_type": "code",
   "execution_count": 5,
   "id": "f4bf7fcf",
   "metadata": {},
   "outputs": [],
   "source": [
    "result = (sc.textFile(data_set) \n",
    "            .flatMap(lambda line: line.split(' ')) \n",
    "            .map(lambda word: (word, 1)) \n",
    "            .reduceByKey(lambda x, y: x + y)\n",
    "         )"
   ]
  },
  {
   "cell_type": "code",
   "execution_count": 6,
   "id": "6d374c59",
   "metadata": {},
   "outputs": [
    {
     "name": "stderr",
     "output_type": "stream",
     "text": [
      "\r",
      "                                                                                \r"
     ]
    },
    {
     "data": {
      "text/plain": [
       "[('Project', 78),\n",
       " ('Gutenberg’s', 2),\n",
       " ('Alice’s', 11),\n",
       " ('in', 401),\n",
       " ('Wonderland,', 3),\n",
       " ('Lewis', 4),\n",
       " ('Carroll', 4),\n",
       " ('', 2244),\n",
       " ('is', 89),\n",
       " ('use', 24)]"
      ]
     },
     "execution_count": 6,
     "metadata": {},
     "output_type": "execute_result"
    }
   ],
   "source": [
    "result.take(10)"
   ]
  },
  {
   "cell_type": "code",
   "execution_count": null,
   "id": "b6bcf6f6",
   "metadata": {},
   "outputs": [],
   "source": []
  },
  {
   "cell_type": "code",
   "execution_count": null,
   "id": "950850f9",
   "metadata": {},
   "outputs": [],
   "source": []
  },
  {
   "cell_type": "code",
   "execution_count": null,
   "id": "d681e275",
   "metadata": {},
   "outputs": [],
   "source": []
  },
  {
   "cell_type": "code",
   "execution_count": null,
   "id": "f7fb4e89",
   "metadata": {},
   "outputs": [],
   "source": []
  }
 ],
 "metadata": {
  "kernelspec": {
   "display_name": "Python 3 (ipykernel)",
   "language": "python",
   "name": "python3"
  },
  "language_info": {
   "codemirror_mode": {
    "name": "ipython",
    "version": 3
   },
   "file_extension": ".py",
   "mimetype": "text/x-python",
   "name": "python",
   "nbconvert_exporter": "python",
   "pygments_lexer": "ipython3",
   "version": "3.7.16"
  }
 },
 "nbformat": 4,
 "nbformat_minor": 5
}
