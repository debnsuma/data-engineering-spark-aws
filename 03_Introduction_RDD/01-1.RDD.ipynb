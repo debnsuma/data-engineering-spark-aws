{
 "cells": [
  {
   "cell_type": "code",
   "execution_count": 1,
   "id": "9df3bd52",
   "metadata": {},
   "outputs": [
    {
     "data": {
      "text/html": [
       "\n",
       "            <div>\n",
       "                <p><b>SparkSession - hive</b></p>\n",
       "                \n",
       "        <div>\n",
       "            <p><b>SparkContext</b></p>\n",
       "\n",
       "            <p><a href=\"http://ip-172-31-2-35.us-east-2.compute.internal:4046\">Spark UI</a></p>\n",
       "\n",
       "            <dl>\n",
       "              <dt>Version</dt>\n",
       "                <dd><code>v3.3.0-amzn-1</code></dd>\n",
       "              <dt>Master</dt>\n",
       "                <dd><code>yarn</code></dd>\n",
       "              <dt>AppName</dt>\n",
       "                <dd><code>PySparkShell</code></dd>\n",
       "            </dl>\n",
       "        </div>\n",
       "        \n",
       "            </div>\n",
       "        "
      ],
      "text/plain": [
       "<pyspark.sql.session.SparkSession at 0x7f802c0bfb90>"
      ]
     },
     "execution_count": 1,
     "metadata": {},
     "output_type": "execute_result"
    }
   ],
   "source": [
    "spark"
   ]
  },
  {
   "cell_type": "markdown",
   "id": "a560864d",
   "metadata": {},
   "source": [
    "## Load the `dataset`"
   ]
  },
  {
   "cell_type": "code",
   "execution_count": 1,
   "id": "05da1ae8",
   "metadata": {},
   "outputs": [],
   "source": [
    "data_set = 's3://fcc-spark-example/dataset/gutenberg_books/1342-0.txt'"
   ]
  },
  {
   "cell_type": "markdown",
   "id": "43ea0932",
   "metadata": {},
   "source": [
    "## Create `SparkContext`"
   ]
  },
  {
   "cell_type": "code",
   "execution_count": 2,
   "id": "d6efde82",
   "metadata": {},
   "outputs": [],
   "source": [
    "sc = spark.sparkContext"
   ]
  },
  {
   "cell_type": "code",
   "execution_count": 3,
   "id": "33744792",
   "metadata": {},
   "outputs": [
    {
     "data": {
      "text/html": [
       "\n",
       "        <div>\n",
       "            <p><b>SparkContext</b></p>\n",
       "\n",
       "            <p><a href=\"http://ip-172-31-2-35.us-east-2.compute.internal:4040\">Spark UI</a></p>\n",
       "\n",
       "            <dl>\n",
       "              <dt>Version</dt>\n",
       "                <dd><code>v3.3.0-amzn-1</code></dd>\n",
       "              <dt>Master</dt>\n",
       "                <dd><code>yarn</code></dd>\n",
       "              <dt>AppName</dt>\n",
       "                <dd><code>PySparkShell</code></dd>\n",
       "            </dl>\n",
       "        </div>\n",
       "        "
      ],
      "text/plain": [
       "<SparkContext master=yarn appName=PySparkShell>"
      ]
     },
     "execution_count": 3,
     "metadata": {},
     "output_type": "execute_result"
    }
   ],
   "source": [
    "sc"
   ]
  },
  {
   "cell_type": "markdown",
   "id": "1e934db3",
   "metadata": {},
   "source": [
    "## Create a `RDD`"
   ]
  },
  {
   "cell_type": "code",
   "execution_count": 4,
   "id": "e0580c95",
   "metadata": {},
   "outputs": [],
   "source": [
    "rdd1 = sc.textFile(data_set)"
   ]
  },
  {
   "cell_type": "code",
   "execution_count": 5,
   "id": "20e0dc5f",
   "metadata": {},
   "outputs": [
    {
     "data": {
      "text/plain": [
       "s3://fcc-spark-example/dataset/gutenberg_books/1342-0.txt MapPartitionsRDD[1] at textFile at NativeMethodAccessorImpl.java:0"
      ]
     },
     "execution_count": 5,
     "metadata": {},
     "output_type": "execute_result"
    }
   ],
   "source": [
    "rdd1"
   ]
  },
  {
   "cell_type": "code",
   "execution_count": 12,
   "id": "3b0874b4",
   "metadata": {},
   "outputs": [
    {
     "name": "stderr",
     "output_type": "stream",
     "text": [
      "\r",
      "[Stage 4:>                                                          (0 + 1) / 1]\r",
      "\r",
      "                                                                                \r"
     ]
    },
    {
     "data": {
      "text/plain": [
       "['The Project Gutenberg EBook of Pride and Prejudice, by Jane Austen',\n",
       " '',\n",
       " 'This eBook is for the use of anyone anywhere at no cost and with',\n",
       " 'almost no restrictions whatsoever.  You may copy it, give it away or',\n",
       " 're-use it under the terms of the Project Gutenberg License included',\n",
       " 'with this eBook or online at www.gutenberg.org',\n",
       " '',\n",
       " '',\n",
       " 'Title: Pride and Prejudice',\n",
       " '']"
      ]
     },
     "execution_count": 12,
     "metadata": {},
     "output_type": "execute_result"
    }
   ],
   "source": [
    "rdd1.take(10)"
   ]
  },
  {
   "cell_type": "markdown",
   "id": "4d5fcfa2",
   "metadata": {},
   "source": [
    "## Word Count"
   ]
  },
  {
   "cell_type": "code",
   "execution_count": 39,
   "id": "a3b9b690",
   "metadata": {},
   "outputs": [],
   "source": [
    "rdd2 = rdd1.flatMap(lambda line: line.split(' '))"
   ]
  },
  {
   "cell_type": "code",
   "execution_count": 40,
   "id": "020b5624",
   "metadata": {},
   "outputs": [
    {
     "name": "stderr",
     "output_type": "stream",
     "text": [
      "                                                                                \r"
     ]
    },
    {
     "data": {
      "text/plain": [
       "['The',\n",
       " 'Project',\n",
       " 'Gutenberg',\n",
       " 'EBook',\n",
       " 'of',\n",
       " 'Pride',\n",
       " 'and',\n",
       " 'Prejudice,',\n",
       " 'by',\n",
       " 'Jane']"
      ]
     },
     "execution_count": 40,
     "metadata": {},
     "output_type": "execute_result"
    }
   ],
   "source": [
    "rdd2.take(10)"
   ]
  },
  {
   "cell_type": "code",
   "execution_count": 41,
   "id": "7db33572",
   "metadata": {},
   "outputs": [
    {
     "data": {
      "text/plain": [
       "127368"
      ]
     },
     "execution_count": 41,
     "metadata": {},
     "output_type": "execute_result"
    }
   ],
   "source": [
    "rdd2.count()"
   ]
  },
  {
   "cell_type": "code",
   "execution_count": 42,
   "id": "ade059f9",
   "metadata": {},
   "outputs": [],
   "source": [
    "rdd3 = rdd2.map(lambda word : (word.lower(), 1))"
   ]
  },
  {
   "cell_type": "code",
   "execution_count": 43,
   "id": "cb43fb77",
   "metadata": {},
   "outputs": [
    {
     "name": "stderr",
     "output_type": "stream",
     "text": [
      "                                                                                \r"
     ]
    },
    {
     "data": {
      "text/plain": [
       "[('the', 1), ('project', 1), ('gutenberg', 1), ('ebook', 1), ('of', 1)]"
      ]
     },
     "execution_count": 43,
     "metadata": {},
     "output_type": "execute_result"
    }
   ],
   "source": [
    "rdd3.take(5)"
   ]
  },
  {
   "cell_type": "code",
   "execution_count": 44,
   "id": "214a5d2e",
   "metadata": {},
   "outputs": [],
   "source": [
    "rdd4 = rdd3.reduceByKey(lambda x, y: x + y)"
   ]
  },
  {
   "cell_type": "code",
   "execution_count": 45,
   "id": "f40c30b4",
   "metadata": {},
   "outputs": [
    {
     "data": {
      "text/plain": [
       "[('project', 82), ('gutenberg', 24), ('ebook', 9), ('of', 3680), ('pride', 30)]"
      ]
     },
     "execution_count": 45,
     "metadata": {},
     "output_type": "execute_result"
    }
   ],
   "source": [
    "rdd4.take(5)"
   ]
  },
  {
   "cell_type": "code",
   "execution_count": 46,
   "id": "fe3669e4",
   "metadata": {},
   "outputs": [],
   "source": [
    "result_folder = 's3://fcc-spark-example/output/word_count2'"
   ]
  },
  {
   "cell_type": "code",
   "execution_count": 35,
   "id": "4747ef24",
   "metadata": {},
   "outputs": [],
   "source": [
    "rdd4.saveAsTextFile(result_folder)"
   ]
  },
  {
   "cell_type": "code",
   "execution_count": 36,
   "id": "ed29f253",
   "metadata": {},
   "outputs": [
    {
     "data": {
      "text/plain": [
       "2"
      ]
     },
     "execution_count": 36,
     "metadata": {},
     "output_type": "execute_result"
    }
   ],
   "source": [
    "rdd4.getNumPartitions()"
   ]
  },
  {
   "cell_type": "code",
   "execution_count": 37,
   "id": "79b3bc76",
   "metadata": {},
   "outputs": [
    {
     "data": {
      "text/plain": [
       "2"
      ]
     },
     "execution_count": 37,
     "metadata": {},
     "output_type": "execute_result"
    }
   ],
   "source": [
    "sc.defaultMinPartitions"
   ]
  },
  {
   "cell_type": "markdown",
   "id": "f0859071",
   "metadata": {},
   "source": [
    "# Removing the `stopping` words"
   ]
  },
  {
   "cell_type": "code",
   "execution_count": 58,
   "id": "72279906",
   "metadata": {},
   "outputs": [],
   "source": [
    "import numpy as np"
   ]
  },
  {
   "cell_type": "code",
   "execution_count": 47,
   "id": "8b7cc043",
   "metadata": {},
   "outputs": [
    {
     "data": {
      "text/plain": [
       "[('project', 82),\n",
       " ('gutenberg', 24),\n",
       " ('ebook', 9),\n",
       " ('of', 3680),\n",
       " ('pride', 30),\n",
       " ('prejudice,', 2),\n",
       " ('jane', 155),\n",
       " ('', 2776),\n",
       " ('this', 413),\n",
       " ('is', 818)]"
      ]
     },
     "execution_count": 47,
     "metadata": {},
     "output_type": "execute_result"
    }
   ],
   "source": [
    "rdd4.take(10)"
   ]
  },
  {
   "cell_type": "code",
   "execution_count": 64,
   "id": "87297612",
   "metadata": {},
   "outputs": [],
   "source": [
    "stopwords = open('stoppingwords.txt').readlines()"
   ]
  },
  {
   "cell_type": "code",
   "execution_count": 66,
   "id": "d93e0e0c",
   "metadata": {},
   "outputs": [],
   "source": [
    "stopwords = [ i.strip() for i in stopwords ]"
   ]
  },
  {
   "cell_type": "code",
   "execution_count": 70,
   "id": "3716d594",
   "metadata": {},
   "outputs": [
    {
     "data": {
      "text/plain": [
       "[\"'ll\", \"'tis\", \"'twas\", \"'ve\", '10', '39', 'a', \"a's\", 'able', 'ableabout']"
      ]
     },
     "execution_count": 70,
     "metadata": {},
     "output_type": "execute_result"
    }
   ],
   "source": [
    "stopwords[:10]"
   ]
  },
  {
   "cell_type": "code",
   "execution_count": 71,
   "id": "8d8c1198",
   "metadata": {
    "scrolled": false
   },
   "outputs": [],
   "source": [
    "result = rdd4.filter(lambda x: x[0] not in stopwords)"
   ]
  },
  {
   "cell_type": "code",
   "execution_count": 73,
   "id": "fb5eadac",
   "metadata": {},
   "outputs": [
    {
     "data": {
      "text/plain": [
       "[('project', 82),\n",
       " ('gutenberg', 24),\n",
       " ('ebook', 9),\n",
       " ('pride', 30),\n",
       " ('prejudice,', 2),\n",
       " ('jane', 155),\n",
       " ('', 2776),\n",
       " ('restrictions', 2),\n",
       " ('whatsoever.', 2),\n",
       " ('it,', 127)]"
      ]
     },
     "execution_count": 73,
     "metadata": {},
     "output_type": "execute_result"
    }
   ],
   "source": [
    "result.take(10)"
   ]
  },
  {
   "cell_type": "code",
   "execution_count": null,
   "id": "e52e9472",
   "metadata": {},
   "outputs": [],
   "source": []
  }
 ],
 "metadata": {
  "kernelspec": {
   "display_name": "Python 3 (ipykernel)",
   "language": "python",
   "name": "python3"
  },
  "language_info": {
   "codemirror_mode": {
    "name": "ipython",
    "version": 3
   },
   "file_extension": ".py",
   "mimetype": "text/x-python",
   "name": "python",
   "nbconvert_exporter": "python",
   "pygments_lexer": "ipython3",
   "version": "3.7.16"
  }
 },
 "nbformat": 4,
 "nbformat_minor": 5
}
