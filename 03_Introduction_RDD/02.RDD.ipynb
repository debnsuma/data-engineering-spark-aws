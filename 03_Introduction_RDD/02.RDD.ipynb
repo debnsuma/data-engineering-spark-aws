{
 "cells": [
  {
   "cell_type": "markdown",
   "id": "3b4b6c7b",
   "metadata": {},
   "source": [
    "# Transformations we will learn: \n",
    "\n",
    "- `map()` \n",
    "- `reduceByKey()`\n",
    "- `filter()` \n"
   ]
  },
  {
   "cell_type": "markdown",
   "id": "a560864d",
   "metadata": {},
   "source": [
    "## Load the `dataset`"
   ]
  },
  {
   "cell_type": "code",
   "execution_count": 34,
   "id": "05da1ae8",
   "metadata": {},
   "outputs": [],
   "source": [
    "data_set = 's3://fcc-spark-example/dataset/2023/orders.txt'"
   ]
  },
  {
   "cell_type": "markdown",
   "id": "43ea0932",
   "metadata": {},
   "source": [
    "## Create `SparkContext`"
   ]
  },
  {
   "cell_type": "code",
   "execution_count": 35,
   "id": "d6efde82",
   "metadata": {},
   "outputs": [],
   "source": [
    "sc = spark.sparkContext"
   ]
  },
  {
   "cell_type": "code",
   "execution_count": 36,
   "id": "33744792",
   "metadata": {},
   "outputs": [
    {
     "data": {
      "text/html": [
       "\n",
       "        <div>\n",
       "            <p><b>SparkContext</b></p>\n",
       "\n",
       "            <p><a href=\"http://ip-172-31-2-35.us-east-2.compute.internal:4041\">Spark UI</a></p>\n",
       "\n",
       "            <dl>\n",
       "              <dt>Version</dt>\n",
       "                <dd><code>v3.3.0-amzn-1</code></dd>\n",
       "              <dt>Master</dt>\n",
       "                <dd><code>yarn</code></dd>\n",
       "              <dt>AppName</dt>\n",
       "                <dd><code>PySparkShell</code></dd>\n",
       "            </dl>\n",
       "        </div>\n",
       "        "
      ],
      "text/plain": [
       "<SparkContext master=yarn appName=PySparkShell>"
      ]
     },
     "execution_count": 36,
     "metadata": {},
     "output_type": "execute_result"
    }
   ],
   "source": [
    "sc"
   ]
  },
  {
   "cell_type": "markdown",
   "id": "1e934db3",
   "metadata": {},
   "source": [
    "## Create a `RDD`"
   ]
  },
  {
   "cell_type": "code",
   "execution_count": 37,
   "id": "e0580c95",
   "metadata": {},
   "outputs": [],
   "source": [
    "rdd1 = sc.textFile(data_set)"
   ]
  },
  {
   "cell_type": "code",
   "execution_count": 38,
   "id": "20e0dc5f",
   "metadata": {},
   "outputs": [
    {
     "data": {
      "text/plain": [
       "s3://fcc-spark-example/dataset/2023/orders.txt MapPartitionsRDD[25] at textFile at NativeMethodAccessorImpl.java:0"
      ]
     },
     "execution_count": 38,
     "metadata": {},
     "output_type": "execute_result"
    }
   ],
   "source": [
    "rdd1"
   ]
  },
  {
   "cell_type": "code",
   "execution_count": 39,
   "id": "3b0874b4",
   "metadata": {},
   "outputs": [
    {
     "name": "stderr",
     "output_type": "stream",
     "text": [
      "                                                                                \r"
     ]
    },
    {
     "data": {
      "text/plain": [
       "['1,2013-07-25 00:00:00.0,11599,CLOSED',\n",
       " '2,2013-07-25 00:00:00.0,256,PENDING_PAYMENT',\n",
       " '3,2013-07-25 00:00:00.0,12111,COMPLETE',\n",
       " '4,2013-07-25 00:00:00.0,8827,CLOSED',\n",
       " '5,2013-07-25 00:00:00.0,11318,COMPLETE',\n",
       " '6,2013-07-25 00:00:00.0,7130,COMPLETE',\n",
       " '7,2013-07-25 00:00:00.0,4530,COMPLETE',\n",
       " '8,2013-07-25 00:00:00.0,2911,PROCESSING',\n",
       " '9,2013-07-25 00:00:00.0,5657,PENDING_PAYMENT',\n",
       " '10,2013-07-25 00:00:00.0,5648,PENDING_PAYMENT']"
      ]
     },
     "execution_count": 39,
     "metadata": {},
     "output_type": "execute_result"
    }
   ],
   "source": [
    "rdd1.take(10)"
   ]
  },
  {
   "cell_type": "markdown",
   "id": "599ca61c",
   "metadata": {},
   "source": [
    "## 1. Find the no. of orders based on the `status` "
   ]
  },
  {
   "cell_type": "markdown",
   "id": "b89e31e8",
   "metadata": {},
   "source": [
    "We want something like \n",
    "\n",
    "(CLOSED, 1)\n",
    "\n",
    "(PENDING_PAYMENT, 1)\n",
    "\n",
    "(COMPLETE, 1)\n",
    "..\n"
   ]
  },
  {
   "cell_type": "code",
   "execution_count": 40,
   "id": "e135d2d9",
   "metadata": {},
   "outputs": [],
   "source": [
    "rdd2 = rdd1.map(lambda line: (line.split(',')[-1], 1)) "
   ]
  },
  {
   "cell_type": "code",
   "execution_count": 41,
   "id": "4de7b4f2",
   "metadata": {},
   "outputs": [
    {
     "name": "stderr",
     "output_type": "stream",
     "text": [
      "                                                                                \r"
     ]
    },
    {
     "data": {
      "text/plain": [
       "[('CLOSED', 1),\n",
       " ('PENDING_PAYMENT', 1),\n",
       " ('COMPLETE', 1),\n",
       " ('CLOSED', 1),\n",
       " ('COMPLETE', 1),\n",
       " ('COMPLETE', 1),\n",
       " ('COMPLETE', 1),\n",
       " ('PROCESSING', 1),\n",
       " ('PENDING_PAYMENT', 1),\n",
       " ('PENDING_PAYMENT', 1)]"
      ]
     },
     "execution_count": 41,
     "metadata": {},
     "output_type": "execute_result"
    }
   ],
   "source": [
    "rdd2.take(10)"
   ]
  },
  {
   "cell_type": "code",
   "execution_count": 42,
   "id": "f4d2e13a",
   "metadata": {},
   "outputs": [],
   "source": [
    "# Next we want to aggregate \n",
    "\n",
    "rdd3 = rdd2.reduceByKey(lambda x, y: x + y)"
   ]
  },
  {
   "cell_type": "code",
   "execution_count": 43,
   "id": "37ea32a5",
   "metadata": {},
   "outputs": [
    {
     "name": "stderr",
     "output_type": "stream",
     "text": [
      "                                                                                \r"
     ]
    },
    {
     "data": {
      "text/plain": [
       "[('CLOSED', 7556),\n",
       " ('CANCELED', 1428),\n",
       " ('PENDING_PAYMENT', 15030),\n",
       " ('COMPLETE', 22899),\n",
       " ('PROCESSING', 8274),\n",
       " ('PAYMENT_REVIEW', 729),\n",
       " ('PENDING', 7609),\n",
       " ('ON_HOLD', 3798),\n",
       " ('SUSPECTED_FRAUD', 1558)]"
      ]
     },
     "execution_count": 43,
     "metadata": {},
     "output_type": "execute_result"
    }
   ],
   "source": [
    "rdd3.take(10)"
   ]
  },
  {
   "cell_type": "code",
   "execution_count": 46,
   "id": "0859faae",
   "metadata": {},
   "outputs": [
    {
     "name": "stderr",
     "output_type": "stream",
     "text": [
      "                                                                                \r"
     ]
    }
   ],
   "source": [
    "# Lastly lets sort it based on count\n",
    "\n",
    "final_rdd = rdd3.sortBy(lambda x: x[1], ascending=False)"
   ]
  },
  {
   "cell_type": "code",
   "execution_count": 47,
   "id": "83a63405",
   "metadata": {},
   "outputs": [
    {
     "data": {
      "text/plain": [
       "[('COMPLETE', 22899),\n",
       " ('PENDING_PAYMENT', 15030),\n",
       " ('PROCESSING', 8274),\n",
       " ('PENDING', 7609),\n",
       " ('CLOSED', 7556),\n",
       " ('ON_HOLD', 3798),\n",
       " ('SUSPECTED_FRAUD', 1558),\n",
       " ('CANCELED', 1428),\n",
       " ('PAYMENT_REVIEW', 729)]"
      ]
     },
     "execution_count": 47,
     "metadata": {},
     "output_type": "execute_result"
    }
   ],
   "source": [
    "final_rdd.take(10)"
   ]
  },
  {
   "cell_type": "markdown",
   "id": "83177178",
   "metadata": {},
   "source": [
    "## 2. Find the `premium customers (Top 5 who placed the max number of orders)"
   ]
  },
  {
   "cell_type": "code",
   "execution_count": 49,
   "id": "8c7737f2",
   "metadata": {},
   "outputs": [],
   "source": [
    "rdd1 = sc.textFile(data_set)"
   ]
  },
  {
   "cell_type": "code",
   "execution_count": 50,
   "id": "170f50ba",
   "metadata": {},
   "outputs": [
    {
     "name": "stderr",
     "output_type": "stream",
     "text": [
      "                                                                                \r"
     ]
    },
    {
     "data": {
      "text/plain": [
       "['1,2013-07-25 00:00:00.0,11599,CLOSED',\n",
       " '2,2013-07-25 00:00:00.0,256,PENDING_PAYMENT',\n",
       " '3,2013-07-25 00:00:00.0,12111,COMPLETE',\n",
       " '4,2013-07-25 00:00:00.0,8827,CLOSED',\n",
       " '5,2013-07-25 00:00:00.0,11318,COMPLETE']"
      ]
     },
     "execution_count": 50,
     "metadata": {},
     "output_type": "execute_result"
    }
   ],
   "source": [
    "rdd1.take(5)"
   ]
  },
  {
   "cell_type": "code",
   "execution_count": 59,
   "id": "37bf7be4",
   "metadata": {},
   "outputs": [],
   "source": [
    "rdd2 = rdd1.map(lambda x: (x.split(',')[2], 1))"
   ]
  },
  {
   "cell_type": "code",
   "execution_count": 60,
   "id": "f129aac7",
   "metadata": {},
   "outputs": [
    {
     "name": "stderr",
     "output_type": "stream",
     "text": [
      "                                                                                \r"
     ]
    },
    {
     "data": {
      "text/plain": [
       "[('11599', 1), ('256', 1), ('12111', 1), ('8827', 1), ('11318', 1)]"
      ]
     },
     "execution_count": 60,
     "metadata": {},
     "output_type": "execute_result"
    }
   ],
   "source": [
    "rdd2.take(5)"
   ]
  },
  {
   "cell_type": "code",
   "execution_count": 61,
   "id": "2d0d559d",
   "metadata": {},
   "outputs": [],
   "source": [
    "rdd3 = rdd2.reduceByKey(lambda x, y: x + 1)"
   ]
  },
  {
   "cell_type": "code",
   "execution_count": 62,
   "id": "965a6620",
   "metadata": {},
   "outputs": [
    {
     "name": "stderr",
     "output_type": "stream",
     "text": [
      "                                                                                \r"
     ]
    },
    {
     "data": {
      "text/plain": [
       "[('256', 8), ('12111', 4), ('11318', 5), ('7130', 3), ('2911', 4)]"
      ]
     },
     "execution_count": 62,
     "metadata": {},
     "output_type": "execute_result"
    }
   ],
   "source": [
    "rdd3.take(5)"
   ]
  },
  {
   "cell_type": "code",
   "execution_count": 68,
   "id": "ab7c571e",
   "metadata": {},
   "outputs": [],
   "source": [
    "final_result = rdd3.sortBy(lambda x: x[1], ascending=False)"
   ]
  },
  {
   "cell_type": "code",
   "execution_count": 69,
   "id": "32811c7b",
   "metadata": {},
   "outputs": [
    {
     "data": {
      "text/plain": [
       "[('5549', 11),\n",
       " ('2433', 11),\n",
       " ('12431', 11),\n",
       " ('6898', 10),\n",
       " ('4435', 10),\n",
       " ('3554', 10),\n",
       " ('5821', 10),\n",
       " ('7176', 10),\n",
       " ('5033', 10),\n",
       " ('4876', 10)]"
      ]
     },
     "execution_count": 69,
     "metadata": {},
     "output_type": "execute_result"
    }
   ],
   "source": [
    "final_result.take(10)"
   ]
  },
  {
   "cell_type": "markdown",
   "id": "2352b714",
   "metadata": {},
   "source": [
    "## 3. Distinct count of customer who placed atleast one order "
   ]
  },
  {
   "cell_type": "code",
   "execution_count": 70,
   "id": "f08ef517",
   "metadata": {},
   "outputs": [],
   "source": [
    "rdd1 = sc.textFile(data_set)"
   ]
  },
  {
   "cell_type": "code",
   "execution_count": 90,
   "id": "515efa31",
   "metadata": {},
   "outputs": [],
   "source": [
    "rdd2 = rdd1.map(lambda x: (x.split(',')[2]))"
   ]
  },
  {
   "cell_type": "code",
   "execution_count": 91,
   "id": "e59fa7f0",
   "metadata": {},
   "outputs": [
    {
     "name": "stderr",
     "output_type": "stream",
     "text": [
      "                                                                                \r"
     ]
    },
    {
     "data": {
      "text/plain": [
       "['11599', '256', '12111', '8827', '11318']"
      ]
     },
     "execution_count": 91,
     "metadata": {},
     "output_type": "execute_result"
    }
   ],
   "source": [
    "rdd2.take(5)"
   ]
  },
  {
   "cell_type": "code",
   "execution_count": 92,
   "id": "4f91d85d",
   "metadata": {},
   "outputs": [],
   "source": [
    "final_result = rdd2.distinct()"
   ]
  },
  {
   "cell_type": "code",
   "execution_count": 93,
   "id": "f962ac64",
   "metadata": {},
   "outputs": [
    {
     "data": {
      "text/plain": [
       "12405"
      ]
     },
     "execution_count": 93,
     "metadata": {},
     "output_type": "execute_result"
    }
   ],
   "source": [
    "final_result.count() # Distinct customers"
   ]
  },
  {
   "cell_type": "code",
   "execution_count": 94,
   "id": "c04ebcbe",
   "metadata": {},
   "outputs": [
    {
     "data": {
      "text/plain": [
       "68881"
      ]
     },
     "execution_count": 94,
     "metadata": {},
     "output_type": "execute_result"
    }
   ],
   "source": [
    "rdd2.count() # Total no. of orders "
   ]
  },
  {
   "cell_type": "markdown",
   "id": "c3b706f8",
   "metadata": {},
   "source": [
    "## 4. Which customer has maximum number of COMPLETE orders "
   ]
  },
  {
   "cell_type": "code",
   "execution_count": 85,
   "id": "dcde7e8d",
   "metadata": {},
   "outputs": [],
   "source": [
    "rdd1 = sc.textFile(data_set)"
   ]
  },
  {
   "cell_type": "code",
   "execution_count": 101,
   "id": "4b55eab0",
   "metadata": {},
   "outputs": [],
   "source": [
    "rdd2 = rdd1.map(lambda x: (x.split(',')[2], x.split(',')[3]))"
   ]
  },
  {
   "cell_type": "code",
   "execution_count": 102,
   "id": "ae01810a",
   "metadata": {},
   "outputs": [
    {
     "name": "stderr",
     "output_type": "stream",
     "text": [
      "                                                                                \r"
     ]
    },
    {
     "data": {
      "text/plain": [
       "[('11599', 'CLOSED'),\n",
       " ('256', 'PENDING_PAYMENT'),\n",
       " ('12111', 'COMPLETE'),\n",
       " ('8827', 'CLOSED'),\n",
       " ('11318', 'COMPLETE')]"
      ]
     },
     "execution_count": 102,
     "metadata": {},
     "output_type": "execute_result"
    }
   ],
   "source": [
    "rdd2.take(5)"
   ]
  },
  {
   "cell_type": "code",
   "execution_count": 104,
   "id": "4a0d92a3",
   "metadata": {},
   "outputs": [],
   "source": [
    "rdd3 = rdd2.filter(lambda x: x[1] == 'COMPLETE')"
   ]
  },
  {
   "cell_type": "code",
   "execution_count": 105,
   "id": "4ef5d89b",
   "metadata": {},
   "outputs": [
    {
     "name": "stderr",
     "output_type": "stream",
     "text": [
      "\r",
      "[Stage 79:>                                                         (0 + 1) / 1]\r",
      "\r",
      "                                                                                \r"
     ]
    },
    {
     "data": {
      "text/plain": [
       "[('12111', 'COMPLETE'),\n",
       " ('11318', 'COMPLETE'),\n",
       " ('7130', 'COMPLETE'),\n",
       " ('4530', 'COMPLETE'),\n",
       " ('2568', 'COMPLETE')]"
      ]
     },
     "execution_count": 105,
     "metadata": {},
     "output_type": "execute_result"
    }
   ],
   "source": [
    "rdd3.take(5)"
   ]
  },
  {
   "cell_type": "code",
   "execution_count": 106,
   "id": "10ac1fe3",
   "metadata": {},
   "outputs": [
    {
     "data": {
      "text/plain": [
       "22899"
      ]
     },
     "execution_count": 106,
     "metadata": {},
     "output_type": "execute_result"
    }
   ],
   "source": [
    "rdd3.count()"
   ]
  },
  {
   "cell_type": "code",
   "execution_count": 108,
   "id": "14463e2d",
   "metadata": {},
   "outputs": [],
   "source": [
    "rdd4 = rdd3.map(lambda x: (x[0], 1))"
   ]
  },
  {
   "cell_type": "code",
   "execution_count": 109,
   "id": "b7f76aa8",
   "metadata": {},
   "outputs": [
    {
     "name": "stderr",
     "output_type": "stream",
     "text": [
      "                                                                                \r"
     ]
    },
    {
     "data": {
      "text/plain": [
       "[('12111', 1), ('11318', 1), ('7130', 1), ('4530', 1), ('2568', 1)]"
      ]
     },
     "execution_count": 109,
     "metadata": {},
     "output_type": "execute_result"
    }
   ],
   "source": [
    "rdd4.take(5)"
   ]
  },
  {
   "cell_type": "code",
   "execution_count": 110,
   "id": "41532adc",
   "metadata": {},
   "outputs": [],
   "source": [
    "rdd5 = rdd4.reduceByKey(lambda x, y: x + y)"
   ]
  },
  {
   "cell_type": "code",
   "execution_count": 111,
   "id": "7a8b7758",
   "metadata": {},
   "outputs": [
    {
     "name": "stderr",
     "output_type": "stream",
     "text": [
      "                                                                                \r"
     ]
    },
    {
     "data": {
      "text/plain": [
       "[('12111', 2), ('11318', 3), ('7130', 4), ('333', 4), ('656', 2)]"
      ]
     },
     "execution_count": 111,
     "metadata": {},
     "output_type": "execute_result"
    }
   ],
   "source": [
    "rdd5.take(5)"
   ]
  },
  {
   "cell_type": "code",
   "execution_count": 112,
   "id": "a36e84da",
   "metadata": {},
   "outputs": [],
   "source": [
    "final_result = rdd5.sortBy(lambda x: x[1], ascending=False)"
   ]
  },
  {
   "cell_type": "code",
   "execution_count": 113,
   "id": "70e81573",
   "metadata": {},
   "outputs": [
    {
     "data": {
      "text/plain": [
       "[('9337', 10),\n",
       " ('7802', 9),\n",
       " ('3710', 9),\n",
       " ('749', 9),\n",
       " ('221', 8),\n",
       " ('5186', 8),\n",
       " ('2469', 8),\n",
       " ('7910', 8),\n",
       " ('5283', 8),\n",
       " ('11061', 8)]"
      ]
     },
     "execution_count": 113,
     "metadata": {},
     "output_type": "execute_result"
    }
   ],
   "source": [
    "final_result.take(10)"
   ]
  },
  {
   "cell_type": "markdown",
   "id": "f6293e28",
   "metadata": {},
   "source": [
    "# Summary \n",
    "\n",
    "- `map()` \n",
    "\n",
    "    - 100 ROWs =======> 1000 ROWs\n",
    "    \n",
    "    \n",
    "- `reduceByKey()`\n",
    "\n",
    "    - 100 ROWs =======> 10 ROWs (if there are 10 distinct Keys)\n",
    "    \n",
    "    \n",
    "- `reduce()`\n",
    "\n",
    "    - 100 ROWs =======> 1 ROW \n",
    "    \n",
    "- `filter()` \n",
    "\n",
    "    - 100 ROWs =======> 0 <= No. of ROWs <= 100 (Depending on the filer )\n",
    "    \n"
   ]
  },
  {
   "cell_type": "code",
   "execution_count": null,
   "id": "7e0e8122",
   "metadata": {},
   "outputs": [],
   "source": []
  }
 ],
 "metadata": {
  "kernelspec": {
   "display_name": "Python 3 (ipykernel)",
   "language": "python",
   "name": "python3"
  },
  "language_info": {
   "codemirror_mode": {
    "name": "ipython",
    "version": 3
   },
   "file_extension": ".py",
   "mimetype": "text/x-python",
   "name": "python",
   "nbconvert_exporter": "python",
   "pygments_lexer": "ipython3",
   "version": "3.7.16"
  }
 },
 "nbformat": 4,
 "nbformat_minor": 5
}
