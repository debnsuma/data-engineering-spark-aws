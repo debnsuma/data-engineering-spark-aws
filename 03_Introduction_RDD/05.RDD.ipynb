{
 "cells": [
  {
   "cell_type": "markdown",
   "id": "3b4b6c7b",
   "metadata": {},
   "source": [
    "# We will learn: \n",
    "\n",
    "- Difference between: \n",
    "    1) `reduceByKey()` and `reduce()`\n",
    "    2) `reduceByKey()` and `groupBykey()`\n",
    "- DAG "
   ]
  },
  {
   "cell_type": "markdown",
   "id": "bb87de96",
   "metadata": {},
   "source": [
    "# SparkSession"
   ]
  },
  {
   "cell_type": "code",
   "execution_count": 1,
   "id": "6d7da5be",
   "metadata": {},
   "outputs": [
    {
     "data": {
      "text/html": [
       "\n",
       "            <div>\n",
       "                <p><b>SparkSession - hive</b></p>\n",
       "                \n",
       "        <div>\n",
       "            <p><b>SparkContext</b></p>\n",
       "\n",
       "            <p><a href=\"http://ip-172-31-2-35.us-east-2.compute.internal:4041\">Spark UI</a></p>\n",
       "\n",
       "            <dl>\n",
       "              <dt>Version</dt>\n",
       "                <dd><code>v3.3.0-amzn-1</code></dd>\n",
       "              <dt>Master</dt>\n",
       "                <dd><code>yarn</code></dd>\n",
       "              <dt>AppName</dt>\n",
       "                <dd><code>PySparkShell</code></dd>\n",
       "            </dl>\n",
       "        </div>\n",
       "        \n",
       "            </div>\n",
       "        "
      ],
      "text/plain": [
       "<pyspark.sql.session.SparkSession at 0x7f31dc0d7c10>"
      ]
     },
     "execution_count": 1,
     "metadata": {},
     "output_type": "execute_result"
    }
   ],
   "source": [
    "spark"
   ]
  },
  {
   "cell_type": "markdown",
   "id": "43ea0932",
   "metadata": {},
   "source": [
    "## Create `SparkContext`"
   ]
  },
  {
   "cell_type": "code",
   "execution_count": 2,
   "id": "d6efde82",
   "metadata": {},
   "outputs": [
    {
     "data": {
      "text/html": [
       "\n",
       "        <div>\n",
       "            <p><b>SparkContext</b></p>\n",
       "\n",
       "            <p><a href=\"http://ip-172-31-2-35.us-east-2.compute.internal:4041\">Spark UI</a></p>\n",
       "\n",
       "            <dl>\n",
       "              <dt>Version</dt>\n",
       "                <dd><code>v3.3.0-amzn-1</code></dd>\n",
       "              <dt>Master</dt>\n",
       "                <dd><code>yarn</code></dd>\n",
       "              <dt>AppName</dt>\n",
       "                <dd><code>PySparkShell</code></dd>\n",
       "            </dl>\n",
       "        </div>\n",
       "        "
      ],
      "text/plain": [
       "<SparkContext master=yarn appName=PySparkShell>"
      ]
     },
     "execution_count": 2,
     "metadata": {},
     "output_type": "execute_result"
    }
   ],
   "source": [
    "sc = spark.sparkContext\n",
    "sc"
   ]
  },
  {
   "cell_type": "markdown",
   "id": "5b0d2785",
   "metadata": {},
   "source": [
    "# `reduceByKey()`"
   ]
  },
  {
   "cell_type": "markdown",
   "id": "c78573ad",
   "metadata": {},
   "source": [
    "- Works on PAIR RDD \n",
    "    - ('hello', 1)\n",
    "    - ('world', 1)\n",
    "- Its a transformation \n",
    "- local aggregation takes place in all worker node (like combiner in MR)\n",
    "    - As a result of this, shuffling would be less, as majority of the aggregation would be executed in every worker machine"
   ]
  },
  {
   "cell_type": "code",
   "execution_count": 3,
   "id": "bb25f63a",
   "metadata": {},
   "outputs": [],
   "source": [
    "data_set = 's3://fcc-spark-example/dataset/2023/orders.txt'"
   ]
  },
  {
   "cell_type": "code",
   "execution_count": 4,
   "id": "4b5e8118",
   "metadata": {},
   "outputs": [],
   "source": [
    "# Transformations \n",
    "\n",
    "rdd1 = sc.textFile(data_set)\n",
    "rdd2 = rdd1.map(lambda line: (line.split(',')[-1], 1)) \n"
   ]
  },
  {
   "cell_type": "code",
   "execution_count": 5,
   "id": "b2145c94",
   "metadata": {},
   "outputs": [
    {
     "name": "stderr",
     "output_type": "stream",
     "text": [
      "                                                                                \r"
     ]
    },
    {
     "data": {
      "text/plain": [
       "[('CLOSED', 1),\n",
       " ('PENDING_PAYMENT', 1),\n",
       " ('COMPLETE', 1),\n",
       " ('CLOSED', 1),\n",
       " ('COMPLETE', 1)]"
      ]
     },
     "execution_count": 5,
     "metadata": {},
     "output_type": "execute_result"
    }
   ],
   "source": [
    "rdd2.take(5)"
   ]
  },
  {
   "cell_type": "code",
   "execution_count": 6,
   "id": "722845bf",
   "metadata": {},
   "outputs": [],
   "source": [
    "rdd3 = rdd2.reduceByKey(lambda x, y: x+y)"
   ]
  },
  {
   "cell_type": "code",
   "execution_count": 7,
   "id": "af691925",
   "metadata": {},
   "outputs": [
    {
     "name": "stderr",
     "output_type": "stream",
     "text": [
      "                                                                                \r"
     ]
    },
    {
     "data": {
      "text/plain": [
       "[('CLOSED', 7556),\n",
       " ('CANCELED', 1428),\n",
       " ('PENDING_PAYMENT', 15030),\n",
       " ('COMPLETE', 22899),\n",
       " ('PROCESSING', 8274),\n",
       " ('PAYMENT_REVIEW', 729),\n",
       " ('PENDING', 7609),\n",
       " ('ON_HOLD', 3798),\n",
       " ('SUSPECTED_FRAUD', 1558)]"
      ]
     },
     "execution_count": 7,
     "metadata": {},
     "output_type": "execute_result"
    }
   ],
   "source": [
    "rdd3.collect()"
   ]
  },
  {
   "cell_type": "markdown",
   "id": "490c7759",
   "metadata": {},
   "source": [
    "# `reduce()`"
   ]
  },
  {
   "cell_type": "markdown",
   "id": "698d65a1",
   "metadata": {},
   "source": [
    "- Its an action \n",
    "- Works on normal RDD\n",
    "- Finally we get only single thing as an answer in the driver machine (thats why its an action)"
   ]
  },
  {
   "cell_type": "code",
   "execution_count": 10,
   "id": "14659a09",
   "metadata": {},
   "outputs": [
    {
     "data": {
      "text/plain": [
       "[0, 1, 2, 3, 4, 5, 6, 7, 8, 9]"
      ]
     },
     "execution_count": 10,
     "metadata": {},
     "output_type": "execute_result"
    }
   ],
   "source": [
    "some_data = list(range(10))\n",
    "some_data"
   ]
  },
  {
   "cell_type": "code",
   "execution_count": 11,
   "id": "3e7260ea",
   "metadata": {},
   "outputs": [
    {
     "data": {
      "text/plain": [
       "[0, 1, 2, 3, 4, 5, 6, 7, 8, 9]"
      ]
     },
     "execution_count": 11,
     "metadata": {},
     "output_type": "execute_result"
    }
   ],
   "source": [
    "rdd1 = sc.parallelize(some_data)\n",
    "rdd1.collect()"
   ]
  },
  {
   "cell_type": "code",
   "execution_count": 12,
   "id": "1faef6d5",
   "metadata": {},
   "outputs": [
    {
     "name": "stderr",
     "output_type": "stream",
     "text": [
      "\r",
      "[Stage 5:==================>                                     (12 + 24) / 36]\r",
      "\r",
      "                                                                                \r"
     ]
    },
    {
     "data": {
      "text/plain": [
       "45"
      ]
     },
     "execution_count": 12,
     "metadata": {},
     "output_type": "execute_result"
    }
   ],
   "source": [
    "rdd1.reduce(lambda x, y: x + y)"
   ]
  },
  {
   "cell_type": "code",
   "execution_count": 13,
   "id": "b034943e",
   "metadata": {},
   "outputs": [
    {
     "data": {
      "text/plain": [
       "9"
      ]
     },
     "execution_count": 13,
     "metadata": {},
     "output_type": "execute_result"
    }
   ],
   "source": [
    "rdd1.reduce(lambda x, y: max(x,y))"
   ]
  },
  {
   "cell_type": "code",
   "execution_count": 14,
   "id": "e13d8c4d",
   "metadata": {},
   "outputs": [
    {
     "data": {
      "text/plain": [
       "0"
      ]
     },
     "execution_count": 14,
     "metadata": {},
     "output_type": "execute_result"
    }
   ],
   "source": [
    "rdd1.reduce(lambda x, y: min(x,y))"
   ]
  },
  {
   "cell_type": "markdown",
   "id": "1237ae1d",
   "metadata": {},
   "source": [
    "# `reduceByKey()` vs `groupByKey()`"
   ]
  },
  {
   "cell_type": "markdown",
   "id": "c4b8a60f",
   "metadata": {},
   "source": [
    "### Lets take a large dataset \n",
    "- `aws s3 ls s3://amazon-reviews-pds/tsv/` \n",
    "- Reference : [here](https://s3.amazonaws.com/amazon-reviews-pds/readme.html)\n",
    "- We will use only books data :\n",
    "    - amazon_reviews_us_Books_v1_00.tsv.gz \n",
    "    - amazon_reviews_us_Books_v1_01.tsv.gz\n",
    "    - amazon_reviews_us_Books_v1_02.tsv.gz\n"
   ]
  },
  {
   "cell_type": "markdown",
   "id": "af8dfb1b",
   "metadata": {},
   "source": [
    "# `reduceByKey()` "
   ]
  },
  {
   "cell_type": "code",
   "execution_count": 15,
   "id": "94626c0b",
   "metadata": {},
   "outputs": [],
   "source": [
    "dataset = 's3://amazon-reviews-pds/tsv/amazon_reviews_us_Books*'"
   ]
  },
  {
   "cell_type": "code",
   "execution_count": 16,
   "id": "d6e9d4e2",
   "metadata": {},
   "outputs": [],
   "source": [
    "rdd1 = sc.textFile(dataset)"
   ]
  },
  {
   "cell_type": "code",
   "execution_count": 17,
   "id": "12d19bbb",
   "metadata": {},
   "outputs": [
    {
     "name": "stderr",
     "output_type": "stream",
     "text": [
      "                                                                                \r"
     ]
    },
    {
     "data": {
      "text/plain": [
       "['marketplace\\tcustomer_id\\treview_id\\tproduct_id\\tproduct_parent\\tproduct_title\\tproduct_category\\tstar_rating\\thelpful_votes\\ttotal_votes\\tvine\\tverified_purchase\\treview_headline\\treview_body\\treview_date',\n",
       " 'US\\t25933450\\tRJOVP071AVAJO\\t0439873800\\t84656342\\tThere Was an Old Lady Who Swallowed a Shell!\\tBooks\\t5\\t0\\t0\\tN\\tY\\tFive Stars\\tI love it and so does my students!\\t2015-08-31',\n",
       " 'US\\t1801372\\tR1ORGBETCDW3AI\\t1623953553\\t729938122\\tI Saw a Friend\\tBooks\\t5\\t0\\t0\\tN\\tY\\tPlease buy \"I Saw a Friend\"! Your children will be delighted!\\tMy wife and I ordered 2 books and gave them as presents...one to a friend\\'s daughter and the other to our grandson! Both children were so happy with the story, by author Katrina Streza, and they were overjoyed with the absolutely adorable artwork, by artist Michele Katz, throughout the book! We highly recommend &#34;I Saw a Friend&#34; to all your little ones!!!\\t2015-08-31',\n",
       " 'US\\t5782091\\tR7TNRFQAOUTX5\\t142151981X\\t678139048\\tBlack Lagoon, Vol. 6\\tBooks\\t5\\t0\\t0\\tN\\tY\\tShipped fast.\\tGreat book just like all the others in the series.\\t2015-08-31',\n",
       " 'US\\t32715830\\tR2GANXKDIFZ6OI\\t014241543X\\t712432151\\tIf I Stay\\tBooks\\t5\\t0\\t0\\tN\\tN\\tFive Stars\\tSo beautiful\\t2015-08-31']"
      ]
     },
     "execution_count": 17,
     "metadata": {},
     "output_type": "execute_result"
    }
   ],
   "source": [
    "rdd1.take(5)"
   ]
  },
  {
   "cell_type": "code",
   "execution_count": 18,
   "id": "b9f21c9d",
   "metadata": {},
   "outputs": [
    {
     "name": "stderr",
     "output_type": "stream",
     "text": [
      "                                                                                \r"
     ]
    }
   ],
   "source": [
    "header = rdd1.first()"
   ]
  },
  {
   "cell_type": "code",
   "execution_count": 20,
   "id": "38ae1d91",
   "metadata": {},
   "outputs": [
    {
     "data": {
      "text/plain": [
       "['marketplace',\n",
       " 'customer_id',\n",
       " 'review_id',\n",
       " 'product_id',\n",
       " 'product_parent',\n",
       " 'product_title',\n",
       " 'product_category',\n",
       " 'star_rating',\n",
       " 'helpful_votes',\n",
       " 'total_votes',\n",
       " 'vine',\n",
       " 'verified_purchase',\n",
       " 'review_headline',\n",
       " 'review_body',\n",
       " 'review_date']"
      ]
     },
     "execution_count": 20,
     "metadata": {},
     "output_type": "execute_result"
    }
   ],
   "source": [
    "header.split('\\t')"
   ]
  },
  {
   "cell_type": "code",
   "execution_count": 21,
   "id": "3088b977",
   "metadata": {},
   "outputs": [],
   "source": [
    "rdd2 = rdd1.filter(lambda x: x != header)"
   ]
  },
  {
   "cell_type": "code",
   "execution_count": 22,
   "id": "3de2790e",
   "metadata": {},
   "outputs": [],
   "source": [
    "rdd3 = rdd2.map(lambda x: x.split('\\t'))\n",
    "#rdd3.take(1)"
   ]
  },
  {
   "cell_type": "code",
   "execution_count": 23,
   "id": "c0278ac1",
   "metadata": {},
   "outputs": [],
   "source": [
    "# Extracting only product ID (col #4)\n",
    "rdd4 = rdd3.map(lambda x: (x[3], 1))\n",
    "#rdd4.take(5)"
   ]
  },
  {
   "cell_type": "code",
   "execution_count": 24,
   "id": "54668a5e",
   "metadata": {},
   "outputs": [],
   "source": [
    "result = rdd4.reduceByKey(lambda x, y : x + y)"
   ]
  },
  {
   "cell_type": "code",
   "execution_count": 25,
   "id": "75f28777",
   "metadata": {},
   "outputs": [
    {
     "name": "stderr",
     "output_type": "stream",
     "text": [
      "                                                                                \r"
     ]
    },
    {
     "data": {
      "text/plain": [
       "[('142151981X', 4),\n",
       " ('1604600527', 4),\n",
       " ('0399170863', 254),\n",
       " ('0671728725', 3),\n",
       " ('1570913722', 9)]"
      ]
     },
     "execution_count": 25,
     "metadata": {},
     "output_type": "execute_result"
    }
   ],
   "source": [
    "result.take(5)"
   ]
  },
  {
   "cell_type": "markdown",
   "id": "57291baf",
   "metadata": {},
   "source": [
    "![Alt Text](../img/DAG_1.png)\n"
   ]
  },
  {
   "cell_type": "code",
   "execution_count": 26,
   "id": "90cd4bac",
   "metadata": {},
   "outputs": [
    {
     "data": {
      "text/plain": [
       "3"
      ]
     },
     "execution_count": 26,
     "metadata": {},
     "output_type": "execute_result"
    }
   ],
   "source": [
    "result.getNumPartitions()"
   ]
  },
  {
   "cell_type": "markdown",
   "id": "5f03c22a",
   "metadata": {},
   "source": [
    "![Alt Text](../img/DAG_2.png)"
   ]
  },
  {
   "cell_type": "markdown",
   "id": "b531efd7",
   "metadata": {},
   "source": [
    "# `groupByKey()`"
   ]
  },
  {
   "cell_type": "markdown",
   "id": "6180414f",
   "metadata": {},
   "source": [
    "- Works on regular RDD \n",
    "- Its a transformation \n",
    "- local aggregation DOEST NOT takes place in all worker node \n",
    "- lot of shuffle involved \n",
    "- can lead to OOM error \n",
    "- parallelism gets effected \n",
    "\n",
    "`groupByKey()` is not recommended"
   ]
  },
  {
   "cell_type": "code",
   "execution_count": 27,
   "id": "5b706181",
   "metadata": {},
   "outputs": [],
   "source": [
    "dataset = 's3://amazon-reviews-pds/tsv/amazon_reviews_us_Books*'"
   ]
  },
  {
   "cell_type": "code",
   "execution_count": 28,
   "id": "54d15687",
   "metadata": {},
   "outputs": [
    {
     "name": "stderr",
     "output_type": "stream",
     "text": [
      "                                                                                \r"
     ]
    }
   ],
   "source": [
    "rdd1 = sc.textFile(dataset)\n",
    "header = rdd1.first()\n",
    "\n",
    "rdd2 = rdd1.filter(lambda x: x != header) \n",
    "rdd3 = rdd2.map(lambda x: x.split('\\t'))\n",
    "rdd4 = rdd3.map(lambda x: (x[3], 1))\n"
   ]
  },
  {
   "cell_type": "code",
   "execution_count": 31,
   "id": "de8d9993",
   "metadata": {},
   "outputs": [],
   "source": [
    "result = rdd4.groupByKey() \\\n",
    "             .map(lambda x: (x[0], len(x[1])))"
   ]
  },
  {
   "cell_type": "code",
   "execution_count": 33,
   "id": "15c76cf1",
   "metadata": {},
   "outputs": [
    {
     "name": "stderr",
     "output_type": "stream",
     "text": [
      "                                                                                \r"
     ]
    },
    {
     "data": {
      "text/plain": [
       "[('1604600527', 4),\n",
       " ('1434708632', 8),\n",
       " ('0071472657', 22),\n",
       " ('B0007FWGQY', 1),\n",
       " ('0375859349', 97)]"
      ]
     },
     "execution_count": 33,
     "metadata": {},
     "output_type": "execute_result"
    }
   ],
   "source": [
    "result.take(5)"
   ]
  },
  {
   "cell_type": "markdown",
   "id": "f6293e28",
   "metadata": {},
   "source": [
    "# Summary \n",
    "\n",
    "<!-- - `map()` \n",
    "\n",
    "    - 100 ROWs =======> 1000 ROWs\n",
    "    \n",
    "    \n",
    "- `reduceByKey()`\n",
    "\n",
    "    - 100 ROWs =======> 10 ROWs (if there are 10 distinct Keys)\n",
    "    \n",
    "    \n",
    "- `reduce()`\n",
    "\n",
    "    - 100 ROWs =======> 1 ROW \n",
    "    \n",
    "- `filter()` \n",
    "\n",
    "    - 100 ROWs =======> 0 <= No. of ROWs <= 100 (Depending on the filer ) -->\n",
    "    \n"
   ]
  },
  {
   "cell_type": "markdown",
   "id": "cac1a27b",
   "metadata": {},
   "source": [
    "We learnt:\n",
    "- Difference between: \n",
    "    1) `reduceByKey()` and `reduce()`\n",
    "    2) `reduceByKey()` and `groupBykey()`\n",
    "- DAG   \n",
    "- Spark History Server and what are :\n",
    "    - Jobs\n",
    "    - Stages \n",
    "    - Tasks "
   ]
  },
  {
   "cell_type": "code",
   "execution_count": null,
   "id": "97e0f327",
   "metadata": {},
   "outputs": [],
   "source": []
  }
 ],
 "metadata": {
  "kernelspec": {
   "display_name": "Python 3 (ipykernel)",
   "language": "python",
   "name": "python3"
  },
  "language_info": {
   "codemirror_mode": {
    "name": "ipython",
    "version": 3
   },
   "file_extension": ".py",
   "mimetype": "text/x-python",
   "name": "python",
   "nbconvert_exporter": "python",
   "pygments_lexer": "ipython3",
   "version": "3.7.16"
  }
 },
 "nbformat": 4,
 "nbformat_minor": 5
}
