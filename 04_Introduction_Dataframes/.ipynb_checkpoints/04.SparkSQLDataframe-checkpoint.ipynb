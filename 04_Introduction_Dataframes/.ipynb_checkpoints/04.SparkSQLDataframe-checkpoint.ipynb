{
 "cells": [
  {
   "cell_type": "markdown",
   "id": "b5cbd809",
   "metadata": {},
   "source": [
    "# Creating a `dataframe`"
   ]
  },
  {
   "cell_type": "code",
   "execution_count": null,
   "id": "19f75dbe",
   "metadata": {
    "tags": []
   },
   "outputs": [],
   "source": [
    "orders_df = ( spark\n",
    "          .read\n",
    "          .csv('s3://fcc-spark-example/dataset/2023/orders.csv', header=True, inferSchema=True)\n",
    "     )\n"
   ]
  },
  {
   "cell_type": "code",
   "execution_count": null,
   "id": "1209e613-9a75-43f3-aa9b-459ab7d20a12",
   "metadata": {
    "tags": []
   },
   "outputs": [],
   "source": [
    "orders_df.show(5)"
   ]
  },
  {
   "cell_type": "markdown",
   "id": "9b6dcf53",
   "metadata": {},
   "source": [
    "# Creating a TempView"
   ]
  },
  {
   "cell_type": "code",
   "execution_count": null,
   "id": "3ea9959d",
   "metadata": {
    "tags": []
   },
   "outputs": [],
   "source": [
    "orders_df.createOrReplaceTempView('orders')"
   ]
  },
  {
   "cell_type": "markdown",
   "id": "2f49fbb4",
   "metadata": {},
   "source": [
    "### So, we have `Table` and `Dataframe`\n",
    "\n",
    "- orders_df -> `Dataframe`\n",
    "- orders -> `Temp View`"
   ]
  },
  {
   "cell_type": "code",
   "execution_count": null,
   "id": "9c8f85df",
   "metadata": {
    "tags": []
   },
   "outputs": [],
   "source": [
    "# Using DF\n",
    "orders_df.show(5)"
   ]
  },
  {
   "cell_type": "code",
   "execution_count": null,
   "id": "34714fad",
   "metadata": {
    "tags": []
   },
   "outputs": [],
   "source": [
    "# Using Spark SQL \n",
    "spark.sql('SELECT * FROM orders').show(5)"
   ]
  },
  {
   "cell_type": "markdown",
   "id": "457098aa",
   "metadata": {},
   "source": [
    "### 1. Top 10 customers who placed the most number of orders "
   ]
  },
  {
   "cell_type": "markdown",
   "id": "7690ed0b",
   "metadata": {},
   "source": [
    "#### Using DF"
   ]
  },
  {
   "cell_type": "code",
   "execution_count": null,
   "id": "64cb8ae7",
   "metadata": {
    "tags": []
   },
   "outputs": [],
   "source": [
    "(orders_df\n",
    "     .groupBy('order_customer_id')\n",
    "     .count()                               # This is a transformation \n",
    "     .orderBy('count', ascending=False)\n",
    "     .show(10)\n",
    ")"
   ]
  },
  {
   "cell_type": "code",
   "execution_count": null,
   "id": "e273f829-0bdf-4523-ade4-f07ae6fc3ebb",
   "metadata": {
    "tags": []
   },
   "outputs": [],
   "source": [
    "(orders_df\n",
    "     .groupBy('order_customer_id')\n",
    "     .count()\n",
    "     .orderBy(['count', 'order_customer_id'], ascending=[False, True])\n",
    "     .show(10)\n",
    ")"
   ]
  },
  {
   "cell_type": "markdown",
   "id": "5e982127",
   "metadata": {},
   "source": [
    "#### Using Spark SQL"
   ]
  },
  {
   "cell_type": "code",
   "execution_count": null,
   "id": "625b00f4",
   "metadata": {
    "tags": []
   },
   "outputs": [],
   "source": [
    "spark.sql('SELECT \\\n",
    "              order_customer_id, \\\n",
    "              COUNT(order_id) AS count  \\\n",
    "            FROM orders \\\n",
    "            GROUP BY order_customer_id \\\n",
    "            ORDER BY count DESC \\\n",
    "            LIMIT 10').show()"
   ]
  },
  {
   "cell_type": "code",
   "execution_count": null,
   "id": "494dc6ec",
   "metadata": {
    "tags": []
   },
   "outputs": [],
   "source": [
    "spark.sql('SELECT \\\n",
    "              order_customer_id, \\\n",
    "              COUNT(order_id) AS count  \\\n",
    "            FROM orders \\\n",
    "            GROUP BY order_customer_id \\\n",
    "            ORDER BY count DESC, order_customer_id ASC \\\n",
    "            LIMIT 10').show()"
   ]
  },
  {
   "cell_type": "markdown",
   "id": "59eebd08",
   "metadata": {},
   "source": [
    "### 2. Find the no. of orders under each order status "
   ]
  },
  {
   "cell_type": "code",
   "execution_count": null,
   "id": "ba82963a-451a-42ec-be74-f5824f4a8b9e",
   "metadata": {
    "tags": []
   },
   "outputs": [],
   "source": [
    "orders_df.show(5)"
   ]
  },
  {
   "cell_type": "markdown",
   "id": "2e127e78",
   "metadata": {},
   "source": [
    "#### Using DF"
   ]
  },
  {
   "cell_type": "code",
   "execution_count": null,
   "id": "4d8c9af1",
   "metadata": {
    "tags": []
   },
   "outputs": [],
   "source": [
    "(orders_df\n",
    "     .groupBy('order_status')\n",
    "     .count()                                  # Here count is a transformation\n",
    "     .sort('count', ascending=False)          \n",
    "     .show()\n",
    ")                        "
   ]
  },
  {
   "cell_type": "code",
   "execution_count": null,
   "id": "faf5cf07",
   "metadata": {
    "tags": []
   },
   "outputs": [],
   "source": [
    "spark.sql('SELECT \\\n",
    "              order_status, COUNT(order_id) AS count_col  \\\n",
    "            FROM orders \\\n",
    "            GROUP BY order_status \\\n",
    "            ORDER BY count_col DESC').show()"
   ]
  },
  {
   "cell_type": "markdown",
   "id": "b3372454",
   "metadata": {},
   "source": [
    "### 3. No. of active customers (at least 1 order they have placed)"
   ]
  },
  {
   "cell_type": "markdown",
   "id": "3ddc44e9",
   "metadata": {},
   "source": [
    "#### Using DF"
   ]
  },
  {
   "cell_type": "code",
   "execution_count": null,
   "id": "d13e4ded-60b5-4706-9e86-bf2bb192e5e8",
   "metadata": {
    "tags": []
   },
   "outputs": [],
   "source": [
    "orders_df.show(3)"
   ]
  },
  {
   "cell_type": "code",
   "execution_count": null,
   "id": "725a961e",
   "metadata": {
    "tags": []
   },
   "outputs": [],
   "source": [
    "(\n",
    "    orders_df\n",
    "        .select('order_customer_id')\n",
    "        .distinct()\n",
    "        .count()                             # Here count is an action\n",
    ")"
   ]
  },
  {
   "cell_type": "markdown",
   "id": "ca208bf7",
   "metadata": {},
   "source": [
    "#### Using Spark SQL"
   ]
  },
  {
   "cell_type": "code",
   "execution_count": null,
   "id": "2846ff23",
   "metadata": {
    "tags": []
   },
   "outputs": [],
   "source": [
    "spark.sql('SELECT \\\n",
    "              COUNT(DISTINCT(order_customer_id)) AS unique_no_customers \\\n",
    "            FROM orders').show()"
   ]
  },
  {
   "cell_type": "markdown",
   "id": "c7308469",
   "metadata": {},
   "source": [
    "### 4. Customers with most no. of `CLOSED` orders"
   ]
  },
  {
   "cell_type": "markdown",
   "id": "0cd2586b",
   "metadata": {},
   "source": [
    "#### Using DF"
   ]
  },
  {
   "cell_type": "code",
   "execution_count": null,
   "id": "b16726b4",
   "metadata": {
    "tags": []
   },
   "outputs": [],
   "source": [
    "(orders_df \n",
    "     .filter('order_status = \"CLOSED\"')\n",
    "     .groupBy('order_customer_id')\n",
    "     .count() \n",
    "     .orderBy('count', ascending=False) \\\n",
    "     .show(5)\n",
    ")"
   ]
  },
  {
   "cell_type": "code",
   "execution_count": null,
   "id": "bbcba60e",
   "metadata": {
    "tags": []
   },
   "outputs": [],
   "source": [
    "spark.sql('SELECT \\\n",
    "            order_customer_id, COUNT(order_id) AS count\\\n",
    "            FROM orders \\\n",
    "            WHERE order_status = \"CLOSED\" \\\n",
    "            GROUP BY order_customer_id \\\n",
    "            ORDER BY count DESC' \\\n",
    "         ).show(5)"
   ]
  },
  {
   "cell_type": "markdown",
   "id": "6911decd",
   "metadata": {},
   "source": [
    "## Summary "
   ]
  },
  {
   "cell_type": "markdown",
   "id": "6b3ec1d4",
   "metadata": {},
   "source": [
    "### Transformations\n",
    "```python\n",
    ".groupBy\n",
    ".groupBy.count() \n",
    ".orderBy\n",
    ".filter\n",
    ".distinct\n",
    ".join\n",
    "```\n",
    "### Actions \n",
    "```python\n",
    ".show\n",
    ".head\n",
    ".tail\n",
    ".take\n",
    ".collect\n",
    "```\n"
   ]
  },
  {
   "cell_type": "code",
   "execution_count": null,
   "id": "f6f701b1-0720-4f72-8f61-98e84ca7bff8",
   "metadata": {},
   "outputs": [],
   "source": []
  }
 ],
 "metadata": {
  "kernelspec": {
   "display_name": "Python 3 (ipykernel)",
   "language": "python",
   "name": "python3"
  },
  "language_info": {
   "codemirror_mode": {
    "name": "ipython",
    "version": 3
   },
   "file_extension": ".py",
   "mimetype": "text/x-python",
   "name": "python",
   "nbconvert_exporter": "python",
   "pygments_lexer": "ipython3",
   "version": "3.7.16"
  }
 },
 "nbformat": 4,
 "nbformat_minor": 5
}
