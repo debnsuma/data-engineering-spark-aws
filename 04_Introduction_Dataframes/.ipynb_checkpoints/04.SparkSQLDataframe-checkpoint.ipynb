{
 "cells": [
  {
   "cell_type": "markdown",
   "id": "b5cbd809",
   "metadata": {},
   "source": [
    "# Creating a `dataframe`"
   ]
  },
  {
   "cell_type": "code",
   "execution_count": 6,
   "id": "19f75dbe",
   "metadata": {},
   "outputs": [
    {
     "name": "stderr",
     "output_type": "stream",
     "text": [
      "                                                                                \r"
     ]
    }
   ],
   "source": [
    "orders_df = ( spark\n",
    "          .read\n",
    "          .csv('s3://fcc-spark-example/dataset/2023/orders.csv', header=True, inferSchema=True)\n",
    "     )\n"
   ]
  },
  {
   "cell_type": "code",
   "execution_count": 7,
   "id": "91e77083",
   "metadata": {},
   "outputs": [
    {
     "name": "stdout",
     "output_type": "stream",
     "text": [
      "+--------+-------------------+-----------------+---------------+\n",
      "|order_id|         order_date|order_customer_id|   order_status|\n",
      "+--------+-------------------+-----------------+---------------+\n",
      "|       1|2013-07-25 00:00:00|            11599|         CLOSED|\n",
      "|       2|2013-07-25 00:00:00|              256|PENDING_PAYMENT|\n",
      "|       3|2013-07-25 00:00:00|            12111|       COMPLETE|\n",
      "|       4|2013-07-25 00:00:00|             8827|         CLOSED|\n",
      "|       5|2013-07-25 00:00:00|            11318|       COMPLETE|\n",
      "|       6|2013-07-25 00:00:00|             7130|       COMPLETE|\n",
      "|       7|2013-07-25 00:00:00|             4530|       COMPLETE|\n",
      "|       8|2013-07-25 00:00:00|             2911|     PROCESSING|\n",
      "|       9|2013-07-25 00:00:00|             5657|PENDING_PAYMENT|\n",
      "|      10|2013-07-25 00:00:00|             5648|PENDING_PAYMENT|\n",
      "|      11|2013-07-25 00:00:00|              918| PAYMENT_REVIEW|\n",
      "|      12|2013-07-25 00:00:00|             1837|         CLOSED|\n",
      "|      13|2013-07-25 00:00:00|             9149|PENDING_PAYMENT|\n",
      "|      14|2013-07-25 00:00:00|             9842|     PROCESSING|\n",
      "|      15|2013-07-25 00:00:00|             2568|       COMPLETE|\n",
      "|      16|2013-07-25 00:00:00|             7276|PENDING_PAYMENT|\n",
      "|      17|2013-07-25 00:00:00|             2667|       COMPLETE|\n",
      "|      18|2013-07-25 00:00:00|             1205|         CLOSED|\n",
      "|      19|2013-07-25 00:00:00|             9488|PENDING_PAYMENT|\n",
      "|      20|2013-07-25 00:00:00|             9198|     PROCESSING|\n",
      "+--------+-------------------+-----------------+---------------+\n",
      "only showing top 20 rows\n",
      "\n"
     ]
    }
   ],
   "source": [
    "orders_df.show()"
   ]
  },
  {
   "cell_type": "code",
   "execution_count": 8,
   "id": "84ad5655",
   "metadata": {},
   "outputs": [
    {
     "name": "stdout",
     "output_type": "stream",
     "text": [
      "root\n",
      " |-- order_id: integer (nullable = true)\n",
      " |-- order_date: timestamp (nullable = true)\n",
      " |-- order_customer_id: integer (nullable = true)\n",
      " |-- order_status: string (nullable = true)\n",
      "\n"
     ]
    }
   ],
   "source": [
    "orders_df.printSchema()"
   ]
  },
  {
   "cell_type": "code",
   "execution_count": 9,
   "id": "3ea9959d",
   "metadata": {},
   "outputs": [],
   "source": [
    "orders_df.createOrReplaceTempView('orders')"
   ]
  },
  {
   "cell_type": "code",
   "execution_count": 10,
   "id": "34714fad",
   "metadata": {},
   "outputs": [
    {
     "name": "stdout",
     "output_type": "stream",
     "text": [
      "+---------+---------+-----------+\n",
      "|namespace|tableName|isTemporary|\n",
      "+---------+---------+-----------+\n",
      "|         |   orders|       true|\n",
      "+---------+---------+-----------+\n",
      "\n"
     ]
    }
   ],
   "source": [
    "spark.sql('show tables').show()"
   ]
  },
  {
   "cell_type": "markdown",
   "id": "138de3b7",
   "metadata": {},
   "source": [
    "### We have Temp View and Dataframe\n",
    "\n",
    "- orders_df -> `Dataframe`\n",
    "- orders -> `Temp View`"
   ]
  },
  {
   "cell_type": "code",
   "execution_count": 12,
   "id": "4c304a7c",
   "metadata": {},
   "outputs": [
    {
     "name": "stdout",
     "output_type": "stream",
     "text": [
      "+--------+-------------------+-----------------+---------------+\n",
      "|order_id|         order_date|order_customer_id|   order_status|\n",
      "+--------+-------------------+-----------------+---------------+\n",
      "|       1|2013-07-25 00:00:00|            11599|         CLOSED|\n",
      "|       2|2013-07-25 00:00:00|              256|PENDING_PAYMENT|\n",
      "|       3|2013-07-25 00:00:00|            12111|       COMPLETE|\n",
      "|       4|2013-07-25 00:00:00|             8827|         CLOSED|\n",
      "|       5|2013-07-25 00:00:00|            11318|       COMPLETE|\n",
      "|       6|2013-07-25 00:00:00|             7130|       COMPLETE|\n",
      "|       7|2013-07-25 00:00:00|             4530|       COMPLETE|\n",
      "|       8|2013-07-25 00:00:00|             2911|     PROCESSING|\n",
      "|       9|2013-07-25 00:00:00|             5657|PENDING_PAYMENT|\n",
      "|      10|2013-07-25 00:00:00|             5648|PENDING_PAYMENT|\n",
      "|      11|2013-07-25 00:00:00|              918| PAYMENT_REVIEW|\n",
      "|      12|2013-07-25 00:00:00|             1837|         CLOSED|\n",
      "|      13|2013-07-25 00:00:00|             9149|PENDING_PAYMENT|\n",
      "|      14|2013-07-25 00:00:00|             9842|     PROCESSING|\n",
      "|      15|2013-07-25 00:00:00|             2568|       COMPLETE|\n",
      "|      16|2013-07-25 00:00:00|             7276|PENDING_PAYMENT|\n",
      "|      17|2013-07-25 00:00:00|             2667|       COMPLETE|\n",
      "|      18|2013-07-25 00:00:00|             1205|         CLOSED|\n",
      "|      19|2013-07-25 00:00:00|             9488|PENDING_PAYMENT|\n",
      "|      20|2013-07-25 00:00:00|             9198|     PROCESSING|\n",
      "+--------+-------------------+-----------------+---------------+\n",
      "only showing top 20 rows\n",
      "\n"
     ]
    }
   ],
   "source": [
    "orders_df.show()"
   ]
  },
  {
   "cell_type": "markdown",
   "id": "457098aa",
   "metadata": {},
   "source": [
    "### 1. Top 10 customers who placed the most number of orders "
   ]
  },
  {
   "cell_type": "markdown",
   "id": "7690ed0b",
   "metadata": {},
   "source": [
    "#### Using DF"
   ]
  },
  {
   "cell_type": "code",
   "execution_count": 19,
   "id": "64cb8ae7",
   "metadata": {},
   "outputs": [
    {
     "name": "stdout",
     "output_type": "stream",
     "text": [
      "+-----------------+-----+\n",
      "|order_customer_id|count|\n",
      "+-----------------+-----+\n",
      "|             6316|   16|\n",
      "|              569|   16|\n",
      "|             5897|   16|\n",
      "|            12431|   16|\n",
      "|             5654|   15|\n",
      "|            12284|   15|\n",
      "|              221|   15|\n",
      "|             5283|   15|\n",
      "|             5624|   15|\n",
      "|             4320|   15|\n",
      "+-----------------+-----+\n",
      "only showing top 10 rows\n",
      "\n"
     ]
    }
   ],
   "source": [
    "(orders_df\n",
    "     .groupBy('order_customer_id')\n",
    "     .count()\n",
    "     .sort('count', ascending=False)\n",
    "     .show(10)\n",
    ")"
   ]
  },
  {
   "cell_type": "markdown",
   "id": "5e982127",
   "metadata": {},
   "source": [
    "#### Using Spark SQL"
   ]
  },
  {
   "cell_type": "code",
   "execution_count": 28,
   "id": "625b00f4",
   "metadata": {},
   "outputs": [
    {
     "name": "stdout",
     "output_type": "stream",
     "text": [
      "+-----------------+-----+\n",
      "|order_customer_id|count|\n",
      "+-----------------+-----+\n",
      "|             5897|   16|\n",
      "|            12431|   16|\n",
      "|             6316|   16|\n",
      "|              569|   16|\n",
      "|             5624|   15|\n",
      "|            12284|   15|\n",
      "|             5283|   15|\n",
      "|              221|   15|\n",
      "|             5654|   15|\n",
      "|             4320|   15|\n",
      "+-----------------+-----+\n",
      "\n"
     ]
    }
   ],
   "source": [
    "spark.sql('SELECT \\\n",
    "              order_customer_id, COUNT(order_id) AS count  \\\n",
    "            FROM orders \\\n",
    "            GROUP BY order_customer_id \\\n",
    "            ORDER BY count DESC \\\n",
    "            LIMIT 10').show()"
   ]
  },
  {
   "cell_type": "markdown",
   "id": "59eebd08",
   "metadata": {},
   "source": [
    "### 2. Find the no. of orders under each order status "
   ]
  },
  {
   "cell_type": "markdown",
   "id": "2e127e78",
   "metadata": {},
   "source": [
    "#### Using DF"
   ]
  },
  {
   "cell_type": "code",
   "execution_count": 35,
   "id": "4d8c9af1",
   "metadata": {},
   "outputs": [
    {
     "name": "stderr",
     "output_type": "stream",
     "text": [
      "[Stage 46:>                                                         (0 + 1) / 1]\r"
     ]
    },
    {
     "name": "stdout",
     "output_type": "stream",
     "text": [
      "+---------------+-----+\n",
      "|   order_status|count|\n",
      "+---------------+-----+\n",
      "|       COMPLETE|22899|\n",
      "|PENDING_PAYMENT|15030|\n",
      "|     PROCESSING| 8274|\n",
      "|        PENDING| 7609|\n",
      "|         CLOSED| 7556|\n",
      "|        ON_HOLD| 3798|\n",
      "|SUSPECTED_FRAUD| 1558|\n",
      "|       CANCELED| 1428|\n",
      "| PAYMENT_REVIEW|  729|\n",
      "+---------------+-----+\n",
      "\n"
     ]
    },
    {
     "name": "stderr",
     "output_type": "stream",
     "text": [
      "\r",
      "                                                                                \r"
     ]
    }
   ],
   "source": [
    "(orders_df\n",
    "     .groupBy('order_status')\n",
    "     .count()\n",
    "     .sort('count', ascending=False)          # Here count is a transformation\n",
    "     .show()\n",
    ")                        "
   ]
  },
  {
   "cell_type": "code",
   "execution_count": 33,
   "id": "faf5cf07",
   "metadata": {},
   "outputs": [
    {
     "name": "stdout",
     "output_type": "stream",
     "text": [
      "+---------------+-----+\n",
      "|   order_status|count|\n",
      "+---------------+-----+\n",
      "|       COMPLETE|22899|\n",
      "|PENDING_PAYMENT|15030|\n",
      "|     PROCESSING| 8274|\n",
      "|        PENDING| 7609|\n",
      "|         CLOSED| 7556|\n",
      "|        ON_HOLD| 3798|\n",
      "|SUSPECTED_FRAUD| 1558|\n",
      "|       CANCELED| 1428|\n",
      "| PAYMENT_REVIEW|  729|\n",
      "+---------------+-----+\n",
      "\n"
     ]
    }
   ],
   "source": [
    "spark.sql('SELECT \\\n",
    "              order_status, COUNT(order_id) AS count  \\\n",
    "            FROM orders \\\n",
    "            GROUP BY order_status \\\n",
    "            ORDER BY count DESC').show()"
   ]
  },
  {
   "cell_type": "markdown",
   "id": "b3372454",
   "metadata": {},
   "source": [
    "### 3. No. of active customers (at least 1 order they have placed)"
   ]
  },
  {
   "cell_type": "markdown",
   "id": "3ddc44e9",
   "metadata": {},
   "source": [
    "#### Using DF"
   ]
  },
  {
   "cell_type": "code",
   "execution_count": 41,
   "id": "725a961e",
   "metadata": {},
   "outputs": [
    {
     "data": {
      "text/plain": [
       "12405"
      ]
     },
     "execution_count": 41,
     "metadata": {},
     "output_type": "execute_result"
    }
   ],
   "source": [
    "orders_df.select('order_customer_id').distinct().count()    # Here count is an action"
   ]
  },
  {
   "cell_type": "markdown",
   "id": "ca208bf7",
   "metadata": {},
   "source": [
    "#### Using Spark SQL"
   ]
  },
  {
   "cell_type": "code",
   "execution_count": 42,
   "id": "2846ff23",
   "metadata": {},
   "outputs": [
    {
     "name": "stdout",
     "output_type": "stream",
     "text": [
      "+-----+\n",
      "|count|\n",
      "+-----+\n",
      "|12404|\n",
      "+-----+\n",
      "\n"
     ]
    }
   ],
   "source": [
    "spark.sql('SELECT \\\n",
    "              COUNT(DISTINCT(order_customer_id)) AS count \\\n",
    "              FROM orders').show()"
   ]
  },
  {
   "cell_type": "code",
   "execution_count": null,
   "id": "9ddb7cec",
   "metadata": {},
   "outputs": [],
   "source": []
  },
  {
   "cell_type": "markdown",
   "id": "c7308469",
   "metadata": {},
   "source": [
    "### 4. Customers with most no. of `CLOSED` orders"
   ]
  },
  {
   "cell_type": "markdown",
   "id": "0cd2586b",
   "metadata": {},
   "source": [
    "#### Using DF"
   ]
  },
  {
   "cell_type": "code",
   "execution_count": 50,
   "id": "2019b764",
   "metadata": {},
   "outputs": [
    {
     "name": "stdout",
     "output_type": "stream",
     "text": [
      "+-----------------+-----+\n",
      "|order_customer_id|count|\n",
      "+-----------------+-----+\n",
      "|             5308|    1|\n",
      "|             6722|    1|\n",
      "|             2721|    1|\n",
      "|             3220|    1|\n",
      "|              804|    1|\n",
      "|             3796|    1|\n",
      "|             6357|    1|\n",
      "|            12249|    1|\n",
      "|             1088|    1|\n",
      "|             6154|    1|\n",
      "|             2366|    1|\n",
      "|             4000|    1|\n",
      "|              540|    1|\n",
      "|              879|    1|\n",
      "|             6825|    1|\n",
      "|             7333|    1|\n",
      "|            12139|    1|\n",
      "|             5217|    1|\n",
      "|              496|    1|\n",
      "|             9597|    1|\n",
      "+-----------------+-----+\n",
      "only showing top 20 rows\n",
      "\n"
     ]
    }
   ],
   "source": [
    "(orders_df \n",
    "     .filter('order_status = \"CLOSED\"')\n",
    "     .groupBy('order_customer_id')\n",
    "     .count()\n",
    "     .sort('count', ascinding=False).show()\n",
    ")"
   ]
  },
  {
   "cell_type": "code",
   "execution_count": 53,
   "id": "6fa7fb25",
   "metadata": {},
   "outputs": [
    {
     "data": {
      "text/plain": [
       "68881"
      ]
     },
     "execution_count": 53,
     "metadata": {},
     "output_type": "execute_result"
    }
   ],
   "source": [
    "spark.sql('SELECT * FROM orders').count()"
   ]
  },
  {
   "cell_type": "code",
   "execution_count": 54,
   "id": "d87bfc82",
   "metadata": {},
   "outputs": [
    {
     "data": {
      "text/plain": [
       "12405"
      ]
     },
     "execution_count": 54,
     "metadata": {},
     "output_type": "execute_result"
    }
   ],
   "source": [
    "spark.sql('SELECT DISTINCT order_customer_id FROM orders').count()"
   ]
  },
  {
   "cell_type": "code",
   "execution_count": 60,
   "id": "36fc5eee",
   "metadata": {},
   "outputs": [
    {
     "name": "stderr",
     "output_type": "stream",
     "text": [
      "[Stage 114:>                                                        (0 + 1) / 1]\r"
     ]
    },
    {
     "name": "stdout",
     "output_type": "stream",
     "text": [
      "+-----------------+-----+\n",
      "|order_customer_id|count|\n",
      "+-----------------+-----+\n",
      "|             1833|    6|\n",
      "|             1687|    5|\n",
      "|             5493|    5|\n",
      "|             1363|    5|\n",
      "|             8974|    4|\n",
      "|             2774|    4|\n",
      "|             2236|    4|\n",
      "|             4282|    4|\n",
      "|             5582|    4|\n",
      "|            12431|    4|\n",
      "|             9740|    4|\n",
      "|             7879|    4|\n",
      "|             4573|    4|\n",
      "|             9213|    4|\n",
      "|             4588|    4|\n",
      "|            10111|    4|\n",
      "|             2768|    4|\n",
      "|             7948|    4|\n",
      "|             9804|    4|\n",
      "|             1521|    4|\n",
      "+-----------------+-----+\n",
      "only showing top 20 rows\n",
      "\n"
     ]
    },
    {
     "name": "stderr",
     "output_type": "stream",
     "text": [
      "\r",
      "                                                                                \r"
     ]
    }
   ],
   "source": [
    "(orders_df \n",
    "     .filter('order_status = \"CLOSED\"')\n",
    "     .groupBy('order_customer_id')\n",
    "     .count() \n",
    "     .orderBy('count', ascending=False) \\\n",
    "     .show()\n",
    ")"
   ]
  },
  {
   "cell_type": "code",
   "execution_count": 65,
   "id": "bbcba60e",
   "metadata": {},
   "outputs": [
    {
     "name": "stderr",
     "output_type": "stream",
     "text": [
      "[Stage 123:>                                                        (0 + 1) / 1]\r"
     ]
    },
    {
     "name": "stdout",
     "output_type": "stream",
     "text": [
      "+-----------------+-----+\n",
      "|order_customer_id|count|\n",
      "+-----------------+-----+\n",
      "|             1833|    6|\n",
      "|             1687|    5|\n",
      "|             5493|    5|\n",
      "|             1363|    5|\n",
      "|             8974|    4|\n",
      "|             2774|    4|\n",
      "|             2236|    4|\n",
      "|             4282|    4|\n",
      "|             5582|    4|\n",
      "|            12431|    4|\n",
      "|             9740|    4|\n",
      "|             7879|    4|\n",
      "|             4573|    4|\n",
      "|             9213|    4|\n",
      "|             4588|    4|\n",
      "|            10111|    4|\n",
      "|             2768|    4|\n",
      "|             7948|    4|\n",
      "|             9804|    4|\n",
      "|             1521|    4|\n",
      "+-----------------+-----+\n",
      "only showing top 20 rows\n",
      "\n"
     ]
    },
    {
     "name": "stderr",
     "output_type": "stream",
     "text": [
      "\r",
      "                                                                                \r"
     ]
    }
   ],
   "source": [
    "spark.sql('SELECT \\\n",
    "            order_customer_id, COUNT(order_id) AS count\\\n",
    "            FROM orders \\\n",
    "            WHERE order_status = \"CLOSED\" \\\n",
    "            GROUP BY order_customer_id \\\n",
    "            ORDER BY count DESC' \\\n",
    "         ).show()"
   ]
  },
  {
   "cell_type": "markdown",
   "id": "6911decd",
   "metadata": {},
   "source": [
    "### Utility functions \n",
    "- printSchema()\n",
    "- cache()\n",
    "- createOrReplaceTempView()"
   ]
  },
  {
   "cell_type": "code",
   "execution_count": null,
   "id": "3409eaef",
   "metadata": {},
   "outputs": [],
   "source": []
  },
  {
   "cell_type": "code",
   "execution_count": null,
   "id": "cc9f49f2",
   "metadata": {},
   "outputs": [],
   "source": []
  },
  {
   "cell_type": "code",
   "execution_count": null,
   "id": "4c4acc31",
   "metadata": {},
   "outputs": [],
   "source": []
  },
  {
   "cell_type": "code",
   "execution_count": null,
   "id": "27f32b0a",
   "metadata": {},
   "outputs": [],
   "source": []
  },
  {
   "cell_type": "code",
   "execution_count": null,
   "id": "e68adec8",
   "metadata": {},
   "outputs": [],
   "source": []
  },
  {
   "cell_type": "code",
   "execution_count": null,
   "id": "369a6d9f",
   "metadata": {},
   "outputs": [],
   "source": []
  },
  {
   "cell_type": "code",
   "execution_count": null,
   "id": "7af87c5f",
   "metadata": {},
   "outputs": [],
   "source": []
  },
  {
   "cell_type": "code",
   "execution_count": null,
   "id": "507583da",
   "metadata": {},
   "outputs": [],
   "source": []
  },
  {
   "cell_type": "code",
   "execution_count": null,
   "id": "d4e5dfc7",
   "metadata": {},
   "outputs": [],
   "source": []
  },
  {
   "cell_type": "code",
   "execution_count": null,
   "id": "fc68175d",
   "metadata": {},
   "outputs": [],
   "source": []
  },
  {
   "cell_type": "code",
   "execution_count": null,
   "id": "59bb2010",
   "metadata": {},
   "outputs": [],
   "source": []
  }
 ],
 "metadata": {
  "kernelspec": {
   "display_name": "Python 3 (ipykernel)",
   "language": "python",
   "name": "python3"
  },
  "language_info": {
   "codemirror_mode": {
    "name": "ipython",
    "version": 3
   },
   "file_extension": ".py",
   "mimetype": "text/x-python",
   "name": "python",
   "nbconvert_exporter": "python",
   "pygments_lexer": "ipython3",
   "version": "3.7.16"
  }
 },
 "nbformat": 4,
 "nbformat_minor": 5
}
