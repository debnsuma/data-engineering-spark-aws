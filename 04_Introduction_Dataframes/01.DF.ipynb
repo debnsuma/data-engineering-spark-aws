{
 "cells": [
  {
   "cell_type": "code",
   "execution_count": 1,
   "id": "7160619b",
   "metadata": {},
   "outputs": [
    {
     "data": {
      "text/html": [
       "\n",
       "            <div>\n",
       "                <p><b>SparkSession - hive</b></p>\n",
       "                \n",
       "        <div>\n",
       "            <p><b>SparkContext</b></p>\n",
       "\n",
       "            <p><a href=\"http://ip-172-31-2-35.us-east-2.compute.internal:4040\">Spark UI</a></p>\n",
       "\n",
       "            <dl>\n",
       "              <dt>Version</dt>\n",
       "                <dd><code>v3.3.0-amzn-1</code></dd>\n",
       "              <dt>Master</dt>\n",
       "                <dd><code>yarn</code></dd>\n",
       "              <dt>AppName</dt>\n",
       "                <dd><code>PySparkShell</code></dd>\n",
       "            </dl>\n",
       "        </div>\n",
       "        \n",
       "            </div>\n",
       "        "
      ],
      "text/plain": [
       "<pyspark.sql.session.SparkSession at 0x7f0f7007cfd0>"
      ]
     },
     "execution_count": 1,
     "metadata": {},
     "output_type": "execute_result"
    }
   ],
   "source": [
    "spark"
   ]
  },
  {
   "cell_type": "code",
   "execution_count": 2,
   "id": "cd7e3ceb",
   "metadata": {},
   "outputs": [
    {
     "data": {
      "text/html": [
       "\n",
       "        <div>\n",
       "            <p><b>SparkContext</b></p>\n",
       "\n",
       "            <p><a href=\"http://ip-172-31-2-35.us-east-2.compute.internal:4040\">Spark UI</a></p>\n",
       "\n",
       "            <dl>\n",
       "              <dt>Version</dt>\n",
       "                <dd><code>v3.3.0-amzn-1</code></dd>\n",
       "              <dt>Master</dt>\n",
       "                <dd><code>yarn</code></dd>\n",
       "              <dt>AppName</dt>\n",
       "                <dd><code>PySparkShell</code></dd>\n",
       "            </dl>\n",
       "        </div>\n",
       "        "
      ],
      "text/plain": [
       "<SparkContext master=yarn appName=PySparkShell>"
      ]
     },
     "execution_count": 2,
     "metadata": {},
     "output_type": "execute_result"
    }
   ],
   "source": [
    "sc"
   ]
  },
  {
   "cell_type": "markdown",
   "id": "b469e304",
   "metadata": {},
   "source": [
    "# Higher Level APIs \n",
    "    - Dataframes \n",
    "    - Spark SQL \n",
    "    - Datasets -> Language specific (not available for Python, but available for Scala/Java) "
   ]
  },
  {
   "cell_type": "markdown",
   "id": "fc9d130c",
   "metadata": {},
   "source": [
    "### RDD\n",
    "- No schema, \n",
    "- Raw data distributed across different partitions \n",
    "- No schema \n",
    "- No metadata\n"
   ]
  },
  {
   "cell_type": "markdown",
   "id": "f9d14a93",
   "metadata": {},
   "source": [
    "### Table\n",
    "- Consists of `data` and `metadata` \n",
    "- Data is stored at storage layer \n",
    "- Metadata is stored in some metastore which holds the schema \n",
    "- When we run `select * from table` -> It gets the checks data and metadata together to give us the data in a tabular form"
   ]
  },
  {
   "cell_type": "markdown",
   "id": "099ccf8a",
   "metadata": {},
   "source": [
    "### Spark SQL\n",
    "\n",
    "- Data files (S3/HDFS/etc) + Metastore (some database)\n"
   ]
  },
  {
   "cell_type": "markdown",
   "id": "1e5d55f2",
   "metadata": {},
   "source": [
    "### DataFrames and Spark SQL\n",
    "\n",
    "- Dataframes are nothing but RDD + Meradata (schema)/structure\n",
    "- Not persistent\n",
    "    - Data - in-memory \n",
    "    - Metadata - in-memory (there is no metastore, it is stored in a temp metadata catalog. Once the application is closed/stoped, its gone\n",
    "\n",
    "- Spark Table is always persistent \n",
    "    - After closing the session the data persists (data and metadata)\n",
    "    - Can be accessed via others across other sessions \n",
    "    - Dataframes is only visible to 1 session (our session where we create it)\n",
    "                            \n",
    "- Performance would be almost same whether we use Dataframe or Spark Table\n",
    "- Higher level APIs are more performant as Spark now knows"
   ]
  },
  {
   "cell_type": "code",
   "execution_count": 3,
   "id": "0620897f",
   "metadata": {},
   "outputs": [
    {
     "data": {
      "text/html": [
       "\n",
       "            <div>\n",
       "                <p><b>SparkSession - hive</b></p>\n",
       "                \n",
       "        <div>\n",
       "            <p><b>SparkContext</b></p>\n",
       "\n",
       "            <p><a href=\"http://ip-172-31-2-35.us-east-2.compute.internal:4040\">Spark UI</a></p>\n",
       "\n",
       "            <dl>\n",
       "              <dt>Version</dt>\n",
       "                <dd><code>v3.3.0-amzn-1</code></dd>\n",
       "              <dt>Master</dt>\n",
       "                <dd><code>yarn</code></dd>\n",
       "              <dt>AppName</dt>\n",
       "                <dd><code>PySparkShell</code></dd>\n",
       "            </dl>\n",
       "        </div>\n",
       "        \n",
       "            </div>\n",
       "        "
      ],
      "text/plain": [
       "<pyspark.sql.session.SparkSession at 0x7f0f7007cfd0>"
      ]
     },
     "execution_count": 3,
     "metadata": {},
     "output_type": "execute_result"
    }
   ],
   "source": [
    "spark"
   ]
  },
  {
   "cell_type": "markdown",
   "id": "c4c8dbd2",
   "metadata": {},
   "source": [
    "# Dataframe"
   ]
  },
  {
   "cell_type": "code",
   "execution_count": 7,
   "id": "24b3a118",
   "metadata": {},
   "outputs": [],
   "source": [
    "data_set = 's3://fcc-spark-example/dataset/diamonds.csv'\n",
    "\n",
    "df = (spark.read\n",
    "           .format('csv')\n",
    "           .option('header', 'true')\n",
    "           .option('inferSchema', 'true')\n",
    "           .load(data_set)\n",
    "     )"
   ]
  },
  {
   "cell_type": "code",
   "execution_count": 12,
   "id": "e464e384",
   "metadata": {},
   "outputs": [
    {
     "name": "stdout",
     "output_type": "stream",
     "text": [
      "+-----+---------+-----+-------+-----+-----+-----+----+----+----+\n",
      "|carat|      cut|color|clarity|depth|table|price|   x|   y|   z|\n",
      "+-----+---------+-----+-------+-----+-----+-----+----+----+----+\n",
      "| 0.23|    Ideal|    E|    SI2| 61.5| 55.0|  326|3.95|3.98|2.43|\n",
      "| 0.21|  Premium|    E|    SI1| 59.8| 61.0|  326|3.89|3.84|2.31|\n",
      "| 0.23|     Good|    E|    VS1| 56.9| 65.0|  327|4.05|4.07|2.31|\n",
      "| 0.29|  Premium|    I|    VS2| 62.4| 58.0|  334| 4.2|4.23|2.63|\n",
      "| 0.31|     Good|    J|    SI2| 63.3| 58.0|  335|4.34|4.35|2.75|\n",
      "| 0.24|Very Good|    J|   VVS2| 62.8| 57.0|  336|3.94|3.96|2.48|\n",
      "| 0.24|Very Good|    I|   VVS1| 62.3| 57.0|  336|3.95|3.98|2.47|\n",
      "| 0.26|Very Good|    H|    SI1| 61.9| 55.0|  337|4.07|4.11|2.53|\n",
      "| 0.22|     Fair|    E|    VS2| 65.1| 61.0|  337|3.87|3.78|2.49|\n",
      "| 0.23|Very Good|    H|    VS1| 59.4| 61.0|  338| 4.0|4.05|2.39|\n",
      "|  0.3|     Good|    J|    SI1| 64.0| 55.0|  339|4.25|4.28|2.73|\n",
      "| 0.23|    Ideal|    J|    VS1| 62.8| 56.0|  340|3.93| 3.9|2.46|\n",
      "| 0.22|  Premium|    F|    SI1| 60.4| 61.0|  342|3.88|3.84|2.33|\n",
      "| 0.31|    Ideal|    J|    SI2| 62.2| 54.0|  344|4.35|4.37|2.71|\n",
      "|  0.2|  Premium|    E|    SI2| 60.2| 62.0|  345|3.79|3.75|2.27|\n",
      "| 0.32|  Premium|    E|     I1| 60.9| 58.0|  345|4.38|4.42|2.68|\n",
      "|  0.3|    Ideal|    I|    SI2| 62.0| 54.0|  348|4.31|4.34|2.68|\n",
      "|  0.3|     Good|    J|    SI1| 63.4| 54.0|  351|4.23|4.29| 2.7|\n",
      "|  0.3|     Good|    J|    SI1| 63.8| 56.0|  351|4.23|4.26|2.71|\n",
      "|  0.3|Very Good|    J|    SI1| 62.7| 59.0|  351|4.21|4.27|2.66|\n",
      "+-----+---------+-----+-------+-----+-----+-----+----+----+----+\n",
      "only showing top 20 rows\n",
      "\n"
     ]
    }
   ],
   "source": [
    "df.show()"
   ]
  },
  {
   "cell_type": "code",
   "execution_count": 18,
   "id": "52f3bf24",
   "metadata": {},
   "outputs": [
    {
     "name": "stderr",
     "output_type": "stream",
     "text": [
      "\r",
      "[Stage 15:>                                                         (0 + 1) / 1]\r"
     ]
    },
    {
     "name": "stdout",
     "output_type": "stream",
     "text": [
      "+-----+---------+-----+-------+-----+-----+-----+----+----+----+\n",
      "|carat|      cut|color|clarity|depth|table|price|   x|   y|   z|\n",
      "+-----+---------+-----+-------+-----+-----+-----+----+----+----+\n",
      "| 0.23|    Ideal|    E|    SI2| 61.5| 55.0|  326|3.95|3.98|2.43|\n",
      "| 0.21|  Premium|    E|    SI1| 59.8| 61.0|  326|3.89|3.84|2.31|\n",
      "| 0.23|     Good|    E|    VS1| 56.9| 65.0|  327|4.05|4.07|2.31|\n",
      "| 0.29|  Premium|    I|    VS2| 62.4| 58.0|  334| 4.2|4.23|2.63|\n",
      "| 0.31|     Good|    J|    SI2| 63.3| 58.0|  335|4.34|4.35|2.75|\n",
      "| 0.24|Very Good|    J|   VVS2| 62.8| 57.0|  336|3.94|3.96|2.48|\n",
      "| 0.24|Very Good|    I|   VVS1| 62.3| 57.0|  336|3.95|3.98|2.47|\n",
      "| 0.26|Very Good|    H|    SI1| 61.9| 55.0|  337|4.07|4.11|2.53|\n",
      "| 0.22|     Fair|    E|    VS2| 65.1| 61.0|  337|3.87|3.78|2.49|\n",
      "| 0.23|Very Good|    H|    VS1| 59.4| 61.0|  338| 4.0|4.05|2.39|\n",
      "|  0.3|     Good|    J|    SI1| 64.0| 55.0|  339|4.25|4.28|2.73|\n",
      "| 0.23|    Ideal|    J|    VS1| 62.8| 56.0|  340|3.93| 3.9|2.46|\n",
      "| 0.22|  Premium|    F|    SI1| 60.4| 61.0|  342|3.88|3.84|2.33|\n",
      "| 0.31|    Ideal|    J|    SI2| 62.2| 54.0|  344|4.35|4.37|2.71|\n",
      "|  0.2|  Premium|    E|    SI2| 60.2| 62.0|  345|3.79|3.75|2.27|\n",
      "| 0.32|  Premium|    E|     I1| 60.9| 58.0|  345|4.38|4.42|2.68|\n",
      "|  0.3|    Ideal|    I|    SI2| 62.0| 54.0|  348|4.31|4.34|2.68|\n",
      "|  0.3|     Good|    J|    SI1| 63.4| 54.0|  351|4.23|4.29| 2.7|\n",
      "|  0.3|     Good|    J|    SI1| 63.8| 56.0|  351|4.23|4.26|2.71|\n",
      "|  0.3|Very Good|    J|    SI1| 62.7| 59.0|  351|4.21|4.27|2.66|\n",
      "+-----+---------+-----+-------+-----+-----+-----+----+----+----+\n",
      "only showing top 20 rows\n",
      "\n"
     ]
    },
    {
     "name": "stderr",
     "output_type": "stream",
     "text": [
      "\r",
      "                                                                                \r"
     ]
    }
   ],
   "source": [
    "df = (spark.read\n",
    "      .csv(data_set, header=True, inferSchema=True)\n",
    "      )\n",
    "\n",
    "df.show()"
   ]
  },
  {
   "cell_type": "code",
   "execution_count": 21,
   "id": "6c0db2b1",
   "metadata": {},
   "outputs": [
    {
     "name": "stdout",
     "output_type": "stream",
     "text": [
      "+-----+-------+-----+---------+-----+-----+-----+----+----+----+\n",
      "|carat|clarity|color|      cut|depth|price|table|   x|   y|   z|\n",
      "+-----+-------+-----+---------+-----+-----+-----+----+----+----+\n",
      "| 0.23|    SI2|    E|    Ideal| 61.5|  326| 55.0|3.95|3.98|2.43|\n",
      "| 0.21|    SI1|    E|  Premium| 59.8|  326| 61.0|3.89|3.84|2.31|\n",
      "| 0.23|    VS1|    E|     Good| 56.9|  327| 65.0|4.05|4.07|2.31|\n",
      "| 0.29|    VS2|    I|  Premium| 62.4|  334| 58.0| 4.2|4.23|2.63|\n",
      "| 0.31|    SI2|    J|     Good| 63.3|  335| 58.0|4.34|4.35|2.75|\n",
      "| 0.24|   VVS2|    J|Very Good| 62.8|  336| 57.0|3.94|3.96|2.48|\n",
      "| 0.24|   VVS1|    I|Very Good| 62.3|  336| 57.0|3.95|3.98|2.47|\n",
      "| 0.26|    SI1|    H|Very Good| 61.9|  337| 55.0|4.07|4.11|2.53|\n",
      "| 0.22|    VS2|    E|     Fair| 65.1|  337| 61.0|3.87|3.78|2.49|\n",
      "| 0.23|    VS1|    H|Very Good| 59.4|  338| 61.0| 4.0|4.05|2.39|\n",
      "|  0.3|    SI1|    J|     Good| 64.0|  339| 55.0|4.25|4.28|2.73|\n",
      "| 0.23|    VS1|    J|    Ideal| 62.8|  340| 56.0|3.93| 3.9|2.46|\n",
      "| 0.22|    SI1|    F|  Premium| 60.4|  342| 61.0|3.88|3.84|2.33|\n",
      "| 0.31|    SI2|    J|    Ideal| 62.2|  344| 54.0|4.35|4.37|2.71|\n",
      "|  0.2|    SI2|    E|  Premium| 60.2|  345| 62.0|3.79|3.75|2.27|\n",
      "| 0.32|     I1|    E|  Premium| 60.9|  345| 58.0|4.38|4.42|2.68|\n",
      "|  0.3|    SI2|    I|    Ideal| 62.0|  348| 54.0|4.31|4.34|2.68|\n",
      "|  0.3|    SI1|    J|     Good| 63.4|  351| 54.0|4.23|4.29| 2.7|\n",
      "|  0.3|    SI1|    J|     Good| 63.8|  351| 56.0|4.23|4.26|2.71|\n",
      "|  0.3|    SI1|    J|Very Good| 62.7|  351| 59.0|4.21|4.27|2.66|\n",
      "+-----+-------+-----+---------+-----+-----+-----+----+----+----+\n",
      "only showing top 20 rows\n",
      "\n"
     ]
    }
   ],
   "source": [
    "# meta-data is embeded within the data \n",
    "\n",
    "data_set = 's3://fcc-spark-example/dataset/diamonds.json'\n",
    "\n",
    "df = (spark.read\n",
    "      .json(data_set)\n",
    "      )\n",
    "\n",
    "df.show()"
   ]
  },
  {
   "cell_type": "code",
   "execution_count": 23,
   "id": "ddd2335a",
   "metadata": {},
   "outputs": [
    {
     "name": "stdout",
     "output_type": "stream",
     "text": [
      "+-----+-------+-----+---------+-----+-----+-----+----+----+----+\n",
      "|carat|clarity|color|      cut|depth|price|table|   x|   y|   z|\n",
      "+-----+-------+-----+---------+-----+-----+-----+----+----+----+\n",
      "|  1.0|    SI1|    F|  Premium| 60.3| 5292| 58.0|6.47|6.43|3.89|\n",
      "|  0.4|    SI2|    G|     Good| 63.1|  596| 59.0|4.65| 4.7|2.95|\n",
      "| 0.54|    SI1|    I|    Ideal| 62.0| 1057| 55.0|5.21|5.25|3.24|\n",
      "| 1.01|    VS2|    F|Very Good| 59.4| 6288| 61.0|6.48|6.51|3.86|\n",
      "| 2.03|    SI2|    E|  Premium| 61.5|18477| 59.0|8.24|8.16|5.04|\n",
      "| 0.32|   VVS1|    I|  Premium| 63.0|  756| 58.0|4.38|4.32|2.74|\n",
      "|  0.9|    SI2|    E|     Good| 61.3| 3895| 61.0|6.13|6.17|3.77|\n",
      "| 1.07|    VS2|    I|    Ideal| 60.6| 5167| 59.0|6.64|6.62|4.02|\n",
      "| 1.51|    SI2|    G|  Premium| 62.4| 7695| 57.0|7.35|7.29|4.57|\n",
      "| 0.31|    VS2|    F|Very Good| 63.0|  583| 57.0|4.27|4.33|2.71|\n",
      "| 0.36|   VVS2|    F|    Ideal| 60.4|  853| 58.0|4.61|4.66| 2.8|\n",
      "| 0.55|    SI1|    F|     Good| 57.0| 1410| 62.0|5.42|5.44| 3.1|\n",
      "| 0.31|    VS2|    E|    Ideal| 61.0|  872| 54.0|4.41|4.37|2.68|\n",
      "| 0.32|   VVS1|    F|    Ideal| 62.5|  854| 53.0| 4.4|4.43|2.76|\n",
      "| 0.31|    SI1|    E|Very Good| 63.2|  698| 59.0|4.31|4.24| 2.7|\n",
      "| 0.93|    VS1|    H|    Ideal| 61.8| 5375| 55.0|6.28|6.26|3.88|\n",
      "| 0.71|    VS1|    D|  Premium| 62.9| 2860| 57.0|5.66| 5.6|3.54|\n",
      "| 0.51|    SI1|    E|Very Good| 63.2| 1443| 61.0|5.08|5.05| 3.2|\n",
      "| 2.08|    SI2|    E|    Ideal| 60.2|18128| 60.0|8.28|8.32| 5.0|\n",
      "|  0.9|    SI1|    E|  Premium| 61.3| 4209| 60.0|6.19|6.14|3.78|\n",
      "+-----+-------+-----+---------+-----+-----+-----+----+----+----+\n",
      "only showing top 20 rows\n",
      "\n"
     ]
    }
   ],
   "source": [
    "# meta-data is embeded \n",
    "\n",
    "data_set = 's3://fcc-spark-example/dataset/diamonds_parquet'\n",
    "\n",
    "df = (spark.read\n",
    "      .parquet(data_set)\n",
    "      )\n",
    "\n",
    "df.show()"
   ]
  },
  {
   "cell_type": "code",
   "execution_count": 22,
   "id": "8310db1d",
   "metadata": {},
   "outputs": [
    {
     "name": "stderr",
     "output_type": "stream",
     "text": [
      "                                                                                \r"
     ]
    }
   ],
   "source": [
    "# df.repartition(4).write.format(\"parquet\").mode(\"overwrite\").save(\"s3://fcc-spark-example/dataset/diamonds_parquet\")\n"
   ]
  },
  {
   "cell_type": "code",
   "execution_count": 27,
   "id": "89a27e3c",
   "metadata": {},
   "outputs": [
    {
     "name": "stdout",
     "output_type": "stream",
     "text": [
      "+-----+-------+-----+---------+-----+-----+-----+----+----+----+\n",
      "|carat|clarity|color|      cut|depth|price|table|   x|   y|   z|\n",
      "+-----+-------+-----+---------+-----+-----+-----+----+----+----+\n",
      "|  1.0|    SI1|    F|  Premium| 60.3| 5292| 58.0|6.47|6.43|3.89|\n",
      "|  0.4|    SI2|    G|     Good| 63.1|  596| 59.0|4.65| 4.7|2.95|\n",
      "| 0.54|    SI1|    I|    Ideal| 62.0| 1057| 55.0|5.21|5.25|3.24|\n",
      "| 1.01|    VS2|    F|Very Good| 59.4| 6288| 61.0|6.48|6.51|3.86|\n",
      "| 2.03|    SI2|    E|  Premium| 61.5|18477| 59.0|8.24|8.16|5.04|\n",
      "| 0.32|   VVS1|    I|  Premium| 63.0|  756| 58.0|4.38|4.32|2.74|\n",
      "|  0.9|    SI2|    E|     Good| 61.3| 3895| 61.0|6.13|6.17|3.77|\n",
      "| 1.07|    VS2|    I|    Ideal| 60.6| 5167| 59.0|6.64|6.62|4.02|\n",
      "| 1.51|    SI2|    G|  Premium| 62.4| 7695| 57.0|7.35|7.29|4.57|\n",
      "| 0.31|    VS2|    F|Very Good| 63.0|  583| 57.0|4.27|4.33|2.71|\n",
      "+-----+-------+-----+---------+-----+-----+-----+----+----+----+\n",
      "only showing top 10 rows\n",
      "\n"
     ]
    }
   ],
   "source": [
    "df.show(10)"
   ]
  },
  {
   "cell_type": "code",
   "execution_count": 30,
   "id": "9db470e5",
   "metadata": {},
   "outputs": [
    {
     "name": "stdout",
     "output_type": "stream",
     "text": [
      "+-----+-------+-----+-------+-----+-----+-----+----+----+----+\n",
      "|carat|clarity|color|    cut|depth|price|table|   x|   y|   z|\n",
      "+-----+-------+-----+-------+-----+-----+-----+----+----+----+\n",
      "|  1.0|    SI1|    F|Premium| 60.3| 5292| 58.0|6.47|6.43|3.89|\n",
      "| 2.03|    SI2|    E|Premium| 61.5|18477| 59.0|8.24|8.16|5.04|\n",
      "| 0.32|   VVS1|    I|Premium| 63.0|  756| 58.0|4.38|4.32|2.74|\n",
      "| 1.51|    SI2|    G|Premium| 62.4| 7695| 57.0|7.35|7.29|4.57|\n",
      "| 0.71|    VS1|    D|Premium| 62.9| 2860| 57.0|5.66| 5.6|3.54|\n",
      "+-----+-------+-----+-------+-----+-----+-----+----+----+----+\n",
      "only showing top 5 rows\n",
      "\n"
     ]
    }
   ],
   "source": [
    "df_premium = df.where(\"cut == 'Premium'\")\n",
    "df_premium.show(5)"
   ]
  },
  {
   "cell_type": "code",
   "execution_count": 31,
   "id": "209ce3ee",
   "metadata": {},
   "outputs": [
    {
     "name": "stderr",
     "output_type": "stream",
     "text": [
      "[Stage 30:>                                                         (0 + 1) / 1]\r"
     ]
    },
    {
     "name": "stdout",
     "output_type": "stream",
     "text": [
      "+-----+-------+-----+-------+-----+-----+-----+----+----+----+\n",
      "|carat|clarity|color|    cut|depth|price|table|   x|   y|   z|\n",
      "+-----+-------+-----+-------+-----+-----+-----+----+----+----+\n",
      "|  0.9|    SI1|    D|Premium| 61.2| 4304| 60.0|6.19|6.14|3.77|\n",
      "|  0.3|   VVS1|    G|Premium| 62.4| 1013| 57.0|4.29|4.27|2.67|\n",
      "| 1.02|    VS2|    G|Premium| 61.5| 6416| 59.0|6.44|6.41|3.95|\n",
      "|  0.4|    VS2|    F|Premium| 59.3|  842| 59.0|4.79|4.83|2.85|\n",
      "|  2.0|    SI2|    E|Premium| 58.1|15984| 60.0|8.32|8.25|4.81|\n",
      "+-----+-------+-----+-------+-----+-----+-----+----+----+----+\n",
      "only showing top 5 rows\n",
      "\n"
     ]
    },
    {
     "name": "stderr",
     "output_type": "stream",
     "text": [
      "\r",
      "                                                                                \r"
     ]
    }
   ],
   "source": [
    "# where() is an alias for filter()\n",
    "\n",
    "df_premium = df.filter(\"cut == 'Premium'\")\n",
    "df_premium.show(5)"
   ]
  },
  {
   "cell_type": "markdown",
   "id": "1c329938",
   "metadata": {},
   "source": [
    "#### Dataframe to Spark Table"
   ]
  },
  {
   "cell_type": "code",
   "execution_count": 32,
   "id": "31facb1e",
   "metadata": {},
   "outputs": [],
   "source": [
    "df.createOrReplaceTempView('diamonds')"
   ]
  },
  {
   "cell_type": "code",
   "execution_count": null,
   "id": "4dbed801",
   "metadata": {},
   "outputs": [],
   "source": [
    "# Now we have a distributed table/view called 'diamonds' in our Spark Cluster "
   ]
  },
  {
   "cell_type": "code",
   "execution_count": 33,
   "id": "91e9f497",
   "metadata": {},
   "outputs": [],
   "source": [
    "df_premium = spark.sql('SELECT * \\\n",
    "                           FROM diamonds \\\n",
    "                           WHERE cut=\"Premium\"')"
   ]
  },
  {
   "cell_type": "code",
   "execution_count": 34,
   "id": "046279ed",
   "metadata": {},
   "outputs": [
    {
     "name": "stderr",
     "output_type": "stream",
     "text": [
      "[Stage 31:>                                                         (0 + 1) / 1]\r"
     ]
    },
    {
     "name": "stdout",
     "output_type": "stream",
     "text": [
      "+-----+-------+-----+-------+-----+-----+-----+----+----+----+\n",
      "|carat|clarity|color|    cut|depth|price|table|   x|   y|   z|\n",
      "+-----+-------+-----+-------+-----+-----+-----+----+----+----+\n",
      "|  0.9|    SI1|    D|Premium| 61.2| 4304| 60.0|6.19|6.14|3.77|\n",
      "|  0.3|   VVS1|    G|Premium| 62.4| 1013| 57.0|4.29|4.27|2.67|\n",
      "| 1.02|    VS2|    G|Premium| 61.5| 6416| 59.0|6.44|6.41|3.95|\n",
      "|  0.4|    VS2|    F|Premium| 59.3|  842| 59.0|4.79|4.83|2.85|\n",
      "|  2.0|    SI2|    E|Premium| 58.1|15984| 60.0|8.32|8.25|4.81|\n",
      "| 0.93|    SI2|    F|Premium| 59.5| 3620| 60.0|6.39|6.36|3.79|\n",
      "| 1.03|    VS1|    E|Premium| 61.5| 7614| 58.0|6.55|6.43|3.99|\n",
      "|  0.8|    VS2|    F|Premium| 61.6| 3429| 58.0|5.98|6.03| 3.7|\n",
      "| 2.02|    VS2|    J|Premium| 62.0|13687| 59.0|8.06|8.08| 5.0|\n",
      "| 0.31|    SI1|    G|Premium| 62.6|  593| 58.0|4.34|4.29| 2.7|\n",
      "+-----+-------+-----+-------+-----+-----+-----+----+----+----+\n",
      "only showing top 10 rows\n",
      "\n"
     ]
    },
    {
     "name": "stderr",
     "output_type": "stream",
     "text": [
      "\r",
      "                                                                                \r"
     ]
    }
   ],
   "source": [
    "df_premium.show(10)"
   ]
  },
  {
   "cell_type": "markdown",
   "id": "e049c45f",
   "metadata": {},
   "source": [
    "#### Spark Table to Dataframe "
   ]
  },
  {
   "cell_type": "code",
   "execution_count": 35,
   "id": "b08256b2",
   "metadata": {},
   "outputs": [],
   "source": [
    "df = spark.read.table('diamonds')"
   ]
  },
  {
   "cell_type": "code",
   "execution_count": 36,
   "id": "badab60b",
   "metadata": {},
   "outputs": [
    {
     "name": "stderr",
     "output_type": "stream",
     "text": [
      "[Stage 32:>                                                         (0 + 1) / 1]\r"
     ]
    },
    {
     "name": "stdout",
     "output_type": "stream",
     "text": [
      "+-----+-------+-----+---------+-----+-----+-----+----+----+----+\n",
      "|carat|clarity|color|      cut|depth|price|table|   x|   y|   z|\n",
      "+-----+-------+-----+---------+-----+-----+-----+----+----+----+\n",
      "|  0.7|    VS2|    F|    Ideal| 60.8| 2942| 56.0|5.78|5.79|3.52|\n",
      "|  0.9|    SI1|    D|  Premium| 61.2| 4304| 60.0|6.19|6.14|3.77|\n",
      "| 0.44|    VS2|    E|Very Good| 60.3|  987| 58.0| 4.9|4.92|2.96|\n",
      "| 1.02|    SI2|    E|Very Good| 58.7| 4286| 63.0|6.61|6.55|3.86|\n",
      "| 1.01|    SI2|    G|    Ideal| 59.6| 4327| 57.0|6.59|6.54|3.91|\n",
      "|  2.1|    SI1|    I|    Ideal| 61.6|12168| 57.0|8.24|8.15|5.05|\n",
      "|  0.3|   VVS1|    G|    Ideal| 62.6|  789| 54.0|4.31|4.32| 2.7|\n",
      "|  0.3|   VVS1|    G|  Premium| 62.4| 1013| 57.0|4.29|4.27|2.67|\n",
      "| 0.38|    VS1|    I|    Ideal| 62.3|  703| 53.4|4.65|4.69|2.91|\n",
      "| 0.39|    VS2|    G|    Ideal| 62.0|  816| 57.0|4.68|4.74|2.92|\n",
      "+-----+-------+-----+---------+-----+-----+-----+----+----+----+\n",
      "only showing top 10 rows\n",
      "\n"
     ]
    },
    {
     "name": "stderr",
     "output_type": "stream",
     "text": [
      "\r",
      "                                                                                \r"
     ]
    }
   ],
   "source": [
    "df.show(10)"
   ]
  },
  {
   "cell_type": "code",
   "execution_count": 40,
   "id": "0bce33ea",
   "metadata": {},
   "outputs": [],
   "source": [
    "df.createOrReplaceGlobalTempView('diamonds')"
   ]
  },
  {
   "cell_type": "code",
   "execution_count": 41,
   "id": "5b19d964",
   "metadata": {
    "scrolled": true
   },
   "outputs": [
    {
     "name": "stderr",
     "output_type": "stream",
     "text": [
      "                                                                                \r"
     ]
    },
    {
     "data": {
      "text/plain": [
       "[Table(name='diamonds', database=None, description=None, tableType='TEMPORARY', isTemporary=True)]"
      ]
     },
     "execution_count": 41,
     "metadata": {},
     "output_type": "execute_result"
    }
   ],
   "source": [
    "spark.catalog.listTables()"
   ]
  },
  {
   "cell_type": "code",
   "execution_count": 47,
   "id": "2aeab0b0",
   "metadata": {},
   "outputs": [
    {
     "data": {
      "text/plain": [
       "True"
      ]
     },
     "execution_count": 47,
     "metadata": {},
     "output_type": "execute_result"
    }
   ],
   "source": [
    "spark.catalog.dropGlobalTempView('diamonds')\n",
    "spark.catalog.dropTempView('diamonds')"
   ]
  },
  {
   "cell_type": "code",
   "execution_count": 48,
   "id": "4c06b640",
   "metadata": {},
   "outputs": [
    {
     "data": {
      "text/plain": [
       "[]"
      ]
     },
     "execution_count": 48,
     "metadata": {},
     "output_type": "execute_result"
    }
   ],
   "source": [
    "spark.catalog.listTables()"
   ]
  },
  {
   "cell_type": "code",
   "execution_count": null,
   "id": "e1ed9771",
   "metadata": {},
   "outputs": [],
   "source": []
  }
 ],
 "metadata": {
  "kernelspec": {
   "display_name": "Python 3 (ipykernel)",
   "language": "python",
   "name": "python3"
  },
  "language_info": {
   "codemirror_mode": {
    "name": "ipython",
    "version": 3
   },
   "file_extension": ".py",
   "mimetype": "text/x-python",
   "name": "python",
   "nbconvert_exporter": "python",
   "pygments_lexer": "ipython3",
   "version": "3.7.16"
  }
 },
 "nbformat": 4,
 "nbformat_minor": 5
}
