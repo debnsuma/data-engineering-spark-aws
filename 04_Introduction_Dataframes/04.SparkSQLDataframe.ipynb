{
 "cells": [
  {
   "cell_type": "markdown",
   "id": "b5cbd809",
   "metadata": {},
   "source": [
    "# Creating a `dataframe`"
   ]
  },
  {
   "cell_type": "code",
   "execution_count": 1,
   "id": "19f75dbe",
   "metadata": {},
   "outputs": [
    {
     "name": "stderr",
     "output_type": "stream",
     "text": [
      "                                                                                \r"
     ]
    }
   ],
   "source": [
    "orders_df = ( spark\n",
    "          .read\n",
    "          .csv('s3://fcc-spark-example/dataset/2023/orders.csv', header=True, inferSchema=True)\n",
    "     )\n"
   ]
  },
  {
   "cell_type": "markdown",
   "id": "9b6dcf53",
   "metadata": {},
   "source": [
    "# Creating a TempView"
   ]
  },
  {
   "cell_type": "code",
   "execution_count": 2,
   "id": "3ea9959d",
   "metadata": {},
   "outputs": [],
   "source": [
    "orders_df.createOrReplaceTempView('orders')"
   ]
  },
  {
   "cell_type": "markdown",
   "id": "2f49fbb4",
   "metadata": {},
   "source": [
    "### So, we have `Table` and `Dataframe`\n",
    "\n",
    "- orders_df -> `Dataframe`\n",
    "- orders -> `Temp View`"
   ]
  },
  {
   "cell_type": "code",
   "execution_count": 3,
   "id": "9c8f85df",
   "metadata": {},
   "outputs": [
    {
     "name": "stdout",
     "output_type": "stream",
     "text": [
      "+--------+-------------------+-----------------+---------------+\n",
      "|order_id|         order_date|order_customer_id|   order_status|\n",
      "+--------+-------------------+-----------------+---------------+\n",
      "|       1|2013-07-25 00:00:00|            11599|         CLOSED|\n",
      "|       2|2013-07-25 00:00:00|              256|PENDING_PAYMENT|\n",
      "|       3|2013-07-25 00:00:00|            12111|       COMPLETE|\n",
      "|       4|2013-07-25 00:00:00|             8827|         CLOSED|\n",
      "|       5|2013-07-25 00:00:00|            11318|       COMPLETE|\n",
      "+--------+-------------------+-----------------+---------------+\n",
      "only showing top 5 rows\n",
      "\n"
     ]
    }
   ],
   "source": [
    "# Using DF\n",
    "orders_df.show(5)"
   ]
  },
  {
   "cell_type": "code",
   "execution_count": 4,
   "id": "34714fad",
   "metadata": {},
   "outputs": [
    {
     "name": "stdout",
     "output_type": "stream",
     "text": [
      "+--------+-------------------+-----------------+---------------+\n",
      "|order_id|         order_date|order_customer_id|   order_status|\n",
      "+--------+-------------------+-----------------+---------------+\n",
      "|       1|2013-07-25 00:00:00|            11599|         CLOSED|\n",
      "|       2|2013-07-25 00:00:00|              256|PENDING_PAYMENT|\n",
      "|       3|2013-07-25 00:00:00|            12111|       COMPLETE|\n",
      "|       4|2013-07-25 00:00:00|             8827|         CLOSED|\n",
      "|       5|2013-07-25 00:00:00|            11318|       COMPLETE|\n",
      "+--------+-------------------+-----------------+---------------+\n",
      "only showing top 5 rows\n",
      "\n"
     ]
    }
   ],
   "source": [
    "# Using Spark SQL \n",
    "spark.sql('SELECT * FROM orders').show(5)"
   ]
  },
  {
   "cell_type": "markdown",
   "id": "457098aa",
   "metadata": {},
   "source": [
    "### 1. Top 10 customers who placed the most number of orders "
   ]
  },
  {
   "cell_type": "markdown",
   "id": "7690ed0b",
   "metadata": {},
   "source": [
    "#### Using DF"
   ]
  },
  {
   "cell_type": "code",
   "execution_count": 5,
   "id": "64cb8ae7",
   "metadata": {},
   "outputs": [
    {
     "name": "stderr",
     "output_type": "stream",
     "text": [
      "\r",
      "[Stage 4:>                                                          (0 + 1) / 1]\r"
     ]
    },
    {
     "name": "stdout",
     "output_type": "stream",
     "text": [
      "+-----------------+-----+\n",
      "|order_customer_id|count|\n",
      "+-----------------+-----+\n",
      "|             6316|   16|\n",
      "|              569|   16|\n",
      "|             5897|   16|\n",
      "|            12431|   16|\n",
      "|             5654|   15|\n",
      "|            12284|   15|\n",
      "|              221|   15|\n",
      "|             5283|   15|\n",
      "|             5624|   15|\n",
      "|             4320|   15|\n",
      "+-----------------+-----+\n",
      "only showing top 10 rows\n",
      "\n"
     ]
    },
    {
     "name": "stderr",
     "output_type": "stream",
     "text": [
      "\r",
      "[Stage 6:>                                                          (0 + 1) / 1]\r",
      "\r",
      "                                                                                \r"
     ]
    }
   ],
   "source": [
    "(orders_df\n",
    "     .groupBy('order_customer_id')\n",
    "     .count()\n",
    "     .sort('count', ascending=False)\n",
    "     .show(10)\n",
    ")"
   ]
  },
  {
   "cell_type": "code",
   "execution_count": 6,
   "id": "f8eba7ab",
   "metadata": {},
   "outputs": [
    {
     "name": "stdout",
     "output_type": "stream",
     "text": [
      "+-----------------+-----+\n",
      "|order_customer_id|count|\n",
      "+-----------------+-----+\n",
      "|            12431|   16|\n",
      "|             6316|   16|\n",
      "|             5897|   16|\n",
      "|              569|   16|\n",
      "|            12284|   15|\n",
      "|             5654|   15|\n",
      "|             5624|   15|\n",
      "|             5283|   15|\n",
      "|             4320|   15|\n",
      "|              221|   15|\n",
      "+-----------------+-----+\n",
      "only showing top 10 rows\n",
      "\n"
     ]
    }
   ],
   "source": [
    "(orders_df\n",
    "     .groupBy('order_customer_id')\n",
    "     .count()\n",
    "     .sort(['count', 'order_customer_id'], ascending=[False, False])\n",
    "     .show(10)\n",
    ")"
   ]
  },
  {
   "cell_type": "markdown",
   "id": "5e982127",
   "metadata": {},
   "source": [
    "#### Using Spark SQL"
   ]
  },
  {
   "cell_type": "code",
   "execution_count": 7,
   "id": "625b00f4",
   "metadata": {},
   "outputs": [
    {
     "name": "stderr",
     "output_type": "stream",
     "text": [
      "\r",
      "[Stage 10:>                                                         (0 + 1) / 1]\r"
     ]
    },
    {
     "name": "stdout",
     "output_type": "stream",
     "text": [
      "+-----------------+-----+\n",
      "|order_customer_id|count|\n",
      "+-----------------+-----+\n",
      "|             5897|   16|\n",
      "|            12431|   16|\n",
      "|             6316|   16|\n",
      "|              569|   16|\n",
      "|             5624|   15|\n",
      "|            12284|   15|\n",
      "|             5283|   15|\n",
      "|              221|   15|\n",
      "|             5654|   15|\n",
      "|             4320|   15|\n",
      "+-----------------+-----+\n",
      "\n"
     ]
    },
    {
     "name": "stderr",
     "output_type": "stream",
     "text": [
      "\r",
      "                                                                                \r"
     ]
    }
   ],
   "source": [
    "spark.sql('SELECT \\\n",
    "              order_customer_id, \\\n",
    "              COUNT(order_id) AS count  \\\n",
    "            FROM orders \\\n",
    "            GROUP BY order_customer_id \\\n",
    "            ORDER BY count DESC \\\n",
    "            LIMIT 10').show()"
   ]
  },
  {
   "cell_type": "code",
   "execution_count": 8,
   "id": "494dc6ec",
   "metadata": {},
   "outputs": [
    {
     "name": "stdout",
     "output_type": "stream",
     "text": [
      "+-----------------+-----+\n",
      "|order_customer_id|count|\n",
      "+-----------------+-----+\n",
      "|            12431|   16|\n",
      "|             6316|   16|\n",
      "|             5897|   16|\n",
      "|              569|   16|\n",
      "|            12284|   15|\n",
      "|             5654|   15|\n",
      "|             5624|   15|\n",
      "|             5283|   15|\n",
      "|             4320|   15|\n",
      "|              221|   15|\n",
      "+-----------------+-----+\n",
      "\n"
     ]
    }
   ],
   "source": [
    "spark.sql('SELECT \\\n",
    "              order_customer_id, \\\n",
    "              COUNT(order_id) AS count  \\\n",
    "            FROM orders \\\n",
    "            GROUP BY order_customer_id \\\n",
    "            ORDER BY count DESC, order_customer_id DESC \\\n",
    "            LIMIT 10').show()"
   ]
  },
  {
   "cell_type": "markdown",
   "id": "59eebd08",
   "metadata": {},
   "source": [
    "### 2. Find the no. of orders under each order status "
   ]
  },
  {
   "cell_type": "markdown",
   "id": "2e127e78",
   "metadata": {},
   "source": [
    "#### Using DF"
   ]
  },
  {
   "cell_type": "code",
   "execution_count": 9,
   "id": "4d8c9af1",
   "metadata": {},
   "outputs": [
    {
     "name": "stdout",
     "output_type": "stream",
     "text": [
      "+---------------+-----+\n",
      "|   order_status|count|\n",
      "+---------------+-----+\n",
      "|       COMPLETE|22899|\n",
      "|PENDING_PAYMENT|15030|\n",
      "|     PROCESSING| 8274|\n",
      "|        PENDING| 7609|\n",
      "|         CLOSED| 7556|\n",
      "|        ON_HOLD| 3798|\n",
      "|SUSPECTED_FRAUD| 1558|\n",
      "|       CANCELED| 1428|\n",
      "| PAYMENT_REVIEW|  729|\n",
      "+---------------+-----+\n",
      "\n"
     ]
    }
   ],
   "source": [
    "(orders_df\n",
    "     .groupBy('order_status')\n",
    "     .count()                                  # Here count is a transformation\n",
    "     .sort('count', ascending=False)          \n",
    "     .show()\n",
    ")                        "
   ]
  },
  {
   "cell_type": "code",
   "execution_count": 10,
   "id": "faf5cf07",
   "metadata": {},
   "outputs": [
    {
     "name": "stdout",
     "output_type": "stream",
     "text": [
      "+---------------+-----+\n",
      "|   order_status|count|\n",
      "+---------------+-----+\n",
      "|       COMPLETE|22899|\n",
      "|PENDING_PAYMENT|15030|\n",
      "|     PROCESSING| 8274|\n",
      "|        PENDING| 7609|\n",
      "|         CLOSED| 7556|\n",
      "|        ON_HOLD| 3798|\n",
      "|SUSPECTED_FRAUD| 1558|\n",
      "|       CANCELED| 1428|\n",
      "| PAYMENT_REVIEW|  729|\n",
      "+---------------+-----+\n",
      "\n"
     ]
    }
   ],
   "source": [
    "spark.sql('SELECT \\\n",
    "              order_status, COUNT(order_id) AS count  \\\n",
    "            FROM orders \\\n",
    "            GROUP BY order_status \\\n",
    "            ORDER BY count DESC').show()"
   ]
  },
  {
   "cell_type": "markdown",
   "id": "b3372454",
   "metadata": {},
   "source": [
    "### 3. No. of active customers (at least 1 order they have placed)"
   ]
  },
  {
   "cell_type": "markdown",
   "id": "3ddc44e9",
   "metadata": {},
   "source": [
    "#### Using DF"
   ]
  },
  {
   "cell_type": "code",
   "execution_count": 11,
   "id": "725a961e",
   "metadata": {},
   "outputs": [
    {
     "data": {
      "text/plain": [
       "12405"
      ]
     },
     "execution_count": 11,
     "metadata": {},
     "output_type": "execute_result"
    }
   ],
   "source": [
    "(\n",
    "    orders_df\n",
    "        .select('order_customer_id')\n",
    "        .distinct()\n",
    "        .count()    # Here count is an action\n",
    ")"
   ]
  },
  {
   "cell_type": "markdown",
   "id": "ca208bf7",
   "metadata": {},
   "source": [
    "#### Using Spark SQL"
   ]
  },
  {
   "cell_type": "code",
   "execution_count": 12,
   "id": "2846ff23",
   "metadata": {},
   "outputs": [
    {
     "name": "stdout",
     "output_type": "stream",
     "text": [
      "+-----+\n",
      "|count|\n",
      "+-----+\n",
      "|12404|\n",
      "+-----+\n",
      "\n"
     ]
    }
   ],
   "source": [
    "spark.sql('SELECT \\\n",
    "              COUNT(DISTINCT(order_customer_id)) AS count \\\n",
    "              FROM orders').show()"
   ]
  },
  {
   "cell_type": "markdown",
   "id": "c7308469",
   "metadata": {},
   "source": [
    "### 4. Customers with most no. of `CLOSED` orders"
   ]
  },
  {
   "cell_type": "markdown",
   "id": "0cd2586b",
   "metadata": {},
   "source": [
    "#### Using DF"
   ]
  },
  {
   "cell_type": "code",
   "execution_count": 13,
   "id": "b16726b4",
   "metadata": {},
   "outputs": [
    {
     "name": "stdout",
     "output_type": "stream",
     "text": [
      "+-----------------+-----+\n",
      "|order_customer_id|count|\n",
      "+-----------------+-----+\n",
      "|             1833|    6|\n",
      "|             5493|    5|\n",
      "|             1363|    5|\n",
      "|             1687|    5|\n",
      "|             1521|    4|\n",
      "+-----------------+-----+\n",
      "only showing top 5 rows\n",
      "\n"
     ]
    }
   ],
   "source": [
    "(orders_df \n",
    "     .filter('order_status = \"CLOSED\"')\n",
    "     .groupBy('order_customer_id')\n",
    "     .count() \n",
    "     .orderBy('count', ascending=False) \\\n",
    "     .show(5)\n",
    ")"
   ]
  },
  {
   "cell_type": "code",
   "execution_count": 14,
   "id": "bbcba60e",
   "metadata": {},
   "outputs": [
    {
     "name": "stdout",
     "output_type": "stream",
     "text": [
      "+-----------------+-----+\n",
      "|order_customer_id|count|\n",
      "+-----------------+-----+\n",
      "|             1833|    6|\n",
      "|             5493|    5|\n",
      "|             1363|    5|\n",
      "|             1687|    5|\n",
      "|             1521|    4|\n",
      "+-----------------+-----+\n",
      "only showing top 5 rows\n",
      "\n"
     ]
    }
   ],
   "source": [
    "spark.sql('SELECT \\\n",
    "            order_customer_id, COUNT(order_id) AS count\\\n",
    "            FROM orders \\\n",
    "            WHERE order_status = \"CLOSED\" \\\n",
    "            GROUP BY order_customer_id \\\n",
    "            ORDER BY count DESC' \\\n",
    "         ).show(5)"
   ]
  },
  {
   "cell_type": "markdown",
   "id": "6911decd",
   "metadata": {},
   "source": [
    "## Summary "
   ]
  },
  {
   "cell_type": "markdown",
   "id": "6b3ec1d4",
   "metadata": {},
   "source": [
    "### Utility functions \n",
    "```python\n",
    "printSchema()\n",
    "cache()\n",
    "createOrReplaceTempView()\n",
    "```\n",
    "\n",
    "### Transformations\n",
    "```python\n",
    ".groupBy\n",
    ".groupBy.count() \n",
    ".orderBy\n",
    ".filter\n",
    ".distinct\n",
    ".join\n",
    "```\n",
    "### Actions \n",
    "```python\n",
    ".show\n",
    ".head\n",
    ".tail\n",
    ".take\n",
    ".collect\n",
    "```\n"
   ]
  }
 ],
 "metadata": {
  "kernelspec": {
   "display_name": "Python 3 (ipykernel)",
   "language": "python",
   "name": "python3"
  },
  "language_info": {
   "codemirror_mode": {
    "name": "ipython",
    "version": 3
   },
   "file_extension": ".py",
   "mimetype": "text/x-python",
   "name": "python",
   "nbconvert_exporter": "python",
   "pygments_lexer": "ipython3",
   "version": "3.7.16"
  }
 },
 "nbformat": 4,
 "nbformat_minor": 5
}
