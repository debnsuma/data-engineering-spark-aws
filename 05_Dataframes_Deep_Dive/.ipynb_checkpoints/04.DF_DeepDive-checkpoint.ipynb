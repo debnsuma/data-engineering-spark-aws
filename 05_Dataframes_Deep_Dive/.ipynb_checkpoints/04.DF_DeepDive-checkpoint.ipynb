{
 "cells": [
  {
   "cell_type": "markdown",
   "id": "f8c7d777",
   "metadata": {},
   "source": [
    "# Dataframe Deep Dive (Part 4)"
   ]
  },
  {
   "cell_type": "code",
   "execution_count": 1,
   "id": "3787618d",
   "metadata": {},
   "outputs": [
    {
     "data": {
      "text/html": [
       "\n",
       "            <div>\n",
       "                <p><b>SparkSession - hive</b></p>\n",
       "                \n",
       "        <div>\n",
       "            <p><b>SparkContext</b></p>\n",
       "\n",
       "            <p><a href=\"http://ip-172-31-2-35.us-east-2.compute.internal:4043\">Spark UI</a></p>\n",
       "\n",
       "            <dl>\n",
       "              <dt>Version</dt>\n",
       "                <dd><code>v3.3.0-amzn-1</code></dd>\n",
       "              <dt>Master</dt>\n",
       "                <dd><code>yarn</code></dd>\n",
       "              <dt>AppName</dt>\n",
       "                <dd><code>PySparkShell</code></dd>\n",
       "            </dl>\n",
       "        </div>\n",
       "        \n",
       "            </div>\n",
       "        "
      ],
      "text/plain": [
       "<pyspark.sql.session.SparkSession at 0x7fabc7487d10>"
      ]
     },
     "execution_count": 1,
     "metadata": {},
     "output_type": "execute_result"
    }
   ],
   "source": [
    "spark"
   ]
  },
  {
   "cell_type": "code",
   "execution_count": 2,
   "id": "0f7c4e1a",
   "metadata": {},
   "outputs": [
    {
     "data": {
      "text/html": [
       "\n",
       "        <div>\n",
       "            <p><b>SparkContext</b></p>\n",
       "\n",
       "            <p><a href=\"http://ip-172-31-2-35.us-east-2.compute.internal:4043\">Spark UI</a></p>\n",
       "\n",
       "            <dl>\n",
       "              <dt>Version</dt>\n",
       "                <dd><code>v3.3.0-amzn-1</code></dd>\n",
       "              <dt>Master</dt>\n",
       "                <dd><code>yarn</code></dd>\n",
       "              <dt>AppName</dt>\n",
       "                <dd><code>PySparkShell</code></dd>\n",
       "            </dl>\n",
       "        </div>\n",
       "        "
      ],
      "text/plain": [
       "<SparkContext master=yarn appName=PySparkShell>"
      ]
     },
     "execution_count": 2,
     "metadata": {},
     "output_type": "execute_result"
    }
   ],
   "source": [
    "sc"
   ]
  },
  {
   "cell_type": "code",
   "execution_count": 3,
   "id": "00156990",
   "metadata": {},
   "outputs": [],
   "source": [
    "import pyspark.sql.functions as F\n",
    "from pyspark.sql.types import *"
   ]
  },
  {
   "cell_type": "markdown",
   "id": "b3a686a3",
   "metadata": {},
   "source": [
    "## Column operations and Dropping duplicates"
   ]
  },
  {
   "cell_type": "markdown",
   "id": "07251e25",
   "metadata": {},
   "source": [
    "In this section we explore few transformations on columns:\n",
    "\n",
    "    - how to add a new column - withColumn()\n",
    "    - how to rename an existing column - withColumnRenamed()\n",
    "    - how to drop a column - drop() \n",
    "    - how to modify a column without any condition \n",
    "    - how to modify a column with any condition \n",
    "    - how to pass expression to select using `expr`\n",
    "    - dropping duplicate rows\n",
    "    "
   ]
  },
  {
   "cell_type": "markdown",
   "id": "150fb5eb",
   "metadata": {},
   "source": [
    "## Dataframe Transformations "
   ]
  },
  {
   "cell_type": "code",
   "execution_count": 4,
   "id": "c40b6364",
   "metadata": {},
   "outputs": [
    {
     "name": "stderr",
     "output_type": "stream",
     "text": [
      "                                                                                \r"
     ]
    }
   ],
   "source": [
    "data_set = 's3://fcc-spark-example/dataset/2023/myorder_data'\n",
    "\n",
    "df = (spark.read\n",
    "           .format('csv')\n",
    "           .option('inferSchema', True)\n",
    "           .option('header', True)\n",
    "           .load(data_set)\n",
    "     )"
   ]
  },
  {
   "cell_type": "code",
   "execution_count": 5,
   "id": "dbc99d24",
   "metadata": {},
   "outputs": [
    {
     "name": "stdout",
     "output_type": "stream",
     "text": [
      "+---------+---------+--------------------+--------+---------------+---------+----------+--------------+----------+\n",
      "|InvoiceNo|StockCode|         Description|Quantity|    InvoiceDate|UnitPrice|CustomerID|       Country|TotalPrice|\n",
      "+---------+---------+--------------------+--------+---------------+---------+----------+--------------+----------+\n",
      "|   536378|     null|PACK OF 60 DINOSA...|      24|01-12-2010 9.37|     0.55|     14688|United Kingdom|      13.2|\n",
      "|   536378|     null|PACK OF 60 PINK P...|      24|01-12-2010 9.37|     0.55|     14688|United Kingdom|      13.2|\n",
      "|   536378|    84991|60 TEATIME FAIRY ...|      24|01-12-2010 9.37|     0.55|     14688|United Kingdom|      13.2|\n",
      "|   536378|   84519A|TOMATO CHARLIE+LO...|       6|01-12-2010 9.37|     2.95|     14688|United Kingdom|      17.7|\n",
      "|   536378|   85183B|CHARLIE & LOLA WA...|      48|01-12-2010 9.37|     1.25|     14688|United Kingdom|      60.0|\n",
      "+---------+---------+--------------------+--------+---------------+---------+----------+--------------+----------+\n",
      "only showing top 5 rows\n",
      "\n"
     ]
    }
   ],
   "source": [
    "df.show(5)"
   ]
  },
  {
   "cell_type": "code",
   "execution_count": 6,
   "id": "a3db3d10",
   "metadata": {},
   "outputs": [
    {
     "name": "stdout",
     "output_type": "stream",
     "text": [
      "root\n",
      " |-- InvoiceNo: string (nullable = true)\n",
      " |-- StockCode: string (nullable = true)\n",
      " |-- Description: string (nullable = true)\n",
      " |-- Quantity: integer (nullable = true)\n",
      " |-- InvoiceDate: string (nullable = true)\n",
      " |-- UnitPrice: double (nullable = true)\n",
      " |-- CustomerID: integer (nullable = true)\n",
      " |-- Country: string (nullable = true)\n",
      " |-- TotalPrice: double (nullable = true)\n",
      "\n"
     ]
    }
   ],
   "source": [
    "df.printSchema()"
   ]
  },
  {
   "cell_type": "markdown",
   "id": "b766bf7e",
   "metadata": {},
   "source": [
    "### Drop a column"
   ]
  },
  {
   "cell_type": "code",
   "execution_count": 7,
   "id": "024b2165",
   "metadata": {},
   "outputs": [],
   "source": [
    "# Dropping the column \"TotalPrice\"\n",
    "df1 = df.drop(F.col('TotalPrice'))"
   ]
  },
  {
   "cell_type": "code",
   "execution_count": 8,
   "id": "196a995e",
   "metadata": {},
   "outputs": [
    {
     "name": "stdout",
     "output_type": "stream",
     "text": [
      "+---------+---------+--------------------+--------+---------------+---------+----------+--------------+\n",
      "|InvoiceNo|StockCode|         Description|Quantity|    InvoiceDate|UnitPrice|CustomerID|       Country|\n",
      "+---------+---------+--------------------+--------+---------------+---------+----------+--------------+\n",
      "|   536378|     null|PACK OF 60 DINOSA...|      24|01-12-2010 9.37|     0.55|     14688|United Kingdom|\n",
      "|   536378|     null|PACK OF 60 PINK P...|      24|01-12-2010 9.37|     0.55|     14688|United Kingdom|\n",
      "|   536378|    84991|60 TEATIME FAIRY ...|      24|01-12-2010 9.37|     0.55|     14688|United Kingdom|\n",
      "|   536378|   84519A|TOMATO CHARLIE+LO...|       6|01-12-2010 9.37|     2.95|     14688|United Kingdom|\n",
      "|   536378|   85183B|CHARLIE & LOLA WA...|      48|01-12-2010 9.37|     1.25|     14688|United Kingdom|\n",
      "+---------+---------+--------------------+--------+---------------+---------+----------+--------------+\n",
      "only showing top 5 rows\n",
      "\n"
     ]
    }
   ],
   "source": [
    "df1.show(5)"
   ]
  },
  {
   "cell_type": "markdown",
   "id": "eadd0c94",
   "metadata": {},
   "source": [
    "### Create a new column"
   ]
  },
  {
   "cell_type": "markdown",
   "id": "6dd1c0a0",
   "metadata": {},
   "source": [
    "#### Using `withColumn`"
   ]
  },
  {
   "cell_type": "code",
   "execution_count": 9,
   "id": "c3d54e57",
   "metadata": {},
   "outputs": [
    {
     "name": "stdout",
     "output_type": "stream",
     "text": [
      "+---------+---------+--------------------+--------+---------------+---------+----------+--------------+----------+\n",
      "|InvoiceNo|StockCode|         Description|Quantity|    InvoiceDate|UnitPrice|CustomerID|       Country|TotalPrice|\n",
      "+---------+---------+--------------------+--------+---------------+---------+----------+--------------+----------+\n",
      "|   536378|     null|PACK OF 60 DINOSA...|      24|01-12-2010 9.37|     0.55|     14688|United Kingdom|      13.2|\n",
      "|   536378|     null|PACK OF 60 PINK P...|      24|01-12-2010 9.37|     0.55|     14688|United Kingdom|      13.2|\n",
      "|   536378|    84991|60 TEATIME FAIRY ...|      24|01-12-2010 9.37|     0.55|     14688|United Kingdom|      13.2|\n",
      "|   536378|   84519A|TOMATO CHARLIE+LO...|       6|01-12-2010 9.37|     2.95|     14688|United Kingdom|      17.7|\n",
      "|   536378|   85183B|CHARLIE & LOLA WA...|      48|01-12-2010 9.37|     1.25|     14688|United Kingdom|      60.0|\n",
      "+---------+---------+--------------------+--------+---------------+---------+----------+--------------+----------+\n",
      "only showing top 5 rows\n",
      "\n"
     ]
    }
   ],
   "source": [
    "df2 = df1.withColumn('TotalPrice', F.round(F.col('Quantity') * F.col('UnitPrice'), 2))\n",
    "df2.show(5)"
   ]
  },
  {
   "cell_type": "markdown",
   "id": "285cb646",
   "metadata": {},
   "source": [
    "#### Using `expression`"
   ]
  },
  {
   "cell_type": "code",
   "execution_count": 10,
   "id": "833fefba",
   "metadata": {},
   "outputs": [
    {
     "name": "stdout",
     "output_type": "stream",
     "text": [
      "+---------+---------+--------------------+--------+---------------+---------+----------+--------------+\n",
      "|InvoiceNo|StockCode|         Description|Quantity|    InvoiceDate|UnitPrice|CustomerID|       Country|\n",
      "+---------+---------+--------------------+--------+---------------+---------+----------+--------------+\n",
      "|   536378|     null|PACK OF 60 DINOSA...|      24|01-12-2010 9.37|     0.55|     14688|United Kingdom|\n",
      "|   536378|     null|PACK OF 60 PINK P...|      24|01-12-2010 9.37|     0.55|     14688|United Kingdom|\n",
      "|   536378|    84991|60 TEATIME FAIRY ...|      24|01-12-2010 9.37|     0.55|     14688|United Kingdom|\n",
      "|   536378|   84519A|TOMATO CHARLIE+LO...|       6|01-12-2010 9.37|     2.95|     14688|United Kingdom|\n",
      "|   536378|   85183B|CHARLIE & LOLA WA...|      48|01-12-2010 9.37|     1.25|     14688|United Kingdom|\n",
      "+---------+---------+--------------------+--------+---------------+---------+----------+--------------+\n",
      "only showing top 5 rows\n",
      "\n"
     ]
    }
   ],
   "source": [
    "df1.select('*').show(5)"
   ]
  },
  {
   "cell_type": "code",
   "execution_count": 11,
   "id": "27648c30",
   "metadata": {},
   "outputs": [
    {
     "name": "stdout",
     "output_type": "stream",
     "text": [
      "+---------+--------+----------+\n",
      "|StockCode|Quantity|CustomerID|\n",
      "+---------+--------+----------+\n",
      "|     null|      24|     14688|\n",
      "|     null|      24|     14688|\n",
      "|    84991|      24|     14688|\n",
      "|   84519A|       6|     14688|\n",
      "|   85183B|      48|     14688|\n",
      "+---------+--------+----------+\n",
      "only showing top 5 rows\n",
      "\n"
     ]
    }
   ],
   "source": [
    "df1.select('StockCode', 'Quantity', 'CustomerID').show(5)"
   ]
  },
  {
   "cell_type": "code",
   "execution_count": 12,
   "id": "a11198ba",
   "metadata": {},
   "outputs": [],
   "source": [
    "## This will throw an exception \n",
    "## [as we are expecting Spark to evaluate it as an expression, but its reading as a column name]\n",
    "\n",
    "# df1.select('*', 'Quantity * UnitPrice AS TotalPrice').show(5)"
   ]
  },
  {
   "cell_type": "code",
   "execution_count": 13,
   "id": "85a87000",
   "metadata": {},
   "outputs": [
    {
     "name": "stdout",
     "output_type": "stream",
     "text": [
      "+---------+---------+--------------------+--------+---------------+---------+----------+--------------+----------+\n",
      "|InvoiceNo|StockCode|         Description|Quantity|    InvoiceDate|UnitPrice|CustomerID|       Country|TotalPrice|\n",
      "+---------+---------+--------------------+--------+---------------+---------+----------+--------------+----------+\n",
      "|   536378|     null|PACK OF 60 DINOSA...|      24|01-12-2010 9.37|     0.55|     14688|United Kingdom|      13.2|\n",
      "|   536378|     null|PACK OF 60 PINK P...|      24|01-12-2010 9.37|     0.55|     14688|United Kingdom|      13.2|\n",
      "|   536378|    84991|60 TEATIME FAIRY ...|      24|01-12-2010 9.37|     0.55|     14688|United Kingdom|      13.2|\n",
      "|   536378|   84519A|TOMATO CHARLIE+LO...|       6|01-12-2010 9.37|     2.95|     14688|United Kingdom|      17.7|\n",
      "|   536378|   85183B|CHARLIE & LOLA WA...|      48|01-12-2010 9.37|     1.25|     14688|United Kingdom|      60.0|\n",
      "+---------+---------+--------------------+--------+---------------+---------+----------+--------------+----------+\n",
      "only showing top 5 rows\n",
      "\n"
     ]
    }
   ],
   "source": [
    "# With F.expr()\n",
    "df1.select('*', F.expr('round(Quantity * UnitPrice, 2) AS TotalPrice')).show(5)"
   ]
  },
  {
   "cell_type": "code",
   "execution_count": 14,
   "id": "3ce321b9",
   "metadata": {},
   "outputs": [
    {
     "name": "stdout",
     "output_type": "stream",
     "text": [
      "+---------+---------+--------------------+--------+---------------+---------+----------+--------------+----------+\n",
      "|InvoiceNo|StockCode|         Description|Quantity|    InvoiceDate|UnitPrice|CustomerID|       Country|TotalPrice|\n",
      "+---------+---------+--------------------+--------+---------------+---------+----------+--------------+----------+\n",
      "|   536378|     null|PACK OF 60 DINOSA...|      24|01-12-2010 9.37|     0.55|     14688|United Kingdom|      13.2|\n",
      "|   536378|     null|PACK OF 60 PINK P...|      24|01-12-2010 9.37|     0.55|     14688|United Kingdom|      13.2|\n",
      "|   536378|    84991|60 TEATIME FAIRY ...|      24|01-12-2010 9.37|     0.55|     14688|United Kingdom|      13.2|\n",
      "|   536378|   84519A|TOMATO CHARLIE+LO...|       6|01-12-2010 9.37|     2.95|     14688|United Kingdom|      17.7|\n",
      "|   536378|   85183B|CHARLIE & LOLA WA...|      48|01-12-2010 9.37|     1.25|     14688|United Kingdom|      60.0|\n",
      "+---------+---------+--------------------+--------+---------------+---------+----------+--------------+----------+\n",
      "only showing top 5 rows\n",
      "\n"
     ]
    }
   ],
   "source": [
    "# With selectExpr()\n",
    "df1.selectExpr('*','round(Quantity * UnitPrice, 2) AS TotalPrice').show(5)"
   ]
  },
  {
   "cell_type": "markdown",
   "id": "8296ed41",
   "metadata": {},
   "source": [
    "### Modify a column `without` any condition"
   ]
  },
  {
   "cell_type": "code",
   "execution_count": 15,
   "id": "4df3a815",
   "metadata": {},
   "outputs": [
    {
     "name": "stdout",
     "output_type": "stream",
     "text": [
      "+---------+---------+--------------------+--------+---------------+---------+----------+--------------+\n",
      "|InvoiceNo|StockCode|         Description|Quantity|    InvoiceDate|UnitPrice|CustomerID|       Country|\n",
      "+---------+---------+--------------------+--------+---------------+---------+----------+--------------+\n",
      "|   536378|     null|PACK OF 60 DINOSA...|      24|01-12-2010 9.37|     0.55|     14688|United Kingdom|\n",
      "|   536378|     null|PACK OF 60 PINK P...|      24|01-12-2010 9.37|     0.55|     14688|United Kingdom|\n",
      "|   536378|    84991|60 TEATIME FAIRY ...|      24|01-12-2010 9.37|     0.55|     14688|United Kingdom|\n",
      "|   536378|   84519A|TOMATO CHARLIE+LO...|       6|01-12-2010 9.37|     2.95|     14688|United Kingdom|\n",
      "|   536378|   85183B|CHARLIE & LOLA WA...|      48|01-12-2010 9.37|     1.25|     14688|United Kingdom|\n",
      "+---------+---------+--------------------+--------+---------------+---------+----------+--------------+\n",
      "only showing top 5 rows\n",
      "\n"
     ]
    }
   ],
   "source": [
    "df1.show(5)"
   ]
  },
  {
   "cell_type": "markdown",
   "id": "135d90ae",
   "metadata": {},
   "source": [
    "#### Using `withColumn`"
   ]
  },
  {
   "cell_type": "code",
   "execution_count": 16,
   "id": "70fb4a8e",
   "metadata": {},
   "outputs": [],
   "source": [
    "# Increase the unit price by 30% \n",
    "df1_transformed = df1.withColumn('UnitPrice', F.round( F.col('UnitPrice') * 1.3, 2))"
   ]
  },
  {
   "cell_type": "code",
   "execution_count": 17,
   "id": "aea13cfe",
   "metadata": {},
   "outputs": [
    {
     "name": "stdout",
     "output_type": "stream",
     "text": [
      "+---------+---------+--------------------+--------+---------------+---------+----------+--------------+\n",
      "|InvoiceNo|StockCode|         Description|Quantity|    InvoiceDate|UnitPrice|CustomerID|       Country|\n",
      "+---------+---------+--------------------+--------+---------------+---------+----------+--------------+\n",
      "|   536378|     null|PACK OF 60 DINOSA...|      24|01-12-2010 9.37|     0.72|     14688|United Kingdom|\n",
      "|   536378|     null|PACK OF 60 PINK P...|      24|01-12-2010 9.37|     0.72|     14688|United Kingdom|\n",
      "|   536378|    84991|60 TEATIME FAIRY ...|      24|01-12-2010 9.37|     0.72|     14688|United Kingdom|\n",
      "|   536378|   84519A|TOMATO CHARLIE+LO...|       6|01-12-2010 9.37|     3.84|     14688|United Kingdom|\n",
      "|   536378|   85183B|CHARLIE & LOLA WA...|      48|01-12-2010 9.37|     1.63|     14688|United Kingdom|\n",
      "+---------+---------+--------------------+--------+---------------+---------+----------+--------------+\n",
      "only showing top 5 rows\n",
      "\n"
     ]
    }
   ],
   "source": [
    "df1_transformed.show(5)"
   ]
  },
  {
   "cell_type": "markdown",
   "id": "f8e0551c",
   "metadata": {},
   "source": [
    "#### Using `expression`"
   ]
  },
  {
   "cell_type": "code",
   "execution_count": 18,
   "id": "a5a1d460",
   "metadata": {},
   "outputs": [
    {
     "name": "stdout",
     "output_type": "stream",
     "text": [
      "+---------+---------+--------------------+--------+---------------+---------+----------+--------------+\n",
      "|InvoiceNo|StockCode|         Description|Quantity|    InvoiceDate|UnitPrice|CustomerID|       Country|\n",
      "+---------+---------+--------------------+--------+---------------+---------+----------+--------------+\n",
      "|   536378|     null|PACK OF 60 DINOSA...|      24|01-12-2010 9.37|     0.72|     14688|United Kingdom|\n",
      "|   536378|     null|PACK OF 60 PINK P...|      24|01-12-2010 9.37|     0.72|     14688|United Kingdom|\n",
      "|   536378|    84991|60 TEATIME FAIRY ...|      24|01-12-2010 9.37|     0.72|     14688|United Kingdom|\n",
      "|   536378|   84519A|TOMATO CHARLIE+LO...|       6|01-12-2010 9.37|     3.84|     14688|United Kingdom|\n",
      "|   536378|   85183B|CHARLIE & LOLA WA...|      48|01-12-2010 9.37|     1.63|     14688|United Kingdom|\n",
      "+---------+---------+--------------------+--------+---------------+---------+----------+--------------+\n",
      "only showing top 5 rows\n",
      "\n"
     ]
    }
   ],
   "source": [
    "# With selectExpr()\n",
    "df1.selectExpr('InvoiceNo','StockCode', 'Description', 'Quantity', \n",
    "               'InvoiceDate', \n",
    "               'round(UnitPrice * 1.3, 2) AS UnitPrice',\n",
    "               'CustomerID', 'Country').show(5)"
   ]
  },
  {
   "cell_type": "markdown",
   "id": "bdfc0c57",
   "metadata": {},
   "source": [
    "### Modify a column `with` condition"
   ]
  },
  {
   "cell_type": "code",
   "execution_count": 19,
   "id": "8e329ed3",
   "metadata": {},
   "outputs": [
    {
     "name": "stderr",
     "output_type": "stream",
     "text": [
      "[Stage 12:===========================================>              (6 + 2) / 8]\r"
     ]
    },
    {
     "name": "stdout",
     "output_type": "stream",
     "text": [
      "+------------------+------+\n",
      "|           Country| count|\n",
      "+------------------+------+\n",
      "|European Community|    61|\n",
      "|              EIRE|  8196|\n",
      "|            Norway|  1086|\n",
      "|         Hong Kong|   288|\n",
      "|            Poland|   341|\n",
      "|          Portugal|  1519|\n",
      "|       Netherlands|  2371|\n",
      "|           Germany|  9495|\n",
      "|           Finland|   695|\n",
      "|             Spain|  2533|\n",
      "|            Brazil|    32|\n",
      "|           Bahrain|    19|\n",
      "|    United Kingdom|495371|\n",
      "|            Greece|   146|\n",
      "|       Unspecified|   446|\n",
      "|            Cyprus|   622|\n",
      "|            Canada|   151|\n",
      "|             Japan|   358|\n",
      "|           Belgium|  2069|\n",
      "|           Denmark|   389|\n",
      "+------------------+------+\n",
      "only showing top 20 rows\n",
      "\n"
     ]
    },
    {
     "name": "stderr",
     "output_type": "stream",
     "text": [
      "\r",
      "                                                                                \r"
     ]
    }
   ],
   "source": [
    "df1.groupBy(F.col('Country')).count().show()"
   ]
  },
  {
   "cell_type": "markdown",
   "id": "0ca024c3",
   "metadata": {},
   "source": [
    "Lets say we want to do this :\n",
    "    \n",
    "    - Increase the UnitPrice by 10% for UK \n",
    "    - Increase the UnitPrice by 20% for Norway \n",
    "    - Increase the UnitPrice by 30% for Singapore \n",
    "    - Rest all should remain the same \n"
   ]
  },
  {
   "cell_type": "code",
   "execution_count": 20,
   "id": "9b9ad3df",
   "metadata": {},
   "outputs": [
    {
     "name": "stdout",
     "output_type": "stream",
     "text": [
      "+---------+---------+--------------------+--------+---------------+---------+----------+--------------+\n",
      "|InvoiceNo|StockCode|         Description|Quantity|    InvoiceDate|UnitPrice|CustomerID|       Country|\n",
      "+---------+---------+--------------------+--------+---------------+---------+----------+--------------+\n",
      "|   536378|     null|PACK OF 60 DINOSA...|      24|01-12-2010 9.37|     0.55|     14688|United Kingdom|\n",
      "|   536378|     null|PACK OF 60 PINK P...|      24|01-12-2010 9.37|     0.55|     14688|United Kingdom|\n",
      "|   536378|    84991|60 TEATIME FAIRY ...|      24|01-12-2010 9.37|     0.55|     14688|United Kingdom|\n",
      "|   536378|   84519A|TOMATO CHARLIE+LO...|       6|01-12-2010 9.37|     2.95|     14688|United Kingdom|\n",
      "|   536378|   85183B|CHARLIE & LOLA WA...|      48|01-12-2010 9.37|     1.25|     14688|United Kingdom|\n",
      "+---------+---------+--------------------+--------+---------------+---------+----------+--------------+\n",
      "only showing top 5 rows\n",
      "\n"
     ]
    }
   ],
   "source": [
    "df1.show(5)"
   ]
  },
  {
   "cell_type": "code",
   "execution_count": 21,
   "id": "5603d5bd",
   "metadata": {},
   "outputs": [
    {
     "name": "stdout",
     "output_type": "stream",
     "text": [
      "+---------+---------+--------------------+--------+---------------+---------+----------+--------------+\n",
      "|InvoiceNo|StockCode|         Description|Quantity|    InvoiceDate|UnitPrice|CustomerID|       Country|\n",
      "+---------+---------+--------------------+--------+---------------+---------+----------+--------------+\n",
      "|   536378|     null|PACK OF 60 DINOSA...|      24|01-12-2010 9.37|     0.61|     14688|United Kingdom|\n",
      "|   536378|     null|PACK OF 60 PINK P...|      24|01-12-2010 9.37|     0.61|     14688|United Kingdom|\n",
      "|   536378|    84991|60 TEATIME FAIRY ...|      24|01-12-2010 9.37|     0.61|     14688|United Kingdom|\n",
      "|   536378|   84519A|TOMATO CHARLIE+LO...|       6|01-12-2010 9.37|     3.25|     14688|United Kingdom|\n",
      "|   536378|   85183B|CHARLIE & LOLA WA...|      48|01-12-2010 9.37|     1.38|     14688|United Kingdom|\n",
      "+---------+---------+--------------------+--------+---------------+---------+----------+--------------+\n",
      "only showing top 5 rows\n",
      "\n"
     ]
    }
   ],
   "source": [
    "# Method 1\n",
    "df2 = df1.withColumn('UnitPrice', F.expr(\"ROUND(CASE WHEN Country = 'United Kingdom' THEN UnitPrice * 1.1 \\\n",
    "                                                     WHEN Country = 'Norway' THEN UnitPrice * 1.2  \\\n",
    "                                                     WHEN Country = 'Singapore' THEN UnitPrice * 1.3  \\\n",
    "                                                     ELSE UnitPrice END, 2)\"))\n",
    "\n",
    "df2.show(5)"
   ]
  },
  {
   "cell_type": "code",
   "execution_count": 22,
   "id": "f3aa14f7",
   "metadata": {},
   "outputs": [
    {
     "name": "stdout",
     "output_type": "stream",
     "text": [
      "+---------+---------+--------------------+--------+---------------+---------+----------+--------------+\n",
      "|InvoiceNo|StockCode|         Description|Quantity|    InvoiceDate|UnitPrice|CustomerID|       Country|\n",
      "+---------+---------+--------------------+--------+---------------+---------+----------+--------------+\n",
      "|   536378|     null|PACK OF 60 DINOSA...|      24|01-12-2010 9.37|     0.61|     14688|United Kingdom|\n",
      "|   536378|     null|PACK OF 60 PINK P...|      24|01-12-2010 9.37|     0.61|     14688|United Kingdom|\n",
      "|   536378|    84991|60 TEATIME FAIRY ...|      24|01-12-2010 9.37|     0.61|     14688|United Kingdom|\n",
      "|   536378|   84519A|TOMATO CHARLIE+LO...|       6|01-12-2010 9.37|     3.25|     14688|United Kingdom|\n",
      "|   536378|   85183B|CHARLIE & LOLA WA...|      48|01-12-2010 9.37|     1.38|     14688|United Kingdom|\n",
      "+---------+---------+--------------------+--------+---------------+---------+----------+--------------+\n",
      "only showing top 5 rows\n",
      "\n"
     ]
    }
   ],
   "source": [
    "# Method 2\n",
    "df2 = df1.withColumn('UnitPrice', F.round(F.when(F.col('Country') == 'United Kingdom', F.col('UnitPrice') * 1.1)\n",
    "                                           .when(F.col('Country') == 'Norway', F.col('UnitPrice') * 1.2)\n",
    "                                           .when(F.col('Country') == 'Singapore', F.col('UnitPrice') * 1.3)\n",
    "                                           .otherwise(F.col('UnitPrice')), 2))\n",
    "\n",
    "df2.show(5)\n"
   ]
  },
  {
   "cell_type": "code",
   "execution_count": 23,
   "id": "76958934",
   "metadata": {},
   "outputs": [
    {
     "name": "stdout",
     "output_type": "stream",
     "text": [
      "+---------+---------+--------------------+--------+----------------+---------+----------+-------+\n",
      "|InvoiceNo|StockCode|         Description|Quantity|     InvoiceDate|UnitPrice|CustomerID|Country|\n",
      "+---------+---------+--------------------+--------+----------------+---------+----------+-------+\n",
      "|   536532|    84692|BOX OF 24 COCKTAI...|      50|01-12-2010 13.24|     0.42|     12433| Norway|\n",
      "|   536532|    22444|GROW YOUR OWN PLA...|      96|01-12-2010 13.24|     1.06|     12433| Norway|\n",
      "|   536532|    22899|CHILDREN'S APRON ...|       8|01-12-2010 13.24|      2.1|     12433| Norway|\n",
      "|   536532|    21156|RETROSPOT CHILDRE...|       8|01-12-2010 13.24|     1.95|     12433| Norway|\n",
      "|   536532|    22556|PLASTERS IN TIN C...|      24|01-12-2010 13.24|     1.65|     12433| Norway|\n",
      "+---------+---------+--------------------+--------+----------------+---------+----------+-------+\n",
      "only showing top 5 rows\n",
      "\n"
     ]
    }
   ],
   "source": [
    "# Verify the change \n",
    "df1.filter(F.col('Country') == 'Norway').show(5)"
   ]
  },
  {
   "cell_type": "code",
   "execution_count": 24,
   "id": "6b91a454",
   "metadata": {},
   "outputs": [
    {
     "name": "stdout",
     "output_type": "stream",
     "text": [
      "+---------+---------+--------------------+--------+----------------+---------+----------+-------+\n",
      "|InvoiceNo|StockCode|         Description|Quantity|     InvoiceDate|UnitPrice|CustomerID|Country|\n",
      "+---------+---------+--------------------+--------+----------------+---------+----------+-------+\n",
      "|   536532|    84692|BOX OF 24 COCKTAI...|      50|01-12-2010 13.24|      0.5|     12433| Norway|\n",
      "|   536532|    22444|GROW YOUR OWN PLA...|      96|01-12-2010 13.24|     1.27|     12433| Norway|\n",
      "|   536532|    22899|CHILDREN'S APRON ...|       8|01-12-2010 13.24|     2.52|     12433| Norway|\n",
      "|   536532|    21156|RETROSPOT CHILDRE...|       8|01-12-2010 13.24|     2.34|     12433| Norway|\n",
      "|   536532|    22556|PLASTERS IN TIN C...|      24|01-12-2010 13.24|     1.98|     12433| Norway|\n",
      "+---------+---------+--------------------+--------+----------------+---------+----------+-------+\n",
      "only showing top 5 rows\n",
      "\n"
     ]
    }
   ],
   "source": [
    "# Verify the change \n",
    "df2.filter(F.col('Country') == 'Norway').show(5)"
   ]
  },
  {
   "cell_type": "markdown",
   "id": "b8d4915f",
   "metadata": {},
   "source": [
    "### Dropping duplicate records"
   ]
  },
  {
   "cell_type": "code",
   "execution_count": 25,
   "id": "fb584725",
   "metadata": {},
   "outputs": [],
   "source": [
    "# Define the schema of the DataFrame\n",
    "schema = StructType([\n",
    "    StructField(\"InvoiceNo\", StringType(), nullable=False),\n",
    "    StructField(\"StockCode\", StringType(), nullable=False),\n",
    "    StructField(\"Description\", StringType(), nullable=False),\n",
    "    StructField(\"Quantity\", IntegerType(), nullable=False),\n",
    "    StructField(\"InvoiceDate\", StringType(), nullable=False),\n",
    "    StructField(\"UnitPrice\", FloatType(), nullable=False),\n",
    "    StructField(\"CustomerID\", IntegerType(), nullable=False),\n",
    "    StructField(\"Country\", StringType(), nullable=False)\n",
    "])\n",
    "\n",
    "# Create the data for the DataFrame\n",
    "data = [\n",
    "    (\"536532\", \"84692\", \"BOX OF 24 COCKTAIL PARASOLS\", 50, \"01-12-2010 13:24\", 0.42, 12433, \"Norway\"),\n",
    "    (\"536532\", \"84692\", \"BOX OF 24 COCKTAIL PARASOLS\", 50, \"01-12-2010 13:24\", 0.42, 12433, \"Norway\"),\n",
    "    (\"125555\", \"22899\", \"CHILDREN'S APRON DOLLY GIRL\", 8, \"01-12-2010 13:24\", 2.1, 12433, \"Norway\"),\n",
    "    (\"111111\", \"22899\", \"CHILDREN'S APRON DOLLY GIRL\", 8, \"01-12-2010 13:24\", 2.1, 12433, \"Norway\"),\n",
    "]\n",
    "\n",
    "# Create the initial DataFrame\n",
    "df = spark.createDataFrame(data, schema)"
   ]
  },
  {
   "cell_type": "code",
   "execution_count": 26,
   "id": "6f6ffa0b",
   "metadata": {},
   "outputs": [
    {
     "name": "stdout",
     "output_type": "stream",
     "text": [
      "+---------+---------+--------------------+--------+----------------+---------+----------+-------+\n",
      "|InvoiceNo|StockCode|         Description|Quantity|     InvoiceDate|UnitPrice|CustomerID|Country|\n",
      "+---------+---------+--------------------+--------+----------------+---------+----------+-------+\n",
      "|   536532|    84692|BOX OF 24 COCKTAI...|      50|01-12-2010 13:24|     0.42|     12433| Norway|\n",
      "|   536532|    84692|BOX OF 24 COCKTAI...|      50|01-12-2010 13:24|     0.42|     12433| Norway|\n",
      "|   125555|    22899|CHILDREN'S APRON ...|       8|01-12-2010 13:24|      2.1|     12433| Norway|\n",
      "|   111111|    22899|CHILDREN'S APRON ...|       8|01-12-2010 13:24|      2.1|     12433| Norway|\n",
      "+---------+---------+--------------------+--------+----------------+---------+----------+-------+\n",
      "\n"
     ]
    }
   ],
   "source": [
    "df.show()"
   ]
  },
  {
   "cell_type": "markdown",
   "id": "e0e6d680",
   "metadata": {},
   "source": [
    "#### Removing the duplicate rows "
   ]
  },
  {
   "cell_type": "code",
   "execution_count": 27,
   "id": "6f2c8798",
   "metadata": {},
   "outputs": [
    {
     "name": "stdout",
     "output_type": "stream",
     "text": [
      "+---------+---------+--------------------+--------+----------------+---------+----------+-------+\n",
      "|InvoiceNo|StockCode|         Description|Quantity|     InvoiceDate|UnitPrice|CustomerID|Country|\n",
      "+---------+---------+--------------------+--------+----------------+---------+----------+-------+\n",
      "|   536532|    84692|BOX OF 24 COCKTAI...|      50|01-12-2010 13:24|     0.42|     12433| Norway|\n",
      "|   125555|    22899|CHILDREN'S APRON ...|       8|01-12-2010 13:24|      2.1|     12433| Norway|\n",
      "|   111111|    22899|CHILDREN'S APRON ...|       8|01-12-2010 13:24|      2.1|     12433| Norway|\n",
      "+---------+---------+--------------------+--------+----------------+---------+----------+-------+\n",
      "\n"
     ]
    }
   ],
   "source": [
    "df.distinct().show()"
   ]
  },
  {
   "cell_type": "markdown",
   "id": "d290eb52",
   "metadata": {},
   "source": [
    "#### Removing the duplicate based on a subset of columns"
   ]
  },
  {
   "cell_type": "code",
   "execution_count": 28,
   "id": "efbcca08",
   "metadata": {},
   "outputs": [
    {
     "name": "stdout",
     "output_type": "stream",
     "text": [
      "+---------+\n",
      "|InvoiceNo|\n",
      "+---------+\n",
      "|   536532|\n",
      "|   125555|\n",
      "|   111111|\n",
      "+---------+\n",
      "\n"
     ]
    }
   ],
   "source": [
    "# It's not able to show all the other columns, so its not giving the result we want \n",
    "(\n",
    "    df\n",
    "     .select(F.col('InvoiceNo'))\n",
    "     .distinct()\n",
    "     .show()\n",
    ")"
   ]
  },
  {
   "cell_type": "code",
   "execution_count": 29,
   "id": "fa730cc8",
   "metadata": {},
   "outputs": [
    {
     "name": "stdout",
     "output_type": "stream",
     "text": [
      "+---------+---------+--------------------+--------+----------------+---------+----------+-------+\n",
      "|InvoiceNo|StockCode|         Description|Quantity|     InvoiceDate|UnitPrice|CustomerID|Country|\n",
      "+---------+---------+--------------------+--------+----------------+---------+----------+-------+\n",
      "|   536532|    84692|BOX OF 24 COCKTAI...|      50|01-12-2010 13:24|     0.42|     12433| Norway|\n",
      "|   125555|    22899|CHILDREN'S APRON ...|       8|01-12-2010 13:24|      2.1|     12433| Norway|\n",
      "|   111111|    22899|CHILDREN'S APRON ...|       8|01-12-2010 13:24|      2.1|     12433| Norway|\n",
      "+---------+---------+--------------------+--------+----------------+---------+----------+-------+\n",
      "\n"
     ]
    }
   ],
   "source": [
    "df.dropDuplicates().show()   # Exactly same as df.distinct().show()"
   ]
  },
  {
   "cell_type": "code",
   "execution_count": 30,
   "id": "5a94475c",
   "metadata": {},
   "outputs": [
    {
     "name": "stdout",
     "output_type": "stream",
     "text": [
      "+---------+---------+--------------------+--------+----------------+---------+----------+-------+\n",
      "|InvoiceNo|StockCode|         Description|Quantity|     InvoiceDate|UnitPrice|CustomerID|Country|\n",
      "+---------+---------+--------------------+--------+----------------+---------+----------+-------+\n",
      "|   536532|    84692|BOX OF 24 COCKTAI...|      50|01-12-2010 13:24|     0.42|     12433| Norway|\n",
      "|   536532|    84692|BOX OF 24 COCKTAI...|      50|01-12-2010 13:24|     0.42|     12433| Norway|\n",
      "|   125555|    22899|CHILDREN'S APRON ...|       8|01-12-2010 13:24|      2.1|     12433| Norway|\n",
      "|   111111|    22899|CHILDREN'S APRON ...|       8|01-12-2010 13:24|      2.1|     12433| Norway|\n",
      "+---------+---------+--------------------+--------+----------------+---------+----------+-------+\n",
      "\n"
     ]
    }
   ],
   "source": [
    "df.show()"
   ]
  },
  {
   "cell_type": "code",
   "execution_count": 31,
   "id": "4dc11830",
   "metadata": {},
   "outputs": [
    {
     "name": "stdout",
     "output_type": "stream",
     "text": [
      "+---------+---------+--------------------+--------+----------------+---------+----------+-------+\n",
      "|InvoiceNo|StockCode|         Description|Quantity|     InvoiceDate|UnitPrice|CustomerID|Country|\n",
      "+---------+---------+--------------------+--------+----------------+---------+----------+-------+\n",
      "|   111111|    22899|CHILDREN'S APRON ...|       8|01-12-2010 13:24|      2.1|     12433| Norway|\n",
      "|   125555|    22899|CHILDREN'S APRON ...|       8|01-12-2010 13:24|      2.1|     12433| Norway|\n",
      "|   536532|    84692|BOX OF 24 COCKTAI...|      50|01-12-2010 13:24|     0.42|     12433| Norway|\n",
      "+---------+---------+--------------------+--------+----------------+---------+----------+-------+\n",
      "\n"
     ]
    }
   ],
   "source": [
    "# Dropping based on 1 column \n",
    "df.dropDuplicates(['InvoiceNo']).show()"
   ]
  },
  {
   "cell_type": "code",
   "execution_count": 32,
   "id": "798fe1fd",
   "metadata": {},
   "outputs": [
    {
     "name": "stdout",
     "output_type": "stream",
     "text": [
      "+---------+---------+--------------------+--------+----------------+---------+----------+-------+\n",
      "|InvoiceNo|StockCode|         Description|Quantity|     InvoiceDate|UnitPrice|CustomerID|Country|\n",
      "+---------+---------+--------------------+--------+----------------+---------+----------+-------+\n",
      "|   125555|    22899|CHILDREN'S APRON ...|       8|01-12-2010 13:24|      2.1|     12433| Norway|\n",
      "|   536532|    84692|BOX OF 24 COCKTAI...|      50|01-12-2010 13:24|     0.42|     12433| Norway|\n",
      "+---------+---------+--------------------+--------+----------------+---------+----------+-------+\n",
      "\n"
     ]
    }
   ],
   "source": [
    "# Dropping based on more than 1 column \n",
    "df.dropDuplicates(subset=[col for col in df.columns if col != 'InvoiceNo']).show()"
   ]
  },
  {
   "cell_type": "code",
   "execution_count": null,
   "id": "eacf1319",
   "metadata": {},
   "outputs": [],
   "source": []
  }
 ],
 "metadata": {
  "kernelspec": {
   "display_name": "Python 3 (ipykernel)",
   "language": "python",
   "name": "python3"
  },
  "language_info": {
   "codemirror_mode": {
    "name": "ipython",
    "version": 3
   },
   "file_extension": ".py",
   "mimetype": "text/x-python",
   "name": "python",
   "nbconvert_exporter": "python",
   "pygments_lexer": "ipython3",
   "version": "3.7.16"
  }
 },
 "nbformat": 4,
 "nbformat_minor": 5
}
