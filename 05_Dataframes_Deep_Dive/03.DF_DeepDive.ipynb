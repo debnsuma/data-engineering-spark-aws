{
 "cells": [
  {
   "cell_type": "markdown",
   "id": "f8c7d777",
   "metadata": {},
   "source": [
    "# Dataframe Deep Dive (Part 3)"
   ]
  },
  {
   "cell_type": "code",
   "execution_count": 1,
   "id": "3787618d",
   "metadata": {},
   "outputs": [
    {
     "data": {
      "text/html": [
       "\n",
       "            <div>\n",
       "                <p><b>SparkSession - hive</b></p>\n",
       "                \n",
       "        <div>\n",
       "            <p><b>SparkContext</b></p>\n",
       "\n",
       "            <p><a href=\"http://ip-172-31-2-35.us-east-2.compute.internal:4042\">Spark UI</a></p>\n",
       "\n",
       "            <dl>\n",
       "              <dt>Version</dt>\n",
       "                <dd><code>v3.3.0-amzn-1</code></dd>\n",
       "              <dt>Master</dt>\n",
       "                <dd><code>yarn</code></dd>\n",
       "              <dt>AppName</dt>\n",
       "                <dd><code>PySparkShell</code></dd>\n",
       "            </dl>\n",
       "        </div>\n",
       "        \n",
       "            </div>\n",
       "        "
      ],
      "text/plain": [
       "<pyspark.sql.session.SparkSession at 0x7f6f08dc5d10>"
      ]
     },
     "execution_count": 1,
     "metadata": {},
     "output_type": "execute_result"
    }
   ],
   "source": [
    "spark"
   ]
  },
  {
   "cell_type": "code",
   "execution_count": 2,
   "id": "0f7c4e1a",
   "metadata": {},
   "outputs": [
    {
     "data": {
      "text/html": [
       "\n",
       "        <div>\n",
       "            <p><b>SparkContext</b></p>\n",
       "\n",
       "            <p><a href=\"http://ip-172-31-2-35.us-east-2.compute.internal:4042\">Spark UI</a></p>\n",
       "\n",
       "            <dl>\n",
       "              <dt>Version</dt>\n",
       "                <dd><code>v3.3.0-amzn-1</code></dd>\n",
       "              <dt>Master</dt>\n",
       "                <dd><code>yarn</code></dd>\n",
       "              <dt>AppName</dt>\n",
       "                <dd><code>PySparkShell</code></dd>\n",
       "            </dl>\n",
       "        </div>\n",
       "        "
      ],
      "text/plain": [
       "<SparkContext master=yarn appName=PySparkShell>"
      ]
     },
     "execution_count": 2,
     "metadata": {},
     "output_type": "execute_result"
    }
   ],
   "source": [
    "sc"
   ]
  },
  {
   "cell_type": "markdown",
   "id": "150fb5eb",
   "metadata": {},
   "source": [
    "## Creating a Dataframe using JSON with nested `schema`"
   ]
  },
  {
   "cell_type": "markdown",
   "id": "fa02ac4e",
   "metadata": {},
   "source": [
    "#### Using `DDL schema`"
   ]
  },
  {
   "cell_type": "code",
   "execution_count": 3,
   "id": "c40b6364",
   "metadata": {},
   "outputs": [],
   "source": [
    "import pyspark.sql.functions as F\n",
    "from pyspark.sql.types import *\n",
    "\n",
    "data_set = 's3://fcc-spark-example/dataset/2023/players.json'\n",
    "\n",
    "# Define the schema of the JSON data\n",
    "schema = 'country string, player_details struct<name:string, age:integer, role:string>, player_id integer, team_id integer'\n",
    "\n",
    "df = (spark.read\n",
    "           .format('json')\n",
    "           .schema(schema)\n",
    "           .load(data_set)\n",
    "     )"
   ]
  },
  {
   "cell_type": "code",
   "execution_count": 4,
   "id": "d5451549",
   "metadata": {},
   "outputs": [
    {
     "name": "stderr",
     "output_type": "stream",
     "text": [
      "\r",
      "[Stage 0:>                                                          (0 + 1) / 1]\r"
     ]
    },
    {
     "name": "stdout",
     "output_type": "stream",
     "text": [
      "+-------+--------------------------+---------+-------+\n",
      "|country|player_details            |player_id|team_id|\n",
      "+-------+--------------------------+---------+-------+\n",
      "|IND    |{R Sharma, 33, Batsman}   |101      |11     |\n",
      "|IND    |{S Iyer, 25, Batsman}     |102      |15     |\n",
      "|NZ     |{T Boult, 30, Bowler}     |103      |13     |\n",
      "|IND    |{MS Dhoni, 38, WKeeper}   |104      |14     |\n",
      "|AUS    |{S Watson, 39, Allrounder}|105      |12     |\n",
      "|WI     |{S Hetmyer, 23, Batsman}  |106      |16     |\n",
      "+-------+--------------------------+---------+-------+\n",
      "\n"
     ]
    },
    {
     "name": "stderr",
     "output_type": "stream",
     "text": [
      "\r",
      "                                                                                \r"
     ]
    }
   ],
   "source": [
    "df.show(truncate=False)"
   ]
  },
  {
   "cell_type": "code",
   "execution_count": 5,
   "id": "3e6e2617",
   "metadata": {},
   "outputs": [
    {
     "name": "stdout",
     "output_type": "stream",
     "text": [
      "root\n",
      " |-- country: string (nullable = true)\n",
      " |-- player_details: struct (nullable = true)\n",
      " |    |-- name: string (nullable = true)\n",
      " |    |-- age: integer (nullable = true)\n",
      " |    |-- role: string (nullable = true)\n",
      " |-- player_id: integer (nullable = true)\n",
      " |-- team_id: integer (nullable = true)\n",
      "\n"
     ]
    }
   ],
   "source": [
    "df.printSchema()"
   ]
  },
  {
   "cell_type": "markdown",
   "id": "6669d8fd",
   "metadata": {},
   "source": [
    "#### Using `StructType`"
   ]
  },
  {
   "cell_type": "code",
   "execution_count": 6,
   "id": "5563eca0",
   "metadata": {},
   "outputs": [],
   "source": [
    "schema = StructType([\n",
    "                    StructField('country', StringType()),\n",
    "                    StructField('player_details', StructType([\n",
    "                        StructField('name', StringType()),\n",
    "                        StructField('age', IntegerType()),\n",
    "                        StructField('role', StringType())\n",
    "                    ])),\n",
    "                    StructField('player_id', IntegerType()),\n",
    "                    StructField('team_id', StringType())\n",
    "                ])\n",
    "\n",
    "df = spark.read.format('json').schema(schema).load(data_set)"
   ]
  },
  {
   "cell_type": "code",
   "execution_count": 7,
   "id": "0596f971",
   "metadata": {},
   "outputs": [
    {
     "name": "stderr",
     "output_type": "stream",
     "text": [
      "\r",
      "[Stage 1:>                                                          (0 + 1) / 1]\r"
     ]
    },
    {
     "name": "stdout",
     "output_type": "stream",
     "text": [
      "+-------+--------------------------+---------+-------+\n",
      "|country|player_details            |player_id|team_id|\n",
      "+-------+--------------------------+---------+-------+\n",
      "|IND    |{R Sharma, 33, Batsman}   |101      |11     |\n",
      "|IND    |{S Iyer, 25, Batsman}     |102      |15     |\n",
      "|NZ     |{T Boult, 30, Bowler}     |103      |13     |\n",
      "|IND    |{MS Dhoni, 38, WKeeper}   |104      |14     |\n",
      "|AUS    |{S Watson, 39, Allrounder}|105      |12     |\n",
      "|WI     |{S Hetmyer, 23, Batsman}  |106      |16     |\n",
      "+-------+--------------------------+---------+-------+\n",
      "\n"
     ]
    },
    {
     "name": "stderr",
     "output_type": "stream",
     "text": [
      "\r",
      "                                                                                \r"
     ]
    }
   ],
   "source": [
    "df.show(truncate=False)"
   ]
  },
  {
   "cell_type": "code",
   "execution_count": 8,
   "id": "58899c66",
   "metadata": {},
   "outputs": [
    {
     "name": "stdout",
     "output_type": "stream",
     "text": [
      "root\n",
      " |-- country: string (nullable = true)\n",
      " |-- player_details: struct (nullable = true)\n",
      " |    |-- name: string (nullable = true)\n",
      " |    |-- age: integer (nullable = true)\n",
      " |    |-- role: string (nullable = true)\n",
      " |-- player_id: integer (nullable = true)\n",
      " |-- team_id: string (nullable = true)\n",
      "\n"
     ]
    }
   ],
   "source": [
    "df.printSchema()"
   ]
  },
  {
   "cell_type": "code",
   "execution_count": null,
   "id": "dbc99d24",
   "metadata": {},
   "outputs": [],
   "source": []
  }
 ],
 "metadata": {
  "kernelspec": {
   "display_name": "Python 3 (ipykernel)",
   "language": "python",
   "name": "python3"
  },
  "language_info": {
   "codemirror_mode": {
    "name": "ipython",
    "version": 3
   },
   "file_extension": ".py",
   "mimetype": "text/x-python",
   "name": "python",
   "nbconvert_exporter": "python",
   "pygments_lexer": "ipython3",
   "version": "3.7.16"
  }
 },
 "nbformat": 4,
 "nbformat_minor": 5
}
