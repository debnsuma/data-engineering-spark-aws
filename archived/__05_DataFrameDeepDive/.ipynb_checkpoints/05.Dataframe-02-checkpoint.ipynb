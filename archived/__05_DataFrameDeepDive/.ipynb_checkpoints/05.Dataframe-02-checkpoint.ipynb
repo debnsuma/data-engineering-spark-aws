{
 "cells": [
  {
   "cell_type": "code",
   "execution_count": 63,
   "id": "c5978436",
   "metadata": {},
   "outputs": [
    {
     "data": {
      "text/html": [
       "\n",
       "            <div>\n",
       "                <p><b>SparkSession - hive</b></p>\n",
       "                \n",
       "        <div>\n",
       "            <p><b>SparkContext</b></p>\n",
       "\n",
       "            <p><a href=\"http://ip-172-31-42-20.us-east-2.compute.internal:4043\">Spark UI</a></p>\n",
       "\n",
       "            <dl>\n",
       "              <dt>Version</dt>\n",
       "                <dd><code>v3.3.0-amzn-1</code></dd>\n",
       "              <dt>Master</dt>\n",
       "                <dd><code>yarn</code></dd>\n",
       "              <dt>AppName</dt>\n",
       "                <dd><code>PySparkShell</code></dd>\n",
       "            </dl>\n",
       "        </div>\n",
       "        \n",
       "            </div>\n",
       "        "
      ],
      "text/plain": [
       "<pyspark.sql.session.SparkSession at 0x7fc9f86253d0>"
      ]
     },
     "execution_count": 63,
     "metadata": {},
     "output_type": "execute_result"
    }
   ],
   "source": [
    "spark"
   ]
  },
  {
   "cell_type": "markdown",
   "id": "27818609",
   "metadata": {},
   "source": [
    "# Tabular Data"
   ]
  },
  {
   "cell_type": "code",
   "execution_count": 64,
   "id": "6f9b2856",
   "metadata": {},
   "outputs": [],
   "source": [
    "my_grocery_list = [\n",
    "    [\"Banana\", 2, 1.74],\n",
    "    [\"Apple\", 4, 2.04],\n",
    "    [\"Carrot\", 1, 1.09],\n",
    "    [\"Cake\", 1, 10.99],\n",
    "    [\"Orange\", 5, 2.50]\n",
    "]"
   ]
  },
  {
   "cell_type": "code",
   "execution_count": 65,
   "id": "894db843",
   "metadata": {},
   "outputs": [
    {
     "name": "stdout",
     "output_type": "stream",
     "text": [
      "root\n",
      " |-- Item: string (nullable = true)\n",
      " |-- Quantity: long (nullable = true)\n",
      " |-- Price: double (nullable = true)\n",
      "\n"
     ]
    }
   ],
   "source": [
    "df_grocery_list = spark.createDataFrame(my_grocery_list, [\"Item\", \"Quantity\", \"Price\"])\n",
    "df_grocery_list.printSchema()\n"
   ]
  },
  {
   "cell_type": "code",
   "execution_count": 66,
   "id": "6f807465",
   "metadata": {},
   "outputs": [],
   "source": [
    "col_name = [\"Item\", \"Quantity\", \"Price\"]\n",
    "df_grocery_list = spark.createDataFrame(my_grocery_list, col_name)"
   ]
  },
  {
   "cell_type": "code",
   "execution_count": 67,
   "id": "ecd57a61",
   "metadata": {},
   "outputs": [
    {
     "name": "stderr",
     "output_type": "stream",
     "text": [
      "[Stage 50:>                                                         (0 + 1) / 1]\r"
     ]
    },
    {
     "name": "stdout",
     "output_type": "stream",
     "text": [
      "+------+--------+-----+\n",
      "|  Item|Quantity|Price|\n",
      "+------+--------+-----+\n",
      "|Banana|       2| 1.74|\n",
      "| Apple|       4| 2.04|\n",
      "|Carrot|       1| 1.09|\n",
      "|  Cake|       1|10.99|\n",
      "|Orange|       5|  2.5|\n",
      "+------+--------+-----+\n",
      "\n"
     ]
    },
    {
     "name": "stderr",
     "output_type": "stream",
     "text": [
      "\r",
      "                                                                                \r"
     ]
    }
   ],
   "source": [
    "df_grocery_list.show()"
   ]
  },
  {
   "cell_type": "code",
   "execution_count": 68,
   "id": "73fb1d34",
   "metadata": {},
   "outputs": [
    {
     "name": "stdout",
     "output_type": "stream",
     "text": [
      "root\n",
      " |-- Item: string (nullable = true)\n",
      " |-- Quantity: long (nullable = true)\n",
      " |-- Price: double (nullable = true)\n",
      "\n"
     ]
    }
   ],
   "source": [
    "df_grocery_list.printSchema()"
   ]
  },
  {
   "cell_type": "markdown",
   "id": "f8e6d736",
   "metadata": {},
   "source": [
    "<img src=\"../img/img8.png\" alt=\"img8\">"
   ]
  },
  {
   "cell_type": "markdown",
   "id": "96812c57",
   "metadata": {},
   "source": [
    "### Reading the dataset (`Canadian Radio-Television and Telecommunications Commission`)"
   ]
  },
  {
   "cell_type": "markdown",
   "id": "f3f7f441",
   "metadata": {},
   "source": [
    "<img src=\"../img/img9.png\" alt=\"img9\">"
   ]
  },
  {
   "cell_type": "markdown",
   "id": "90079edb",
   "metadata": {},
   "source": [
    "> **NOTE:**\n",
    ">- `CSV` files are relatively easy to process\n",
    ">- PySpark provides a whopping 25 optional parameters when ingesting a `CSV` file\n",
    ">- Compare this to the two for reading `text` data"
   ]
  },
  {
   "cell_type": "code",
   "execution_count": 69,
   "id": "fe6a6dda",
   "metadata": {},
   "outputs": [
    {
     "name": "stderr",
     "output_type": "stream",
     "text": [
      "                                                                                \r"
     ]
    }
   ],
   "source": [
    "data_set = 's3://fcc-spark-example/dataset/broadcast_logs'\n",
    "\n",
    "logs_df = spark.read.csv(os.path.join(data_set, \"BroadcastLogs_2018_Q3_M8_sample.CSV\"),\n",
    "                        sep=\"|\",\n",
    "                        header=True,\n",
    "                        inferSchema=True,\n",
    "                        timestampFormat=\"yyyy-MM-dd\",\n",
    "                        )"
   ]
  },
  {
   "cell_type": "code",
   "execution_count": 70,
   "id": "52f404d2",
   "metadata": {},
   "outputs": [
    {
     "name": "stdout",
     "output_type": "stream",
     "text": [
      "+--------------+------------+-------------------+----------+-------------------+----------------------+----------+---------------+-----------------+----------------+---------------+------------------+--------------+--------------------+------------+----------------+----------------+-------------------+------------+--------------------+----------------+--------+--------------------+------------------+----------------------+-------------+---------+---------+---------+---------+\n",
      "|BroadcastLogID|LogServiceID|            LogDate|SequenceNO|AudienceTargetAgeID|AudienceTargetEthnicID|CategoryID|ClosedCaptionID|CountryOfOriginID|DubDramaCreditID|EthnicProgramID|ProductionSourceID|ProgramClassID|FilmClassificationID|ExhibitionID|        Duration|         EndTime|       LogEntryDate|ProductionNO|        ProgramTitle|       StartTime|Subtitle|NetworkAffiliationID|SpecialAttentionID|BroadcastOriginPointID|CompositionID|Producer1|Producer2|Language1|Language2|\n",
      "+--------------+------------+-------------------+----------+-------------------+----------------------+----------+---------------+-----------------+----------------+---------------+------------------+--------------+--------------------+------------+----------------+----------------+-------------------+------------+--------------------+----------------+--------+--------------------+------------------+----------------------+-------------+---------+---------+---------+---------+\n",
      "|    1196192316|        3157|2018-08-01 00:00:00|         1|                  4|                  null|        13|              3|                3|            null|           null|                10|            19|                null|           2|02:00:00.0000000|08:00:00.0000000|2018-08-01 00:00:00|      A39082|   Newlywed and Dead|06:00:00.0000000|    null|                null|              null|                  null|         null|     null|     null|       94|     null|\n",
      "|    1196192317|        3157|2018-08-01 00:00:00|         2|               null|                  null|      null|              1|             null|            null|           null|              null|            20|                null|        null|00:00:30.0000000|06:13:45.0000000|2018-08-01 00:00:00|        null|15-SPECIALTY CHAN...|06:13:15.0000000|    null|                null|              null|                  null|         null|     null|     null|     null|     null|\n",
      "|    1196192318|        3157|2018-08-01 00:00:00|         3|               null|                  null|      null|              1|             null|            null|           null|              null|             3|                null|        null|00:00:15.0000000|06:14:00.0000000|2018-08-01 00:00:00|        null|3-PROCTER & GAMBL...|06:13:45.0000000|    null|                null|              null|                  null|         null|     null|     null|     null|     null|\n",
      "|    1196192319|        3157|2018-08-01 00:00:00|         4|               null|                  null|      null|              1|             null|            null|           null|              null|             3|                null|        null|00:00:15.0000000|06:14:15.0000000|2018-08-01 00:00:00|        null|12-CREDIT KARMA-B...|06:14:00.0000000|    null|                null|              null|                  null|         null|     null|     null|     null|     null|\n",
      "|    1196192320|        3157|2018-08-01 00:00:00|         5|               null|                  null|      null|              1|             null|            null|           null|              null|             3|                null|        null|00:00:15.0000000|06:14:30.0000000|2018-08-01 00:00:00|        null|3-L'OREAL CANADA-...|06:14:15.0000000|    null|                null|              null|                  null|         null|     null|     null|     null|     null|\n",
      "|    1196192321|        3157|2018-08-01 00:00:00|         6|               null|                  null|      null|              1|             null|            null|           null|              null|             3|                null|        null|00:00:15.0000000|06:14:45.0000000|2018-08-01 00:00:00|        null|11-YUM! BRANDS-Ch...|06:14:30.0000000|    null|                null|              null|                  null|         null|     null|     null|     null|     null|\n",
      "|    1196192322|        3157|2018-08-01 00:00:00|         7|               null|                  null|      null|              1|             null|            null|           null|              null|             3|                null|        null|00:00:30.0000000|06:15:16.0000000|2018-08-01 00:00:00|        null|2-PIER 1 IMPORTS ...|06:14:46.0000000|    null|                null|              null|                  null|         null|     null|     null|     null|     null|\n",
      "|    1196192323|        3157|2018-08-01 00:00:00|         8|               null|                  null|      null|              1|             null|            null|           null|              null|             3|                null|        null|00:00:15.0000000|06:15:31.0000000|2018-08-01 00:00:00|        null|3-HAVAS EDGE-Trav...|06:15:16.0000000|    null|                null|              null|                  null|         null|     null|     null|     null|     null|\n",
      "|    1196192324|        3157|2018-08-01 00:00:00|         9|               null|                  null|      null|              1|             null|            null|           null|              null|             3|                null|        null|00:00:15.0000000|06:15:46.0000000|2018-08-01 00:00:00|        null|2-AUTOTRADER-Inte...|06:15:31.0000000|    null|                null|              null|                  null|         null|     null|     null|     null|     null|\n",
      "|    1196192325|        3157|2018-08-01 00:00:00|        10|               null|                  null|      null|              1|             null|            null|           null|              null|             3|                null|        null|00:00:15.0000000|06:16:01.0000000|2018-08-01 00:00:00|        null|11-SLEEP COUNTRY ...|06:15:46.0000000|    null|                null|              null|                  null|         null|     null|     null|     null|     null|\n",
      "|    1196192326|        3157|2018-08-01 00:00:00|        11|               null|                  null|      null|              1|             null|            null|           null|              null|             3|                null|        null|00:00:15.0000000|06:16:16.0000000|2018-08-01 00:00:00|        null|11-GENERAL MILLS ...|06:16:01.0000000|    null|                null|              null|                  null|         null|     null|     null|     null|     null|\n",
      "|    1196192327|        3157|2018-08-01 00:00:00|        12|               null|                  null|      null|              1|             null|            null|           null|              null|             3|                null|        null|00:00:30.0000000|06:16:46.0000000|2018-08-01 00:00:00|        null|11-PROCTER & GAMB...|06:16:16.0000000|    null|                null|              null|                  null|         null|     null|     null|     null|     null|\n",
      "|    1196192328|        3157|2018-08-01 00:00:00|        13|               null|                  null|      null|              1|             null|            null|           null|              null|            20|                null|        null|00:00:30.0000000|06:25:56.0000000|2018-08-01 00:00:00|        null|15-SPECIALTY CHAN...|06:25:26.0000000|    null|                null|              null|                  null|         null|     null|     null|     null|     null|\n",
      "|    1196192329|        3157|2018-08-01 00:00:00|        14|               null|                  null|      null|              1|             null|            null|           null|              null|             3|                null|        null|00:00:15.0000000|06:26:11.0000000|2018-08-01 00:00:00|        null|11-PROCTER & GAMB...|06:25:56.0000000|    null|                null|              null|                  null|         null|     null|     null|     null|     null|\n",
      "|    1196192330|        3157|2018-08-01 00:00:00|        15|               null|                  null|      null|              1|             null|            null|           null|              null|             3|                null|        null|00:00:15.0000000|06:26:26.0000000|2018-08-01 00:00:00|        null|11-LABATT BREWERI...|06:26:11.0000000|    null|                null|              null|                  null|         null|     null|     null|     null|     null|\n",
      "|    1196192331|        3157|2018-08-01 00:00:00|        16|               null|                  null|      null|              1|             null|            null|           null|              null|             3|                null|        null|00:00:15.0000000|06:26:41.0000000|2018-08-01 00:00:00|        null|2-IKEA CANADA LTD...|06:26:26.0000000|    null|                null|              null|                  null|         null|     null|     null|     null|     null|\n",
      "|    1196192332|        3157|2018-08-01 00:00:00|        17|               null|                  null|      null|              1|             null|            null|           null|              null|             3|                null|        null|00:00:15.0000000|06:26:57.0000000|2018-08-01 00:00:00|        null|11-WAL-MART CANAD...|06:26:42.0000000|    null|                null|              null|                  null|         null|     null|     null|     null|     null|\n",
      "|    1196192333|        3157|2018-08-01 00:00:00|        18|               null|                  null|      null|              1|             null|            null|           null|              null|             3|                null|        null|00:00:15.0000000|06:27:12.0000000|2018-08-01 00:00:00|        null|2-AUTOTRADER-Inte...|06:26:57.0000000|    null|                null|              null|                  null|         null|     null|     null|     null|     null|\n",
      "|    1196192334|        3157|2018-08-01 00:00:00|        19|               null|                  null|      null|              1|             null|            null|           null|              null|             3|                null|        null|00:01:00.0000000|06:28:12.0000000|2018-08-01 00:00:00|        null|12-COMWAVE TELECO...|06:27:12.0000000|    null|                null|              null|                  null|         null|     null|     null|     null|     null|\n",
      "|    1196192335|        3157|2018-08-01 00:00:00|        20|               null|                  null|      null|              1|             null|            null|           null|              null|             3|                null|        null|00:00:15.0000000|06:28:27.0000000|2018-08-01 00:00:00|        null|11-L'OREAL CANADA...|06:28:12.0000000|    null|                null|              null|                  null|         null|     null|     null|     null|     null|\n",
      "+--------------+------------+-------------------+----------+-------------------+----------------------+----------+---------------+-----------------+----------------+---------------+------------------+--------------+--------------------+------------+----------------+----------------+-------------------+------------+--------------------+----------------+--------+--------------------+------------------+----------------------+-------------+---------+---------+---------+---------+\n",
      "only showing top 20 rows\n",
      "\n"
     ]
    }
   ],
   "source": [
    "logs_df.show()"
   ]
  },
  {
   "cell_type": "markdown",
   "id": "440ba40c",
   "metadata": {},
   "source": [
    "> **NOTE:** \n",
    "This optional parameter, `inferSchema` forces `PySpark` to go over the ingested data twice: \n",
    " > 1. one time to set the type of each column, and \n",
    " > 2. one time to ingest the data  "
   ]
  },
  {
   "cell_type": "code",
   "execution_count": 71,
   "id": "e2b35476",
   "metadata": {},
   "outputs": [
    {
     "name": "stdout",
     "output_type": "stream",
     "text": [
      "root\n",
      " |-- BroadcastLogID: integer (nullable = true)\n",
      " |-- LogServiceID: integer (nullable = true)\n",
      " |-- LogDate: timestamp (nullable = true)\n",
      " |-- SequenceNO: integer (nullable = true)\n",
      " |-- AudienceTargetAgeID: integer (nullable = true)\n",
      " |-- AudienceTargetEthnicID: integer (nullable = true)\n",
      " |-- CategoryID: integer (nullable = true)\n",
      " |-- ClosedCaptionID: integer (nullable = true)\n",
      " |-- CountryOfOriginID: integer (nullable = true)\n",
      " |-- DubDramaCreditID: integer (nullable = true)\n",
      " |-- EthnicProgramID: integer (nullable = true)\n",
      " |-- ProductionSourceID: integer (nullable = true)\n",
      " |-- ProgramClassID: integer (nullable = true)\n",
      " |-- FilmClassificationID: integer (nullable = true)\n",
      " |-- ExhibitionID: integer (nullable = true)\n",
      " |-- Duration: string (nullable = true)\n",
      " |-- EndTime: string (nullable = true)\n",
      " |-- LogEntryDate: timestamp (nullable = true)\n",
      " |-- ProductionNO: string (nullable = true)\n",
      " |-- ProgramTitle: string (nullable = true)\n",
      " |-- StartTime: string (nullable = true)\n",
      " |-- Subtitle: string (nullable = true)\n",
      " |-- NetworkAffiliationID: integer (nullable = true)\n",
      " |-- SpecialAttentionID: integer (nullable = true)\n",
      " |-- BroadcastOriginPointID: integer (nullable = true)\n",
      " |-- CompositionID: integer (nullable = true)\n",
      " |-- Producer1: string (nullable = true)\n",
      " |-- Producer2: string (nullable = true)\n",
      " |-- Language1: integer (nullable = true)\n",
      " |-- Language2: integer (nullable = true)\n",
      "\n"
     ]
    }
   ],
   "source": [
    "logs_df.printSchema()"
   ]
  },
  {
   "cell_type": "markdown",
   "id": "21080632",
   "metadata": {},
   "source": [
    "### Data Normalization and Denormalization"
   ]
  },
  {
   "cell_type": "markdown",
   "id": "955ad11d",
   "metadata": {},
   "source": [
    "<img src=\"../img/img10.png\" alt=\"img10\">"
   ]
  },
  {
   "cell_type": "markdown",
   "id": "55907872",
   "metadata": {},
   "source": [
    "In Spark’s universe, we often prefer working with a `single table` instead of linking a\n",
    "multitude of tables to get the data. We call these `denormalized` tables, or, colloquially,\n",
    "fat tables. We start by assessing the data directly available in the logs table before plumping our table. "
   ]
  },
  {
   "cell_type": "markdown",
   "id": "ff7c9379",
   "metadata": {},
   "source": [
    "## Basics of data manipulation"
   ]
  },
  {
   "cell_type": "markdown",
   "id": "14181e57",
   "metadata": {},
   "source": [
    "Basic Operations: \n",
    "    \n",
    "    - select \n",
    "    - delete\n",
    "    - rename \n",
    "    - reorder  \n",
    "    - create columns"
   ]
  },
  {
   "cell_type": "markdown",
   "id": "f7d536f7",
   "metadata": {},
   "source": [
    "### `SELECT()`"
   ]
  },
  {
   "cell_type": "code",
   "execution_count": 72,
   "id": "d5393546",
   "metadata": {},
   "outputs": [
    {
     "name": "stdout",
     "output_type": "stream",
     "text": [
      "+--------------+------------+-------------------+\n",
      "|BroadcastLogID|LogServiceID|LogDate            |\n",
      "+--------------+------------+-------------------+\n",
      "|1196192316    |3157        |2018-08-01 00:00:00|\n",
      "|1196192317    |3157        |2018-08-01 00:00:00|\n",
      "|1196192318    |3157        |2018-08-01 00:00:00|\n",
      "|1196192319    |3157        |2018-08-01 00:00:00|\n",
      "|1196192320    |3157        |2018-08-01 00:00:00|\n",
      "+--------------+------------+-------------------+\n",
      "only showing top 5 rows\n",
      "\n"
     ]
    }
   ],
   "source": [
    "logs_df.select(\"BroadcastLogID\", \"LogServiceID\", \"LogDate\") \\\n",
    "       .show(5, False)"
   ]
  },
  {
   "cell_type": "code",
   "execution_count": 73,
   "id": "79c908c6",
   "metadata": {},
   "outputs": [
    {
     "name": "stdout",
     "output_type": "stream",
     "text": [
      "+--------------+------------+-------------------+\n",
      "|BroadCastLogID|LogServiceID|LogDate            |\n",
      "+--------------+------------+-------------------+\n",
      "|1196192316    |3157        |2018-08-01 00:00:00|\n",
      "|1196192317    |3157        |2018-08-01 00:00:00|\n",
      "|1196192318    |3157        |2018-08-01 00:00:00|\n",
      "|1196192319    |3157        |2018-08-01 00:00:00|\n",
      "|1196192320    |3157        |2018-08-01 00:00:00|\n",
      "+--------------+------------+-------------------+\n",
      "only showing top 5 rows\n",
      "\n"
     ]
    }
   ],
   "source": [
    "import pyspark.sql.functions as F \n",
    "\n",
    "logs_df.select(*[F.col(\"BroadCastLogID\"), F.col(\"LogServiceID\"), F.col(\"LogDate\")]) \\\n",
    "       .show(5, False)"
   ]
  },
  {
   "cell_type": "code",
   "execution_count": 74,
   "id": "350fb8a7",
   "metadata": {},
   "outputs": [
    {
     "name": "stdout",
     "output_type": "stream",
     "text": [
      "+--------------+------------+-------------------+\n",
      "|BroadCastLogID|LogServiceID|LogDate            |\n",
      "+--------------+------------+-------------------+\n",
      "|1196192316    |3157        |2018-08-01 00:00:00|\n",
      "|1196192317    |3157        |2018-08-01 00:00:00|\n",
      "|1196192318    |3157        |2018-08-01 00:00:00|\n",
      "|1196192319    |3157        |2018-08-01 00:00:00|\n",
      "|1196192320    |3157        |2018-08-01 00:00:00|\n",
      "+--------------+------------+-------------------+\n",
      "only showing top 5 rows\n",
      "\n"
     ]
    }
   ],
   "source": [
    "logs_df.select(F.col(\"BroadCastLogID\"), F.col(\"LogServiceID\"), F.col(\"LogDate\")) \\\n",
    "       .show(5, False)"
   ]
  },
  {
   "cell_type": "code",
   "execution_count": 75,
   "id": "aa1d93d6",
   "metadata": {},
   "outputs": [
    {
     "name": "stdout",
     "output_type": "stream",
     "text": [
      "+--------------+------------+-------------------+----------+-------------------+----------------------+----------+---------------+-----------------+----------------+---------------+------------------+--------------+--------------------+------------+----------------+----------------+-------------------+------------+-------------------------------------------+----------------+--------+--------------------+------------------+----------------------+-------------+---------+---------+---------+---------+\n",
      "|BroadcastLogID|LogServiceID|LogDate            |SequenceNO|AudienceTargetAgeID|AudienceTargetEthnicID|CategoryID|ClosedCaptionID|CountryOfOriginID|DubDramaCreditID|EthnicProgramID|ProductionSourceID|ProgramClassID|FilmClassificationID|ExhibitionID|Duration        |EndTime         |LogEntryDate       |ProductionNO|ProgramTitle                               |StartTime       |Subtitle|NetworkAffiliationID|SpecialAttentionID|BroadcastOriginPointID|CompositionID|Producer1|Producer2|Language1|Language2|\n",
      "+--------------+------------+-------------------+----------+-------------------+----------------------+----------+---------------+-----------------+----------------+---------------+------------------+--------------+--------------------+------------+----------------+----------------+-------------------+------------+-------------------------------------------+----------------+--------+--------------------+------------------+----------------------+-------------+---------+---------+---------+---------+\n",
      "|1196192316    |3157        |2018-08-01 00:00:00|1         |4                  |null                  |13        |3              |3                |null            |null           |10                |19            |null                |2           |02:00:00.0000000|08:00:00.0000000|2018-08-01 00:00:00|A39082      |Newlywed and Dead                          |06:00:00.0000000|null    |null                |null              |null                  |null         |null     |null     |94       |null     |\n",
      "|1196192317    |3157        |2018-08-01 00:00:00|2         |null               |null                  |null      |1              |null             |null            |null           |null              |20            |null                |null        |00:00:30.0000000|06:13:45.0000000|2018-08-01 00:00:00|null        |15-SPECIALTY CHANNELS-Canadian Generic     |06:13:15.0000000|null    |null                |null              |null                  |null         |null     |null     |null     |null     |\n",
      "|1196192318    |3157        |2018-08-01 00:00:00|3         |null               |null                  |null      |1              |null             |null            |null           |null              |3             |null                |null        |00:00:15.0000000|06:14:00.0000000|2018-08-01 00:00:00|null        |3-PROCTER & GAMBLE INC-Anti-Perspirant 3rd |06:13:45.0000000|null    |null                |null              |null                  |null         |null     |null     |null     |null     |\n",
      "|1196192319    |3157        |2018-08-01 00:00:00|4         |null               |null                  |null      |1              |null             |null            |null           |null              |3             |null                |null        |00:00:15.0000000|06:14:15.0000000|2018-08-01 00:00:00|null        |12-CREDIT KARMA-Bank/Credit Union/Trust 3rd|06:14:00.0000000|null    |null                |null              |null                  |null         |null     |null     |null     |null     |\n",
      "|1196192320    |3157        |2018-08-01 00:00:00|5         |null               |null                  |null      |1              |null             |null            |null           |null              |3             |null                |null        |00:00:15.0000000|06:14:30.0000000|2018-08-01 00:00:00|null        |3-L'OREAL CANADA-Hair Products 3rd         |06:14:15.0000000|null    |null                |null              |null                  |null         |null     |null     |null     |null     |\n",
      "+--------------+------------+-------------------+----------+-------------------+----------------------+----------+---------------+-----------------+----------------+---------------+------------------+--------------+--------------------+------------+----------------+----------------+-------------------+------------+-------------------------------------------+----------------+--------+--------------------+------------------+----------------------+-------------+---------+---------+---------+---------+\n",
      "only showing top 5 rows\n",
      "\n"
     ]
    }
   ],
   "source": [
    "logs_df.select(\"*\").show(5, False)"
   ]
  },
  {
   "cell_type": "code",
   "execution_count": 76,
   "id": "f91784fe",
   "metadata": {},
   "outputs": [],
   "source": [
    "import numpy as np \n",
    "\n",
    "column_split = np.array_split(np.array(logs_df.columns), len(logs_df.columns) // 3)"
   ]
  },
  {
   "cell_type": "code",
   "execution_count": 77,
   "id": "d1772565",
   "metadata": {},
   "outputs": [
    {
     "data": {
      "text/plain": [
       "[array(['col1', 'col2', 'col3', 'col4'], dtype='<U4'),\n",
       " array(['col5', 'col6', 'col7', 'col8'], dtype='<U4')]"
      ]
     },
     "execution_count": 77,
     "metadata": {},
     "output_type": "execute_result"
    }
   ],
   "source": [
    "arr = ['col1', 'col2', 'col3', 'col4', 'col5', 'col6', 'col7', 'col8']\n",
    "cols = np.array_split(np.array(arr), len(arr) // 3)\n",
    "\n",
    "cols"
   ]
  },
  {
   "cell_type": "code",
   "execution_count": 78,
   "id": "4273152c",
   "metadata": {},
   "outputs": [],
   "source": [
    "column_split = np.array_split(np.array(logs_df.columns), len(logs_df.columns) // 3)"
   ]
  },
  {
   "cell_type": "code",
   "execution_count": 79,
   "id": "b5610c3b",
   "metadata": {},
   "outputs": [
    {
     "data": {
      "text/plain": [
       "[array(['BroadcastLogID', 'LogServiceID', 'LogDate'], dtype='<U22'),\n",
       " array(['SequenceNO', 'AudienceTargetAgeID', 'AudienceTargetEthnicID'],\n",
       "       dtype='<U22'),\n",
       " array(['CategoryID', 'ClosedCaptionID', 'CountryOfOriginID'], dtype='<U22'),\n",
       " array(['DubDramaCreditID', 'EthnicProgramID', 'ProductionSourceID'],\n",
       "       dtype='<U22'),\n",
       " array(['ProgramClassID', 'FilmClassificationID', 'ExhibitionID'],\n",
       "       dtype='<U22'),\n",
       " array(['Duration', 'EndTime', 'LogEntryDate'], dtype='<U22'),\n",
       " array(['ProductionNO', 'ProgramTitle', 'StartTime'], dtype='<U22'),\n",
       " array(['Subtitle', 'NetworkAffiliationID', 'SpecialAttentionID'],\n",
       "       dtype='<U22'),\n",
       " array(['BroadcastOriginPointID', 'CompositionID', 'Producer1'],\n",
       "       dtype='<U22'),\n",
       " array(['Producer2', 'Language1', 'Language2'], dtype='<U22')]"
      ]
     },
     "execution_count": 79,
     "metadata": {},
     "output_type": "execute_result"
    }
   ],
   "source": [
    "column_split"
   ]
  },
  {
   "cell_type": "code",
   "execution_count": 80,
   "id": "9096e818",
   "metadata": {},
   "outputs": [
    {
     "name": "stdout",
     "output_type": "stream",
     "text": [
      "+--------------+------------+-------------------+\n",
      "|BroadcastLogID|LogServiceID|LogDate            |\n",
      "+--------------+------------+-------------------+\n",
      "|1196192316    |3157        |2018-08-01 00:00:00|\n",
      "|1196192317    |3157        |2018-08-01 00:00:00|\n",
      "|1196192318    |3157        |2018-08-01 00:00:00|\n",
      "|1196192319    |3157        |2018-08-01 00:00:00|\n",
      "|1196192320    |3157        |2018-08-01 00:00:00|\n",
      "+--------------+------------+-------------------+\n",
      "only showing top 5 rows\n",
      "\n",
      "+----------+-------------------+----------------------+\n",
      "|SequenceNO|AudienceTargetAgeID|AudienceTargetEthnicID|\n",
      "+----------+-------------------+----------------------+\n",
      "|1         |4                  |null                  |\n",
      "|2         |null               |null                  |\n",
      "|3         |null               |null                  |\n",
      "|4         |null               |null                  |\n",
      "|5         |null               |null                  |\n",
      "+----------+-------------------+----------------------+\n",
      "only showing top 5 rows\n",
      "\n",
      "+----------+---------------+-----------------+\n",
      "|CategoryID|ClosedCaptionID|CountryOfOriginID|\n",
      "+----------+---------------+-----------------+\n",
      "|13        |3              |3                |\n",
      "|null      |1              |null             |\n",
      "|null      |1              |null             |\n",
      "|null      |1              |null             |\n",
      "|null      |1              |null             |\n",
      "+----------+---------------+-----------------+\n",
      "only showing top 5 rows\n",
      "\n",
      "+----------------+---------------+------------------+\n",
      "|DubDramaCreditID|EthnicProgramID|ProductionSourceID|\n",
      "+----------------+---------------+------------------+\n",
      "|null            |null           |10                |\n",
      "|null            |null           |null              |\n",
      "|null            |null           |null              |\n",
      "|null            |null           |null              |\n",
      "|null            |null           |null              |\n",
      "+----------------+---------------+------------------+\n",
      "only showing top 5 rows\n",
      "\n",
      "+--------------+--------------------+------------+\n",
      "|ProgramClassID|FilmClassificationID|ExhibitionID|\n",
      "+--------------+--------------------+------------+\n",
      "|19            |null                |2           |\n",
      "|20            |null                |null        |\n",
      "|3             |null                |null        |\n",
      "|3             |null                |null        |\n",
      "|3             |null                |null        |\n",
      "+--------------+--------------------+------------+\n",
      "only showing top 5 rows\n",
      "\n",
      "+----------------+----------------+-------------------+\n",
      "|Duration        |EndTime         |LogEntryDate       |\n",
      "+----------------+----------------+-------------------+\n",
      "|02:00:00.0000000|08:00:00.0000000|2018-08-01 00:00:00|\n",
      "|00:00:30.0000000|06:13:45.0000000|2018-08-01 00:00:00|\n",
      "|00:00:15.0000000|06:14:00.0000000|2018-08-01 00:00:00|\n",
      "|00:00:15.0000000|06:14:15.0000000|2018-08-01 00:00:00|\n",
      "|00:00:15.0000000|06:14:30.0000000|2018-08-01 00:00:00|\n",
      "+----------------+----------------+-------------------+\n",
      "only showing top 5 rows\n",
      "\n",
      "+------------+-------------------------------------------+----------------+\n",
      "|ProductionNO|ProgramTitle                               |StartTime       |\n",
      "+------------+-------------------------------------------+----------------+\n",
      "|A39082      |Newlywed and Dead                          |06:00:00.0000000|\n",
      "|null        |15-SPECIALTY CHANNELS-Canadian Generic     |06:13:15.0000000|\n",
      "|null        |3-PROCTER & GAMBLE INC-Anti-Perspirant 3rd |06:13:45.0000000|\n",
      "|null        |12-CREDIT KARMA-Bank/Credit Union/Trust 3rd|06:14:00.0000000|\n",
      "|null        |3-L'OREAL CANADA-Hair Products 3rd         |06:14:15.0000000|\n",
      "+------------+-------------------------------------------+----------------+\n",
      "only showing top 5 rows\n",
      "\n",
      "+--------+--------------------+------------------+\n",
      "|Subtitle|NetworkAffiliationID|SpecialAttentionID|\n",
      "+--------+--------------------+------------------+\n",
      "|null    |null                |null              |\n",
      "|null    |null                |null              |\n",
      "|null    |null                |null              |\n",
      "|null    |null                |null              |\n",
      "|null    |null                |null              |\n",
      "+--------+--------------------+------------------+\n",
      "only showing top 5 rows\n",
      "\n",
      "+----------------------+-------------+---------+\n",
      "|BroadcastOriginPointID|CompositionID|Producer1|\n",
      "+----------------------+-------------+---------+\n",
      "|null                  |null         |null     |\n",
      "|null                  |null         |null     |\n",
      "|null                  |null         |null     |\n",
      "|null                  |null         |null     |\n",
      "|null                  |null         |null     |\n",
      "+----------------------+-------------+---------+\n",
      "only showing top 5 rows\n",
      "\n",
      "+---------+---------+---------+\n",
      "|Producer2|Language1|Language2|\n",
      "+---------+---------+---------+\n",
      "|null     |94       |null     |\n",
      "|null     |null     |null     |\n",
      "|null     |null     |null     |\n",
      "|null     |null     |null     |\n",
      "|null     |null     |null     |\n",
      "+---------+---------+---------+\n",
      "only showing top 5 rows\n",
      "\n"
     ]
    }
   ],
   "source": [
    "for x in column_split:\n",
    "    logs_df.select(*x).show(5, False)"
   ]
  },
  {
   "cell_type": "markdown",
   "id": "a739a066",
   "metadata": {},
   "source": [
    "### `DROP()`"
   ]
  },
  {
   "cell_type": "code",
   "execution_count": 81,
   "id": "3ba282c2",
   "metadata": {},
   "outputs": [],
   "source": [
    "logs_df = logs_df.drop(\"BroadcastLogID\", \"SequenceNO\")"
   ]
  },
  {
   "cell_type": "code",
   "execution_count": 82,
   "id": "cb6b537d",
   "metadata": {},
   "outputs": [
    {
     "data": {
      "text/plain": [
       "False"
      ]
     },
     "execution_count": 82,
     "metadata": {},
     "output_type": "execute_result"
    }
   ],
   "source": [
    "\"BroadcastLogID\" in logs_df.columns"
   ]
  },
  {
   "cell_type": "code",
   "execution_count": 83,
   "id": "444ba14a",
   "metadata": {},
   "outputs": [
    {
     "data": {
      "text/plain": [
       "DataFrame[LogServiceID: int, LogDate: timestamp, AudienceTargetAgeID: int, AudienceTargetEthnicID: int, CategoryID: int, ClosedCaptionID: int, CountryOfOriginID: int, DubDramaCreditID: int, EthnicProgramID: int, ProductionSourceID: int, ProgramClassID: int, FilmClassificationID: int, ExhibitionID: int, Duration: string, EndTime: string, LogEntryDate: timestamp, ProductionNO: string, ProgramTitle: string, StartTime: string, Subtitle: string, NetworkAffiliationID: int, SpecialAttentionID: int, BroadcastOriginPointID: int, CompositionID: int, Producer1: string, Producer2: string, Language1: int, Language2: int]"
      ]
     },
     "execution_count": 83,
     "metadata": {},
     "output_type": "execute_result"
    }
   ],
   "source": [
    "logs_df.drop(\"Col_doesnt_exist\")"
   ]
  },
  {
   "cell_type": "markdown",
   "id": "88769cf6",
   "metadata": {},
   "source": [
    "> **NOTE:** Unlike `select()`, where selecting a column that doesn’t exist will\n",
    "return a runtime error, dropping a nonexistent column is a no-op. PySpark\n",
    "will simply ignore the columns it doesn’t find. Be careful with the spelling of\n",
    "your column names!"
   ]
  },
  {
   "cell_type": "markdown",
   "id": "0a4b8757",
   "metadata": {},
   "source": [
    "### `withColumn()`"
   ]
  },
  {
   "cell_type": "code",
   "execution_count": 84,
   "id": "8a372dab",
   "metadata": {},
   "outputs": [
    {
     "name": "stdout",
     "output_type": "stream",
     "text": [
      "root\n",
      " |-- LogServiceID: integer (nullable = true)\n",
      " |-- LogDate: timestamp (nullable = true)\n",
      " |-- AudienceTargetAgeID: integer (nullable = true)\n",
      " |-- AudienceTargetEthnicID: integer (nullable = true)\n",
      " |-- CategoryID: integer (nullable = true)\n",
      " |-- ClosedCaptionID: integer (nullable = true)\n",
      " |-- CountryOfOriginID: integer (nullable = true)\n",
      " |-- DubDramaCreditID: integer (nullable = true)\n",
      " |-- EthnicProgramID: integer (nullable = true)\n",
      " |-- ProductionSourceID: integer (nullable = true)\n",
      " |-- ProgramClassID: integer (nullable = true)\n",
      " |-- FilmClassificationID: integer (nullable = true)\n",
      " |-- ExhibitionID: integer (nullable = true)\n",
      " |-- Duration: string (nullable = true)\n",
      " |-- EndTime: string (nullable = true)\n",
      " |-- LogEntryDate: timestamp (nullable = true)\n",
      " |-- ProductionNO: string (nullable = true)\n",
      " |-- ProgramTitle: string (nullable = true)\n",
      " |-- StartTime: string (nullable = true)\n",
      " |-- Subtitle: string (nullable = true)\n",
      " |-- NetworkAffiliationID: integer (nullable = true)\n",
      " |-- SpecialAttentionID: integer (nullable = true)\n",
      " |-- BroadcastOriginPointID: integer (nullable = true)\n",
      " |-- CompositionID: integer (nullable = true)\n",
      " |-- Producer1: string (nullable = true)\n",
      " |-- Producer2: string (nullable = true)\n",
      " |-- Language1: integer (nullable = true)\n",
      " |-- Language2: integer (nullable = true)\n",
      "\n"
     ]
    }
   ],
   "source": [
    "logs_df.printSchema()"
   ]
  },
  {
   "cell_type": "code",
   "execution_count": 85,
   "id": "c5e02e2a",
   "metadata": {},
   "outputs": [
    {
     "name": "stdout",
     "output_type": "stream",
     "text": [
      "+----------------+\n",
      "|        Duration|\n",
      "+----------------+\n",
      "|02:00:00.0000000|\n",
      "|00:00:30.0000000|\n",
      "|00:00:15.0000000|\n",
      "|00:00:15.0000000|\n",
      "|00:00:15.0000000|\n",
      "+----------------+\n",
      "only showing top 5 rows\n",
      "\n"
     ]
    }
   ],
   "source": [
    "logs_df.select(F.col('Duration')) \\\n",
    "       .show(5)"
   ]
  },
  {
   "cell_type": "markdown",
   "id": "96bf7663",
   "metadata": {},
   "source": [
    "Let's way we want to break this `Duration` col into 3 columns: \n",
    "\n",
    "    - 'duration_hours'\n",
    "    - 'duration_minutes'\n",
    "    - 'duration_seconds'"
   ]
  },
  {
   "cell_type": "code",
   "execution_count": 86,
   "id": "13969059",
   "metadata": {},
   "outputs": [
    {
     "name": "stderr",
     "output_type": "stream",
     "text": [
      "[Stage 70:===========================================>              (3 + 1) / 4]\r"
     ]
    },
    {
     "name": "stdout",
     "output_type": "stream",
     "text": [
      "+----------------+--------------+----------------+----------------+\n",
      "|        Duration|duration_hours|duration_minutes|duration_seconds|\n",
      "+----------------+--------------+----------------+----------------+\n",
      "|00:04:52.0000000|             0|               4|              52|\n",
      "|00:09:52.0000000|             0|               9|              52|\n",
      "|01:34:00.0000000|             1|              34|               0|\n",
      "|01:59:57.0000000|             1|              59|              57|\n",
      "|00:38:10.0000000|             0|              38|              10|\n",
      "+----------------+--------------+----------------+----------------+\n",
      "only showing top 5 rows\n",
      "\n"
     ]
    },
    {
     "name": "stderr",
     "output_type": "stream",
     "text": [
      "\r",
      "                                                                                \r"
     ]
    }
   ],
   "source": [
    "logs_df.select(F.col('Duration'),\n",
    "               F.col('Duration').substr(1, 2).cast('int').alias('duration_hours'),\n",
    "               F.col('Duration').substr(4, 2).cast('int').alias('duration_minutes'),\n",
    "               F.col('Duration').substr(7, 2).cast('int').alias('duration_seconds')\n",
    "              ) \\\n",
    "       .distinct() \\\n",
    "       .show(5)"
   ]
  },
  {
   "cell_type": "code",
   "execution_count": 87,
   "id": "d27883c3",
   "metadata": {},
   "outputs": [
    {
     "name": "stdout",
     "output_type": "stream",
     "text": [
      "+----------------+----------------+\n",
      "|        Duration|duration_seconds|\n",
      "+----------------+----------------+\n",
      "|00:28:08.0000000|            1688|\n",
      "|00:32:00.0000000|            1920|\n",
      "|00:30:00.0000000|            1800|\n",
      "|00:01:39.0000000|              99|\n",
      "|00:29:50.0000000|            1790|\n",
      "+----------------+----------------+\n",
      "only showing top 5 rows\n",
      "\n"
     ]
    }
   ],
   "source": [
    "# Let's combine it all together\n",
    "\n",
    "logs_df.select(F.col('Duration'),\n",
    "               (F.col('Duration').substr(1, 2).cast('int') * 60 * 60 +\n",
    "               F.col('Duration').substr(4, 2).cast('int') * 60 +\n",
    "               F.col('Duration').substr(7, 2).cast('int')).alias('duration_seconds')\n",
    "              ) \\\n",
    "        .distinct() \\\n",
    "        .show(5)"
   ]
  },
  {
   "cell_type": "code",
   "execution_count": 88,
   "id": "bf1fc820",
   "metadata": {},
   "outputs": [
    {
     "name": "stdout",
     "output_type": "stream",
     "text": [
      "root\n",
      " |-- LogServiceID: integer (nullable = true)\n",
      " |-- LogDate: timestamp (nullable = true)\n",
      " |-- AudienceTargetAgeID: integer (nullable = true)\n",
      " |-- AudienceTargetEthnicID: integer (nullable = true)\n",
      " |-- CategoryID: integer (nullable = true)\n",
      " |-- ClosedCaptionID: integer (nullable = true)\n",
      " |-- CountryOfOriginID: integer (nullable = true)\n",
      " |-- DubDramaCreditID: integer (nullable = true)\n",
      " |-- EthnicProgramID: integer (nullable = true)\n",
      " |-- ProductionSourceID: integer (nullable = true)\n",
      " |-- ProgramClassID: integer (nullable = true)\n",
      " |-- FilmClassificationID: integer (nullable = true)\n",
      " |-- ExhibitionID: integer (nullable = true)\n",
      " |-- Duration: string (nullable = true)\n",
      " |-- EndTime: string (nullable = true)\n",
      " |-- LogEntryDate: timestamp (nullable = true)\n",
      " |-- ProductionNO: string (nullable = true)\n",
      " |-- ProgramTitle: string (nullable = true)\n",
      " |-- StartTime: string (nullable = true)\n",
      " |-- Subtitle: string (nullable = true)\n",
      " |-- NetworkAffiliationID: integer (nullable = true)\n",
      " |-- SpecialAttentionID: integer (nullable = true)\n",
      " |-- BroadcastOriginPointID: integer (nullable = true)\n",
      " |-- CompositionID: integer (nullable = true)\n",
      " |-- Producer1: string (nullable = true)\n",
      " |-- Producer2: string (nullable = true)\n",
      " |-- Language1: integer (nullable = true)\n",
      " |-- Language2: integer (nullable = true)\n",
      " |-- Duration_seconds: integer (nullable = true)\n",
      "\n"
     ]
    }
   ],
   "source": [
    "# Lets add this in a seperate column \n",
    "logs_df = logs_df.withColumn(\n",
    "                    'Duration_seconds', \n",
    "                    (F.col('Duration').substr(1, 2).cast('int') * 60 * 60 +\n",
    "                       F.col('Duration').substr(4, 2).cast('int') * 60 +\n",
    "                       F.col('Duration').substr(7, 2).cast('int'))\n",
    "                    )\n",
    "\n",
    "logs_df.printSchema()"
   ]
  },
  {
   "cell_type": "code",
   "execution_count": 89,
   "id": "11b444ec",
   "metadata": {},
   "outputs": [
    {
     "name": "stdout",
     "output_type": "stream",
     "text": [
      "+----------------+----------------+\n",
      "|        Duration|Duration_seconds|\n",
      "+----------------+----------------+\n",
      "|00:28:08.0000000|            1688|\n",
      "|00:32:00.0000000|            1920|\n",
      "|00:30:00.0000000|            1800|\n",
      "|00:01:39.0000000|              99|\n",
      "|00:29:50.0000000|            1790|\n",
      "+----------------+----------------+\n",
      "only showing top 5 rows\n",
      "\n"
     ]
    }
   ],
   "source": [
    "logs_df.select(\n",
    "                F.col('Duration'),\n",
    "                F.col('Duration_seconds')\n",
    "                ) \\\n",
    "       .distinct() \\\n",
    "       .show(5)"
   ]
  },
  {
   "cell_type": "markdown",
   "id": "501ca038",
   "metadata": {},
   "source": [
    "### `withColumnRenamed()`"
   ]
  },
  {
   "cell_type": "code",
   "execution_count": 90,
   "id": "eeb01656",
   "metadata": {},
   "outputs": [],
   "source": [
    "logs_df = logs_df.withColumnRenamed(\"Duration_seconds\", \"Total_duration_seconds\")"
   ]
  },
  {
   "cell_type": "code",
   "execution_count": 91,
   "id": "2a961a30",
   "metadata": {},
   "outputs": [
    {
     "name": "stdout",
     "output_type": "stream",
     "text": [
      "root\n",
      " |-- LogServiceID: integer (nullable = true)\n",
      " |-- LogDate: timestamp (nullable = true)\n",
      " |-- AudienceTargetAgeID: integer (nullable = true)\n",
      " |-- AudienceTargetEthnicID: integer (nullable = true)\n",
      " |-- CategoryID: integer (nullable = true)\n",
      " |-- ClosedCaptionID: integer (nullable = true)\n",
      " |-- CountryOfOriginID: integer (nullable = true)\n",
      " |-- DubDramaCreditID: integer (nullable = true)\n",
      " |-- EthnicProgramID: integer (nullable = true)\n",
      " |-- ProductionSourceID: integer (nullable = true)\n",
      " |-- ProgramClassID: integer (nullable = true)\n",
      " |-- FilmClassificationID: integer (nullable = true)\n",
      " |-- ExhibitionID: integer (nullable = true)\n",
      " |-- Duration: string (nullable = true)\n",
      " |-- EndTime: string (nullable = true)\n",
      " |-- LogEntryDate: timestamp (nullable = true)\n",
      " |-- ProductionNO: string (nullable = true)\n",
      " |-- ProgramTitle: string (nullable = true)\n",
      " |-- StartTime: string (nullable = true)\n",
      " |-- Subtitle: string (nullable = true)\n",
      " |-- NetworkAffiliationID: integer (nullable = true)\n",
      " |-- SpecialAttentionID: integer (nullable = true)\n",
      " |-- BroadcastOriginPointID: integer (nullable = true)\n",
      " |-- CompositionID: integer (nullable = true)\n",
      " |-- Producer1: string (nullable = true)\n",
      " |-- Producer2: string (nullable = true)\n",
      " |-- Language1: integer (nullable = true)\n",
      " |-- Language2: integer (nullable = true)\n",
      " |-- Total_duration_seconds: integer (nullable = true)\n",
      "\n"
     ]
    }
   ],
   "source": [
    "logs_df.printSchema()"
   ]
  },
  {
   "cell_type": "markdown",
   "id": "1df8bc1d",
   "metadata": {},
   "source": [
    "### Batch `lowercasing` using the toDF() method"
   ]
  },
  {
   "cell_type": "code",
   "execution_count": 93,
   "id": "2ff1426f",
   "metadata": {},
   "outputs": [
    {
     "name": "stdout",
     "output_type": "stream",
     "text": [
      "root\n",
      " |-- logserviceid: integer (nullable = true)\n",
      " |-- logdate: timestamp (nullable = true)\n",
      " |-- audiencetargetageid: integer (nullable = true)\n",
      " |-- audiencetargetethnicid: integer (nullable = true)\n",
      " |-- categoryid: integer (nullable = true)\n",
      " |-- closedcaptionid: integer (nullable = true)\n",
      " |-- countryoforiginid: integer (nullable = true)\n",
      " |-- dubdramacreditid: integer (nullable = true)\n",
      " |-- ethnicprogramid: integer (nullable = true)\n",
      " |-- productionsourceid: integer (nullable = true)\n",
      " |-- programclassid: integer (nullable = true)\n",
      " |-- filmclassificationid: integer (nullable = true)\n",
      " |-- exhibitionid: integer (nullable = true)\n",
      " |-- duration: string (nullable = true)\n",
      " |-- endtime: string (nullable = true)\n",
      " |-- logentrydate: timestamp (nullable = true)\n",
      " |-- productionno: string (nullable = true)\n",
      " |-- programtitle: string (nullable = true)\n",
      " |-- starttime: string (nullable = true)\n",
      " |-- subtitle: string (nullable = true)\n",
      " |-- networkaffiliationid: integer (nullable = true)\n",
      " |-- specialattentionid: integer (nullable = true)\n",
      " |-- broadcastoriginpointid: integer (nullable = true)\n",
      " |-- compositionid: integer (nullable = true)\n",
      " |-- producer1: string (nullable = true)\n",
      " |-- producer2: string (nullable = true)\n",
      " |-- language1: integer (nullable = true)\n",
      " |-- language2: integer (nullable = true)\n",
      " |-- total_duration_seconds: integer (nullable = true)\n",
      "\n"
     ]
    }
   ],
   "source": [
    "logs_df.toDF(*[col.lower() for col in logs_df.columns]) \\\n",
    "       .printSchema()"
   ]
  },
  {
   "cell_type": "markdown",
   "id": "8fbc4116",
   "metadata": {},
   "source": [
    "### Selecting our columns in `alphabetical` order using select()"
   ]
  },
  {
   "cell_type": "code",
   "execution_count": 95,
   "id": "f9bcc255",
   "metadata": {},
   "outputs": [
    {
     "name": "stdout",
     "output_type": "stream",
     "text": [
      "root\n",
      " |-- AudienceTargetAgeID: integer (nullable = true)\n",
      " |-- AudienceTargetEthnicID: integer (nullable = true)\n",
      " |-- BroadcastOriginPointID: integer (nullable = true)\n",
      " |-- CategoryID: integer (nullable = true)\n",
      " |-- ClosedCaptionID: integer (nullable = true)\n",
      " |-- CompositionID: integer (nullable = true)\n",
      " |-- CountryOfOriginID: integer (nullable = true)\n",
      " |-- DubDramaCreditID: integer (nullable = true)\n",
      " |-- Duration: string (nullable = true)\n",
      " |-- EndTime: string (nullable = true)\n",
      " |-- EthnicProgramID: integer (nullable = true)\n",
      " |-- ExhibitionID: integer (nullable = true)\n",
      " |-- FilmClassificationID: integer (nullable = true)\n",
      " |-- Language1: integer (nullable = true)\n",
      " |-- Language2: integer (nullable = true)\n",
      " |-- LogDate: timestamp (nullable = true)\n",
      " |-- LogEntryDate: timestamp (nullable = true)\n",
      " |-- LogServiceID: integer (nullable = true)\n",
      " |-- NetworkAffiliationID: integer (nullable = true)\n",
      " |-- Producer1: string (nullable = true)\n",
      " |-- Producer2: string (nullable = true)\n",
      " |-- ProductionNO: string (nullable = true)\n",
      " |-- ProductionSourceID: integer (nullable = true)\n",
      " |-- ProgramClassID: integer (nullable = true)\n",
      " |-- ProgramTitle: string (nullable = true)\n",
      " |-- SpecialAttentionID: integer (nullable = true)\n",
      " |-- StartTime: string (nullable = true)\n",
      " |-- Subtitle: string (nullable = true)\n",
      " |-- Total_duration_seconds: integer (nullable = true)\n",
      "\n"
     ]
    }
   ],
   "source": [
    "logs_df.select(sorted(logs_df.columns)).printSchema()"
   ]
  },
  {
   "cell_type": "markdown",
   "id": "b2708bde",
   "metadata": {},
   "source": [
    "### `describe()`"
   ]
  },
  {
   "cell_type": "code",
   "execution_count": 98,
   "id": "1f556548",
   "metadata": {},
   "outputs": [
    {
     "name": "stderr",
     "output_type": "stream",
     "text": [
      "                                                                                \r"
     ]
    },
    {
     "name": "stdout",
     "output_type": "stream",
     "text": [
      "+-------+------------------+\n",
      "|summary|      LogServiceID|\n",
      "+-------+------------------+\n",
      "|  count|            238945|\n",
      "|   mean| 3450.890284375065|\n",
      "| stddev|199.50673962555592|\n",
      "|    min|              3157|\n",
      "|    max|              3925|\n",
      "+-------+------------------+\n",
      "\n",
      "+-------+\n",
      "|summary|\n",
      "+-------+\n",
      "|  count|\n",
      "|   mean|\n",
      "| stddev|\n",
      "|    min|\n",
      "|    max|\n",
      "+-------+\n",
      "\n",
      "+-------+-------------------+\n",
      "|summary|AudienceTargetAgeID|\n",
      "+-------+-------------------+\n",
      "|  count|              16112|\n",
      "|   mean| 3.4929245283018866|\n",
      "| stddev|  1.041596339474513|\n",
      "|    min|                  1|\n",
      "|    max|                  4|\n",
      "+-------+-------------------+\n",
      "\n",
      "+-------+----------------------+\n",
      "|summary|AudienceTargetEthnicID|\n",
      "+-------+----------------------+\n",
      "|  count|                  1710|\n",
      "|   mean|    120.56432748538012|\n",
      "| stddev|     71.98694059436134|\n",
      "|    min|                     4|\n",
      "|    max|                   337|\n",
      "+-------+----------------------+\n",
      "\n",
      "+-------+------------------+\n",
      "|summary|        CategoryID|\n",
      "+-------+------------------+\n",
      "|  count|             25506|\n",
      "|   mean|18.485297577040697|\n",
      "| stddev| 9.655852252020848|\n",
      "|    min|                 1|\n",
      "|    max|                29|\n",
      "+-------+------------------+\n",
      "\n",
      "+-------+-------------------+\n",
      "|summary|    ClosedCaptionID|\n",
      "+-------+-------------------+\n",
      "|  count|             224117|\n",
      "|   mean| 1.0316174141185184|\n",
      "| stddev|0.24947032900378907|\n",
      "|    min|                  1|\n",
      "|    max|                  3|\n",
      "+-------+-------------------+\n",
      "\n",
      "+-------+------------------+\n",
      "|summary| CountryOfOriginID|\n",
      "+-------+------------------+\n",
      "|  count|             17822|\n",
      "|   mean|  4.06390977443609|\n",
      "| stddev|2.6159675821007298|\n",
      "|    min|                 2|\n",
      "|    max|                11|\n",
      "+-------+------------------+\n",
      "\n",
      "+-------+------------------+\n",
      "|summary|  DubDramaCreditID|\n",
      "+-------+------------------+\n",
      "|  count|               263|\n",
      "|   mean|5.1254752851711025|\n",
      "| stddev| 3.451329711438564|\n",
      "|    min|                 1|\n",
      "|    max|                10|\n",
      "+-------+------------------+\n",
      "\n",
      "+-------+------------------+\n",
      "|summary|   EthnicProgramID|\n",
      "+-------+------------------+\n",
      "|  count|              1895|\n",
      "|   mean| 4.316622691292876|\n",
      "| stddev|2.2966421456800283|\n",
      "|    min|                 1|\n",
      "|    max|                 6|\n",
      "+-------+------------------+\n",
      "\n",
      "+-------+------------------+\n",
      "|summary|ProductionSourceID|\n",
      "+-------+------------------+\n",
      "|  count|             16223|\n",
      "|   mean|11.193737286568453|\n",
      "| stddev| 6.079022239331343|\n",
      "|    min|                 1|\n",
      "|    max|                19|\n",
      "+-------+------------------+\n",
      "\n",
      "+-------+-----------------+\n",
      "|summary|   ProgramClassID|\n",
      "+-------+-----------------+\n",
      "|  count|           238945|\n",
      "|   mean| 8.49341061750612|\n",
      "| stddev|7.902116846905757|\n",
      "|    min|                3|\n",
      "|    max|               30|\n",
      "+-------+-----------------+\n",
      "\n",
      "+-------+--------------------+\n",
      "|summary|FilmClassificationID|\n",
      "+-------+--------------------+\n",
      "|  count|                1885|\n",
      "|   mean|   1.953315649867374|\n",
      "| stddev|   1.642051526313384|\n",
      "|    min|                   1|\n",
      "|    max|                   8|\n",
      "+-------+--------------------+\n",
      "\n",
      "+-------+------------------+\n",
      "|summary|      ExhibitionID|\n",
      "+-------+------------------+\n",
      "|  count|              9263|\n",
      "|   mean|  4.52067364784627|\n",
      "| stddev|1.4418772626833432|\n",
      "|    min|                 1|\n",
      "|    max|                 8|\n",
      "+-------+------------------+\n",
      "\n"
     ]
    },
    {
     "name": "stderr",
     "output_type": "stream",
     "text": [
      "                                                                                \r"
     ]
    },
    {
     "name": "stdout",
     "output_type": "stream",
     "text": [
      "+-------+----------------+\n",
      "|summary|        Duration|\n",
      "+-------+----------------+\n",
      "|  count|          236724|\n",
      "|   mean|            null|\n",
      "| stddev|            null|\n",
      "|    min|00:00:01.0000000|\n",
      "|    max|06:30:09.0000000|\n",
      "+-------+----------------+\n",
      "\n"
     ]
    },
    {
     "name": "stderr",
     "output_type": "stream",
     "text": [
      "                                                                                \r"
     ]
    },
    {
     "name": "stdout",
     "output_type": "stream",
     "text": [
      "+-------+----------------+\n",
      "|summary|         EndTime|\n",
      "+-------+----------------+\n",
      "|  count|          169979|\n",
      "|   mean|            null|\n",
      "| stddev|            null|\n",
      "|    min|00:00:00.0000000|\n",
      "|    max|23:59:59.0000000|\n",
      "+-------+----------------+\n",
      "\n",
      "+-------+\n",
      "|summary|\n",
      "+-------+\n",
      "|  count|\n",
      "|   mean|\n",
      "| stddev|\n",
      "|    min|\n",
      "|    max|\n",
      "+-------+\n",
      "\n",
      "+-------+------------------+\n",
      "|summary|      ProductionNO|\n",
      "+-------+------------------+\n",
      "|  count|              3519|\n",
      "|   mean| 35710.61538461538|\n",
      "| stddev|3749.1340008607654|\n",
      "|    min|            030641|\n",
      "|    max|            c34183|\n",
      "+-------+------------------+\n",
      "\n"
     ]
    },
    {
     "name": "stderr",
     "output_type": "stream",
     "text": [
      "                                                                                \r"
     ]
    },
    {
     "name": "stdout",
     "output_type": "stream",
     "text": [
      "+-------+------------------+\n",
      "|summary|      ProgramTitle|\n",
      "+-------+------------------+\n",
      "|  count|            238703|\n",
      "|   mean|            1999.0|\n",
      "| stddev|              null|\n",
      "|    min|  !NO 5PM A ID(:5)|\n",
      "|    max|�t� avec Jo�l 2/Un|\n",
      "+-------+------------------+\n",
      "\n"
     ]
    },
    {
     "name": "stderr",
     "output_type": "stream",
     "text": [
      "                                                                                \r"
     ]
    },
    {
     "name": "stdout",
     "output_type": "stream",
     "text": [
      "+-------+----------------+\n",
      "|summary|       StartTime|\n",
      "+-------+----------------+\n",
      "|  count|          238945|\n",
      "|   mean|            null|\n",
      "| stddev|            null|\n",
      "|    min|00:00:00.0000000|\n",
      "|    max|23:59:59.0000000|\n",
      "+-------+----------------+\n",
      "\n",
      "+-------+--------------------+\n",
      "|summary|            Subtitle|\n",
      "+-------+--------------------+\n",
      "|  count|               15468|\n",
      "|   mean|   3463.573913043478|\n",
      "| stddev|   16251.27241914423|\n",
      "|    min|                #001|\n",
      "|    max|�tre dans le trou...|\n",
      "+-------+--------------------+\n",
      "\n",
      "+-------+--------------------+\n",
      "|summary|NetworkAffiliationID|\n",
      "+-------+--------------------+\n",
      "|  count|              108807|\n",
      "|   mean|   6.082200593711802|\n",
      "| stddev|   2.990848675228516|\n",
      "|    min|                   1|\n",
      "|    max|                   9|\n",
      "+-------+--------------------+\n",
      "\n",
      "+-------+------------------+\n",
      "|summary|SpecialAttentionID|\n",
      "+-------+------------------+\n",
      "|  count|              2395|\n",
      "|   mean| 1.704384133611691|\n",
      "| stddev|0.5394635034869688|\n",
      "|    min|                 1|\n",
      "|    max|                 3|\n",
      "+-------+------------------+\n",
      "\n",
      "+-------+----------------------+\n",
      "|summary|BroadcastOriginPointID|\n",
      "+-------+----------------------+\n",
      "|  count|                  9978|\n",
      "|   mean|    2.1390058127881337|\n",
      "| stddev|    0.9323192037553334|\n",
      "|    min|                     1|\n",
      "|    max|                     3|\n",
      "+-------+----------------------+\n",
      "\n",
      "+-------+------------------+\n",
      "|summary|     CompositionID|\n",
      "+-------+------------------+\n",
      "|  count|              9978|\n",
      "|   mean|3.4141110442974543|\n",
      "| stddev|0.9338603403654634|\n",
      "|    min|                 1|\n",
      "|    max|                 4|\n",
      "+-------+------------------+\n",
      "\n",
      "+-------+---------+\n",
      "|summary|Producer1|\n",
      "+-------+---------+\n",
      "|  count|     2607|\n",
      "|   mean|     null|\n",
      "| stddev|     null|\n",
      "|    min|      AMI|\n",
      "|    max|   VISION|\n",
      "+-------+---------+\n",
      "\n",
      "+-------+---------+\n",
      "|summary|Producer2|\n",
      "+-------+---------+\n",
      "|  count|       38|\n",
      "|   mean|     null|\n",
      "| stddev|     null|\n",
      "|    min|    NEWSW|\n",
      "|    max|       QC|\n",
      "+-------+---------+\n",
      "\n",
      "+-------+------------------+\n",
      "|summary|         Language1|\n",
      "+-------+------------------+\n",
      "|  count|             12586|\n",
      "|   mean|101.75377403464167|\n",
      "| stddev| 45.68403685468213|\n",
      "|    min|                94|\n",
      "|    max|               437|\n",
      "+-------+------------------+\n",
      "\n",
      "+-------+------------------+\n",
      "|summary|         Language2|\n",
      "+-------+------------------+\n",
      "|  count|              2629|\n",
      "|   mean|175.49334347660707|\n",
      "| stddev| 86.03603792883946|\n",
      "|    min|                 3|\n",
      "|    max|               438|\n",
      "+-------+------------------+\n",
      "\n",
      "+-------+----------------------+\n",
      "|summary|Total_duration_seconds|\n",
      "+-------+----------------------+\n",
      "|  count|                236724|\n",
      "|   mean|    124.30587942076004|\n",
      "| stddev|     573.7742807594921|\n",
      "|    min|                     1|\n",
      "|    max|                 23409|\n",
      "+-------+----------------------+\n",
      "\n"
     ]
    }
   ],
   "source": [
    "for i in logs_df.columns:\n",
    "    logs_df.describe(i).show()"
   ]
  },
  {
   "cell_type": "markdown",
   "id": "903f2f4b",
   "metadata": {},
   "source": [
    "### `summary()`"
   ]
  },
  {
   "cell_type": "code",
   "execution_count": 100,
   "id": "fc450d0e",
   "metadata": {},
   "outputs": [
    {
     "name": "stderr",
     "output_type": "stream",
     "text": [
      "                                                                                \r"
     ]
    },
    {
     "name": "stdout",
     "output_type": "stream",
     "text": [
      "+-------+------------------+\n",
      "|summary|      LogServiceID|\n",
      "+-------+------------------+\n",
      "|  count|            238945|\n",
      "|   mean| 3450.890284375065|\n",
      "| stddev|199.50673962555592|\n",
      "|    min|              3157|\n",
      "|    25%|              3287|\n",
      "|    50%|              3379|\n",
      "|    75%|              3627|\n",
      "|    max|              3925|\n",
      "+-------+------------------+\n",
      "\n",
      "+-------+\n",
      "|summary|\n",
      "+-------+\n",
      "|  count|\n",
      "|   mean|\n",
      "| stddev|\n",
      "|    min|\n",
      "|    25%|\n",
      "|    50%|\n",
      "|    75%|\n",
      "|    max|\n",
      "+-------+\n",
      "\n"
     ]
    },
    {
     "name": "stderr",
     "output_type": "stream",
     "text": [
      "\r",
      "[Stage 166:==========================================>              (6 + 2) / 8]\r",
      "\r",
      "                                                                                \r"
     ]
    },
    {
     "name": "stdout",
     "output_type": "stream",
     "text": [
      "+-------+-------------------+\n",
      "|summary|AudienceTargetAgeID|\n",
      "+-------+-------------------+\n",
      "|  count|              16112|\n",
      "|   mean| 3.4929245283018866|\n",
      "| stddev| 1.0415963394745122|\n",
      "|    min|                  1|\n",
      "|    25%|                  4|\n",
      "|    50%|                  4|\n",
      "|    75%|                  4|\n",
      "|    max|                  4|\n",
      "+-------+-------------------+\n",
      "\n",
      "+-------+----------------------+\n",
      "|summary|AudienceTargetEthnicID|\n",
      "+-------+----------------------+\n",
      "|  count|                  1710|\n",
      "|   mean|    120.56432748538012|\n",
      "| stddev|     71.98694059436134|\n",
      "|    min|                     4|\n",
      "|    25%|                    74|\n",
      "|    50%|                    95|\n",
      "|    75%|                   136|\n",
      "|    max|                   337|\n",
      "+-------+----------------------+\n",
      "\n",
      "+-------+------------------+\n",
      "|summary|        CategoryID|\n",
      "+-------+------------------+\n",
      "|  count|             25506|\n",
      "|   mean|18.485297577040697|\n",
      "| stddev| 9.655852252020837|\n",
      "|    min|                 1|\n",
      "|    25%|                11|\n",
      "|    50%|                24|\n",
      "|    75%|                26|\n",
      "|    max|                29|\n",
      "+-------+------------------+\n",
      "\n",
      "+-------+-------------------+\n",
      "|summary|    ClosedCaptionID|\n",
      "+-------+-------------------+\n",
      "|  count|             224117|\n",
      "|   mean| 1.0316174141185184|\n",
      "| stddev|0.24947032900378902|\n",
      "|    min|                  1|\n",
      "|    25%|                  1|\n",
      "|    50%|                  1|\n",
      "|    75%|                  1|\n",
      "|    max|                  3|\n",
      "+-------+-------------------+\n",
      "\n",
      "+-------+------------------+\n",
      "|summary| CountryOfOriginID|\n",
      "+-------+------------------+\n",
      "|  count|             17822|\n",
      "|   mean|  4.06390977443609|\n",
      "| stddev|2.6159675821007315|\n",
      "|    min|                 2|\n",
      "|    25%|                 2|\n",
      "|    50%|                 3|\n",
      "|    75%|                 5|\n",
      "|    max|                11|\n",
      "+-------+------------------+\n",
      "\n",
      "+-------+------------------+\n",
      "|summary|  DubDramaCreditID|\n",
      "+-------+------------------+\n",
      "|  count|               263|\n",
      "|   mean|5.1254752851711025|\n",
      "| stddev| 3.451329711438564|\n",
      "|    min|                 1|\n",
      "|    25%|                 2|\n",
      "|    50%|                 4|\n",
      "|    75%|                10|\n",
      "|    max|                10|\n",
      "+-------+------------------+\n",
      "\n",
      "+-------+------------------+\n",
      "|summary|   EthnicProgramID|\n",
      "+-------+------------------+\n",
      "|  count|              1895|\n",
      "|   mean| 4.316622691292876|\n",
      "| stddev|2.2966421456800283|\n",
      "|    min|                 1|\n",
      "|    25%|                 1|\n",
      "|    50%|                 6|\n",
      "|    75%|                 6|\n",
      "|    max|                 6|\n",
      "+-------+------------------+\n",
      "\n",
      "+-------+------------------+\n",
      "|summary|ProductionSourceID|\n",
      "+-------+------------------+\n",
      "|  count|             16223|\n",
      "|   mean|11.193737286568453|\n",
      "| stddev| 6.079022239331339|\n",
      "|    min|                 1|\n",
      "|    25%|                 7|\n",
      "|    50%|                12|\n",
      "|    75%|                16|\n",
      "|    max|                19|\n",
      "+-------+------------------+\n",
      "\n",
      "+-------+-----------------+\n",
      "|summary|   ProgramClassID|\n",
      "+-------+-----------------+\n",
      "|  count|           238945|\n",
      "|   mean| 8.49341061750612|\n",
      "| stddev|7.902116846905779|\n",
      "|    min|                3|\n",
      "|    25%|                3|\n",
      "|    50%|                3|\n",
      "|    75%|               19|\n",
      "|    max|               30|\n",
      "+-------+-----------------+\n",
      "\n",
      "+-------+--------------------+\n",
      "|summary|FilmClassificationID|\n",
      "+-------+--------------------+\n",
      "|  count|                1885|\n",
      "|   mean|   1.953315649867374|\n",
      "| stddev|  1.6420515263133844|\n",
      "|    min|                   1|\n",
      "|    25%|                   1|\n",
      "|    50%|                   1|\n",
      "|    75%|                   2|\n",
      "|    max|                   8|\n",
      "+-------+--------------------+\n",
      "\n",
      "+-------+------------------+\n",
      "|summary|      ExhibitionID|\n",
      "+-------+------------------+\n",
      "|  count|              9263|\n",
      "|   mean|  4.52067364784627|\n",
      "| stddev|1.4418772626833447|\n",
      "|    min|                 1|\n",
      "|    25%|                 4|\n",
      "|    50%|                 5|\n",
      "|    75%|                 5|\n",
      "|    max|                 8|\n",
      "+-------+------------------+\n",
      "\n"
     ]
    },
    {
     "name": "stderr",
     "output_type": "stream",
     "text": [
      "                                                                                \r"
     ]
    },
    {
     "name": "stdout",
     "output_type": "stream",
     "text": [
      "+-------+----------------+\n",
      "|summary|        Duration|\n",
      "+-------+----------------+\n",
      "|  count|          236724|\n",
      "|   mean|            null|\n",
      "| stddev|            null|\n",
      "|    min|00:00:01.0000000|\n",
      "|    25%|            null|\n",
      "|    50%|            null|\n",
      "|    75%|            null|\n",
      "|    max|06:30:09.0000000|\n",
      "+-------+----------------+\n",
      "\n"
     ]
    },
    {
     "name": "stderr",
     "output_type": "stream",
     "text": [
      "                                                                                \r"
     ]
    },
    {
     "name": "stdout",
     "output_type": "stream",
     "text": [
      "+-------+----------------+\n",
      "|summary|         EndTime|\n",
      "+-------+----------------+\n",
      "|  count|          169979|\n",
      "|   mean|            null|\n",
      "| stddev|            null|\n",
      "|    min|00:00:00.0000000|\n",
      "|    25%|            null|\n",
      "|    50%|            null|\n",
      "|    75%|            null|\n",
      "|    max|23:59:59.0000000|\n",
      "+-------+----------------+\n",
      "\n",
      "+-------+\n",
      "|summary|\n",
      "+-------+\n",
      "|  count|\n",
      "|   mean|\n",
      "| stddev|\n",
      "|    min|\n",
      "|    25%|\n",
      "|    50%|\n",
      "|    75%|\n",
      "|    max|\n",
      "+-------+\n",
      "\n",
      "+-------+------------------+\n",
      "|summary|      ProductionNO|\n",
      "+-------+------------------+\n",
      "|  count|              3519|\n",
      "|   mean| 35710.61538461538|\n",
      "| stddev|3749.1340008607654|\n",
      "|    min|            030641|\n",
      "|    25%|           32974.0|\n",
      "|    50%|           37775.0|\n",
      "|    75%|           37775.0|\n",
      "|    max|            c34183|\n",
      "+-------+------------------+\n",
      "\n"
     ]
    },
    {
     "name": "stderr",
     "output_type": "stream",
     "text": [
      "                                                                                \r"
     ]
    },
    {
     "name": "stdout",
     "output_type": "stream",
     "text": [
      "+-------+------------------+\n",
      "|summary|      ProgramTitle|\n",
      "+-------+------------------+\n",
      "|  count|            238703|\n",
      "|   mean|            1999.0|\n",
      "| stddev|              null|\n",
      "|    min|  !NO 5PM A ID(:5)|\n",
      "|    25%|            1999.0|\n",
      "|    50%|            1999.0|\n",
      "|    75%|            1999.0|\n",
      "|    max|�t� avec Jo�l 2/Un|\n",
      "+-------+------------------+\n",
      "\n"
     ]
    },
    {
     "name": "stderr",
     "output_type": "stream",
     "text": [
      "                                                                                \r"
     ]
    },
    {
     "name": "stdout",
     "output_type": "stream",
     "text": [
      "+-------+----------------+\n",
      "|summary|       StartTime|\n",
      "+-------+----------------+\n",
      "|  count|          238945|\n",
      "|   mean|            null|\n",
      "| stddev|            null|\n",
      "|    min|00:00:00.0000000|\n",
      "|    25%|            null|\n",
      "|    50%|            null|\n",
      "|    75%|            null|\n",
      "|    max|23:59:59.0000000|\n",
      "+-------+----------------+\n",
      "\n",
      "+-------+--------------------+\n",
      "|summary|            Subtitle|\n",
      "+-------+--------------------+\n",
      "|  count|               15468|\n",
      "|   mean|   3463.573913043478|\n",
      "| stddev|  16251.272419144227|\n",
      "|    min|                #001|\n",
      "|    25%|                17.0|\n",
      "|    50%|               106.0|\n",
      "|    75%|              2014.0|\n",
      "|    max|�tre dans le trou...|\n",
      "+-------+--------------------+\n",
      "\n",
      "+-------+--------------------+\n",
      "|summary|NetworkAffiliationID|\n",
      "+-------+--------------------+\n",
      "|  count|              108807|\n",
      "|   mean|   6.082200593711802|\n",
      "| stddev|  2.9908486752285337|\n",
      "|    min|                   1|\n",
      "|    25%|                   5|\n",
      "|    50%|                   6|\n",
      "|    75%|                   9|\n",
      "|    max|                   9|\n",
      "+-------+--------------------+\n",
      "\n",
      "+-------+------------------+\n",
      "|summary|SpecialAttentionID|\n",
      "+-------+------------------+\n",
      "|  count|              2395|\n",
      "|   mean| 1.704384133611691|\n",
      "| stddev|0.5394635034869694|\n",
      "|    min|                 1|\n",
      "|    25%|                 1|\n",
      "|    50%|                 2|\n",
      "|    75%|                 2|\n",
      "|    max|                 3|\n",
      "+-------+------------------+\n",
      "\n",
      "+-------+----------------------+\n",
      "|summary|BroadcastOriginPointID|\n",
      "+-------+----------------------+\n",
      "|  count|                  9978|\n",
      "|   mean|    2.1390058127881337|\n",
      "| stddev|    0.9323192037553315|\n",
      "|    min|                     1|\n",
      "|    25%|                     1|\n",
      "|    50%|                     3|\n",
      "|    75%|                     3|\n",
      "|    max|                     3|\n",
      "+-------+----------------------+\n",
      "\n",
      "+-------+------------------+\n",
      "|summary|     CompositionID|\n",
      "+-------+------------------+\n",
      "|  count|              9978|\n",
      "|   mean|3.4141110442974543|\n",
      "| stddev|0.9338603403654636|\n",
      "|    min|                 1|\n",
      "|    25%|                 3|\n",
      "|    50%|                 4|\n",
      "|    75%|                 4|\n",
      "|    max|                 4|\n",
      "+-------+------------------+\n",
      "\n",
      "+-------+---------+\n",
      "|summary|Producer1|\n",
      "+-------+---------+\n",
      "|  count|     2607|\n",
      "|   mean|     null|\n",
      "| stddev|     null|\n",
      "|    min|      AMI|\n",
      "|    25%|     null|\n",
      "|    50%|     null|\n",
      "|    75%|     null|\n",
      "|    max|   VISION|\n",
      "+-------+---------+\n",
      "\n",
      "+-------+---------+\n",
      "|summary|Producer2|\n",
      "+-------+---------+\n",
      "|  count|       38|\n",
      "|   mean|     null|\n",
      "| stddev|     null|\n",
      "|    min|    NEWSW|\n",
      "|    25%|     null|\n",
      "|    50%|     null|\n",
      "|    75%|     null|\n",
      "|    max|       QC|\n",
      "+-------+---------+\n",
      "\n",
      "+-------+------------------+\n",
      "|summary|         Language1|\n",
      "+-------+------------------+\n",
      "|  count|             12586|\n",
      "|   mean|101.75377403464167|\n",
      "| stddev| 45.68403685468214|\n",
      "|    min|                94|\n",
      "|    25%|                94|\n",
      "|    50%|                94|\n",
      "|    75%|                94|\n",
      "|    max|               437|\n",
      "+-------+------------------+\n",
      "\n",
      "+-------+------------------+\n",
      "|summary|         Language2|\n",
      "+-------+------------------+\n",
      "|  count|              2629|\n",
      "|   mean|175.49334347660707|\n",
      "| stddev| 86.03603792883949|\n",
      "|    min|                 3|\n",
      "|    25%|               134|\n",
      "|    50%|               151|\n",
      "|    75%|               259|\n",
      "|    max|               438|\n",
      "+-------+------------------+\n",
      "\n",
      "+-------+----------------------+\n",
      "|summary|Total_duration_seconds|\n",
      "+-------+----------------------+\n",
      "|  count|                236724|\n",
      "|   mean|    124.30587942076004|\n",
      "| stddev|     573.7742807594924|\n",
      "|    min|                     1|\n",
      "|    25%|                    15|\n",
      "|    50%|                    15|\n",
      "|    75%|                    30|\n",
      "|    max|                 23409|\n",
      "+-------+----------------------+\n",
      "\n"
     ]
    }
   ],
   "source": [
    "for i in logs_df.columns:\n",
    "    logs_df.select(i).summary().show()"
   ]
  },
  {
   "cell_type": "code",
   "execution_count": 102,
   "id": "9d012aeb",
   "metadata": {},
   "outputs": [
    {
     "name": "stdout",
     "output_type": "stream",
     "text": [
      "+-------+-----------------+\n",
      "|summary|     LogServiceID|\n",
      "+-------+-----------------+\n",
      "|   mean|3450.890284375065|\n",
      "|    25%|             3287|\n",
      "+-------+-----------------+\n",
      "\n",
      "+-------+\n",
      "|summary|\n",
      "+-------+\n",
      "|   mean|\n",
      "|    25%|\n",
      "+-------+\n",
      "\n",
      "+-------+-------------------+\n",
      "|summary|AudienceTargetAgeID|\n",
      "+-------+-------------------+\n",
      "|   mean| 3.4929245283018866|\n",
      "|    25%|                  4|\n",
      "+-------+-------------------+\n",
      "\n",
      "+-------+----------------------+\n",
      "|summary|AudienceTargetEthnicID|\n",
      "+-------+----------------------+\n",
      "|   mean|    120.56432748538012|\n",
      "|    25%|                    74|\n",
      "+-------+----------------------+\n",
      "\n",
      "+-------+------------------+\n",
      "|summary|        CategoryID|\n",
      "+-------+------------------+\n",
      "|   mean|18.485297577040697|\n",
      "|    25%|                11|\n",
      "+-------+------------------+\n",
      "\n",
      "+-------+------------------+\n",
      "|summary|   ClosedCaptionID|\n",
      "+-------+------------------+\n",
      "|   mean|1.0316174141185184|\n",
      "|    25%|                 1|\n",
      "+-------+------------------+\n",
      "\n",
      "+-------+-----------------+\n",
      "|summary|CountryOfOriginID|\n",
      "+-------+-----------------+\n",
      "|   mean| 4.06390977443609|\n",
      "|    25%|                2|\n",
      "+-------+-----------------+\n",
      "\n",
      "+-------+------------------+\n",
      "|summary|  DubDramaCreditID|\n",
      "+-------+------------------+\n",
      "|   mean|5.1254752851711025|\n",
      "|    25%|                 2|\n",
      "+-------+------------------+\n",
      "\n",
      "+-------+-----------------+\n",
      "|summary|  EthnicProgramID|\n",
      "+-------+-----------------+\n",
      "|   mean|4.316622691292876|\n",
      "|    25%|                1|\n",
      "+-------+-----------------+\n",
      "\n",
      "+-------+------------------+\n",
      "|summary|ProductionSourceID|\n",
      "+-------+------------------+\n",
      "|   mean|11.193737286568453|\n",
      "|    25%|                 7|\n",
      "+-------+------------------+\n",
      "\n",
      "+-------+----------------+\n",
      "|summary|  ProgramClassID|\n",
      "+-------+----------------+\n",
      "|   mean|8.49341061750612|\n",
      "|    25%|               3|\n",
      "+-------+----------------+\n",
      "\n",
      "+-------+--------------------+\n",
      "|summary|FilmClassificationID|\n",
      "+-------+--------------------+\n",
      "|   mean|   1.953315649867374|\n",
      "|    25%|                   1|\n",
      "+-------+--------------------+\n",
      "\n"
     ]
    },
    {
     "name": "stderr",
     "output_type": "stream",
     "text": [
      "                                                                                \r"
     ]
    },
    {
     "name": "stdout",
     "output_type": "stream",
     "text": [
      "+-------+----------------+\n",
      "|summary|    ExhibitionID|\n",
      "+-------+----------------+\n",
      "|   mean|4.52067364784627|\n",
      "|    25%|               4|\n",
      "+-------+----------------+\n",
      "\n"
     ]
    },
    {
     "name": "stderr",
     "output_type": "stream",
     "text": [
      "                                                                                \r"
     ]
    },
    {
     "name": "stdout",
     "output_type": "stream",
     "text": [
      "+-------+--------+\n",
      "|summary|Duration|\n",
      "+-------+--------+\n",
      "|   mean|    null|\n",
      "|    25%|    null|\n",
      "+-------+--------+\n",
      "\n"
     ]
    },
    {
     "name": "stderr",
     "output_type": "stream",
     "text": [
      "                                                                                \r"
     ]
    },
    {
     "name": "stdout",
     "output_type": "stream",
     "text": [
      "+-------+-------+\n",
      "|summary|EndTime|\n",
      "+-------+-------+\n",
      "|   mean|   null|\n",
      "|    25%|   null|\n",
      "+-------+-------+\n",
      "\n",
      "+-------+\n",
      "|summary|\n",
      "+-------+\n",
      "|   mean|\n",
      "|    25%|\n",
      "+-------+\n",
      "\n",
      "+-------+-----------------+\n",
      "|summary|     ProductionNO|\n",
      "+-------+-----------------+\n",
      "|   mean|35710.61538461538|\n",
      "|    25%|          32974.0|\n",
      "+-------+-----------------+\n",
      "\n"
     ]
    },
    {
     "name": "stderr",
     "output_type": "stream",
     "text": [
      "                                                                                \r"
     ]
    },
    {
     "name": "stdout",
     "output_type": "stream",
     "text": [
      "+-------+------------+\n",
      "|summary|ProgramTitle|\n",
      "+-------+------------+\n",
      "|   mean|      1999.0|\n",
      "|    25%|      1999.0|\n",
      "+-------+------------+\n",
      "\n"
     ]
    },
    {
     "name": "stderr",
     "output_type": "stream",
     "text": [
      "                                                                                \r"
     ]
    },
    {
     "name": "stdout",
     "output_type": "stream",
     "text": [
      "+-------+---------+\n",
      "|summary|StartTime|\n",
      "+-------+---------+\n",
      "|   mean|     null|\n",
      "|    25%|     null|\n",
      "+-------+---------+\n",
      "\n",
      "+-------+-----------------+\n",
      "|summary|         Subtitle|\n",
      "+-------+-----------------+\n",
      "|   mean|3463.573913043478|\n",
      "|    25%|             17.0|\n",
      "+-------+-----------------+\n",
      "\n",
      "+-------+--------------------+\n",
      "|summary|NetworkAffiliationID|\n",
      "+-------+--------------------+\n",
      "|   mean|   6.082200593711802|\n",
      "|    25%|                   5|\n",
      "+-------+--------------------+\n",
      "\n",
      "+-------+------------------+\n",
      "|summary|SpecialAttentionID|\n",
      "+-------+------------------+\n",
      "|   mean| 1.704384133611691|\n",
      "|    25%|                 1|\n",
      "+-------+------------------+\n",
      "\n",
      "+-------+----------------------+\n",
      "|summary|BroadcastOriginPointID|\n",
      "+-------+----------------------+\n",
      "|   mean|    2.1390058127881337|\n",
      "|    25%|                     1|\n",
      "+-------+----------------------+\n",
      "\n",
      "+-------+------------------+\n",
      "|summary|     CompositionID|\n",
      "+-------+------------------+\n",
      "|   mean|3.4141110442974543|\n",
      "|    25%|                 3|\n",
      "+-------+------------------+\n",
      "\n",
      "+-------+---------+\n",
      "|summary|Producer1|\n",
      "+-------+---------+\n",
      "|   mean|     null|\n",
      "|    25%|     null|\n",
      "+-------+---------+\n",
      "\n",
      "+-------+---------+\n",
      "|summary|Producer2|\n",
      "+-------+---------+\n",
      "|   mean|     null|\n",
      "|    25%|     null|\n",
      "+-------+---------+\n",
      "\n",
      "+-------+------------------+\n",
      "|summary|         Language1|\n",
      "+-------+------------------+\n",
      "|   mean|101.75377403464167|\n",
      "|    25%|                94|\n",
      "+-------+------------------+\n",
      "\n",
      "+-------+------------------+\n",
      "|summary|         Language2|\n",
      "+-------+------------------+\n",
      "|   mean|175.49334347660707|\n",
      "|    25%|               134|\n",
      "+-------+------------------+\n",
      "\n",
      "+-------+----------------------+\n",
      "|summary|Total_duration_seconds|\n",
      "+-------+----------------------+\n",
      "|   mean|    124.30587942076004|\n",
      "|    25%|                    15|\n",
      "+-------+----------------------+\n",
      "\n"
     ]
    }
   ],
   "source": [
    "for i in logs_df.columns:\n",
    "    logs_df.select(i).summary('mean', '25%').show()"
   ]
  },
  {
   "cell_type": "code",
   "execution_count": 103,
   "id": "e3fb4f3d",
   "metadata": {},
   "outputs": [
    {
     "name": "stderr",
     "output_type": "stream",
     "text": [
      "[Stage 406:=================================================>       (7 + 1) / 8]\r"
     ]
    },
    {
     "name": "stdout",
     "output_type": "stream",
     "text": [
      "+-------+------------------+-------------------+----------------------+------------------+-------------------+------------------+------------------+------------------+------------------+-----------------+--------------------+------------------+----------------+----------------+------------------+------------------+----------------+--------------------+--------------------+------------------+----------------------+------------------+---------+---------+------------------+------------------+----------------------+\n",
      "|summary|      LogServiceID|AudienceTargetAgeID|AudienceTargetEthnicID|        CategoryID|    ClosedCaptionID| CountryOfOriginID|  DubDramaCreditID|   EthnicProgramID|ProductionSourceID|   ProgramClassID|FilmClassificationID|      ExhibitionID|        Duration|         EndTime|      ProductionNO|      ProgramTitle|       StartTime|            Subtitle|NetworkAffiliationID|SpecialAttentionID|BroadcastOriginPointID|     CompositionID|Producer1|Producer2|         Language1|         Language2|Total_duration_seconds|\n",
      "+-------+------------------+-------------------+----------------------+------------------+-------------------+------------------+------------------+------------------+------------------+-----------------+--------------------+------------------+----------------+----------------+------------------+------------------+----------------+--------------------+--------------------+------------------+----------------------+------------------+---------+---------+------------------+------------------+----------------------+\n",
      "|  count|            238945|              16112|                  1710|             25506|             224117|             17822|               263|              1895|             16223|           238945|                1885|              9263|          236724|          169979|              3519|            238703|          238945|               15468|              108807|              2395|                  9978|              9978|     2607|       38|             12586|              2629|                236724|\n",
      "|   mean| 3450.890284375065| 3.4929245283018866|    120.56432748538012|18.485297577040697| 1.0316174141185184|  4.06390977443609|5.1254752851711025| 4.316622691292876|11.193737286568453| 8.49341061750612|   1.953315649867374|  4.52067364784627|            null|            null| 35710.61538461538|            1999.0|            null|   3463.573913043478|   6.082200593711802| 1.704384133611691|    2.1390058127881337|3.4141110442974543|     null|     null|101.75377403464167|175.49334347660707|    124.30587942076004|\n",
      "| stddev|199.50673962554782| 1.0415963394745122|     71.98694059436134| 9.655852252020837|0.24947032900378902|2.6159675821007315| 3.451329711438564|2.2966421456800283| 6.079022239331339|7.902116846905779|  1.6420515263133844|1.4418772626833447|            null|            null|3749.1340008607654|              null|            null|  16251.272419144227|  2.9908486752285337|0.5394635034869694|    0.9323192037553315|0.9338603403654636|     null|     null| 45.68403685468214| 86.03603792883949|     573.7742807594924|\n",
      "|    min|              3157|                  1|                     4|                 1|                  1|                 2|                 1|                 1|                 1|                3|                   1|                 1|00:00:01.0000000|00:00:00.0000000|            030641|  !NO 5PM A ID(:5)|00:00:00.0000000|                #001|                   1|                 1|                     1|                 1|      AMI|    NEWSW|                94|                 3|                     1|\n",
      "|    25%|              3287|                  4|                    74|                11|                  1|                 2|                 2|                 1|                 7|                3|                   1|                 4|            null|            null|           32974.0|            1999.0|            null|                17.0|                   5|                 1|                     1|                 3|     null|     null|                94|               134|                    15|\n",
      "|    50%|              3379|                  4|                    95|                24|                  1|                 3|                 4|                 6|                12|                3|                   1|                 5|            null|            null|           37775.0|            1999.0|            null|               106.0|                   6|                 2|                     3|                 4|     null|     null|                94|               151|                    15|\n",
      "|    75%|              3627|                  4|                   136|                26|                  1|                 5|                10|                 6|                16|               19|                   2|                 5|            null|            null|           37775.0|            1999.0|            null|              2014.0|                   9|                 2|                     3|                 4|     null|     null|                94|               259|                    30|\n",
      "|    max|              3925|                  4|                   337|                29|                  3|                11|                10|                 6|                19|               30|                   8|                 8|06:30:09.0000000|23:59:59.0000000|            c34183|�t� avec Jo�l 2/Un|23:59:59.0000000|�tre dans le trou...|                   9|                 3|                     3|                 4|   VISION|       QC|               437|               438|                 23409|\n",
      "+-------+------------------+-------------------+----------------------+------------------+-------------------+------------------+------------------+------------------+------------------+-----------------+--------------------+------------------+----------------+----------------+------------------+------------------+----------------+--------------------+--------------------+------------------+----------------------+------------------+---------+---------+------------------+------------------+----------------------+\n",
      "\n"
     ]
    },
    {
     "name": "stderr",
     "output_type": "stream",
     "text": [
      "\r",
      "                                                                                \r"
     ]
    }
   ],
   "source": [
    "logs_df.summary().show()"
   ]
  }
 ],
 "metadata": {
  "kernelspec": {
   "display_name": "Python 3 (ipykernel)",
   "language": "python",
   "name": "python3"
  },
  "language_info": {
   "codemirror_mode": {
    "name": "ipython",
    "version": 3
   },
   "file_extension": ".py",
   "mimetype": "text/x-python",
   "name": "python",
   "nbconvert_exporter": "python",
   "pygments_lexer": "ipython3",
   "version": "3.7.16"
  }
 },
 "nbformat": 4,
 "nbformat_minor": 5
}
